{
 "cells": [
  {
   "cell_type": "markdown",
   "id": "c5612a6a",
   "metadata": {},
   "source": [
    "# Walmart : predict weekly sales"
   ]
  },
  {
   "cell_type": "markdown",
   "id": "cef825b3",
   "metadata": {},
   "source": [
    "## Imports"
   ]
  },
  {
   "cell_type": "code",
   "execution_count": 1,
   "id": "cf2c0b47",
   "metadata": {
    "tags": []
   },
   "outputs": [],
   "source": [
    "import pandas as pd\n",
    "import numpy as np\n",
    "import matplotlib.pyplot as plt\n",
    "import seaborn as sns\n",
    "\n",
    "from datetime import datetime\n",
    "from sklearn.model_selection import train_test_split, GridSearchCV, cross_val_score\n",
    "from sklearn.feature_selection import f_regression\n",
    "from sklearn.pipeline import Pipeline\n",
    "from sklearn.impute import SimpleImputer\n",
    "from sklearn.preprocessing import  OneHotEncoder, StandardScaler\n",
    "from sklearn.compose import ColumnTransformer\n",
    "from sklearn.linear_model import LinearRegression, Ridge, Lasso\n",
    "from sklearn.metrics import r2_score, accuracy_score\n",
    "from geopy.geocoders import Nominatim\n",
    "\n",
    "import plotly.express as px\n",
    "import plotly.graph_objects as go\n",
    "import plotly.io as pio\n",
    "import plotly.figure_factory as ff\n",
    "# setting Jedha color palette as default\n",
    "pio.templates[\"jedha\"] = go.layout.Template(\n",
    "    layout_colorway=[\"#4B9AC7\", \"#4BE8E0\", \"#9DD4F3\", \"#97FBF6\", \"#2A7FAF\", \"#23B1AB\", \"#0E3449\", \"#015955\"]\n",
    ")\n",
    "pio.templates.default = \"jedha\"\n",
    "pio.renderers.default = \"svg\""
   ]
  },
  {
   "cell_type": "markdown",
   "id": "2150bf62",
   "metadata": {},
   "source": [
    "## Loading dataset"
   ]
  },
  {
   "cell_type": "code",
   "execution_count": 2,
   "id": "cb71441d",
   "metadata": {
    "tags": []
   },
   "outputs": [],
   "source": [
    "w_sales = pd.read_csv('src/Walmart_Store_sales.csv')"
   ]
  },
  {
   "cell_type": "code",
   "execution_count": 3,
   "id": "d1de995f",
   "metadata": {
    "tags": []
   },
   "outputs": [
    {
     "data": {
      "text/html": [
       "<div>\n",
       "<style scoped>\n",
       "    .dataframe tbody tr th:only-of-type {\n",
       "        vertical-align: middle;\n",
       "    }\n",
       "\n",
       "    .dataframe tbody tr th {\n",
       "        vertical-align: top;\n",
       "    }\n",
       "\n",
       "    .dataframe thead th {\n",
       "        text-align: right;\n",
       "    }\n",
       "</style>\n",
       "<table border=\"1\" class=\"dataframe\">\n",
       "  <thead>\n",
       "    <tr style=\"text-align: right;\">\n",
       "      <th></th>\n",
       "      <th>Store</th>\n",
       "      <th>Date</th>\n",
       "      <th>Weekly_Sales</th>\n",
       "      <th>Holiday_Flag</th>\n",
       "      <th>Temperature</th>\n",
       "      <th>Fuel_Price</th>\n",
       "      <th>CPI</th>\n",
       "      <th>Unemployment</th>\n",
       "    </tr>\n",
       "  </thead>\n",
       "  <tbody>\n",
       "    <tr>\n",
       "      <th>0</th>\n",
       "      <td>6.0</td>\n",
       "      <td>18-02-2011</td>\n",
       "      <td>1572117.54</td>\n",
       "      <td>NaN</td>\n",
       "      <td>59.61</td>\n",
       "      <td>3.045</td>\n",
       "      <td>214.777523</td>\n",
       "      <td>6.858</td>\n",
       "    </tr>\n",
       "    <tr>\n",
       "      <th>1</th>\n",
       "      <td>13.0</td>\n",
       "      <td>25-03-2011</td>\n",
       "      <td>1807545.43</td>\n",
       "      <td>0.0</td>\n",
       "      <td>42.38</td>\n",
       "      <td>3.435</td>\n",
       "      <td>128.616064</td>\n",
       "      <td>7.470</td>\n",
       "    </tr>\n",
       "    <tr>\n",
       "      <th>2</th>\n",
       "      <td>17.0</td>\n",
       "      <td>27-07-2012</td>\n",
       "      <td>NaN</td>\n",
       "      <td>0.0</td>\n",
       "      <td>NaN</td>\n",
       "      <td>NaN</td>\n",
       "      <td>130.719581</td>\n",
       "      <td>5.936</td>\n",
       "    </tr>\n",
       "    <tr>\n",
       "      <th>3</th>\n",
       "      <td>11.0</td>\n",
       "      <td>NaN</td>\n",
       "      <td>1244390.03</td>\n",
       "      <td>0.0</td>\n",
       "      <td>84.57</td>\n",
       "      <td>NaN</td>\n",
       "      <td>214.556497</td>\n",
       "      <td>7.346</td>\n",
       "    </tr>\n",
       "    <tr>\n",
       "      <th>4</th>\n",
       "      <td>6.0</td>\n",
       "      <td>28-05-2010</td>\n",
       "      <td>1644470.66</td>\n",
       "      <td>0.0</td>\n",
       "      <td>78.89</td>\n",
       "      <td>2.759</td>\n",
       "      <td>212.412888</td>\n",
       "      <td>7.092</td>\n",
       "    </tr>\n",
       "  </tbody>\n",
       "</table>\n",
       "</div>"
      ],
      "text/plain": [
       "   Store        Date  Weekly_Sales  Holiday_Flag  Temperature  Fuel_Price  \\\n",
       "0    6.0  18-02-2011    1572117.54           NaN        59.61       3.045   \n",
       "1   13.0  25-03-2011    1807545.43           0.0        42.38       3.435   \n",
       "2   17.0  27-07-2012           NaN           0.0          NaN         NaN   \n",
       "3   11.0         NaN    1244390.03           0.0        84.57         NaN   \n",
       "4    6.0  28-05-2010    1644470.66           0.0        78.89       2.759   \n",
       "\n",
       "          CPI  Unemployment  \n",
       "0  214.777523         6.858  \n",
       "1  128.616064         7.470  \n",
       "2  130.719581         5.936  \n",
       "3  214.556497         7.346  \n",
       "4  212.412888         7.092  "
      ]
     },
     "execution_count": 3,
     "metadata": {},
     "output_type": "execute_result"
    }
   ],
   "source": [
    "w_sales.head()"
   ]
  },
  {
   "cell_type": "markdown",
   "id": "8da9290f-df7b-4a36-9275-250a4c8271a8",
   "metadata": {
    "toc-hr-collapsed": true
   },
   "source": [
    "## Datas Overview"
   ]
  },
  {
   "cell_type": "code",
   "execution_count": 4,
   "id": "8728fb26",
   "metadata": {
    "tags": []
   },
   "outputs": [
    {
     "data": {
      "text/plain": [
       "<bound method DataFrame.info of      Store        Date  Weekly_Sales  Holiday_Flag  Temperature  Fuel_Price  \\\n",
       "0      6.0  18-02-2011    1572117.54           NaN        59.61       3.045   \n",
       "1     13.0  25-03-2011    1807545.43           0.0        42.38       3.435   \n",
       "2     17.0  27-07-2012           NaN           0.0          NaN         NaN   \n",
       "3     11.0         NaN    1244390.03           0.0        84.57         NaN   \n",
       "4      6.0  28-05-2010    1644470.66           0.0        78.89       2.759   \n",
       "..     ...         ...           ...           ...          ...         ...   \n",
       "145   14.0  18-06-2010    2248645.59           0.0        72.62       2.780   \n",
       "146    7.0         NaN     716388.81           NaN        20.74       2.778   \n",
       "147   17.0  11-06-2010     845252.21           0.0        57.14       2.841   \n",
       "148    8.0  12-08-2011     856796.10           0.0        86.05       3.638   \n",
       "149   19.0  20-04-2012    1255087.26           0.0        55.20       4.170   \n",
       "\n",
       "            CPI  Unemployment  \n",
       "0    214.777523         6.858  \n",
       "1    128.616064         7.470  \n",
       "2    130.719581         5.936  \n",
       "3    214.556497         7.346  \n",
       "4    212.412888         7.092  \n",
       "..          ...           ...  \n",
       "145  182.442420         8.899  \n",
       "146         NaN           NaN  \n",
       "147  126.111903           NaN  \n",
       "148  219.007525           NaN  \n",
       "149  137.923067         8.150  \n",
       "\n",
       "[150 rows x 8 columns]>"
      ]
     },
     "execution_count": 4,
     "metadata": {},
     "output_type": "execute_result"
    }
   ],
   "source": [
    "w_sales.info"
   ]
  },
  {
   "cell_type": "markdown",
   "id": "da2b30ee",
   "metadata": {},
   "source": [
    "### Changing Date in Timestamp format"
   ]
  },
  {
   "cell_type": "code",
   "execution_count": 5,
   "id": "5d165f0e",
   "metadata": {
    "tags": []
   },
   "outputs": [
    {
     "data": {
      "text/plain": [
       "str"
      ]
     },
     "execution_count": 5,
     "metadata": {},
     "output_type": "execute_result"
    }
   ],
   "source": [
    "type(w_sales['Date'][0])"
   ]
  },
  {
   "cell_type": "code",
   "execution_count": 6,
   "id": "d670483c",
   "metadata": {
    "tags": []
   },
   "outputs": [],
   "source": [
    "def todatetime(mot):\n",
    "    if type(mot) == str:\n",
    "        return datetime.strptime(mot, '%d-%m-%Y')\n",
    "w_sales['Date'] = w_sales['Date'].apply(todatetime)"
   ]
  },
  {
   "cell_type": "code",
   "execution_count": 7,
   "id": "cefa5f7e",
   "metadata": {
    "tags": []
   },
   "outputs": [
    {
     "data": {
      "text/html": [
       "<div>\n",
       "<style scoped>\n",
       "    .dataframe tbody tr th:only-of-type {\n",
       "        vertical-align: middle;\n",
       "    }\n",
       "\n",
       "    .dataframe tbody tr th {\n",
       "        vertical-align: top;\n",
       "    }\n",
       "\n",
       "    .dataframe thead th {\n",
       "        text-align: right;\n",
       "    }\n",
       "</style>\n",
       "<table border=\"1\" class=\"dataframe\">\n",
       "  <thead>\n",
       "    <tr style=\"text-align: right;\">\n",
       "      <th></th>\n",
       "      <th>Store</th>\n",
       "      <th>Date</th>\n",
       "      <th>Weekly_Sales</th>\n",
       "      <th>Holiday_Flag</th>\n",
       "      <th>Temperature</th>\n",
       "      <th>Fuel_Price</th>\n",
       "      <th>CPI</th>\n",
       "      <th>Unemployment</th>\n",
       "    </tr>\n",
       "  </thead>\n",
       "  <tbody>\n",
       "    <tr>\n",
       "      <th>0</th>\n",
       "      <td>6.0</td>\n",
       "      <td>2011-02-18</td>\n",
       "      <td>1572117.54</td>\n",
       "      <td>NaN</td>\n",
       "      <td>59.61</td>\n",
       "      <td>3.045</td>\n",
       "      <td>214.777523</td>\n",
       "      <td>6.858</td>\n",
       "    </tr>\n",
       "    <tr>\n",
       "      <th>1</th>\n",
       "      <td>13.0</td>\n",
       "      <td>2011-03-25</td>\n",
       "      <td>1807545.43</td>\n",
       "      <td>0.0</td>\n",
       "      <td>42.38</td>\n",
       "      <td>3.435</td>\n",
       "      <td>128.616064</td>\n",
       "      <td>7.470</td>\n",
       "    </tr>\n",
       "    <tr>\n",
       "      <th>2</th>\n",
       "      <td>17.0</td>\n",
       "      <td>2012-07-27</td>\n",
       "      <td>NaN</td>\n",
       "      <td>0.0</td>\n",
       "      <td>NaN</td>\n",
       "      <td>NaN</td>\n",
       "      <td>130.719581</td>\n",
       "      <td>5.936</td>\n",
       "    </tr>\n",
       "    <tr>\n",
       "      <th>3</th>\n",
       "      <td>11.0</td>\n",
       "      <td>NaT</td>\n",
       "      <td>1244390.03</td>\n",
       "      <td>0.0</td>\n",
       "      <td>84.57</td>\n",
       "      <td>NaN</td>\n",
       "      <td>214.556497</td>\n",
       "      <td>7.346</td>\n",
       "    </tr>\n",
       "    <tr>\n",
       "      <th>4</th>\n",
       "      <td>6.0</td>\n",
       "      <td>2010-05-28</td>\n",
       "      <td>1644470.66</td>\n",
       "      <td>0.0</td>\n",
       "      <td>78.89</td>\n",
       "      <td>2.759</td>\n",
       "      <td>212.412888</td>\n",
       "      <td>7.092</td>\n",
       "    </tr>\n",
       "  </tbody>\n",
       "</table>\n",
       "</div>"
      ],
      "text/plain": [
       "   Store       Date  Weekly_Sales  Holiday_Flag  Temperature  Fuel_Price  \\\n",
       "0    6.0 2011-02-18    1572117.54           NaN        59.61       3.045   \n",
       "1   13.0 2011-03-25    1807545.43           0.0        42.38       3.435   \n",
       "2   17.0 2012-07-27           NaN           0.0          NaN         NaN   \n",
       "3   11.0        NaT    1244390.03           0.0        84.57         NaN   \n",
       "4    6.0 2010-05-28    1644470.66           0.0        78.89       2.759   \n",
       "\n",
       "          CPI  Unemployment  \n",
       "0  214.777523         6.858  \n",
       "1  128.616064         7.470  \n",
       "2  130.719581         5.936  \n",
       "3  214.556497         7.346  \n",
       "4  212.412888         7.092  "
      ]
     },
     "execution_count": 7,
     "metadata": {},
     "output_type": "execute_result"
    }
   ],
   "source": [
    "# Dataset overview\n",
    "w_sales.head()"
   ]
  },
  {
   "cell_type": "markdown",
   "id": "eeae70c6",
   "metadata": {},
   "source": [
    "### Overview of features info"
   ]
  },
  {
   "cell_type": "code",
   "execution_count": 8,
   "id": "19ed37ad",
   "metadata": {
    "tags": []
   },
   "outputs": [
    {
     "data": {
      "text/html": [
       "<div>\n",
       "<style scoped>\n",
       "    .dataframe tbody tr th:only-of-type {\n",
       "        vertical-align: middle;\n",
       "    }\n",
       "\n",
       "    .dataframe tbody tr th {\n",
       "        vertical-align: top;\n",
       "    }\n",
       "\n",
       "    .dataframe thead th {\n",
       "        text-align: right;\n",
       "    }\n",
       "</style>\n",
       "<table border=\"1\" class=\"dataframe\">\n",
       "  <thead>\n",
       "    <tr style=\"text-align: right;\">\n",
       "      <th></th>\n",
       "      <th>Store</th>\n",
       "      <th>Date</th>\n",
       "      <th>Weekly_Sales</th>\n",
       "      <th>Holiday_Flag</th>\n",
       "      <th>Temperature</th>\n",
       "      <th>Fuel_Price</th>\n",
       "      <th>CPI</th>\n",
       "      <th>Unemployment</th>\n",
       "    </tr>\n",
       "  </thead>\n",
       "  <tbody>\n",
       "    <tr>\n",
       "      <th>count</th>\n",
       "      <td>150.000000</td>\n",
       "      <td>132</td>\n",
       "      <td>1.360000e+02</td>\n",
       "      <td>138.000000</td>\n",
       "      <td>132.000000</td>\n",
       "      <td>136.000000</td>\n",
       "      <td>138.000000</td>\n",
       "      <td>135.000000</td>\n",
       "    </tr>\n",
       "    <tr>\n",
       "      <th>mean</th>\n",
       "      <td>9.866667</td>\n",
       "      <td>2011-05-07 09:05:27.272727296</td>\n",
       "      <td>1.249536e+06</td>\n",
       "      <td>0.079710</td>\n",
       "      <td>61.398106</td>\n",
       "      <td>3.320853</td>\n",
       "      <td>179.898509</td>\n",
       "      <td>7.598430</td>\n",
       "    </tr>\n",
       "    <tr>\n",
       "      <th>min</th>\n",
       "      <td>1.000000</td>\n",
       "      <td>2010-02-05 00:00:00</td>\n",
       "      <td>2.689290e+05</td>\n",
       "      <td>0.000000</td>\n",
       "      <td>18.790000</td>\n",
       "      <td>2.514000</td>\n",
       "      <td>126.111903</td>\n",
       "      <td>5.143000</td>\n",
       "    </tr>\n",
       "    <tr>\n",
       "      <th>25%</th>\n",
       "      <td>4.000000</td>\n",
       "      <td>2010-08-16 12:00:00</td>\n",
       "      <td>6.050757e+05</td>\n",
       "      <td>0.000000</td>\n",
       "      <td>45.587500</td>\n",
       "      <td>2.852250</td>\n",
       "      <td>131.970831</td>\n",
       "      <td>6.597500</td>\n",
       "    </tr>\n",
       "    <tr>\n",
       "      <th>50%</th>\n",
       "      <td>9.000000</td>\n",
       "      <td>2011-05-09 12:00:00</td>\n",
       "      <td>1.261424e+06</td>\n",
       "      <td>0.000000</td>\n",
       "      <td>62.985000</td>\n",
       "      <td>3.451000</td>\n",
       "      <td>197.908893</td>\n",
       "      <td>7.470000</td>\n",
       "    </tr>\n",
       "    <tr>\n",
       "      <th>75%</th>\n",
       "      <td>15.750000</td>\n",
       "      <td>2012-01-14 18:00:00</td>\n",
       "      <td>1.806386e+06</td>\n",
       "      <td>0.000000</td>\n",
       "      <td>76.345000</td>\n",
       "      <td>3.706250</td>\n",
       "      <td>214.934616</td>\n",
       "      <td>8.150000</td>\n",
       "    </tr>\n",
       "    <tr>\n",
       "      <th>max</th>\n",
       "      <td>20.000000</td>\n",
       "      <td>2012-10-19 00:00:00</td>\n",
       "      <td>2.771397e+06</td>\n",
       "      <td>1.000000</td>\n",
       "      <td>91.650000</td>\n",
       "      <td>4.193000</td>\n",
       "      <td>226.968844</td>\n",
       "      <td>14.313000</td>\n",
       "    </tr>\n",
       "    <tr>\n",
       "      <th>std</th>\n",
       "      <td>6.231191</td>\n",
       "      <td>NaN</td>\n",
       "      <td>6.474630e+05</td>\n",
       "      <td>0.271831</td>\n",
       "      <td>18.378901</td>\n",
       "      <td>0.478149</td>\n",
       "      <td>40.274956</td>\n",
       "      <td>1.577173</td>\n",
       "    </tr>\n",
       "  </tbody>\n",
       "</table>\n",
       "</div>"
      ],
      "text/plain": [
       "            Store                           Date  Weekly_Sales  Holiday_Flag  \\\n",
       "count  150.000000                            132  1.360000e+02    138.000000   \n",
       "mean     9.866667  2011-05-07 09:05:27.272727296  1.249536e+06      0.079710   \n",
       "min      1.000000            2010-02-05 00:00:00  2.689290e+05      0.000000   \n",
       "25%      4.000000            2010-08-16 12:00:00  6.050757e+05      0.000000   \n",
       "50%      9.000000            2011-05-09 12:00:00  1.261424e+06      0.000000   \n",
       "75%     15.750000            2012-01-14 18:00:00  1.806386e+06      0.000000   \n",
       "max     20.000000            2012-10-19 00:00:00  2.771397e+06      1.000000   \n",
       "std      6.231191                            NaN  6.474630e+05      0.271831   \n",
       "\n",
       "       Temperature  Fuel_Price         CPI  Unemployment  \n",
       "count   132.000000  136.000000  138.000000    135.000000  \n",
       "mean     61.398106    3.320853  179.898509      7.598430  \n",
       "min      18.790000    2.514000  126.111903      5.143000  \n",
       "25%      45.587500    2.852250  131.970831      6.597500  \n",
       "50%      62.985000    3.451000  197.908893      7.470000  \n",
       "75%      76.345000    3.706250  214.934616      8.150000  \n",
       "max      91.650000    4.193000  226.968844     14.313000  \n",
       "std      18.378901    0.478149   40.274956      1.577173  "
      ]
     },
     "execution_count": 8,
     "metadata": {},
     "output_type": "execute_result"
    }
   ],
   "source": [
    "#Basic stats on data\n",
    "w_sales.describe(include='all',datetime_is_numeric=True)"
   ]
  },
  {
   "cell_type": "code",
   "execution_count": 9,
   "id": "def6f2a3",
   "metadata": {
    "tags": []
   },
   "outputs": [
    {
     "data": {
      "text/plain": [
       "Store            0\n",
       "Date            18\n",
       "Weekly_Sales    14\n",
       "Holiday_Flag    12\n",
       "Temperature     18\n",
       "Fuel_Price      14\n",
       "CPI             12\n",
       "Unemployment    15\n",
       "dtype: int64"
      ]
     },
     "execution_count": 9,
     "metadata": {},
     "output_type": "execute_result"
    }
   ],
   "source": [
    "w_sales.isnull().sum()"
   ]
  },
  {
   "cell_type": "markdown",
   "id": "12674a0b",
   "metadata": {},
   "source": [
    "### Visualisation of the relations between each feature and the target"
   ]
  },
  {
   "cell_type": "code",
   "execution_count": 10,
   "id": "19684ac5",
   "metadata": {
    "tags": []
   },
   "outputs": [
    {
     "data": {
      "image/svg+xml": "<svg class=\"main-svg\" xmlns=\"http://www.w3.org/2000/svg\" xmlns:xlink=\"http://www.w3.org/1999/xlink\" width=\"700\" height=\"500\" style=\"\" viewBox=\"0 0 700 500\"><rect x=\"0\" y=\"0\" width=\"700\" height=\"500\" style=\"fill: rgb(255, 255, 255); fill-opacity: 1;\"/><defs id=\"defs-aab098\"><g class=\"clips\"><clipPath id=\"clipaab098xyplot\" class=\"plotclip\"><rect width=\"540\" height=\"360\"/></clipPath><clipPath class=\"axesclip\" id=\"clipaab098x\"><rect x=\"80\" y=\"0\" width=\"540\" height=\"500\"/></clipPath><clipPath class=\"axesclip\" id=\"clipaab098y\"><rect x=\"0\" y=\"60\" width=\"700\" height=\"360\"/></clipPath><clipPath class=\"axesclip\" id=\"clipaab098xy\"><rect x=\"80\" y=\"60\" width=\"540\" height=\"360\"/></clipPath></g><g class=\"gradients\"/><g class=\"patterns\"/></defs><g class=\"bglayer\"/><g class=\"layer-below\"><g class=\"imagelayer\"/><g class=\"shapelayer\"/></g><g class=\"cartesianlayer\"><g class=\"subplot xy\"><g class=\"layer-subplot\"><g class=\"shapelayer\"/><g class=\"imagelayer\"/></g><g class=\"gridlayer\"><g class=\"x\"/><g class=\"y\"><path class=\"ygrid crisp\" transform=\"translate(0,383.69)\" d=\"M80,0h540\" style=\"stroke: rgb(238, 238, 238); stroke-opacity: 1; stroke-width: 1px;\"/><path class=\"ygrid crisp\" transform=\"translate(0,347.37)\" d=\"M80,0h540\" style=\"stroke: rgb(238, 238, 238); stroke-opacity: 1; stroke-width: 1px;\"/><path class=\"ygrid crisp\" transform=\"translate(0,311.06)\" d=\"M80,0h540\" style=\"stroke: rgb(238, 238, 238); stroke-opacity: 1; stroke-width: 1px;\"/><path class=\"ygrid crisp\" transform=\"translate(0,274.75)\" d=\"M80,0h540\" style=\"stroke: rgb(238, 238, 238); stroke-opacity: 1; stroke-width: 1px;\"/><path class=\"ygrid crisp\" transform=\"translate(0,238.43)\" d=\"M80,0h540\" style=\"stroke: rgb(238, 238, 238); stroke-opacity: 1; stroke-width: 1px;\"/><path class=\"ygrid crisp\" transform=\"translate(0,202.12)\" d=\"M80,0h540\" style=\"stroke: rgb(238, 238, 238); stroke-opacity: 1; stroke-width: 1px;\"/><path class=\"ygrid crisp\" transform=\"translate(0,165.8)\" d=\"M80,0h540\" style=\"stroke: rgb(238, 238, 238); stroke-opacity: 1; stroke-width: 1px;\"/><path class=\"ygrid crisp\" transform=\"translate(0,129.49)\" d=\"M80,0h540\" style=\"stroke: rgb(238, 238, 238); stroke-opacity: 1; stroke-width: 1px;\"/><path class=\"ygrid crisp\" transform=\"translate(0,93.18)\" d=\"M80,0h540\" style=\"stroke: rgb(238, 238, 238); stroke-opacity: 1; stroke-width: 1px;\"/></g></g><g class=\"zerolinelayer\"><path class=\"yzl zl crisp\" transform=\"translate(0,420)\" d=\"M80,0h540\" style=\"stroke: rgb(68, 68, 68); stroke-opacity: 1; stroke-width: 1px;\"/></g><path class=\"xlines-below\"/><path class=\"ylines-below\"/><g class=\"overlines-below\"/><g class=\"xaxislayer-below\"/><g class=\"yaxislayer-below\"/><g class=\"overaxes-below\"/><g class=\"plot\" transform=\"translate(80,60)\" clip-path=\"url(#clipaab098xyplot)\"><g class=\"barlayer mlayer\"><g class=\"trace bars\" shape-rendering=\"crispEdges\" style=\"opacity: 1;\"><g class=\"points\"><g class=\"point\"><path d=\"M0,360V104.67H27V360Z\" style=\"vector-effect: non-scaling-stroke; opacity: 1; stroke-width: 0px; fill: rgb(75, 154, 199); fill-opacity: 1;\"/></g><g class=\"point\"><path d=\"M27,360V77.77H54V360Z\" style=\"vector-effect: non-scaling-stroke; opacity: 1; stroke-width: 0px; fill: rgb(75, 154, 199); fill-opacity: 1;\"/></g><g class=\"point\"><path d=\"M54,360V272.18H81V360Z\" style=\"vector-effect: non-scaling-stroke; opacity: 1; stroke-width: 0px; fill: rgb(75, 154, 199); fill-opacity: 1;\"/></g><g class=\"point\"><path d=\"M81,360V123.19H108V360Z\" style=\"vector-effect: non-scaling-stroke; opacity: 1; stroke-width: 0px; fill: rgb(75, 154, 199); fill-opacity: 1;\"/></g><g class=\"point\"><path d=\"M108,360V316.06H135V360Z\" style=\"vector-effect: non-scaling-stroke; opacity: 1; stroke-width: 0px; fill: rgb(75, 154, 199); fill-opacity: 1;\"/></g><g class=\"point\"><path d=\"M135,360V191.02H162V360Z\" style=\"vector-effect: non-scaling-stroke; opacity: 1; stroke-width: 0px; fill: rgb(75, 154, 199); fill-opacity: 1;\"/></g><g class=\"point\"><path d=\"M162,360V278.78H189V360Z\" style=\"vector-effect: non-scaling-stroke; opacity: 1; stroke-width: 0px; fill: rgb(75, 154, 199); fill-opacity: 1;\"/></g><g class=\"point\"><path d=\"M189,360V263.18H216V360Z\" style=\"vector-effect: non-scaling-stroke; opacity: 1; stroke-width: 0px; fill: rgb(75, 154, 199); fill-opacity: 1;\"/></g><g class=\"point\"><path d=\"M216,360V323.19H243V360Z\" style=\"vector-effect: non-scaling-stroke; opacity: 1; stroke-width: 0px; fill: rgb(75, 154, 199); fill-opacity: 1;\"/></g><g class=\"point\"><path d=\"M243,360V194.58H270V360Z\" style=\"vector-effect: non-scaling-stroke; opacity: 1; stroke-width: 0px; fill: rgb(75, 154, 199); fill-opacity: 1;\"/></g><g class=\"point\"><path d=\"M270,360V277H297V360Z\" style=\"vector-effect: non-scaling-stroke; opacity: 1; stroke-width: 0px; fill: rgb(75, 154, 199); fill-opacity: 1;\"/></g><g class=\"point\"><path d=\"M297,360V266.67H324V360Z\" style=\"vector-effect: non-scaling-stroke; opacity: 1; stroke-width: 0px; fill: rgb(75, 154, 199); fill-opacity: 1;\"/></g><g class=\"point\"><path d=\"M324,360V33.63H351V360Z\" style=\"vector-effect: non-scaling-stroke; opacity: 1; stroke-width: 0px; fill: rgb(75, 154, 199); fill-opacity: 1;\"/></g><g class=\"point\"><path d=\"M351,360V18H378V360Z\" style=\"vector-effect: non-scaling-stroke; opacity: 1; stroke-width: 0px; fill: rgb(75, 154, 199); fill-opacity: 1;\"/></g><g class=\"point\"><path d=\"M378,360V313.98H405V360Z\" style=\"vector-effect: non-scaling-stroke; opacity: 1; stroke-width: 0px; fill: rgb(75, 154, 199); fill-opacity: 1;\"/></g><g class=\"point\"><path d=\"M405,360V322.57H432V360Z\" style=\"vector-effect: non-scaling-stroke; opacity: 1; stroke-width: 0px; fill: rgb(75, 154, 199); fill-opacity: 1;\"/></g><g class=\"point\"><path d=\"M432,360V246.68H459V360Z\" style=\"vector-effect: non-scaling-stroke; opacity: 1; stroke-width: 0px; fill: rgb(75, 154, 199); fill-opacity: 1;\"/></g><g class=\"point\"><path d=\"M459,360V152.93H486V360Z\" style=\"vector-effect: non-scaling-stroke; opacity: 1; stroke-width: 0px; fill: rgb(75, 154, 199); fill-opacity: 1;\"/></g><g class=\"point\"><path d=\"M486,360V156.55H513V360Z\" style=\"vector-effect: non-scaling-stroke; opacity: 1; stroke-width: 0px; fill: rgb(75, 154, 199); fill-opacity: 1;\"/></g><g class=\"point\"><path d=\"M513,360V181.85H540V360Z\" style=\"vector-effect: non-scaling-stroke; opacity: 1; stroke-width: 0px; fill: rgb(75, 154, 199); fill-opacity: 1;\"/></g></g></g></g></g><g class=\"overplot\"/><path class=\"xlines-above crisp\" d=\"M0,0\" style=\"fill: none;\"/><path class=\"ylines-above crisp\" d=\"M0,0\" style=\"fill: none;\"/><g class=\"overlines-above\"/><g class=\"xaxislayer-above\"><g class=\"xtick\"><text text-anchor=\"middle\" x=\"0\" y=\"433\" transform=\"translate(201.5,0)\" style=\"font-family: 'Open Sans', verdana, arial, sans-serif; font-size: 12px; fill: rgb(68, 68, 68); fill-opacity: 1; white-space: pre; opacity: 1;\">5</text></g><g class=\"xtick\"><text text-anchor=\"middle\" x=\"0\" y=\"433\" style=\"font-family: 'Open Sans', verdana, arial, sans-serif; font-size: 12px; fill: rgb(68, 68, 68); fill-opacity: 1; white-space: pre; opacity: 1;\" transform=\"translate(336.5,0)\">10</text></g><g class=\"xtick\"><text text-anchor=\"middle\" x=\"0\" y=\"433\" style=\"font-family: 'Open Sans', verdana, arial, sans-serif; font-size: 12px; fill: rgb(68, 68, 68); fill-opacity: 1; white-space: pre; opacity: 1;\" transform=\"translate(471.5,0)\">15</text></g><g class=\"xtick\"><text text-anchor=\"middle\" x=\"0\" y=\"433\" style=\"font-family: 'Open Sans', verdana, arial, sans-serif; font-size: 12px; fill: rgb(68, 68, 68); fill-opacity: 1; white-space: pre; opacity: 1;\" transform=\"translate(606.5,0)\">20</text></g></g><g class=\"yaxislayer-above\"><g class=\"ytick\"><text text-anchor=\"end\" x=\"79\" y=\"4.199999999999999\" transform=\"translate(0,420)\" style=\"font-family: 'Open Sans', verdana, arial, sans-serif; font-size: 12px; fill: rgb(68, 68, 68); fill-opacity: 1; white-space: pre; opacity: 1;\">0</text></g><g class=\"ytick\"><text text-anchor=\"end\" x=\"79\" y=\"4.199999999999999\" style=\"font-family: 'Open Sans', verdana, arial, sans-serif; font-size: 12px; fill: rgb(68, 68, 68); fill-opacity: 1; white-space: pre; opacity: 1;\" transform=\"translate(0,383.69)\">2M</text></g><g class=\"ytick\"><text text-anchor=\"end\" x=\"79\" y=\"4.199999999999999\" style=\"font-family: 'Open Sans', verdana, arial, sans-serif; font-size: 12px; fill: rgb(68, 68, 68); fill-opacity: 1; white-space: pre; opacity: 1;\" transform=\"translate(0,347.37)\">4M</text></g><g class=\"ytick\"><text text-anchor=\"end\" x=\"79\" y=\"4.199999999999999\" style=\"font-family: 'Open Sans', verdana, arial, sans-serif; font-size: 12px; fill: rgb(68, 68, 68); fill-opacity: 1; white-space: pre; opacity: 1;\" transform=\"translate(0,311.06)\">6M</text></g><g class=\"ytick\"><text text-anchor=\"end\" x=\"79\" y=\"4.199999999999999\" style=\"font-family: 'Open Sans', verdana, arial, sans-serif; font-size: 12px; fill: rgb(68, 68, 68); fill-opacity: 1; white-space: pre; opacity: 1;\" transform=\"translate(0,274.75)\">8M</text></g><g class=\"ytick\"><text text-anchor=\"end\" x=\"79\" y=\"4.199999999999999\" style=\"font-family: 'Open Sans', verdana, arial, sans-serif; font-size: 12px; fill: rgb(68, 68, 68); fill-opacity: 1; white-space: pre; opacity: 1;\" transform=\"translate(0,238.43)\">10M</text></g><g class=\"ytick\"><text text-anchor=\"end\" x=\"79\" y=\"4.199999999999999\" style=\"font-family: 'Open Sans', verdana, arial, sans-serif; font-size: 12px; fill: rgb(68, 68, 68); fill-opacity: 1; white-space: pre; opacity: 1;\" transform=\"translate(0,202.12)\">12M</text></g><g class=\"ytick\"><text text-anchor=\"end\" x=\"79\" y=\"4.199999999999999\" style=\"font-family: 'Open Sans', verdana, arial, sans-serif; font-size: 12px; fill: rgb(68, 68, 68); fill-opacity: 1; white-space: pre; opacity: 1;\" transform=\"translate(0,165.8)\">14M</text></g><g class=\"ytick\"><text text-anchor=\"end\" x=\"79\" y=\"4.199999999999999\" style=\"font-family: 'Open Sans', verdana, arial, sans-serif; font-size: 12px; fill: rgb(68, 68, 68); fill-opacity: 1; white-space: pre; opacity: 1;\" transform=\"translate(0,129.49)\">16M</text></g><g class=\"ytick\"><text text-anchor=\"end\" x=\"79\" y=\"4.199999999999999\" style=\"font-family: 'Open Sans', verdana, arial, sans-serif; font-size: 12px; fill: rgb(68, 68, 68); fill-opacity: 1; white-space: pre; opacity: 1;\" transform=\"translate(0,93.18)\">18M</text></g></g><g class=\"overaxes-above\"/></g></g><g class=\"polarlayer\"/><g class=\"smithlayer\"/><g class=\"ternarylayer\"/><g class=\"geolayer\"/><g class=\"funnelarealayer\"/><g class=\"pielayer\"/><g class=\"iciclelayer\"/><g class=\"treemaplayer\"/><g class=\"sunburstlayer\"/><g class=\"glimages\"/><defs id=\"topdefs-aab098\"><g class=\"clips\"/></defs><g class=\"layer-above\"><g class=\"imagelayer\"/><g class=\"shapelayer\"/></g><g class=\"infolayer\"><g class=\"g-gtitle\"/><g class=\"g-xtitle\"><text class=\"xtitle\" x=\"350\" y=\"472\" text-anchor=\"middle\" style=\"font-family: 'Open Sans', verdana, arial, sans-serif; font-size: 14px; fill: rgb(68, 68, 68); opacity: 1; font-weight: normal; white-space: pre;\">Store</text></g><g class=\"g-ytitle\"><text class=\"ytitle\" transform=\"rotate(-90,42,240)\" x=\"42\" y=\"240\" text-anchor=\"middle\" style=\"font-family: 'Open Sans', verdana, arial, sans-serif; font-size: 14px; fill: rgb(68, 68, 68); opacity: 1; font-weight: normal; white-space: pre;\">sum of Weekly_Sales</text></g></g></svg>"
     },
     "metadata": {},
     "output_type": "display_data"
    }
   ],
   "source": [
    "#Weekly sales over Store ID\n",
    "s_store = px.histogram(w_sales, x='Store', y='Weekly_Sales', nbins=21)\n",
    "s_store.show()"
   ]
  },
  {
   "cell_type": "code",
   "execution_count": 11,
   "id": "224664ea",
   "metadata": {
    "tags": []
   },
   "outputs": [
    {
     "data": {
      "text/plain": [
       "<seaborn.axisgrid.FacetGrid at 0x26908a5f670>"
      ]
     },
     "execution_count": 11,
     "metadata": {},
     "output_type": "execute_result"
    },
    {
     "data": {
      "image/png": "[encoded data removed]",
      "text/plain": [
       "<Figure size 360x360 with 1 Axes>"
      ]
     },
     "metadata": {
      "needs_background": "light"
     },
     "output_type": "display_data"
    }
   ],
   "source": [
    "sns.relplot(\n",
    "    data=w_sales, x=\"Store\", y=\"Weekly_Sales\",\n",
    "    kind=\"line\",\n",
    ")"
   ]
  },
  {
   "cell_type": "markdown",
   "id": "58129fba",
   "metadata": {},
   "source": [
    "* Sales can be different depending on wich store we are looking"
   ]
  },
  {
   "cell_type": "code",
   "execution_count": 12,
   "id": "6984670a",
   "metadata": {
    "tags": []
   },
   "outputs": [
    {
     "data": {
      "image/svg+xml": "<svg class=\"main-svg\" xmlns=\"http://www.w3.org/2000/svg\" xmlns:xlink=\"http://www.w3.org/1999/xlink\" width=\"700\" height=\"500\" style=\"\" viewBox=\"0 0 700 500\"><rect x=\"0\" y=\"0\" width=\"700\" height=\"500\" style=\"fill: rgb(255, 255, 255); fill-opacity: 1;\"/><defs id=\"defs-4bef7b\"><g class=\"clips\"><clipPath id=\"clip4bef7bxyplot\" class=\"plotclip\"><rect width=\"540\" height=\"360\"/></clipPath><clipPath class=\"axesclip\" id=\"clip4bef7bx\"><rect x=\"80\" y=\"0\" width=\"540\" height=\"500\"/></clipPath><clipPath class=\"axesclip\" id=\"clip4bef7by\"><rect x=\"0\" y=\"60\" width=\"700\" height=\"360\"/></clipPath><clipPath class=\"axesclip\" id=\"clip4bef7bxy\"><rect x=\"80\" y=\"60\" width=\"540\" height=\"360\"/></clipPath></g><g class=\"gradients\"/><g class=\"patterns\"/></defs><g class=\"bglayer\"/><g class=\"layer-below\"><g class=\"imagelayer\"/><g class=\"shapelayer\"/></g><g class=\"cartesianlayer\"><g class=\"subplot xy\"><g class=\"layer-subplot\"><g class=\"shapelayer\"/><g class=\"imagelayer\"/></g><g class=\"gridlayer\"><g class=\"x\"/><g class=\"y\"><path class=\"ygrid crisp\" transform=\"translate(0,363.23)\" d=\"M80,0h540\" style=\"stroke: rgb(238, 238, 238); stroke-opacity: 1; stroke-width: 1px;\"/><path class=\"ygrid crisp\" transform=\"translate(0,306.46000000000004)\" d=\"M80,0h540\" style=\"stroke: rgb(238, 238, 238); stroke-opacity: 1; stroke-width: 1px;\"/><path class=\"ygrid crisp\" transform=\"translate(0,249.69)\" d=\"M80,0h540\" style=\"stroke: rgb(238, 238, 238); stroke-opacity: 1; stroke-width: 1px;\"/><path class=\"ygrid crisp\" transform=\"translate(0,192.91)\" d=\"M80,0h540\" style=\"stroke: rgb(238, 238, 238); stroke-opacity: 1; stroke-width: 1px;\"/><path class=\"ygrid crisp\" transform=\"translate(0,136.14)\" d=\"M80,0h540\" style=\"stroke: rgb(238, 238, 238); stroke-opacity: 1; stroke-width: 1px;\"/><path class=\"ygrid crisp\" transform=\"translate(0,79.37)\" d=\"M80,0h540\" style=\"stroke: rgb(238, 238, 238); stroke-opacity: 1; stroke-width: 1px;\"/></g></g><g class=\"zerolinelayer\"><path class=\"yzl zl crisp\" transform=\"translate(0,420)\" d=\"M80,0h540\" style=\"stroke: rgb(68, 68, 68); stroke-opacity: 1; stroke-width: 1px;\"/></g><path class=\"xlines-below\"/><path class=\"ylines-below\"/><g class=\"overlines-below\"/><g class=\"xaxislayer-below\"/><g class=\"yaxislayer-below\"/><g class=\"overaxes-below\"/><g class=\"plot\" transform=\"translate(80,60)\" clip-path=\"url(#clip4bef7bxyplot)\"><g class=\"barlayer mlayer\"><g class=\"trace bars\" shape-rendering=\"crispEdges\" style=\"opacity: 1;\"><g class=\"points\"><g class=\"point\"><path d=\"M0,360V133.5H15.87V360Z\" style=\"vector-effect: non-scaling-stroke; opacity: 1; stroke-width: 0px; fill: rgb(75, 154, 199); fill-opacity: 1;\"/></g><g class=\"point\"><path d=\"M15.87,360V295.07H31.73V360Z\" style=\"vector-effect: non-scaling-stroke; opacity: 1; stroke-width: 0px; fill: rgb(75, 154, 199); fill-opacity: 1;\"/></g><g class=\"point\"><path d=\"M32.27,360V271.56H48.14V360Z\" style=\"vector-effect: non-scaling-stroke; opacity: 1; stroke-width: 0px; fill: rgb(75, 154, 199); fill-opacity: 1;\"/></g><g class=\"point\"><path d=\"M48.68,360V182.52H64.54V360Z\" style=\"vector-effect: non-scaling-stroke; opacity: 1; stroke-width: 0px; fill: rgb(75, 154, 199); fill-opacity: 1;\"/></g><g class=\"point\"><path d=\"M65.08,360V115.35H80.95V360Z\" style=\"vector-effect: non-scaling-stroke; opacity: 1; stroke-width: 0px; fill: rgb(75, 154, 199); fill-opacity: 1;\"/></g><g class=\"point\"><path d=\"M81.48,360V137.61H97.35V360Z\" style=\"vector-effect: non-scaling-stroke; opacity: 1; stroke-width: 0px; fill: rgb(75, 154, 199); fill-opacity: 1;\"/></g><g class=\"point\"><path d=\"M98.16,360V203.84H114.02V360Z\" style=\"vector-effect: non-scaling-stroke; opacity: 1; stroke-width: 0px; fill: rgb(75, 154, 199); fill-opacity: 1;\"/></g><g class=\"point\"><path d=\"M114.56,360V259.81H130.43V360Z\" style=\"vector-effect: non-scaling-stroke; opacity: 1; stroke-width: 0px; fill: rgb(75, 154, 199); fill-opacity: 1;\"/></g><g class=\"point\"><path d=\"M130.97,360V307.24H146.83V360Z\" style=\"vector-effect: non-scaling-stroke; opacity: 1; stroke-width: 0px; fill: rgb(75, 154, 199); fill-opacity: 1;\"/></g><g class=\"point\"><path d=\"M147.37,360V208.1H163.24V360Z\" style=\"vector-effect: non-scaling-stroke; opacity: 1; stroke-width: 0px; fill: rgb(75, 154, 199); fill-opacity: 1;\"/></g><g class=\"point\"><path d=\"M163.77,360V18H179.64V360Z\" style=\"vector-effect: non-scaling-stroke; opacity: 1; stroke-width: 0px; fill: rgb(75, 154, 199); fill-opacity: 1;\"/></g><g class=\"point\"><path d=\"M180.45,360V257.16H196.31V360Z\" style=\"vector-effect: non-scaling-stroke; opacity: 1; stroke-width: 0px; fill: rgb(75, 154, 199); fill-opacity: 1;\"/></g><g class=\"point\"><path d=\"M196.31,360V315.37H212.18V360Z\" style=\"vector-effect: non-scaling-stroke; opacity: 1; stroke-width: 0px; fill: rgb(75, 154, 199); fill-opacity: 1;\"/></g><g class=\"point\"><path d=\"M212.18,360V219.39H228.05V360Z\" style=\"vector-effect: non-scaling-stroke; opacity: 1; stroke-width: 0px; fill: rgb(75, 154, 199); fill-opacity: 1;\"/></g><g class=\"point\"><path d=\"M228.59,360V285.42H244.45V360Z\" style=\"vector-effect: non-scaling-stroke; opacity: 1; stroke-width: 0px; fill: rgb(75, 154, 199); fill-opacity: 1;\"/></g><g class=\"point\"><path d=\"M244.99,360V170.17H260.86V360Z\" style=\"vector-effect: non-scaling-stroke; opacity: 1; stroke-width: 0px; fill: rgb(75, 154, 199); fill-opacity: 1;\"/></g><g class=\"point\"><path d=\"M261.39,360V241.6H277.26V360Z\" style=\"vector-effect: non-scaling-stroke; opacity: 1; stroke-width: 0px; fill: rgb(75, 154, 199); fill-opacity: 1;\"/></g><g class=\"point\"><path d=\"M277.8,360V180.28H293.67V360Z\" style=\"vector-effect: non-scaling-stroke; opacity: 1; stroke-width: 0px; fill: rgb(75, 154, 199); fill-opacity: 1;\"/></g><g class=\"point\"><path d=\"M294.47,360V122.9H310.34V360Z\" style=\"vector-effect: non-scaling-stroke; opacity: 1; stroke-width: 0px; fill: rgb(75, 154, 199); fill-opacity: 1;\"/></g><g class=\"point\"><path d=\"M310.88,360V297.19H326.74V360Z\" style=\"vector-effect: non-scaling-stroke; opacity: 1; stroke-width: 0px; fill: rgb(75, 154, 199); fill-opacity: 1;\"/></g><g class=\"point\"><path d=\"M327.28,360V348.55H343.15V360Z\" style=\"vector-effect: non-scaling-stroke; opacity: 1; stroke-width: 0px; fill: rgb(75, 154, 199); fill-opacity: 1;\"/></g><g class=\"point\"><path d=\"M343.69,360V296.13H359.55V360Z\" style=\"vector-effect: non-scaling-stroke; opacity: 1; stroke-width: 0px; fill: rgb(75, 154, 199); fill-opacity: 1;\"/></g><g class=\"point\"><path d=\"M360.09,360V212.28H375.96V360Z\" style=\"vector-effect: non-scaling-stroke; opacity: 1; stroke-width: 0px; fill: rgb(75, 154, 199); fill-opacity: 1;\"/></g><g class=\"point\"><path d=\"M376.76,360V247.07H392.63V360Z\" style=\"vector-effect: non-scaling-stroke; opacity: 1; stroke-width: 0px; fill: rgb(75, 154, 199); fill-opacity: 1;\"/></g><g class=\"point\"><path d=\"M392.9,360V112.29H408.76V360Z\" style=\"vector-effect: non-scaling-stroke; opacity: 1; stroke-width: 0px; fill: rgb(75, 154, 199); fill-opacity: 1;\"/></g><g class=\"point\"><path d=\"M409.03,360V168.42H424.9V360Z\" style=\"vector-effect: non-scaling-stroke; opacity: 1; stroke-width: 0px; fill: rgb(75, 154, 199); fill-opacity: 1;\"/></g><g class=\"point\"><path d=\"M425.44,360V284.11H441.3V360Z\" style=\"vector-effect: non-scaling-stroke; opacity: 1; stroke-width: 0px; fill: rgb(75, 154, 199); fill-opacity: 1;\"/></g><g class=\"point\"><path d=\"M441.84,360V292.73H457.71V360Z\" style=\"vector-effect: non-scaling-stroke; opacity: 1; stroke-width: 0px; fill: rgb(75, 154, 199); fill-opacity: 1;\"/></g><g class=\"point\"><path d=\"M458.25,360V248.63H474.11V360Z\" style=\"vector-effect: non-scaling-stroke; opacity: 1; stroke-width: 0px; fill: rgb(75, 154, 199); fill-opacity: 1;\"/></g><g class=\"point\"><path d=\"M474.65,360V308.74H490.52V360Z\" style=\"vector-effect: non-scaling-stroke; opacity: 1; stroke-width: 0px; fill: rgb(75, 154, 199); fill-opacity: 1;\"/></g><g class=\"point\"><path d=\"M0,0Z\" style=\"vector-effect: non-scaling-stroke; opacity: 1; stroke-width: 0px; fill: rgb(75, 154, 199); fill-opacity: 1;\"/></g><g class=\"point\"><path d=\"M507.73,360V328.08H523.6V360Z\" style=\"vector-effect: non-scaling-stroke; opacity: 1; stroke-width: 0px; fill: rgb(75, 154, 199); fill-opacity: 1;\"/></g><g class=\"point\"><path d=\"M524.13,360V239.65H540V360Z\" style=\"vector-effect: non-scaling-stroke; opacity: 1; stroke-width: 0px; fill: rgb(75, 154, 199); fill-opacity: 1;\"/></g></g></g></g></g><g class=\"overplot\"/><path class=\"xlines-above crisp\" d=\"M0,0\" style=\"fill: none;\"/><path class=\"ylines-above crisp\" d=\"M0,0\" style=\"fill: none;\"/><g class=\"overlines-above\"/><g class=\"xaxislayer-above\"><g class=\"xtick\"><text text-anchor=\"middle\" x=\"0\" y=\"433\" transform=\"translate(161.35,0)\" style=\"font-family: 'Open Sans', verdana, arial, sans-serif; font-size: 12px; fill: rgb(68, 68, 68); fill-opacity: 1; white-space: pre; opacity: 1;\">Jul 2010</text></g><g class=\"xtick\"><text text-anchor=\"middle\" x=\"0\" y=\"433\" style=\"font-family: 'Open Sans', verdana, arial, sans-serif; font-size: 12px; fill: rgb(68, 68, 68); fill-opacity: 1; white-space: pre; opacity: 1;\" transform=\"translate(260.31,0)\">Jan 2011</text></g><g class=\"xtick\"><text text-anchor=\"middle\" x=\"0\" y=\"433\" style=\"font-family: 'Open Sans', verdana, arial, sans-serif; font-size: 12px; fill: rgb(68, 68, 68); fill-opacity: 1; white-space: pre; opacity: 1;\" transform=\"translate(357.66,0)\">Jul 2011</text></g><g class=\"xtick\"><text text-anchor=\"middle\" x=\"0\" y=\"433\" style=\"font-family: 'Open Sans', verdana, arial, sans-serif; font-size: 12px; fill: rgb(68, 68, 68); fill-opacity: 1; white-space: pre; opacity: 1;\" transform=\"translate(456.63,0)\">Jan 2012</text></g><g class=\"xtick\"><text text-anchor=\"middle\" x=\"0\" y=\"433\" style=\"font-family: 'Open Sans', verdana, arial, sans-serif; font-size: 12px; fill: rgb(68, 68, 68); fill-opacity: 1; white-space: pre; opacity: 1;\" transform=\"translate(554.52,0)\">Jul 2012</text></g></g><g class=\"yaxislayer-above\"><g class=\"ytick\"><text text-anchor=\"end\" x=\"79\" y=\"4.199999999999999\" transform=\"translate(0,420)\" style=\"font-family: 'Open Sans', verdana, arial, sans-serif; font-size: 12px; fill: rgb(68, 68, 68); fill-opacity: 1; white-space: pre; opacity: 1;\">0</text></g><g class=\"ytick\"><text text-anchor=\"end\" x=\"79\" y=\"4.199999999999999\" style=\"font-family: 'Open Sans', verdana, arial, sans-serif; font-size: 12px; fill: rgb(68, 68, 68); fill-opacity: 1; white-space: pre; opacity: 1;\" transform=\"translate(0,363.23)\">2M</text></g><g class=\"ytick\"><text text-anchor=\"end\" x=\"79\" y=\"4.199999999999999\" style=\"font-family: 'Open Sans', verdana, arial, sans-serif; font-size: 12px; fill: rgb(68, 68, 68); fill-opacity: 1; white-space: pre; opacity: 1;\" transform=\"translate(0,306.46000000000004)\">4M</text></g><g class=\"ytick\"><text text-anchor=\"end\" x=\"79\" y=\"4.199999999999999\" style=\"font-family: 'Open Sans', verdana, arial, sans-serif; font-size: 12px; fill: rgb(68, 68, 68); fill-opacity: 1; white-space: pre; opacity: 1;\" transform=\"translate(0,249.69)\">6M</text></g><g class=\"ytick\"><text text-anchor=\"end\" x=\"79\" y=\"4.199999999999999\" style=\"font-family: 'Open Sans', verdana, arial, sans-serif; font-size: 12px; fill: rgb(68, 68, 68); fill-opacity: 1; white-space: pre; opacity: 1;\" transform=\"translate(0,192.91)\">8M</text></g><g class=\"ytick\"><text text-anchor=\"end\" x=\"79\" y=\"4.199999999999999\" style=\"font-family: 'Open Sans', verdana, arial, sans-serif; font-size: 12px; fill: rgb(68, 68, 68); fill-opacity: 1; white-space: pre; opacity: 1;\" transform=\"translate(0,136.14)\">10M</text></g><g class=\"ytick\"><text text-anchor=\"end\" x=\"79\" y=\"4.199999999999999\" style=\"font-family: 'Open Sans', verdana, arial, sans-serif; font-size: 12px; fill: rgb(68, 68, 68); fill-opacity: 1; white-space: pre; opacity: 1;\" transform=\"translate(0,79.37)\">12M</text></g></g><g class=\"overaxes-above\"/></g></g><g class=\"polarlayer\"/><g class=\"smithlayer\"/><g class=\"ternarylayer\"/><g class=\"geolayer\"/><g class=\"funnelarealayer\"/><g class=\"pielayer\"/><g class=\"iciclelayer\"/><g class=\"treemaplayer\"/><g class=\"sunburstlayer\"/><g class=\"glimages\"/><defs id=\"topdefs-4bef7b\"><g class=\"clips\"/></defs><g class=\"layer-above\"><g class=\"imagelayer\"/><g class=\"shapelayer\"/></g><g class=\"infolayer\"><g class=\"g-gtitle\"/><g class=\"g-xtitle\"><text class=\"xtitle\" x=\"350\" y=\"472\" text-anchor=\"middle\" style=\"font-family: 'Open Sans', verdana, arial, sans-serif; font-size: 14px; fill: rgb(68, 68, 68); opacity: 1; font-weight: normal; white-space: pre;\">Date</text></g><g class=\"g-ytitle\"><text class=\"ytitle\" transform=\"rotate(-90,42,240)\" x=\"42\" y=\"240\" text-anchor=\"middle\" style=\"font-family: 'Open Sans', verdana, arial, sans-serif; font-size: 14px; fill: rgb(68, 68, 68); opacity: 1; font-weight: normal; white-space: pre;\">sum of Weekly_Sales</text></g></g></svg>"
     },
     "metadata": {},
     "output_type": "display_data"
    }
   ],
   "source": [
    "# Weekly sales over Date\n",
    "s_date = px.histogram(w_sales, x='Date', y='Weekly_Sales', nbins=50)\n",
    "s_date.show()"
   ]
  },
  {
   "cell_type": "markdown",
   "id": "d8345c5f",
   "metadata": {},
   "source": [
    "* We can see peaks around January"
   ]
  },
  {
   "cell_type": "code",
   "execution_count": 13,
   "id": "fdbaffd9",
   "metadata": {
    "tags": []
   },
   "outputs": [
    {
     "data": {
      "text/plain": [
       "<seaborn.axisgrid.FacetGrid at 0x26909bdd1f0>"
      ]
     },
     "execution_count": 13,
     "metadata": {},
     "output_type": "execute_result"
    },
    {
     "data": {
      "image/png": "[encoded data removed]",
      "text/plain": [
       "<Figure size 360x360 with 1 Axes>"
      ]
     },
     "metadata": {
      "needs_background": "light"
     },
     "output_type": "display_data"
    }
   ],
   "source": [
    "sns.relplot(\n",
    "    data=w_sales, x=\"Date\", y=\"Weekly_Sales\",\n",
    "    kind=\"line\",\n",
    ")"
   ]
  },
  {
   "cell_type": "code",
   "execution_count": 14,
   "id": "fea9fe17",
   "metadata": {
    "tags": []
   },
   "outputs": [
    {
     "data": {
      "image/svg+xml": "<svg class=\"main-svg\" xmlns=\"http://www.w3.org/2000/svg\" xmlns:xlink=\"http://www.w3.org/1999/xlink\" width=\"700\" height=\"500\" style=\"\" viewBox=\"0 0 700 500\"><rect x=\"0\" y=\"0\" width=\"700\" height=\"500\" style=\"fill: rgb(255, 255, 255); fill-opacity: 1;\"/><defs id=\"defs-595385\"><g class=\"clips\"><clipPath id=\"clip595385xyplot\" class=\"plotclip\"><rect width=\"540\" height=\"360\"/></clipPath><clipPath class=\"axesclip\" id=\"clip595385x\"><rect x=\"80\" y=\"0\" width=\"540\" height=\"500\"/></clipPath><clipPath class=\"axesclip\" id=\"clip595385y\"><rect x=\"0\" y=\"60\" width=\"700\" height=\"360\"/></clipPath><clipPath class=\"axesclip\" id=\"clip595385xy\"><rect x=\"80\" y=\"60\" width=\"540\" height=\"360\"/></clipPath></g><g class=\"gradients\"/><g class=\"patterns\"/></defs><g class=\"bglayer\"/><g class=\"layer-below\"><g class=\"imagelayer\"/><g class=\"shapelayer\"/></g><g class=\"cartesianlayer\"><g class=\"subplot xy\"><g class=\"layer-subplot\"><g class=\"shapelayer\"/><g class=\"imagelayer\"/></g><g class=\"gridlayer\"><g class=\"x\"/><g class=\"y\"><path class=\"ygrid crisp\" transform=\"translate(0,372.43)\" d=\"M80,0h540\" style=\"stroke: rgb(238, 238, 238); stroke-opacity: 1; stroke-width: 1px;\"/><path class=\"ygrid crisp\" transform=\"translate(0,324.86)\" d=\"M80,0h540\" style=\"stroke: rgb(238, 238, 238); stroke-opacity: 1; stroke-width: 1px;\"/><path class=\"ygrid crisp\" transform=\"translate(0,277.28999999999996)\" d=\"M80,0h540\" style=\"stroke: rgb(238, 238, 238); stroke-opacity: 1; stroke-width: 1px;\"/><path class=\"ygrid crisp\" transform=\"translate(0,229.72)\" d=\"M80,0h540\" style=\"stroke: rgb(238, 238, 238); stroke-opacity: 1; stroke-width: 1px;\"/><path class=\"ygrid crisp\" transform=\"translate(0,182.15)\" d=\"M80,0h540\" style=\"stroke: rgb(238, 238, 238); stroke-opacity: 1; stroke-width: 1px;\"/><path class=\"ygrid crisp\" transform=\"translate(0,134.59)\" d=\"M80,0h540\" style=\"stroke: rgb(238, 238, 238); stroke-opacity: 1; stroke-width: 1px;\"/><path class=\"ygrid crisp\" transform=\"translate(0,87.02)\" d=\"M80,0h540\" style=\"stroke: rgb(238, 238, 238); stroke-opacity: 1; stroke-width: 1px;\"/></g></g><g class=\"zerolinelayer\"><path class=\"yzl zl crisp\" transform=\"translate(0,420)\" d=\"M80,0h540\" style=\"stroke: rgb(68, 68, 68); stroke-opacity: 1; stroke-width: 1px;\"/></g><path class=\"xlines-below\"/><path class=\"ylines-below\"/><g class=\"overlines-below\"/><g class=\"xaxislayer-below\"/><g class=\"yaxislayer-below\"/><g class=\"overaxes-below\"/><g class=\"plot\" transform=\"translate(80,60)\" clip-path=\"url(#clip595385xyplot)\"><g class=\"barlayer mlayer\"><g class=\"trace bars\" shape-rendering=\"crispEdges\" style=\"opacity: 1;\"><g class=\"points\"><g class=\"point\"><path d=\"M0,360V18H270V360Z\" style=\"vector-effect: non-scaling-stroke; opacity: 1; stroke-width: 0px; fill: rgb(75, 154, 199); fill-opacity: 1;\"/></g><g class=\"point\"><path d=\"M270,360V331.47H540V360Z\" style=\"vector-effect: non-scaling-stroke; opacity: 1; stroke-width: 0px; fill: rgb(75, 154, 199); fill-opacity: 1;\"/></g></g></g></g></g><g class=\"overplot\"/><path class=\"xlines-above crisp\" d=\"M0,0\" style=\"fill: none;\"/><path class=\"ylines-above crisp\" d=\"M0,0\" style=\"fill: none;\"/><g class=\"overlines-above\"/><g class=\"xaxislayer-above\"><g class=\"xtick\"><text text-anchor=\"middle\" x=\"0\" y=\"433\" transform=\"translate(80,0)\" style=\"font-family: 'Open Sans', verdana, arial, sans-serif; font-size: 12px; fill: rgb(68, 68, 68); fill-opacity: 1; white-space: pre; opacity: 1;\">−0.5</text></g><g class=\"xtick\"><text text-anchor=\"middle\" x=\"0\" y=\"433\" style=\"font-family: 'Open Sans', verdana, arial, sans-serif; font-size: 12px; fill: rgb(68, 68, 68); fill-opacity: 1; white-space: pre; opacity: 1;\" transform=\"translate(215,0)\">0</text></g><g class=\"xtick\"><text text-anchor=\"middle\" x=\"0\" y=\"433\" style=\"font-family: 'Open Sans', verdana, arial, sans-serif; font-size: 12px; fill: rgb(68, 68, 68); fill-opacity: 1; white-space: pre; opacity: 1;\" transform=\"translate(350,0)\">0.5</text></g><g class=\"xtick\"><text text-anchor=\"middle\" x=\"0\" y=\"433\" style=\"font-family: 'Open Sans', verdana, arial, sans-serif; font-size: 12px; fill: rgb(68, 68, 68); fill-opacity: 1; white-space: pre; opacity: 1;\" transform=\"translate(485,0)\">1</text></g><g class=\"xtick\"><text text-anchor=\"middle\" x=\"0\" y=\"433\" style=\"font-family: 'Open Sans', verdana, arial, sans-serif; font-size: 12px; fill: rgb(68, 68, 68); fill-opacity: 1; white-space: pre; opacity: 1;\" transform=\"translate(620,0)\">1.5</text></g></g><g class=\"yaxislayer-above\"><g class=\"ytick\"><text text-anchor=\"end\" x=\"79\" y=\"4.199999999999999\" transform=\"translate(0,420)\" style=\"font-family: 'Open Sans', verdana, arial, sans-serif; font-size: 12px; fill: rgb(68, 68, 68); fill-opacity: 1; white-space: pre; opacity: 1;\">0</text></g><g class=\"ytick\"><text text-anchor=\"end\" x=\"79\" y=\"4.199999999999999\" style=\"font-family: 'Open Sans', verdana, arial, sans-serif; font-size: 12px; fill: rgb(68, 68, 68); fill-opacity: 1; white-space: pre; opacity: 1;\" transform=\"translate(0,372.43)\">20M</text></g><g class=\"ytick\"><text text-anchor=\"end\" x=\"79\" y=\"4.199999999999999\" style=\"font-family: 'Open Sans', verdana, arial, sans-serif; font-size: 12px; fill: rgb(68, 68, 68); fill-opacity: 1; white-space: pre; opacity: 1;\" transform=\"translate(0,324.86)\">40M</text></g><g class=\"ytick\"><text text-anchor=\"end\" x=\"79\" y=\"4.199999999999999\" style=\"font-family: 'Open Sans', verdana, arial, sans-serif; font-size: 12px; fill: rgb(68, 68, 68); fill-opacity: 1; white-space: pre; opacity: 1;\" transform=\"translate(0,277.28999999999996)\">60M</text></g><g class=\"ytick\"><text text-anchor=\"end\" x=\"79\" y=\"4.199999999999999\" style=\"font-family: 'Open Sans', verdana, arial, sans-serif; font-size: 12px; fill: rgb(68, 68, 68); fill-opacity: 1; white-space: pre; opacity: 1;\" transform=\"translate(0,229.72)\">80M</text></g><g class=\"ytick\"><text text-anchor=\"end\" x=\"79\" y=\"4.199999999999999\" style=\"font-family: 'Open Sans', verdana, arial, sans-serif; font-size: 12px; fill: rgb(68, 68, 68); fill-opacity: 1; white-space: pre; opacity: 1;\" transform=\"translate(0,182.15)\">100M</text></g><g class=\"ytick\"><text text-anchor=\"end\" x=\"79\" y=\"4.199999999999999\" style=\"font-family: 'Open Sans', verdana, arial, sans-serif; font-size: 12px; fill: rgb(68, 68, 68); fill-opacity: 1; white-space: pre; opacity: 1;\" transform=\"translate(0,134.59)\">120M</text></g><g class=\"ytick\"><text text-anchor=\"end\" x=\"79\" y=\"4.199999999999999\" style=\"font-family: 'Open Sans', verdana, arial, sans-serif; font-size: 12px; fill: rgb(68, 68, 68); fill-opacity: 1; white-space: pre; opacity: 1;\" transform=\"translate(0,87.02)\">140M</text></g></g><g class=\"overaxes-above\"/></g></g><g class=\"polarlayer\"/><g class=\"smithlayer\"/><g class=\"ternarylayer\"/><g class=\"geolayer\"/><g class=\"funnelarealayer\"/><g class=\"pielayer\"/><g class=\"iciclelayer\"/><g class=\"treemaplayer\"/><g class=\"sunburstlayer\"/><g class=\"glimages\"/><defs id=\"topdefs-595385\"><g class=\"clips\"/></defs><g class=\"layer-above\"><g class=\"imagelayer\"/><g class=\"shapelayer\"/></g><g class=\"infolayer\"><g class=\"g-gtitle\"/><g class=\"g-xtitle\"><text class=\"xtitle\" x=\"350\" y=\"472\" text-anchor=\"middle\" style=\"font-family: 'Open Sans', verdana, arial, sans-serif; font-size: 14px; fill: rgb(68, 68, 68); opacity: 1; font-weight: normal; white-space: pre;\">Holiday_Flag</text></g><g class=\"g-ytitle\" transform=\"translate(-1,0)\"><text class=\"ytitle\" transform=\"rotate(-90,42,240)\" x=\"42\" y=\"240\" text-anchor=\"middle\" style=\"font-family: 'Open Sans', verdana, arial, sans-serif; font-size: 14px; fill: rgb(68, 68, 68); opacity: 1; font-weight: normal; white-space: pre;\">sum of Weekly_Sales</text></g></g></svg>"
     },
     "metadata": {},
     "output_type": "display_data"
    }
   ],
   "source": [
    "#Weekly sales over Holiday Flag\n",
    "s_holy = px.histogram(w_sales, x='Holiday_Flag', y='Weekly_Sales', nbins=2)\n",
    "s_holy.show()"
   ]
  },
  {
   "cell_type": "code",
   "execution_count": 15,
   "id": "be3b4a02",
   "metadata": {
    "tags": []
   },
   "outputs": [
    {
     "data": {
      "image/svg+xml": "<svg class=\"main-svg\" xmlns=\"http://www.w3.org/2000/svg\" xmlns:xlink=\"http://www.w3.org/1999/xlink\" width=\"700\" height=\"500\" style=\"\" viewBox=\"0 0 700 500\"><rect x=\"0\" y=\"0\" width=\"700\" height=\"500\" style=\"fill: rgb(255, 255, 255); fill-opacity: 1;\"/><defs id=\"defs-229f52\"><g class=\"clips\"><clipPath id=\"clip229f52xyplot\" class=\"plotclip\"><rect width=\"540\" height=\"360\"/></clipPath><clipPath class=\"axesclip\" id=\"clip229f52x\"><rect x=\"80\" y=\"0\" width=\"540\" height=\"500\"/></clipPath><clipPath class=\"axesclip\" id=\"clip229f52y\"><rect x=\"0\" y=\"60\" width=\"700\" height=\"360\"/></clipPath><clipPath class=\"axesclip\" id=\"clip229f52xy\"><rect x=\"80\" y=\"60\" width=\"540\" height=\"360\"/></clipPath></g><g class=\"gradients\"/><g class=\"patterns\"/></defs><g class=\"bglayer\"/><g class=\"layer-below\"><g class=\"imagelayer\"/><g class=\"shapelayer\"/></g><g class=\"cartesianlayer\"><g class=\"subplot xy\"><g class=\"layer-subplot\"><g class=\"shapelayer\"/><g class=\"imagelayer\"/></g><g class=\"gridlayer\"><g class=\"x\"/><g class=\"y\"><path class=\"ygrid crisp\" transform=\"translate(0,362.68)\" d=\"M80,0h540\" style=\"stroke: rgb(238, 238, 238); stroke-opacity: 1; stroke-width: 1px;\"/><path class=\"ygrid crisp\" transform=\"translate(0,305.36)\" d=\"M80,0h540\" style=\"stroke: rgb(238, 238, 238); stroke-opacity: 1; stroke-width: 1px;\"/><path class=\"ygrid crisp\" transform=\"translate(0,248.03)\" d=\"M80,0h540\" style=\"stroke: rgb(238, 238, 238); stroke-opacity: 1; stroke-width: 1px;\"/><path class=\"ygrid crisp\" transform=\"translate(0,190.71)\" d=\"M80,0h540\" style=\"stroke: rgb(238, 238, 238); stroke-opacity: 1; stroke-width: 1px;\"/><path class=\"ygrid crisp\" transform=\"translate(0,133.39)\" d=\"M80,0h540\" style=\"stroke: rgb(238, 238, 238); stroke-opacity: 1; stroke-width: 1px;\"/><path class=\"ygrid crisp\" transform=\"translate(0,76.07)\" d=\"M80,0h540\" style=\"stroke: rgb(238, 238, 238); stroke-opacity: 1; stroke-width: 1px;\"/></g></g><g class=\"zerolinelayer\"><path class=\"yzl zl crisp\" transform=\"translate(0,420)\" d=\"M80,0h540\" style=\"stroke: rgb(68, 68, 68); stroke-opacity: 1; stroke-width: 1px;\"/></g><path class=\"xlines-below\"/><path class=\"ylines-below\"/><g class=\"overlines-below\"/><g class=\"xaxislayer-below\"/><g class=\"yaxislayer-below\"/><g class=\"overaxes-below\"/><g class=\"plot\" transform=\"translate(80,60)\" clip-path=\"url(#clip229f52xyplot)\"><g class=\"barlayer mlayer\"><g class=\"trace bars\" shape-rendering=\"crispEdges\" style=\"opacity: 1;\"><g class=\"points\"><g class=\"point\"><path d=\"M0,360V343.85H14.59V360Z\" style=\"vector-effect: non-scaling-stroke; opacity: 1; stroke-width: 0px; fill: rgb(75, 154, 199); fill-opacity: 1;\"/></g><g class=\"point\"><path d=\"M14.59,360V304.92H29.19V360Z\" style=\"vector-effect: non-scaling-stroke; opacity: 1; stroke-width: 0px; fill: rgb(75, 154, 199); fill-opacity: 1;\"/></g><g class=\"point\"><path d=\"M0,0Z\" style=\"vector-effect: non-scaling-stroke; opacity: 1; stroke-width: 0px; fill: rgb(75, 154, 199); fill-opacity: 1;\"/></g><g class=\"point\"><path d=\"M0,0Z\" style=\"vector-effect: non-scaling-stroke; opacity: 1; stroke-width: 0px; fill: rgb(75, 154, 199); fill-opacity: 1;\"/></g><g class=\"point\"><path d=\"M58.38,360V314.47H72.97V360Z\" style=\"vector-effect: non-scaling-stroke; opacity: 1; stroke-width: 0px; fill: rgb(75, 154, 199); fill-opacity: 1;\"/></g><g class=\"point\"><path d=\"M72.97,360V308.42H87.57V360Z\" style=\"vector-effect: non-scaling-stroke; opacity: 1; stroke-width: 0px; fill: rgb(75, 154, 199); fill-opacity: 1;\"/></g><g class=\"point\"><path d=\"M87.57,360V285.47H102.16V360Z\" style=\"vector-effect: non-scaling-stroke; opacity: 1; stroke-width: 0px; fill: rgb(75, 154, 199); fill-opacity: 1;\"/></g><g class=\"point\"><path d=\"M102.16,360V243.26H116.76V360Z\" style=\"vector-effect: non-scaling-stroke; opacity: 1; stroke-width: 0px; fill: rgb(75, 154, 199); fill-opacity: 1;\"/></g><g class=\"point\"><path d=\"M116.76,360V246.49H131.35V360Z\" style=\"vector-effect: non-scaling-stroke; opacity: 1; stroke-width: 0px; fill: rgb(75, 154, 199); fill-opacity: 1;\"/></g><g class=\"point\"><path d=\"M131.35,360V80.7H145.95V360Z\" style=\"vector-effect: non-scaling-stroke; opacity: 1; stroke-width: 0px; fill: rgb(75, 154, 199); fill-opacity: 1;\"/></g><g class=\"point\"><path d=\"M145.95,360V60.17H160.54V360Z\" style=\"vector-effect: non-scaling-stroke; opacity: 1; stroke-width: 0px; fill: rgb(75, 154, 199); fill-opacity: 1;\"/></g><g class=\"point\"><path d=\"M160.54,360V306.13H175.14V360Z\" style=\"vector-effect: non-scaling-stroke; opacity: 1; stroke-width: 0px; fill: rgb(75, 154, 199); fill-opacity: 1;\"/></g><g class=\"point\"><path d=\"M175.14,360V180.59H189.73V360Z\" style=\"vector-effect: non-scaling-stroke; opacity: 1; stroke-width: 0px; fill: rgb(75, 154, 199); fill-opacity: 1;\"/></g><g class=\"point\"><path d=\"M189.73,360V248.3H204.32V360Z\" style=\"vector-effect: non-scaling-stroke; opacity: 1; stroke-width: 0px; fill: rgb(75, 154, 199); fill-opacity: 1;\"/></g><g class=\"point\"><path d=\"M204.32,360V292.07H218.92V360Z\" style=\"vector-effect: non-scaling-stroke; opacity: 1; stroke-width: 0px; fill: rgb(75, 154, 199); fill-opacity: 1;\"/></g><g class=\"point\"><path d=\"M218.92,360V306.54H233.51V360Z\" style=\"vector-effect: non-scaling-stroke; opacity: 1; stroke-width: 0px; fill: rgb(75, 154, 199); fill-opacity: 1;\"/></g><g class=\"point\"><path d=\"M233.51,360V165.87H248.11V360Z\" style=\"vector-effect: non-scaling-stroke; opacity: 1; stroke-width: 0px; fill: rgb(75, 154, 199); fill-opacity: 1;\"/></g><g class=\"point\"><path d=\"M248.11,360V190.31H262.7V360Z\" style=\"vector-effect: non-scaling-stroke; opacity: 1; stroke-width: 0px; fill: rgb(75, 154, 199); fill-opacity: 1;\"/></g><g class=\"point\"><path d=\"M262.7,360V270.67H277.3V360Z\" style=\"vector-effect: non-scaling-stroke; opacity: 1; stroke-width: 0px; fill: rgb(75, 154, 199); fill-opacity: 1;\"/></g><g class=\"point\"><path d=\"M277.3,360V243.54H291.89V360Z\" style=\"vector-effect: non-scaling-stroke; opacity: 1; stroke-width: 0px; fill: rgb(75, 154, 199); fill-opacity: 1;\"/></g><g class=\"point\"><path d=\"M291.89,360V260H306.49V360Z\" style=\"vector-effect: non-scaling-stroke; opacity: 1; stroke-width: 0px; fill: rgb(75, 154, 199); fill-opacity: 1;\"/></g><g class=\"point\"><path d=\"M306.49,360V239.34H321.08V360Z\" style=\"vector-effect: non-scaling-stroke; opacity: 1; stroke-width: 0px; fill: rgb(75, 154, 199); fill-opacity: 1;\"/></g><g class=\"point\"><path d=\"M321.08,360V242.85H335.68V360Z\" style=\"vector-effect: non-scaling-stroke; opacity: 1; stroke-width: 0px; fill: rgb(75, 154, 199); fill-opacity: 1;\"/></g><g class=\"point\"><path d=\"M335.68,360V311.92H350.27V360Z\" style=\"vector-effect: non-scaling-stroke; opacity: 1; stroke-width: 0px; fill: rgb(75, 154, 199); fill-opacity: 1;\"/></g><g class=\"point\"><path d=\"M350.27,360V263.82H364.86V360Z\" style=\"vector-effect: non-scaling-stroke; opacity: 1; stroke-width: 0px; fill: rgb(75, 154, 199); fill-opacity: 1;\"/></g><g class=\"point\"><path d=\"M364.86,360V18H379.46V360Z\" style=\"vector-effect: non-scaling-stroke; opacity: 1; stroke-width: 0px; fill: rgb(75, 154, 199); fill-opacity: 1;\"/></g><g class=\"point\"><path d=\"M0,0Z\" style=\"vector-effect: non-scaling-stroke; opacity: 1; stroke-width: 0px; fill: rgb(75, 154, 199); fill-opacity: 1;\"/></g><g class=\"point\"><path d=\"M394.05,360V180.76H408.65V360Z\" style=\"vector-effect: non-scaling-stroke; opacity: 1; stroke-width: 0px; fill: rgb(75, 154, 199); fill-opacity: 1;\"/></g><g class=\"point\"><path d=\"M408.65,360V83.77H423.24V360Z\" style=\"vector-effect: non-scaling-stroke; opacity: 1; stroke-width: 0px; fill: rgb(75, 154, 199); fill-opacity: 1;\"/></g><g class=\"point\"><path d=\"M423.24,360V242.89H437.84V360Z\" style=\"vector-effect: non-scaling-stroke; opacity: 1; stroke-width: 0px; fill: rgb(75, 154, 199); fill-opacity: 1;\"/></g><g class=\"point\"><path d=\"M437.84,360V156.33H452.43V360Z\" style=\"vector-effect: non-scaling-stroke; opacity: 1; stroke-width: 0px; fill: rgb(75, 154, 199); fill-opacity: 1;\"/></g><g class=\"point\"><path d=\"M452.43,360V291.97H467.03V360Z\" style=\"vector-effect: non-scaling-stroke; opacity: 1; stroke-width: 0px; fill: rgb(75, 154, 199); fill-opacity: 1;\"/></g><g class=\"point\"><path d=\"M467.03,360V205.23H481.62V360Z\" style=\"vector-effect: non-scaling-stroke; opacity: 1; stroke-width: 0px; fill: rgb(75, 154, 199); fill-opacity: 1;\"/></g><g class=\"point\"><path d=\"M481.62,360V208.97H496.22V360Z\" style=\"vector-effect: non-scaling-stroke; opacity: 1; stroke-width: 0px; fill: rgb(75, 154, 199); fill-opacity: 1;\"/></g><g class=\"point\"><path d=\"M496.22,360V230.57H510.81V360Z\" style=\"vector-effect: non-scaling-stroke; opacity: 1; stroke-width: 0px; fill: rgb(75, 154, 199); fill-opacity: 1;\"/></g><g class=\"point\"><path d=\"M510.81,360V299.62H525.41V360Z\" style=\"vector-effect: non-scaling-stroke; opacity: 1; stroke-width: 0px; fill: rgb(75, 154, 199); fill-opacity: 1;\"/></g><g class=\"point\"><path d=\"M525.41,360V235.37H540V360Z\" style=\"vector-effect: non-scaling-stroke; opacity: 1; stroke-width: 0px; fill: rgb(75, 154, 199); fill-opacity: 1;\"/></g></g></g></g></g><g class=\"overplot\"/><path class=\"xlines-above crisp\" d=\"M0,0\" style=\"fill: none;\"/><path class=\"ylines-above crisp\" d=\"M0,0\" style=\"fill: none;\"/><g class=\"overlines-above\"/><g class=\"xaxislayer-above\"><g class=\"xtick\"><text text-anchor=\"middle\" x=\"0\" y=\"433\" transform=\"translate(94.59,0)\" style=\"font-family: 'Open Sans', verdana, arial, sans-serif; font-size: 12px; fill: rgb(68, 68, 68); fill-opacity: 1; white-space: pre; opacity: 1;\">20</text></g><g class=\"xtick\"><text text-anchor=\"middle\" x=\"0\" y=\"433\" style=\"font-family: 'Open Sans', verdana, arial, sans-serif; font-size: 12px; fill: rgb(68, 68, 68); fill-opacity: 1; white-space: pre; opacity: 1;\" transform=\"translate(167.57,0)\">30</text></g><g class=\"xtick\"><text text-anchor=\"middle\" x=\"0\" y=\"433\" style=\"font-family: 'Open Sans', verdana, arial, sans-serif; font-size: 12px; fill: rgb(68, 68, 68); fill-opacity: 1; white-space: pre; opacity: 1;\" transform=\"translate(240.54,0)\">40</text></g><g class=\"xtick\"><text text-anchor=\"middle\" x=\"0\" y=\"433\" style=\"font-family: 'Open Sans', verdana, arial, sans-serif; font-size: 12px; fill: rgb(68, 68, 68); fill-opacity: 1; white-space: pre; opacity: 1;\" transform=\"translate(313.51,0)\">50</text></g><g class=\"xtick\"><text text-anchor=\"middle\" x=\"0\" y=\"433\" style=\"font-family: 'Open Sans', verdana, arial, sans-serif; font-size: 12px; fill: rgb(68, 68, 68); fill-opacity: 1; white-space: pre; opacity: 1;\" transform=\"translate(386.49,0)\">60</text></g><g class=\"xtick\"><text text-anchor=\"middle\" x=\"0\" y=\"433\" style=\"font-family: 'Open Sans', verdana, arial, sans-serif; font-size: 12px; fill: rgb(68, 68, 68); fill-opacity: 1; white-space: pre; opacity: 1;\" transform=\"translate(459.46,0)\">70</text></g><g class=\"xtick\"><text text-anchor=\"middle\" x=\"0\" y=\"433\" style=\"font-family: 'Open Sans', verdana, arial, sans-serif; font-size: 12px; fill: rgb(68, 68, 68); fill-opacity: 1; white-space: pre; opacity: 1;\" transform=\"translate(532.4300000000001,0)\">80</text></g><g class=\"xtick\"><text text-anchor=\"middle\" x=\"0\" y=\"433\" style=\"font-family: 'Open Sans', verdana, arial, sans-serif; font-size: 12px; fill: rgb(68, 68, 68); fill-opacity: 1; white-space: pre; opacity: 1;\" transform=\"translate(605.41,0)\">90</text></g></g><g class=\"yaxislayer-above\"><g class=\"ytick\"><text text-anchor=\"end\" x=\"79\" y=\"4.199999999999999\" transform=\"translate(0,420)\" style=\"font-family: 'Open Sans', verdana, arial, sans-serif; font-size: 12px; fill: rgb(68, 68, 68); fill-opacity: 1; white-space: pre; opacity: 1;\">0</text></g><g class=\"ytick\"><text text-anchor=\"end\" x=\"79\" y=\"4.199999999999999\" style=\"font-family: 'Open Sans', verdana, arial, sans-serif; font-size: 12px; fill: rgb(68, 68, 68); fill-opacity: 1; white-space: pre; opacity: 1;\" transform=\"translate(0,362.68)\">2M</text></g><g class=\"ytick\"><text text-anchor=\"end\" x=\"79\" y=\"4.199999999999999\" style=\"font-family: 'Open Sans', verdana, arial, sans-serif; font-size: 12px; fill: rgb(68, 68, 68); fill-opacity: 1; white-space: pre; opacity: 1;\" transform=\"translate(0,305.36)\">4M</text></g><g class=\"ytick\"><text text-anchor=\"end\" x=\"79\" y=\"4.199999999999999\" style=\"font-family: 'Open Sans', verdana, arial, sans-serif; font-size: 12px; fill: rgb(68, 68, 68); fill-opacity: 1; white-space: pre; opacity: 1;\" transform=\"translate(0,248.03)\">6M</text></g><g class=\"ytick\"><text text-anchor=\"end\" x=\"79\" y=\"4.199999999999999\" style=\"font-family: 'Open Sans', verdana, arial, sans-serif; font-size: 12px; fill: rgb(68, 68, 68); fill-opacity: 1; white-space: pre; opacity: 1;\" transform=\"translate(0,190.71)\">8M</text></g><g class=\"ytick\"><text text-anchor=\"end\" x=\"79\" y=\"4.199999999999999\" style=\"font-family: 'Open Sans', verdana, arial, sans-serif; font-size: 12px; fill: rgb(68, 68, 68); fill-opacity: 1; white-space: pre; opacity: 1;\" transform=\"translate(0,133.39)\">10M</text></g><g class=\"ytick\"><text text-anchor=\"end\" x=\"79\" y=\"4.199999999999999\" style=\"font-family: 'Open Sans', verdana, arial, sans-serif; font-size: 12px; fill: rgb(68, 68, 68); fill-opacity: 1; white-space: pre; opacity: 1;\" transform=\"translate(0,76.07)\">12M</text></g></g><g class=\"overaxes-above\"/></g></g><g class=\"polarlayer\"/><g class=\"smithlayer\"/><g class=\"ternarylayer\"/><g class=\"geolayer\"/><g class=\"funnelarealayer\"/><g class=\"pielayer\"/><g class=\"iciclelayer\"/><g class=\"treemaplayer\"/><g class=\"sunburstlayer\"/><g class=\"glimages\"/><defs id=\"topdefs-229f52\"><g class=\"clips\"/></defs><g class=\"layer-above\"><g class=\"imagelayer\"/><g class=\"shapelayer\"/></g><g class=\"infolayer\"><g class=\"g-gtitle\"/><g class=\"g-xtitle\"><text class=\"xtitle\" x=\"350\" y=\"472\" text-anchor=\"middle\" style=\"font-family: 'Open Sans', verdana, arial, sans-serif; font-size: 14px; fill: rgb(68, 68, 68); opacity: 1; font-weight: normal; white-space: pre;\">Temperature</text></g><g class=\"g-ytitle\"><text class=\"ytitle\" transform=\"rotate(-90,42,240)\" x=\"42\" y=\"240\" text-anchor=\"middle\" style=\"font-family: 'Open Sans', verdana, arial, sans-serif; font-size: 14px; fill: rgb(68, 68, 68); opacity: 1; font-weight: normal; white-space: pre;\">sum of Weekly_Sales</text></g></g></svg>"
     },
     "metadata": {},
     "output_type": "display_data"
    }
   ],
   "source": [
    "#Weekly sales over Temperature\n",
    "s_temp = px.histogram(w_sales, x='Temperature', y='Weekly_Sales', nbins=37)\n",
    "s_temp.show()"
   ]
  },
  {
   "cell_type": "code",
   "execution_count": 16,
   "id": "635d39dd",
   "metadata": {
    "tags": []
   },
   "outputs": [
    {
     "data": {
      "text/plain": [
       "<seaborn.axisgrid.FacetGrid at 0x269087f9250>"
      ]
     },
     "execution_count": 16,
     "metadata": {},
     "output_type": "execute_result"
    },
    {
     "data": {
      "image/png": "[encoded data removed]",
      "text/plain": [
       "<Figure size 360x360 with 1 Axes>"
      ]
     },
     "metadata": {
      "needs_background": "light"
     },
     "output_type": "display_data"
    }
   ],
   "source": [
    "sns.relplot(\n",
    "    data=w_sales, x=\"Temperature\", y=\"Weekly_Sales\",\n",
    "    kind=\"line\",\n",
    ")"
   ]
  },
  {
   "cell_type": "code",
   "execution_count": 17,
   "id": "f8523007",
   "metadata": {
    "tags": []
   },
   "outputs": [
    {
     "data": {
      "image/svg+xml": "<svg class=\"main-svg\" xmlns=\"http://www.w3.org/2000/svg\" xmlns:xlink=\"http://www.w3.org/1999/xlink\" width=\"700\" height=\"500\" style=\"\" viewBox=\"0 0 700 500\"><rect x=\"0\" y=\"0\" width=\"700\" height=\"500\" style=\"fill: rgb(255, 255, 255); fill-opacity: 1;\"/><defs id=\"defs-82884c\"><g class=\"clips\"><clipPath id=\"clip82884cxyplot\" class=\"plotclip\"><rect width=\"540\" height=\"360\"/></clipPath><clipPath class=\"axesclip\" id=\"clip82884cx\"><rect x=\"80\" y=\"0\" width=\"540\" height=\"500\"/></clipPath><clipPath class=\"axesclip\" id=\"clip82884cy\"><rect x=\"0\" y=\"60\" width=\"700\" height=\"360\"/></clipPath><clipPath class=\"axesclip\" id=\"clip82884cxy\"><rect x=\"80\" y=\"60\" width=\"540\" height=\"360\"/></clipPath></g><g class=\"gradients\"/><g class=\"patterns\"/></defs><g class=\"bglayer\"/><g class=\"layer-below\"><g class=\"imagelayer\"/><g class=\"shapelayer\"/></g><g class=\"cartesianlayer\"><g class=\"subplot xy\"><g class=\"layer-subplot\"><g class=\"shapelayer\"/><g class=\"imagelayer\"/></g><g class=\"gridlayer\"><g class=\"x\"/><g class=\"y\"><path class=\"ygrid crisp\" transform=\"translate(0,375.02)\" d=\"M80,0h540\" style=\"stroke: rgb(238, 238, 238); stroke-opacity: 1; stroke-width: 1px;\"/><path class=\"ygrid crisp\" transform=\"translate(0,330.04)\" d=\"M80,0h540\" style=\"stroke: rgb(238, 238, 238); stroke-opacity: 1; stroke-width: 1px;\"/><path class=\"ygrid crisp\" transform=\"translate(0,285.07)\" d=\"M80,0h540\" style=\"stroke: rgb(238, 238, 238); stroke-opacity: 1; stroke-width: 1px;\"/><path class=\"ygrid crisp\" transform=\"translate(0,240.09)\" d=\"M80,0h540\" style=\"stroke: rgb(238, 238, 238); stroke-opacity: 1; stroke-width: 1px;\"/><path class=\"ygrid crisp\" transform=\"translate(0,195.11)\" d=\"M80,0h540\" style=\"stroke: rgb(238, 238, 238); stroke-opacity: 1; stroke-width: 1px;\"/><path class=\"ygrid crisp\" transform=\"translate(0,150.13)\" d=\"M80,0h540\" style=\"stroke: rgb(238, 238, 238); stroke-opacity: 1; stroke-width: 1px;\"/><path class=\"ygrid crisp\" transform=\"translate(0,105.16)\" d=\"M80,0h540\" style=\"stroke: rgb(238, 238, 238); stroke-opacity: 1; stroke-width: 1px;\"/></g></g><g class=\"zerolinelayer\"><path class=\"yzl zl crisp\" transform=\"translate(0,420)\" d=\"M80,0h540\" style=\"stroke: rgb(68, 68, 68); stroke-opacity: 1; stroke-width: 1px;\"/></g><path class=\"xlines-below\"/><path class=\"ylines-below\"/><g class=\"overlines-below\"/><g class=\"xaxislayer-below\"/><g class=\"yaxislayer-below\"/><g class=\"overaxes-below\"/><g class=\"plot\" transform=\"translate(80,60)\" clip-path=\"url(#clip82884cxyplot)\"><g class=\"barlayer mlayer\"><g class=\"trace bars\" shape-rendering=\"crispEdges\" style=\"opacity: 1;\"><g class=\"points\"><g class=\"point\"><path d=\"M0,360V305.49H60V360Z\" style=\"vector-effect: non-scaling-stroke; opacity: 1; stroke-width: 0px; fill: rgb(75, 154, 199); fill-opacity: 1;\"/></g><g class=\"point\"><path d=\"M60,360V157.62H120V360Z\" style=\"vector-effect: non-scaling-stroke; opacity: 1; stroke-width: 0px; fill: rgb(75, 154, 199); fill-opacity: 1;\"/></g><g class=\"point\"><path d=\"M120,360V138.87H180V360Z\" style=\"vector-effect: non-scaling-stroke; opacity: 1; stroke-width: 0px; fill: rgb(75, 154, 199); fill-opacity: 1;\"/></g><g class=\"point\"><path d=\"M180,360V220.61H240V360Z\" style=\"vector-effect: non-scaling-stroke; opacity: 1; stroke-width: 0px; fill: rgb(75, 154, 199); fill-opacity: 1;\"/></g><g class=\"point\"><path d=\"M240,360V301.98H300V360Z\" style=\"vector-effect: non-scaling-stroke; opacity: 1; stroke-width: 0px; fill: rgb(75, 154, 199); fill-opacity: 1;\"/></g><g class=\"point\"><path d=\"M300,360V182.19H360V360Z\" style=\"vector-effect: non-scaling-stroke; opacity: 1; stroke-width: 0px; fill: rgb(75, 154, 199); fill-opacity: 1;\"/></g><g class=\"point\"><path d=\"M360,360V18H420V360Z\" style=\"vector-effect: non-scaling-stroke; opacity: 1; stroke-width: 0px; fill: rgb(75, 154, 199); fill-opacity: 1;\"/></g><g class=\"point\"><path d=\"M420,360V278.35H480V360Z\" style=\"vector-effect: non-scaling-stroke; opacity: 1; stroke-width: 0px; fill: rgb(75, 154, 199); fill-opacity: 1;\"/></g><g class=\"point\"><path d=\"M480,360V269.66H540V360Z\" style=\"vector-effect: non-scaling-stroke; opacity: 1; stroke-width: 0px; fill: rgb(75, 154, 199); fill-opacity: 1;\"/></g></g></g></g></g><g class=\"overplot\"/><path class=\"xlines-above crisp\" d=\"M0,0\" style=\"fill: none;\"/><path class=\"ylines-above crisp\" d=\"M0,0\" style=\"fill: none;\"/><g class=\"overlines-above\"/><g class=\"xaxislayer-above\"><g class=\"xtick\"><text text-anchor=\"middle\" x=\"0\" y=\"433\" transform=\"translate(110,0)\" style=\"font-family: 'Open Sans', verdana, arial, sans-serif; font-size: 12px; fill: rgb(68, 68, 68); fill-opacity: 1; white-space: pre; opacity: 1;\">2.5</text></g><g class=\"xtick\"><text text-anchor=\"middle\" x=\"0\" y=\"433\" style=\"font-family: 'Open Sans', verdana, arial, sans-serif; font-size: 12px; fill: rgb(68, 68, 68); fill-opacity: 1; white-space: pre; opacity: 1;\" transform=\"translate(260,0)\">3</text></g><g class=\"xtick\"><text text-anchor=\"middle\" x=\"0\" y=\"433\" style=\"font-family: 'Open Sans', verdana, arial, sans-serif; font-size: 12px; fill: rgb(68, 68, 68); fill-opacity: 1; white-space: pre; opacity: 1;\" transform=\"translate(410,0)\">3.5</text></g><g class=\"xtick\"><text text-anchor=\"middle\" x=\"0\" y=\"433\" style=\"font-family: 'Open Sans', verdana, arial, sans-serif; font-size: 12px; fill: rgb(68, 68, 68); fill-opacity: 1; white-space: pre; opacity: 1;\" transform=\"translate(560,0)\">4</text></g></g><g class=\"yaxislayer-above\"><g class=\"ytick\"><text text-anchor=\"end\" x=\"79\" y=\"4.199999999999999\" transform=\"translate(0,420)\" style=\"font-family: 'Open Sans', verdana, arial, sans-serif; font-size: 12px; fill: rgb(68, 68, 68); fill-opacity: 1; white-space: pre; opacity: 1;\">0</text></g><g class=\"ytick\"><text text-anchor=\"end\" x=\"79\" y=\"4.199999999999999\" style=\"font-family: 'Open Sans', verdana, arial, sans-serif; font-size: 12px; fill: rgb(68, 68, 68); fill-opacity: 1; white-space: pre; opacity: 1;\" transform=\"translate(0,375.02)\">5M</text></g><g class=\"ytick\"><text text-anchor=\"end\" x=\"79\" y=\"4.199999999999999\" style=\"font-family: 'Open Sans', verdana, arial, sans-serif; font-size: 12px; fill: rgb(68, 68, 68); fill-opacity: 1; white-space: pre; opacity: 1;\" transform=\"translate(0,330.04)\">10M</text></g><g class=\"ytick\"><text text-anchor=\"end\" x=\"79\" y=\"4.199999999999999\" style=\"font-family: 'Open Sans', verdana, arial, sans-serif; font-size: 12px; fill: rgb(68, 68, 68); fill-opacity: 1; white-space: pre; opacity: 1;\" transform=\"translate(0,285.07)\">15M</text></g><g class=\"ytick\"><text text-anchor=\"end\" x=\"79\" y=\"4.199999999999999\" style=\"font-family: 'Open Sans', verdana, arial, sans-serif; font-size: 12px; fill: rgb(68, 68, 68); fill-opacity: 1; white-space: pre; opacity: 1;\" transform=\"translate(0,240.09)\">20M</text></g><g class=\"ytick\"><text text-anchor=\"end\" x=\"79\" y=\"4.199999999999999\" style=\"font-family: 'Open Sans', verdana, arial, sans-serif; font-size: 12px; fill: rgb(68, 68, 68); fill-opacity: 1; white-space: pre; opacity: 1;\" transform=\"translate(0,195.11)\">25M</text></g><g class=\"ytick\"><text text-anchor=\"end\" x=\"79\" y=\"4.199999999999999\" style=\"font-family: 'Open Sans', verdana, arial, sans-serif; font-size: 12px; fill: rgb(68, 68, 68); fill-opacity: 1; white-space: pre; opacity: 1;\" transform=\"translate(0,150.13)\">30M</text></g><g class=\"ytick\"><text text-anchor=\"end\" x=\"79\" y=\"4.199999999999999\" style=\"font-family: 'Open Sans', verdana, arial, sans-serif; font-size: 12px; fill: rgb(68, 68, 68); fill-opacity: 1; white-space: pre; opacity: 1;\" transform=\"translate(0,105.16)\">35M</text></g><g class=\"ytick\"><text text-anchor=\"end\" x=\"79\" y=\"4.199999999999999\" style=\"font-family: 'Open Sans', verdana, arial, sans-serif; font-size: 12px; fill: rgb(68, 68, 68); fill-opacity: 1; white-space: pre; opacity: 1;\" transform=\"translate(0,60.18)\">40M</text></g></g><g class=\"overaxes-above\"/></g></g><g class=\"polarlayer\"/><g class=\"smithlayer\"/><g class=\"ternarylayer\"/><g class=\"geolayer\"/><g class=\"funnelarealayer\"/><g class=\"pielayer\"/><g class=\"iciclelayer\"/><g class=\"treemaplayer\"/><g class=\"sunburstlayer\"/><g class=\"glimages\"/><defs id=\"topdefs-82884c\"><g class=\"clips\"/></defs><g class=\"layer-above\"><g class=\"imagelayer\"/><g class=\"shapelayer\"/></g><g class=\"infolayer\"><g class=\"g-gtitle\"/><g class=\"g-xtitle\"><text class=\"xtitle\" x=\"350\" y=\"472\" text-anchor=\"middle\" style=\"font-family: 'Open Sans', verdana, arial, sans-serif; font-size: 14px; fill: rgb(68, 68, 68); opacity: 1; font-weight: normal; white-space: pre;\">Fuel_Price</text></g><g class=\"g-ytitle\"><text class=\"ytitle\" transform=\"rotate(-90,42,240)\" x=\"42\" y=\"240\" text-anchor=\"middle\" style=\"font-family: 'Open Sans', verdana, arial, sans-serif; font-size: 14px; fill: rgb(68, 68, 68); opacity: 1; font-weight: normal; white-space: pre;\">sum of Weekly_Sales</text></g></g></svg>"
     },
     "metadata": {},
     "output_type": "display_data"
    }
   ],
   "source": [
    "#Weekly sales over Fuel price\n",
    "s_fuel = px.histogram(w_sales, x='Fuel_Price', y='Weekly_Sales')\n",
    "s_fuel.show()"
   ]
  },
  {
   "cell_type": "code",
   "execution_count": 18,
   "id": "be8049df",
   "metadata": {
    "tags": []
   },
   "outputs": [
    {
     "data": {
      "text/plain": [
       "<seaborn.axisgrid.FacetGrid at 0x26909bd2b50>"
      ]
     },
     "execution_count": 18,
     "metadata": {},
     "output_type": "execute_result"
    },
    {
     "data": {
      "image/png": "[encoded data removed]",
      "text/plain": [
       "<Figure size 360x360 with 1 Axes>"
      ]
     },
     "metadata": {
      "needs_background": "light"
     },
     "output_type": "display_data"
    }
   ],
   "source": [
    "sns.relplot(\n",
    "    data=w_sales, x=\"Fuel_Price\", y=\"Weekly_Sales\",\n",
    "    kind=\"line\",\n",
    ")"
   ]
  },
  {
   "cell_type": "code",
   "execution_count": 19,
   "id": "3edd5bd5",
   "metadata": {
    "tags": []
   },
   "outputs": [
    {
     "data": {
      "text/plain": [
       "array([[ 1.  ,  0.12, -0.03, -0.26,  0.18, -0.59,  0.22],\n",
       "       [ 0.12,  1.  ,  0.04, -0.17, -0.02, -0.29,  0.06],\n",
       "       [-0.03,  0.04,  1.  , -0.19, -0.12,  0.17,  0.1 ],\n",
       "       [-0.26, -0.17, -0.19,  1.  ,  0.05,  0.14, -0.03],\n",
       "       [ 0.18, -0.02, -0.12,  0.05,  1.  , -0.16,  0.09],\n",
       "       [-0.59, -0.29,  0.17,  0.14, -0.16,  1.  , -0.35],\n",
       "       [ 0.22,  0.06,  0.1 , -0.03,  0.09, -0.35,  1.  ]])"
      ]
     },
     "execution_count": 19,
     "metadata": {},
     "output_type": "execute_result"
    }
   ],
   "source": [
    "w_sales.corr().values.round(2)"
   ]
  },
  {
   "cell_type": "code",
   "execution_count": 20,
   "id": "53a3c511",
   "metadata": {
    "tags": []
   },
   "outputs": [
    {
     "data": {
      "image/svg+xml": "<svg class=\"main-svg\" xmlns=\"http://www.w3.org/2000/svg\" xmlns:xlink=\"http://www.w3.org/1999/xlink\" width=\"700\" height=\"500\" style=\"\" viewBox=\"0 0 700 500\"><rect x=\"0\" y=\"0\" width=\"700\" height=\"500\" style=\"fill: rgb(255, 255, 255); fill-opacity: 1;\"/><defs id=\"defs-b29e68\"><g class=\"clips\"><clipPath id=\"clipb29e68xyplot\" class=\"plotclip\"><rect width=\"540\" height=\"320\"/></clipPath><clipPath class=\"axesclip\" id=\"clipb29e68x\"><rect x=\"80\" y=\"0\" width=\"540\" height=\"500\"/></clipPath><clipPath class=\"axesclip\" id=\"clipb29e68y\"><rect x=\"0\" y=\"100\" width=\"700\" height=\"320\"/></clipPath><clipPath class=\"axesclip\" id=\"clipb29e68xy\"><rect x=\"80\" y=\"100\" width=\"540\" height=\"320\"/></clipPath></g><g class=\"gradients\"/><g class=\"patterns\"/></defs><g class=\"bglayer\"/><g class=\"layer-below\"><g class=\"imagelayer\"/><g class=\"shapelayer\"/></g><g class=\"cartesianlayer\"><g class=\"subplot xy\"><g class=\"layer-subplot\"><g class=\"shapelayer\"/><g class=\"imagelayer\"/></g><g class=\"gridlayer\"><g class=\"x\"><path class=\"xgrid crisp\" transform=\"translate(118.57,0)\" d=\"M0,100v320\" style=\"stroke: rgb(0, 0, 0); stroke-opacity: 1; stroke-width: 1px;\"/><path class=\"xgrid crisp\" transform=\"translate(195.70999999999998,0)\" d=\"M0,100v320\" style=\"stroke: rgb(0, 0, 0); stroke-opacity: 1; stroke-width: 1px;\"/><path class=\"xgrid crisp\" transform=\"translate(272.86,0)\" d=\"M0,100v320\" style=\"stroke: rgb(0, 0, 0); stroke-opacity: 1; stroke-width: 1px;\"/><path class=\"xgrid crisp\" transform=\"translate(350,0)\" d=\"M0,100v320\" style=\"stroke: rgb(0, 0, 0); stroke-opacity: 1; stroke-width: 1px;\"/><path class=\"xgrid crisp\" transform=\"translate(427.14,0)\" d=\"M0,100v320\" style=\"stroke: rgb(0, 0, 0); stroke-opacity: 1; stroke-width: 1px;\"/><path class=\"xgrid crisp\" transform=\"translate(504.29,0)\" d=\"M0,100v320\" style=\"stroke: rgb(0, 0, 0); stroke-opacity: 1; stroke-width: 1px;\"/><path class=\"xgrid crisp\" transform=\"translate(581.4300000000001,0)\" d=\"M0,100v320\" style=\"stroke: rgb(0, 0, 0); stroke-opacity: 1; stroke-width: 1px;\"/></g><g class=\"y\"><path class=\"ygrid crisp\" transform=\"translate(0,397.14)\" d=\"M80,0h540\" style=\"stroke: rgb(238, 238, 238); stroke-opacity: 1; stroke-width: 1px;\"/><path class=\"ygrid crisp\" transform=\"translate(0,351.43)\" d=\"M80,0h540\" style=\"stroke: rgb(238, 238, 238); stroke-opacity: 1; stroke-width: 1px;\"/><path class=\"ygrid crisp\" transform=\"translate(0,305.71000000000004)\" d=\"M80,0h540\" style=\"stroke: rgb(238, 238, 238); stroke-opacity: 1; stroke-width: 1px;\"/><path class=\"ygrid crisp\" transform=\"translate(0,260)\" d=\"M80,0h540\" style=\"stroke: rgb(238, 238, 238); stroke-opacity: 1; stroke-width: 1px;\"/><path class=\"ygrid crisp\" transform=\"translate(0,214.29000000000002)\" d=\"M80,0h540\" style=\"stroke: rgb(238, 238, 238); stroke-opacity: 1; stroke-width: 1px;\"/><path class=\"ygrid crisp\" transform=\"translate(0,168.57)\" d=\"M80,0h540\" style=\"stroke: rgb(238, 238, 238); stroke-opacity: 1; stroke-width: 1px;\"/><path class=\"ygrid crisp\" transform=\"translate(0,122.86)\" d=\"M80,0h540\" style=\"stroke: rgb(238, 238, 238); stroke-opacity: 1; stroke-width: 1px;\"/></g></g><g class=\"zerolinelayer\"/><path class=\"xlines-below\"/><path class=\"ylines-below\"/><g class=\"overlines-below\"/><g class=\"xaxislayer-below\"/><g class=\"yaxislayer-below\"/><g class=\"overaxes-below\"/><g class=\"plot\" transform=\"translate(80,100)\" clip-path=\"url(#clipb29e68xyplot)\"><g class=\"heatmaplayer mlayer\"><g class=\"hm\"><image xmlns=\"http://www.w3.org/2000/svg\" preserveAspectRatio=\"none\" height=\"320\" width=\"540\" x=\"0\" y=\"0\" xlink:href=\"data:image/png;base64,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\" style=\"opacity: 1;\"/></g></g></g><g class=\"overplot\"/><path class=\"xlines-above crisp\" d=\"M0,0\" style=\"fill: none;\"/><path class=\"ylines-above crisp\" d=\"M0,0\" style=\"fill: none;\"/><g class=\"overlines-above\"/><g class=\"xaxislayer-above\"><g class=\"xtick\"><text text-anchor=\"end\" x=\"0\" y=\"96.6\" transform=\"translate(118.57,0) rotate(30,0,90.6)\" style=\"font-family: 'Open Sans', verdana, arial, sans-serif; font-size: 12px; fill: rgb(68, 68, 68); fill-opacity: 1; white-space: pre; opacity: 1;\">Store</text></g><g class=\"xtick\"><text text-anchor=\"end\" x=\"0\" y=\"96.6\" transform=\"translate(195.70999999999998,0) rotate(30,0,90.6)\" style=\"font-family: 'Open Sans', verdana, arial, sans-serif; font-size: 12px; fill: rgb(68, 68, 68); fill-opacity: 1; white-space: pre; opacity: 1;\">Weekly_Sales</text></g><g class=\"xtick\"><text text-anchor=\"end\" x=\"0\" y=\"96.6\" transform=\"translate(272.86,0) rotate(30,0,90.6)\" style=\"font-family: 'Open Sans', verdana, arial, sans-serif; font-size: 12px; fill: rgb(68, 68, 68); fill-opacity: 1; white-space: pre; opacity: 1;\">Holiday_Flag</text></g><g class=\"xtick\"><text text-anchor=\"end\" x=\"0\" y=\"96.6\" transform=\"translate(350,0) rotate(30,0,90.6)\" style=\"font-family: 'Open Sans', verdana, arial, sans-serif; font-size: 12px; fill: rgb(68, 68, 68); fill-opacity: 1; white-space: pre; opacity: 1;\">Temperature</text></g><g class=\"xtick\"><text text-anchor=\"end\" x=\"0\" y=\"96.6\" transform=\"translate(427.14,0) rotate(30,0,90.6)\" style=\"font-family: 'Open Sans', verdana, arial, sans-serif; font-size: 12px; fill: rgb(68, 68, 68); fill-opacity: 1; white-space: pre; opacity: 1;\">Fuel_Price</text></g><g class=\"xtick\"><text text-anchor=\"end\" x=\"0\" y=\"96.6\" transform=\"translate(504.29,0) rotate(30,0,90.6)\" style=\"font-family: 'Open Sans', verdana, arial, sans-serif; font-size: 12px; fill: rgb(68, 68, 68); fill-opacity: 1; white-space: pre; opacity: 1;\">CPI</text></g><g class=\"xtick\"><text text-anchor=\"end\" x=\"0\" y=\"96.6\" transform=\"translate(581.4300000000001,0) rotate(30,0,90.6)\" style=\"font-family: 'Open Sans', verdana, arial, sans-serif; font-size: 12px; fill: rgb(68, 68, 68); fill-opacity: 1; white-space: pre; opacity: 1;\">Unemployment</text></g></g><g class=\"yaxislayer-above\"><g class=\"ytick\"><text text-anchor=\"end\" x=\"79\" y=\"4.199999999999999\" transform=\"translate(0,397.14)\" style=\"font-family: 'Open Sans', verdana, arial, sans-serif; font-size: 12px; fill: rgb(68, 68, 68); fill-opacity: 1; white-space: pre; opacity: 1;\">Store  </text></g><g class=\"ytick\"><text text-anchor=\"end\" x=\"79\" y=\"4.199999999999999\" transform=\"translate(0,351.43)\" style=\"font-family: 'Open Sans', verdana, arial, sans-serif; font-size: 12px; fill: rgb(68, 68, 68); fill-opacity: 1; white-space: pre; opacity: 1;\">Weekly_Sales  </text></g><g class=\"ytick\"><text text-anchor=\"end\" x=\"79\" y=\"4.199999999999999\" transform=\"translate(0,305.71000000000004)\" style=\"font-family: 'Open Sans', verdana, arial, sans-serif; font-size: 12px; fill: rgb(68, 68, 68); fill-opacity: 1; white-space: pre; opacity: 1;\">Holiday_Flag  </text></g><g class=\"ytick\"><text text-anchor=\"end\" x=\"79\" y=\"4.199999999999999\" transform=\"translate(0,260)\" style=\"font-family: 'Open Sans', verdana, arial, sans-serif; font-size: 12px; fill: rgb(68, 68, 68); fill-opacity: 1; white-space: pre; opacity: 1;\">Temperature  </text></g><g class=\"ytick\"><text text-anchor=\"end\" x=\"79\" y=\"4.199999999999999\" transform=\"translate(0,214.29000000000002)\" style=\"font-family: 'Open Sans', verdana, arial, sans-serif; font-size: 12px; fill: rgb(68, 68, 68); fill-opacity: 1; white-space: pre; opacity: 1;\">Fuel_Price  </text></g><g class=\"ytick\"><text text-anchor=\"end\" x=\"79\" y=\"4.199999999999999\" transform=\"translate(0,168.57)\" style=\"font-family: 'Open Sans', verdana, arial, sans-serif; font-size: 12px; fill: rgb(68, 68, 68); fill-opacity: 1; white-space: pre; opacity: 1;\">CPI  </text></g><g class=\"ytick\"><text text-anchor=\"end\" x=\"79\" y=\"4.199999999999999\" transform=\"translate(0,122.86)\" style=\"font-family: 'Open Sans', verdana, arial, sans-serif; font-size: 12px; fill: rgb(68, 68, 68); fill-opacity: 1; white-space: pre; opacity: 1;\">Unemployment  </text></g></g><g class=\"overaxes-above\"/></g></g><g class=\"polarlayer\"/><g class=\"smithlayer\"/><g class=\"ternarylayer\"/><g class=\"geolayer\"/><g class=\"funnelarealayer\"/><g class=\"pielayer\"/><g class=\"iciclelayer\"/><g class=\"treemaplayer\"/><g class=\"sunburstlayer\"/><g class=\"glimages\"/><defs id=\"topdefs-b29e68\"><g class=\"clips\"/></defs><g class=\"layer-above\"><g class=\"imagelayer\"/><g class=\"shapelayer\"/></g><g class=\"infolayer\"><g class=\"g-gtitle\"/><g class=\"g-xtitle\"/><g class=\"g-ytitle\"/><g class=\"annotation\" data-index=\"0\" style=\"opacity: 1;\"><g class=\"annotation-text-g\" transform=\"rotate(0,118.57,397.14)\"><g class=\"cursor-pointer\" transform=\"translate(107,388)\"><rect class=\"bg\" x=\"0.5\" y=\"0.5\" width=\"23\" height=\"18\" style=\"stroke-width: 1px; stroke: rgb(0, 0, 0); stroke-opacity: 0; fill: rgb(0, 0, 0); fill-opacity: 0;\"/><text class=\"annotation-text\" text-anchor=\"middle\" x=\"11.8125\" y=\"14\" style=\"font-family: 'Open Sans', verdana, arial, sans-serif; font-size: 12px; fill: rgb(0, 0, 0); fill-opacity: 1; white-space: pre;\">1.0</text></g></g></g><g class=\"annotation\" data-index=\"1\" style=\"opacity: 1;\"><g class=\"annotation-text-g\" transform=\"rotate(0,195.70999999999998,397.14)\"><g class=\"cursor-pointer\" transform=\"translate(180,388)\"><rect class=\"bg\" x=\"0.5\" y=\"0.5\" width=\"31\" height=\"18\" style=\"stroke-width: 1px; stroke: rgb(0, 0, 0); stroke-opacity: 0; fill: rgb(0, 0, 0); fill-opacity: 0;\"/><text class=\"annotation-text\" text-anchor=\"middle\" x=\"15.640625\" y=\"14\" style=\"font-family: 'Open Sans', verdana, arial, sans-serif; font-size: 12px; fill: rgb(255, 255, 255); fill-opacity: 1; white-space: pre;\">0.12</text></g></g></g><g class=\"annotation\" data-index=\"2\" style=\"opacity: 1;\"><g class=\"annotation-text-g\" transform=\"rotate(0,272.86,397.14)\"><g class=\"cursor-pointer\" transform=\"translate(254,388)\"><rect class=\"bg\" x=\"0.5\" y=\"0.5\" width=\"36\" height=\"18\" style=\"stroke-width: 1px; stroke: rgb(0, 0, 0); stroke-opacity: 0; fill: rgb(0, 0, 0); fill-opacity: 0;\"/><text class=\"annotation-text\" text-anchor=\"middle\" x=\"18.359375\" y=\"14\" style=\"font-family: 'Open Sans', verdana, arial, sans-serif; font-size: 12px; fill: rgb(255, 255, 255); fill-opacity: 1; white-space: pre;\">-0.03</text></g></g></g><g class=\"annotation\" data-index=\"3\" style=\"opacity: 1;\"><g class=\"annotation-text-g\" transform=\"rotate(0,350,397.14)\"><g class=\"cursor-pointer\" transform=\"translate(332,388)\"><rect class=\"bg\" x=\"0.5\" y=\"0.5\" width=\"36\" height=\"18\" style=\"stroke-width: 1px; stroke: rgb(0, 0, 0); stroke-opacity: 0; fill: rgb(0, 0, 0); fill-opacity: 0;\"/><text class=\"annotation-text\" text-anchor=\"middle\" x=\"18.359375\" y=\"14\" style=\"font-family: 'Open Sans', verdana, arial, sans-serif; font-size: 12px; fill: rgb(255, 255, 255); fill-opacity: 1; white-space: pre;\">-0.26</text></g></g></g><g class=\"annotation\" data-index=\"4\" style=\"opacity: 1;\"><g class=\"annotation-text-g\" transform=\"rotate(0,427.14,397.14)\"><g class=\"cursor-pointer\" transform=\"translate(411,388)\"><rect class=\"bg\" x=\"0.5\" y=\"0.5\" width=\"31\" height=\"18\" style=\"stroke-width: 1px; stroke: rgb(0, 0, 0); stroke-opacity: 0; fill: rgb(0, 0, 0); fill-opacity: 0;\"/><text class=\"annotation-text\" text-anchor=\"middle\" x=\"15.640625\" y=\"14\" style=\"font-family: 'Open Sans', verdana, arial, sans-serif; font-size: 12px; fill: rgb(255, 255, 255); fill-opacity: 1; white-space: pre;\">0.18</text></g></g></g><g class=\"annotation\" data-index=\"5\" style=\"opacity: 1;\"><g class=\"annotation-text-g\" transform=\"rotate(0,504.29,397.14)\"><g class=\"cursor-pointer\" transform=\"translate(486,388)\"><rect class=\"bg\" x=\"0.5\" y=\"0.5\" width=\"36\" height=\"18\" style=\"stroke-width: 1px; stroke: rgb(0, 0, 0); stroke-opacity: 0; fill: rgb(0, 0, 0); fill-opacity: 0;\"/><text class=\"annotation-text\" text-anchor=\"middle\" x=\"18.359375\" y=\"14\" style=\"font-family: 'Open Sans', verdana, arial, sans-serif; font-size: 12px; fill: rgb(255, 255, 255); fill-opacity: 1; white-space: pre;\">-0.59</text></g></g></g><g class=\"annotation\" data-index=\"6\" style=\"opacity: 1;\"><g class=\"annotation-text-g\" transform=\"rotate(0,581.4300000000001,397.14)\"><g class=\"cursor-pointer\" transform=\"translate(565,388)\"><rect class=\"bg\" x=\"0.5\" y=\"0.5\" width=\"31\" height=\"18\" style=\"stroke-width: 1px; stroke: rgb(0, 0, 0); stroke-opacity: 0; fill: rgb(0, 0, 0); fill-opacity: 0;\"/><text class=\"annotation-text\" text-anchor=\"middle\" x=\"15.640625\" y=\"14\" style=\"font-family: 'Open Sans', verdana, arial, sans-serif; font-size: 12px; fill: rgb(0, 0, 0); fill-opacity: 1; white-space: pre;\">0.22</text></g></g></g><g class=\"annotation\" data-index=\"7\" style=\"opacity: 1;\"><g class=\"annotation-text-g\" transform=\"rotate(0,118.57,351.43)\"><g class=\"cursor-pointer\" transform=\"translate(103,342)\"><rect class=\"bg\" x=\"0.5\" y=\"0.5\" width=\"31\" height=\"18\" style=\"stroke-width: 1px; stroke: rgb(0, 0, 0); stroke-opacity: 0; fill: rgb(0, 0, 0); fill-opacity: 0;\"/><text class=\"annotation-text\" text-anchor=\"middle\" x=\"15.640625\" y=\"14\" style=\"font-family: 'Open Sans', verdana, arial, sans-serif; font-size: 12px; fill: rgb(255, 255, 255); fill-opacity: 1; white-space: pre;\">0.12</text></g></g></g><g class=\"annotation\" data-index=\"8\" style=\"opacity: 1;\"><g class=\"annotation-text-g\" transform=\"rotate(0,195.70999999999998,351.43)\"><g class=\"cursor-pointer\" transform=\"translate(184,342)\"><rect class=\"bg\" x=\"0.5\" y=\"0.5\" width=\"23\" height=\"18\" style=\"stroke-width: 1px; stroke: rgb(0, 0, 0); stroke-opacity: 0; fill: rgb(0, 0, 0); fill-opacity: 0;\"/><text class=\"annotation-text\" text-anchor=\"middle\" x=\"11.8125\" y=\"14\" style=\"font-family: 'Open Sans', verdana, arial, sans-serif; font-size: 12px; fill: rgb(0, 0, 0); fill-opacity: 1; white-space: pre;\">1.0</text></g></g></g><g class=\"annotation\" data-index=\"9\" style=\"opacity: 1;\"><g class=\"annotation-text-g\" transform=\"rotate(0,272.86,351.43)\"><g class=\"cursor-pointer\" transform=\"translate(257,342)\"><rect class=\"bg\" x=\"0.5\" y=\"0.5\" width=\"31\" height=\"18\" style=\"stroke-width: 1px; stroke: rgb(0, 0, 0); stroke-opacity: 0; fill: rgb(0, 0, 0); fill-opacity: 0;\"/><text class=\"annotation-text\" text-anchor=\"middle\" x=\"15.640625\" y=\"14\" style=\"font-family: 'Open Sans', verdana, arial, sans-serif; font-size: 12px; fill: rgb(255, 255, 255); fill-opacity: 1; white-space: pre;\">0.04</text></g></g></g><g class=\"annotation\" data-index=\"10\" style=\"opacity: 1;\"><g class=\"annotation-text-g\" transform=\"rotate(0,350,351.43)\"><g class=\"cursor-pointer\" transform=\"translate(332,342)\"><rect class=\"bg\" x=\"0.5\" y=\"0.5\" width=\"36\" height=\"18\" style=\"stroke-width: 1px; stroke: rgb(0, 0, 0); stroke-opacity: 0; fill: rgb(0, 0, 0); fill-opacity: 0;\"/><text class=\"annotation-text\" text-anchor=\"middle\" x=\"18.359375\" y=\"14\" style=\"font-family: 'Open Sans', verdana, arial, sans-serif; font-size: 12px; fill: rgb(255, 255, 255); fill-opacity: 1; white-space: pre;\">-0.17</text></g></g></g><g class=\"annotation\" data-index=\"11\" style=\"opacity: 1;\"><g class=\"annotation-text-g\" transform=\"rotate(0,427.14,351.43)\"><g class=\"cursor-pointer\" transform=\"translate(409,342)\"><rect class=\"bg\" x=\"0.5\" y=\"0.5\" width=\"36\" height=\"18\" style=\"stroke-width: 1px; stroke: rgb(0, 0, 0); stroke-opacity: 0; fill: rgb(0, 0, 0); fill-opacity: 0;\"/><text class=\"annotation-text\" text-anchor=\"middle\" x=\"18.359375\" y=\"14\" style=\"font-family: 'Open Sans', verdana, arial, sans-serif; font-size: 12px; fill: rgb(255, 255, 255); fill-opacity: 1; white-space: pre;\">-0.02</text></g></g></g><g class=\"annotation\" data-index=\"12\" style=\"opacity: 1;\"><g class=\"annotation-text-g\" transform=\"rotate(0,504.29,351.43)\"><g class=\"cursor-pointer\" transform=\"translate(486,342)\"><rect class=\"bg\" x=\"0.5\" y=\"0.5\" width=\"36\" height=\"18\" style=\"stroke-width: 1px; stroke: rgb(0, 0, 0); stroke-opacity: 0; fill: rgb(0, 0, 0); fill-opacity: 0;\"/><text class=\"annotation-text\" text-anchor=\"middle\" x=\"18.359375\" y=\"14\" style=\"font-family: 'Open Sans', verdana, arial, sans-serif; font-size: 12px; fill: rgb(255, 255, 255); fill-opacity: 1; white-space: pre;\">-0.29</text></g></g></g><g class=\"annotation\" data-index=\"13\" style=\"opacity: 1;\"><g class=\"annotation-text-g\" transform=\"rotate(0,581.4300000000001,351.43)\"><g class=\"cursor-pointer\" transform=\"translate(565,342)\"><rect class=\"bg\" x=\"0.5\" y=\"0.5\" width=\"31\" height=\"18\" style=\"stroke-width: 1px; stroke: rgb(0, 0, 0); stroke-opacity: 0; fill: rgb(0, 0, 0); fill-opacity: 0;\"/><text class=\"annotation-text\" text-anchor=\"middle\" x=\"15.640625\" y=\"14\" style=\"font-family: 'Open Sans', verdana, arial, sans-serif; font-size: 12px; fill: rgb(255, 255, 255); fill-opacity: 1; white-space: pre;\">0.06</text></g></g></g><g class=\"annotation\" data-index=\"14\" style=\"opacity: 1;\"><g class=\"annotation-text-g\" transform=\"rotate(0,118.57,305.71000000000004)\"><g class=\"cursor-pointer\" transform=\"translate(100,296)\"><rect class=\"bg\" x=\"0.5\" y=\"0.5\" width=\"36\" height=\"18\" style=\"stroke-width: 1px; stroke: rgb(0, 0, 0); stroke-opacity: 0; fill: rgb(0, 0, 0); fill-opacity: 0;\"/><text class=\"annotation-text\" text-anchor=\"middle\" x=\"18.359375\" y=\"14\" style=\"font-family: 'Open Sans', verdana, arial, sans-serif; font-size: 12px; fill: rgb(255, 255, 255); fill-opacity: 1; white-space: pre;\">-0.03</text></g></g></g><g class=\"annotation\" data-index=\"15\" style=\"opacity: 1;\"><g class=\"annotation-text-g\" transform=\"rotate(0,195.70999999999998,305.71000000000004)\"><g class=\"cursor-pointer\" transform=\"translate(180,296)\"><rect class=\"bg\" x=\"0.5\" y=\"0.5\" width=\"31\" height=\"18\" style=\"stroke-width: 1px; stroke: rgb(0, 0, 0); stroke-opacity: 0; fill: rgb(0, 0, 0); fill-opacity: 0;\"/><text class=\"annotation-text\" text-anchor=\"middle\" x=\"15.640625\" y=\"14\" style=\"font-family: 'Open Sans', verdana, arial, sans-serif; font-size: 12px; fill: rgb(255, 255, 255); fill-opacity: 1; white-space: pre;\">0.04</text></g></g></g><g class=\"annotation\" data-index=\"16\" style=\"opacity: 1;\"><g class=\"annotation-text-g\" transform=\"rotate(0,272.86,305.71000000000004)\"><g class=\"cursor-pointer\" transform=\"translate(261,296)\"><rect class=\"bg\" x=\"0.5\" y=\"0.5\" width=\"23\" height=\"18\" style=\"stroke-width: 1px; stroke: rgb(0, 0, 0); stroke-opacity: 0; fill: rgb(0, 0, 0); fill-opacity: 0;\"/><text class=\"annotation-text\" text-anchor=\"middle\" x=\"11.8125\" y=\"14\" style=\"font-family: 'Open Sans', verdana, arial, sans-serif; font-size: 12px; fill: rgb(0, 0, 0); fill-opacity: 1; white-space: pre;\">1.0</text></g></g></g><g class=\"annotation\" data-index=\"17\" style=\"opacity: 1;\"><g class=\"annotation-text-g\" transform=\"rotate(0,350,305.71000000000004)\"><g class=\"cursor-pointer\" transform=\"translate(332,296)\"><rect class=\"bg\" x=\"0.5\" y=\"0.5\" width=\"36\" height=\"18\" style=\"stroke-width: 1px; stroke: rgb(0, 0, 0); stroke-opacity: 0; fill: rgb(0, 0, 0); fill-opacity: 0;\"/><text class=\"annotation-text\" text-anchor=\"middle\" x=\"18.359375\" y=\"14\" style=\"font-family: 'Open Sans', verdana, arial, sans-serif; font-size: 12px; fill: rgb(255, 255, 255); fill-opacity: 1; white-space: pre;\">-0.19</text></g></g></g><g class=\"annotation\" data-index=\"18\" style=\"opacity: 1;\"><g class=\"annotation-text-g\" transform=\"rotate(0,427.14,305.71000000000004)\"><g class=\"cursor-pointer\" transform=\"translate(409,296)\"><rect class=\"bg\" x=\"0.5\" y=\"0.5\" width=\"36\" height=\"18\" style=\"stroke-width: 1px; stroke: rgb(0, 0, 0); stroke-opacity: 0; fill: rgb(0, 0, 0); fill-opacity: 0;\"/><text class=\"annotation-text\" text-anchor=\"middle\" x=\"18.359375\" y=\"14\" style=\"font-family: 'Open Sans', verdana, arial, sans-serif; font-size: 12px; fill: rgb(255, 255, 255); fill-opacity: 1; white-space: pre;\">-0.12</text></g></g></g><g class=\"annotation\" data-index=\"19\" style=\"opacity: 1;\"><g class=\"annotation-text-g\" transform=\"rotate(0,504.29,305.71000000000004)\"><g class=\"cursor-pointer\" transform=\"translate(488,296)\"><rect class=\"bg\" x=\"0.5\" y=\"0.5\" width=\"31\" height=\"18\" style=\"stroke-width: 1px; stroke: rgb(0, 0, 0); stroke-opacity: 0; fill: rgb(0, 0, 0); fill-opacity: 0;\"/><text class=\"annotation-text\" text-anchor=\"middle\" x=\"15.640625\" y=\"14\" style=\"font-family: 'Open Sans', verdana, arial, sans-serif; font-size: 12px; fill: rgb(255, 255, 255); fill-opacity: 1; white-space: pre;\">0.17</text></g></g></g><g class=\"annotation\" data-index=\"20\" style=\"opacity: 1;\"><g class=\"annotation-text-g\" transform=\"rotate(0,581.4300000000001,305.71000000000004)\"><g class=\"cursor-pointer\" transform=\"translate(569,296)\"><rect class=\"bg\" x=\"0.5\" y=\"0.5\" width=\"23\" height=\"18\" style=\"stroke-width: 1px; stroke: rgb(0, 0, 0); stroke-opacity: 0; fill: rgb(0, 0, 0); fill-opacity: 0;\"/><text class=\"annotation-text\" text-anchor=\"middle\" x=\"11.8125\" y=\"14\" style=\"font-family: 'Open Sans', verdana, arial, sans-serif; font-size: 12px; fill: rgb(255, 255, 255); fill-opacity: 1; white-space: pre;\">0.1</text></g></g></g><g class=\"annotation\" data-index=\"21\" style=\"opacity: 1;\"><g class=\"annotation-text-g\" transform=\"rotate(0,118.57,260)\"><g class=\"cursor-pointer\" transform=\"translate(100,251)\"><rect class=\"bg\" x=\"0.5\" y=\"0.5\" width=\"36\" height=\"18\" style=\"stroke-width: 1px; stroke: rgb(0, 0, 0); stroke-opacity: 0; fill: rgb(0, 0, 0); fill-opacity: 0;\"/><text class=\"annotation-text\" text-anchor=\"middle\" x=\"18.359375\" y=\"14\" style=\"font-family: 'Open Sans', verdana, arial, sans-serif; font-size: 12px; fill: rgb(255, 255, 255); fill-opacity: 1; white-space: pre;\">-0.26</text></g></g></g><g class=\"annotation\" data-index=\"22\" style=\"opacity: 1;\"><g class=\"annotation-text-g\" transform=\"rotate(0,195.70999999999998,260)\"><g class=\"cursor-pointer\" transform=\"translate(177,251)\"><rect class=\"bg\" x=\"0.5\" y=\"0.5\" width=\"36\" height=\"18\" style=\"stroke-width: 1px; stroke: rgb(0, 0, 0); stroke-opacity: 0; fill: rgb(0, 0, 0); fill-opacity: 0;\"/><text class=\"annotation-text\" text-anchor=\"middle\" x=\"18.359375\" y=\"14\" style=\"font-family: 'Open Sans', verdana, arial, sans-serif; font-size: 12px; fill: rgb(255, 255, 255); fill-opacity: 1; white-space: pre;\">-0.17</text></g></g></g><g class=\"annotation\" data-index=\"23\" style=\"opacity: 1;\"><g class=\"annotation-text-g\" transform=\"rotate(0,272.86,260)\"><g class=\"cursor-pointer\" transform=\"translate(254,251)\"><rect class=\"bg\" x=\"0.5\" y=\"0.5\" width=\"36\" height=\"18\" style=\"stroke-width: 1px; stroke: rgb(0, 0, 0); stroke-opacity: 0; fill: rgb(0, 0, 0); fill-opacity: 0;\"/><text class=\"annotation-text\" text-anchor=\"middle\" x=\"18.359375\" y=\"14\" style=\"font-family: 'Open Sans', verdana, arial, sans-serif; font-size: 12px; fill: rgb(255, 255, 255); fill-opacity: 1; white-space: pre;\">-0.19</text></g></g></g><g class=\"annotation\" data-index=\"24\" style=\"opacity: 1;\"><g class=\"annotation-text-g\" transform=\"rotate(0,350,260)\"><g class=\"cursor-pointer\" transform=\"translate(338,251)\"><rect class=\"bg\" x=\"0.5\" y=\"0.5\" width=\"23\" height=\"18\" style=\"stroke-width: 1px; stroke: rgb(0, 0, 0); stroke-opacity: 0; fill: rgb(0, 0, 0); fill-opacity: 0;\"/><text class=\"annotation-text\" text-anchor=\"middle\" x=\"11.8125\" y=\"14\" style=\"font-family: 'Open Sans', verdana, arial, sans-serif; font-size: 12px; fill: rgb(0, 0, 0); fill-opacity: 1; white-space: pre;\">1.0</text></g></g></g><g class=\"annotation\" data-index=\"25\" style=\"opacity: 1;\"><g class=\"annotation-text-g\" transform=\"rotate(0,427.14,260)\"><g class=\"cursor-pointer\" transform=\"translate(411,251)\"><rect class=\"bg\" x=\"0.5\" y=\"0.5\" width=\"31\" height=\"18\" style=\"stroke-width: 1px; stroke: rgb(0, 0, 0); stroke-opacity: 0; fill: rgb(0, 0, 0); fill-opacity: 0;\"/><text class=\"annotation-text\" text-anchor=\"middle\" x=\"15.640625\" y=\"14\" style=\"font-family: 'Open Sans', verdana, arial, sans-serif; font-size: 12px; fill: rgb(255, 255, 255); fill-opacity: 1; white-space: pre;\">0.05</text></g></g></g><g class=\"annotation\" data-index=\"26\" style=\"opacity: 1;\"><g class=\"annotation-text-g\" transform=\"rotate(0,504.29,260)\"><g class=\"cursor-pointer\" transform=\"translate(488,251)\"><rect class=\"bg\" x=\"0.5\" y=\"0.5\" width=\"31\" height=\"18\" style=\"stroke-width: 1px; stroke: rgb(0, 0, 0); stroke-opacity: 0; fill: rgb(0, 0, 0); fill-opacity: 0;\"/><text class=\"annotation-text\" text-anchor=\"middle\" x=\"15.640625\" y=\"14\" style=\"font-family: 'Open Sans', verdana, arial, sans-serif; font-size: 12px; fill: rgb(255, 255, 255); fill-opacity: 1; white-space: pre;\">0.14</text></g></g></g><g class=\"annotation\" data-index=\"27\" style=\"opacity: 1;\"><g class=\"annotation-text-g\" transform=\"rotate(0,581.4300000000001,260)\"><g class=\"cursor-pointer\" transform=\"translate(563,251)\"><rect class=\"bg\" x=\"0.5\" y=\"0.5\" width=\"36\" height=\"18\" style=\"stroke-width: 1px; stroke: rgb(0, 0, 0); stroke-opacity: 0; fill: rgb(0, 0, 0); fill-opacity: 0;\"/><text class=\"annotation-text\" text-anchor=\"middle\" x=\"18.359375\" y=\"14\" style=\"font-family: 'Open Sans', verdana, arial, sans-serif; font-size: 12px; fill: rgb(255, 255, 255); fill-opacity: 1; white-space: pre;\">-0.03</text></g></g></g><g class=\"annotation\" data-index=\"28\" style=\"opacity: 1;\"><g class=\"annotation-text-g\" transform=\"rotate(0,118.57,214.29000000000002)\"><g class=\"cursor-pointer\" transform=\"translate(103,205)\"><rect class=\"bg\" x=\"0.5\" y=\"0.5\" width=\"31\" height=\"18\" style=\"stroke-width: 1px; stroke: rgb(0, 0, 0); stroke-opacity: 0; fill: rgb(0, 0, 0); fill-opacity: 0;\"/><text class=\"annotation-text\" text-anchor=\"middle\" x=\"15.640625\" y=\"14\" style=\"font-family: 'Open Sans', verdana, arial, sans-serif; font-size: 12px; fill: rgb(255, 255, 255); fill-opacity: 1; white-space: pre;\">0.18</text></g></g></g><g class=\"annotation\" data-index=\"29\" style=\"opacity: 1;\"><g class=\"annotation-text-g\" transform=\"rotate(0,195.70999999999998,214.29000000000002)\"><g class=\"cursor-pointer\" transform=\"translate(177,205)\"><rect class=\"bg\" x=\"0.5\" y=\"0.5\" width=\"36\" height=\"18\" style=\"stroke-width: 1px; stroke: rgb(0, 0, 0); stroke-opacity: 0; fill: rgb(0, 0, 0); fill-opacity: 0;\"/><text class=\"annotation-text\" text-anchor=\"middle\" x=\"18.359375\" y=\"14\" style=\"font-family: 'Open Sans', verdana, arial, sans-serif; font-size: 12px; fill: rgb(255, 255, 255); fill-opacity: 1; white-space: pre;\">-0.02</text></g></g></g><g class=\"annotation\" data-index=\"30\" style=\"opacity: 1;\"><g class=\"annotation-text-g\" transform=\"rotate(0,272.86,214.29000000000002)\"><g class=\"cursor-pointer\" transform=\"translate(254,205)\"><rect class=\"bg\" x=\"0.5\" y=\"0.5\" width=\"36\" height=\"18\" style=\"stroke-width: 1px; stroke: rgb(0, 0, 0); stroke-opacity: 0; fill: rgb(0, 0, 0); fill-opacity: 0;\"/><text class=\"annotation-text\" text-anchor=\"middle\" x=\"18.359375\" y=\"14\" style=\"font-family: 'Open Sans', verdana, arial, sans-serif; font-size: 12px; fill: rgb(255, 255, 255); fill-opacity: 1; white-space: pre;\">-0.12</text></g></g></g><g class=\"annotation\" data-index=\"31\" style=\"opacity: 1;\"><g class=\"annotation-text-g\" transform=\"rotate(0,350,214.29000000000002)\"><g class=\"cursor-pointer\" transform=\"translate(334,205)\"><rect class=\"bg\" x=\"0.5\" y=\"0.5\" width=\"31\" height=\"18\" style=\"stroke-width: 1px; stroke: rgb(0, 0, 0); stroke-opacity: 0; fill: rgb(0, 0, 0); fill-opacity: 0;\"/><text class=\"annotation-text\" text-anchor=\"middle\" x=\"15.640625\" y=\"14\" style=\"font-family: 'Open Sans', verdana, arial, sans-serif; font-size: 12px; fill: rgb(255, 255, 255); fill-opacity: 1; white-space: pre;\">0.05</text></g></g></g><g class=\"annotation\" data-index=\"32\" style=\"opacity: 1;\"><g class=\"annotation-text-g\" transform=\"rotate(0,427.14,214.29000000000002)\"><g class=\"cursor-pointer\" transform=\"translate(415,205)\"><rect class=\"bg\" x=\"0.5\" y=\"0.5\" width=\"23\" height=\"18\" style=\"stroke-width: 1px; stroke: rgb(0, 0, 0); stroke-opacity: 0; fill: rgb(0, 0, 0); fill-opacity: 0;\"/><text class=\"annotation-text\" text-anchor=\"middle\" x=\"11.8125\" y=\"14\" style=\"font-family: 'Open Sans', verdana, arial, sans-serif; font-size: 12px; fill: rgb(0, 0, 0); fill-opacity: 1; white-space: pre;\">1.0</text></g></g></g><g class=\"annotation\" data-index=\"33\" style=\"opacity: 1;\"><g class=\"annotation-text-g\" transform=\"rotate(0,504.29,214.29000000000002)\"><g class=\"cursor-pointer\" transform=\"translate(486,205)\"><rect class=\"bg\" x=\"0.5\" y=\"0.5\" width=\"36\" height=\"18\" style=\"stroke-width: 1px; stroke: rgb(0, 0, 0); stroke-opacity: 0; fill: rgb(0, 0, 0); fill-opacity: 0;\"/><text class=\"annotation-text\" text-anchor=\"middle\" x=\"18.359375\" y=\"14\" style=\"font-family: 'Open Sans', verdana, arial, sans-serif; font-size: 12px; fill: rgb(255, 255, 255); fill-opacity: 1; white-space: pre;\">-0.16</text></g></g></g><g class=\"annotation\" data-index=\"34\" style=\"opacity: 1;\"><g class=\"annotation-text-g\" transform=\"rotate(0,581.4300000000001,214.29000000000002)\"><g class=\"cursor-pointer\" transform=\"translate(565,205)\"><rect class=\"bg\" x=\"0.5\" y=\"0.5\" width=\"31\" height=\"18\" style=\"stroke-width: 1px; stroke: rgb(0, 0, 0); stroke-opacity: 0; fill: rgb(0, 0, 0); fill-opacity: 0;\"/><text class=\"annotation-text\" text-anchor=\"middle\" x=\"15.640625\" y=\"14\" style=\"font-family: 'Open Sans', verdana, arial, sans-serif; font-size: 12px; fill: rgb(255, 255, 255); fill-opacity: 1; white-space: pre;\">0.09</text></g></g></g><g class=\"annotation\" data-index=\"35\" style=\"opacity: 1;\"><g class=\"annotation-text-g\" transform=\"rotate(0,118.57,168.57)\"><g class=\"cursor-pointer\" transform=\"translate(100,159)\"><rect class=\"bg\" x=\"0.5\" y=\"0.5\" width=\"36\" height=\"18\" style=\"stroke-width: 1px; stroke: rgb(0, 0, 0); stroke-opacity: 0; fill: rgb(0, 0, 0); fill-opacity: 0;\"/><text class=\"annotation-text\" text-anchor=\"middle\" x=\"18.359375\" y=\"14\" style=\"font-family: 'Open Sans', verdana, arial, sans-serif; font-size: 12px; fill: rgb(255, 255, 255); fill-opacity: 1; white-space: pre;\">-0.59</text></g></g></g><g class=\"annotation\" data-index=\"36\" style=\"opacity: 1;\"><g class=\"annotation-text-g\" transform=\"rotate(0,195.70999999999998,168.57)\"><g class=\"cursor-pointer\" transform=\"translate(177,159)\"><rect class=\"bg\" x=\"0.5\" y=\"0.5\" width=\"36\" height=\"18\" style=\"stroke-width: 1px; stroke: rgb(0, 0, 0); stroke-opacity: 0; fill: rgb(0, 0, 0); fill-opacity: 0;\"/><text class=\"annotation-text\" text-anchor=\"middle\" x=\"18.359375\" y=\"14\" style=\"font-family: 'Open Sans', verdana, arial, sans-serif; font-size: 12px; fill: rgb(255, 255, 255); fill-opacity: 1; white-space: pre;\">-0.29</text></g></g></g><g class=\"annotation\" data-index=\"37\" style=\"opacity: 1;\"><g class=\"annotation-text-g\" transform=\"rotate(0,272.86,168.57)\"><g class=\"cursor-pointer\" transform=\"translate(257,159)\"><rect class=\"bg\" x=\"0.5\" y=\"0.5\" width=\"31\" height=\"18\" style=\"stroke-width: 1px; stroke: rgb(0, 0, 0); stroke-opacity: 0; fill: rgb(0, 0, 0); fill-opacity: 0;\"/><text class=\"annotation-text\" text-anchor=\"middle\" x=\"15.640625\" y=\"14\" style=\"font-family: 'Open Sans', verdana, arial, sans-serif; font-size: 12px; fill: rgb(255, 255, 255); fill-opacity: 1; white-space: pre;\">0.17</text></g></g></g><g class=\"annotation\" data-index=\"38\" style=\"opacity: 1;\"><g class=\"annotation-text-g\" transform=\"rotate(0,350,168.57)\"><g class=\"cursor-pointer\" transform=\"translate(334,159)\"><rect class=\"bg\" x=\"0.5\" y=\"0.5\" width=\"31\" height=\"18\" style=\"stroke-width: 1px; stroke: rgb(0, 0, 0); stroke-opacity: 0; fill: rgb(0, 0, 0); fill-opacity: 0;\"/><text class=\"annotation-text\" text-anchor=\"middle\" x=\"15.640625\" y=\"14\" style=\"font-family: 'Open Sans', verdana, arial, sans-serif; font-size: 12px; fill: rgb(255, 255, 255); fill-opacity: 1; white-space: pre;\">0.14</text></g></g></g><g class=\"annotation\" data-index=\"39\" style=\"opacity: 1;\"><g class=\"annotation-text-g\" transform=\"rotate(0,427.14,168.57)\"><g class=\"cursor-pointer\" transform=\"translate(409,159)\"><rect class=\"bg\" x=\"0.5\" y=\"0.5\" width=\"36\" height=\"18\" style=\"stroke-width: 1px; stroke: rgb(0, 0, 0); stroke-opacity: 0; fill: rgb(0, 0, 0); fill-opacity: 0;\"/><text class=\"annotation-text\" text-anchor=\"middle\" x=\"18.359375\" y=\"14\" style=\"font-family: 'Open Sans', verdana, arial, sans-serif; font-size: 12px; fill: rgb(255, 255, 255); fill-opacity: 1; white-space: pre;\">-0.16</text></g></g></g><g class=\"annotation\" data-index=\"40\" style=\"opacity: 1;\"><g class=\"annotation-text-g\" transform=\"rotate(0,504.29,168.57)\"><g class=\"cursor-pointer\" transform=\"translate(492,159)\"><rect class=\"bg\" x=\"0.5\" y=\"0.5\" width=\"23\" height=\"18\" style=\"stroke-width: 1px; stroke: rgb(0, 0, 0); stroke-opacity: 0; fill: rgb(0, 0, 0); fill-opacity: 0;\"/><text class=\"annotation-text\" text-anchor=\"middle\" x=\"11.8125\" y=\"14\" style=\"font-family: 'Open Sans', verdana, arial, sans-serif; font-size: 12px; fill: rgb(0, 0, 0); fill-opacity: 1; white-space: pre;\">1.0</text></g></g></g><g class=\"annotation\" data-index=\"41\" style=\"opacity: 1;\"><g class=\"annotation-text-g\" transform=\"rotate(0,581.4300000000001,168.57)\"><g class=\"cursor-pointer\" transform=\"translate(563,159)\"><rect class=\"bg\" x=\"0.5\" y=\"0.5\" width=\"36\" height=\"18\" style=\"stroke-width: 1px; stroke: rgb(0, 0, 0); stroke-opacity: 0; fill: rgb(0, 0, 0); fill-opacity: 0;\"/><text class=\"annotation-text\" text-anchor=\"middle\" x=\"18.359375\" y=\"14\" style=\"font-family: 'Open Sans', verdana, arial, sans-serif; font-size: 12px; fill: rgb(255, 255, 255); fill-opacity: 1; white-space: pre;\">-0.35</text></g></g></g><g class=\"annotation\" data-index=\"42\" style=\"opacity: 1;\"><g class=\"annotation-text-g\" transform=\"rotate(0,118.57,122.86)\"><g class=\"cursor-pointer\" transform=\"translate(103,113)\"><rect class=\"bg\" x=\"0.5\" y=\"0.5\" width=\"31\" height=\"18\" style=\"stroke-width: 1px; stroke: rgb(0, 0, 0); stroke-opacity: 0; fill: rgb(0, 0, 0); fill-opacity: 0;\"/><text class=\"annotation-text\" text-anchor=\"middle\" x=\"15.640625\" y=\"14\" style=\"font-family: 'Open Sans', verdana, arial, sans-serif; font-size: 12px; fill: rgb(0, 0, 0); fill-opacity: 1; white-space: pre;\">0.22</text></g></g></g><g class=\"annotation\" data-index=\"43\" style=\"opacity: 1;\"><g class=\"annotation-text-g\" transform=\"rotate(0,195.70999999999998,122.86)\"><g class=\"cursor-pointer\" transform=\"translate(180,113)\"><rect class=\"bg\" x=\"0.5\" y=\"0.5\" width=\"31\" height=\"18\" style=\"stroke-width: 1px; stroke: rgb(0, 0, 0); stroke-opacity: 0; fill: rgb(0, 0, 0); fill-opacity: 0;\"/><text class=\"annotation-text\" text-anchor=\"middle\" x=\"15.640625\" y=\"14\" style=\"font-family: 'Open Sans', verdana, arial, sans-serif; font-size: 12px; fill: rgb(255, 255, 255); fill-opacity: 1; white-space: pre;\">0.06</text></g></g></g><g class=\"annotation\" data-index=\"44\" style=\"opacity: 1;\"><g class=\"annotation-text-g\" transform=\"rotate(0,272.86,122.86)\"><g class=\"cursor-pointer\" transform=\"translate(261,113)\"><rect class=\"bg\" x=\"0.5\" y=\"0.5\" width=\"23\" height=\"18\" style=\"stroke-width: 1px; stroke: rgb(0, 0, 0); stroke-opacity: 0; fill: rgb(0, 0, 0); fill-opacity: 0;\"/><text class=\"annotation-text\" text-anchor=\"middle\" x=\"11.8125\" y=\"14\" style=\"font-family: 'Open Sans', verdana, arial, sans-serif; font-size: 12px; fill: rgb(255, 255, 255); fill-opacity: 1; white-space: pre;\">0.1</text></g></g></g><g class=\"annotation\" data-index=\"45\" style=\"opacity: 1;\"><g class=\"annotation-text-g\" transform=\"rotate(0,350,122.86)\"><g class=\"cursor-pointer\" transform=\"translate(332,113)\"><rect class=\"bg\" x=\"0.5\" y=\"0.5\" width=\"36\" height=\"18\" style=\"stroke-width: 1px; stroke: rgb(0, 0, 0); stroke-opacity: 0; fill: rgb(0, 0, 0); fill-opacity: 0;\"/><text class=\"annotation-text\" text-anchor=\"middle\" x=\"18.359375\" y=\"14\" style=\"font-family: 'Open Sans', verdana, arial, sans-serif; font-size: 12px; fill: rgb(255, 255, 255); fill-opacity: 1; white-space: pre;\">-0.03</text></g></g></g><g class=\"annotation\" data-index=\"46\" style=\"opacity: 1;\"><g class=\"annotation-text-g\" transform=\"rotate(0,427.14,122.86)\"><g class=\"cursor-pointer\" transform=\"translate(411,113)\"><rect class=\"bg\" x=\"0.5\" y=\"0.5\" width=\"31\" height=\"18\" style=\"stroke-width: 1px; stroke: rgb(0, 0, 0); stroke-opacity: 0; fill: rgb(0, 0, 0); fill-opacity: 0;\"/><text class=\"annotation-text\" text-anchor=\"middle\" x=\"15.640625\" y=\"14\" style=\"font-family: 'Open Sans', verdana, arial, sans-serif; font-size: 12px; fill: rgb(255, 255, 255); fill-opacity: 1; white-space: pre;\">0.09</text></g></g></g><g class=\"annotation\" data-index=\"47\" style=\"opacity: 1;\"><g class=\"annotation-text-g\" transform=\"rotate(0,504.29,122.86)\"><g class=\"cursor-pointer\" transform=\"translate(486,113)\"><rect class=\"bg\" x=\"0.5\" y=\"0.5\" width=\"36\" height=\"18\" style=\"stroke-width: 1px; stroke: rgb(0, 0, 0); stroke-opacity: 0; fill: rgb(0, 0, 0); fill-opacity: 0;\"/><text class=\"annotation-text\" text-anchor=\"middle\" x=\"18.359375\" y=\"14\" style=\"font-family: 'Open Sans', verdana, arial, sans-serif; font-size: 12px; fill: rgb(255, 255, 255); fill-opacity: 1; white-space: pre;\">-0.35</text></g></g></g><g class=\"annotation\" data-index=\"48\" style=\"opacity: 1;\"><g class=\"annotation-text-g\" transform=\"rotate(0,581.4300000000001,122.86)\"><g class=\"cursor-pointer\" transform=\"translate(569,113)\"><rect class=\"bg\" x=\"0.5\" y=\"0.5\" width=\"23\" height=\"18\" style=\"stroke-width: 1px; stroke: rgb(0, 0, 0); stroke-opacity: 0; fill: rgb(0, 0, 0); fill-opacity: 0;\"/><text class=\"annotation-text\" text-anchor=\"middle\" x=\"11.8125\" y=\"14\" style=\"font-family: 'Open Sans', verdana, arial, sans-serif; font-size: 12px; fill: rgb(0, 0, 0); fill-opacity: 1; white-space: pre;\">1.0</text></g></g></g></g></svg>"
     },
     "metadata": {},
     "output_type": "display_data"
    }
   ],
   "source": [
    "#Matrix of correlations between the columns\n",
    "fig = ff.create_annotated_heatmap(w_sales.corr().values.round(2),\n",
    "                                  x = w_sales.corr().columns.values.tolist(),\n",
    "                                  y = w_sales.corr().index.values.tolist())\n",
    "\n",
    "\n",
    "fig.show()"
   ]
  },
  {
   "cell_type": "markdown",
   "id": "2402e457",
   "metadata": {},
   "source": [
    "* CPI is most correlated feature with weekly sales\n",
    "* It's a negative correlation so they evolve in opposite direction"
   ]
  },
  {
   "cell_type": "markdown",
   "id": "a1ef5199-fe79-497d-a8e7-716d07bba945",
   "metadata": {
    "tags": [],
    "toc-hr-collapsed": true
   },
   "source": [
    "## Preprocessing"
   ]
  },
  {
   "cell_type": "markdown",
   "id": "21ee7c61-31b3-4e1d-9f8d-b025a790385d",
   "metadata": {},
   "source": [
    "### Dropping lines with missing target values"
   ]
  },
  {
   "cell_type": "markdown",
   "id": "11f3f48d-b941-434e-8fdf-c2fb45f6e43f",
   "metadata": {},
   "source": [
    "* Here, there are no obviuous column to drop so we will focus on dropping useless lines"
   ]
  },
  {
   "cell_type": "code",
   "execution_count": 21,
   "id": "81de23f6-f00f-4553-94ab-485318448037",
   "metadata": {
    "tags": []
   },
   "outputs": [
    {
     "data": {
      "text/plain": [
       "Store            0\n",
       "Date            18\n",
       "Weekly_Sales     0\n",
       "Holiday_Flag    11\n",
       "Temperature     15\n",
       "Fuel_Price      12\n",
       "CPI             11\n",
       "Unemployment    14\n",
       "dtype: int64"
      ]
     },
     "execution_count": 21,
     "metadata": {},
     "output_type": "execute_result"
    }
   ],
   "source": [
    "to_keep = ~(w_sales['Weekly_Sales'].isna())\n",
    "w_sales = w_sales.loc[to_keep,:]\n",
    "w_sales.isnull().sum()"
   ]
  },
  {
   "cell_type": "code",
   "execution_count": 22,
   "id": "2b65e916-f679-4664-ab4a-c43312d2be82",
   "metadata": {
    "tags": []
   },
   "outputs": [
    {
     "data": {
      "text/html": [
       "<div>\n",
       "<style scoped>\n",
       "    .dataframe tbody tr th:only-of-type {\n",
       "        vertical-align: middle;\n",
       "    }\n",
       "\n",
       "    .dataframe tbody tr th {\n",
       "        vertical-align: top;\n",
       "    }\n",
       "\n",
       "    .dataframe thead th {\n",
       "        text-align: right;\n",
       "    }\n",
       "</style>\n",
       "<table border=\"1\" class=\"dataframe\">\n",
       "  <thead>\n",
       "    <tr style=\"text-align: right;\">\n",
       "      <th></th>\n",
       "      <th>Store</th>\n",
       "      <th>Weekly_Sales</th>\n",
       "      <th>Holiday_Flag</th>\n",
       "      <th>Temperature</th>\n",
       "      <th>Fuel_Price</th>\n",
       "      <th>CPI</th>\n",
       "      <th>Unemployment</th>\n",
       "    </tr>\n",
       "  </thead>\n",
       "  <tbody>\n",
       "    <tr>\n",
       "      <th>count</th>\n",
       "      <td>136.000000</td>\n",
       "      <td>1.360000e+02</td>\n",
       "      <td>125.000000</td>\n",
       "      <td>121.000000</td>\n",
       "      <td>124.000000</td>\n",
       "      <td>125.000000</td>\n",
       "      <td>122.000000</td>\n",
       "    </tr>\n",
       "    <tr>\n",
       "      <th>mean</th>\n",
       "      <td>10.014706</td>\n",
       "      <td>1.249536e+06</td>\n",
       "      <td>0.072000</td>\n",
       "      <td>60.853967</td>\n",
       "      <td>3.316992</td>\n",
       "      <td>178.091144</td>\n",
       "      <td>7.665582</td>\n",
       "    </tr>\n",
       "    <tr>\n",
       "      <th>std</th>\n",
       "      <td>6.124614</td>\n",
       "      <td>6.474630e+05</td>\n",
       "      <td>0.259528</td>\n",
       "      <td>18.514432</td>\n",
       "      <td>0.479540</td>\n",
       "      <td>40.243105</td>\n",
       "      <td>1.619428</td>\n",
       "    </tr>\n",
       "    <tr>\n",
       "      <th>min</th>\n",
       "      <td>1.000000</td>\n",
       "      <td>2.689290e+05</td>\n",
       "      <td>0.000000</td>\n",
       "      <td>18.790000</td>\n",
       "      <td>2.514000</td>\n",
       "      <td>126.111903</td>\n",
       "      <td>5.143000</td>\n",
       "    </tr>\n",
       "    <tr>\n",
       "      <th>25%</th>\n",
       "      <td>4.000000</td>\n",
       "      <td>6.050757e+05</td>\n",
       "      <td>0.000000</td>\n",
       "      <td>45.220000</td>\n",
       "      <td>2.838500</td>\n",
       "      <td>131.637000</td>\n",
       "      <td>6.690000</td>\n",
       "    </tr>\n",
       "    <tr>\n",
       "      <th>50%</th>\n",
       "      <td>10.000000</td>\n",
       "      <td>1.261424e+06</td>\n",
       "      <td>0.000000</td>\n",
       "      <td>62.250000</td>\n",
       "      <td>3.451000</td>\n",
       "      <td>196.919506</td>\n",
       "      <td>7.477000</td>\n",
       "    </tr>\n",
       "    <tr>\n",
       "      <th>75%</th>\n",
       "      <td>15.250000</td>\n",
       "      <td>1.806386e+06</td>\n",
       "      <td>0.000000</td>\n",
       "      <td>75.950000</td>\n",
       "      <td>3.724000</td>\n",
       "      <td>214.878556</td>\n",
       "      <td>8.150000</td>\n",
       "    </tr>\n",
       "    <tr>\n",
       "      <th>max</th>\n",
       "      <td>20.000000</td>\n",
       "      <td>2.771397e+06</td>\n",
       "      <td>1.000000</td>\n",
       "      <td>91.650000</td>\n",
       "      <td>4.193000</td>\n",
       "      <td>226.968844</td>\n",
       "      <td>14.313000</td>\n",
       "    </tr>\n",
       "  </tbody>\n",
       "</table>\n",
       "</div>"
      ],
      "text/plain": [
       "            Store  Weekly_Sales  Holiday_Flag  Temperature  Fuel_Price  \\\n",
       "count  136.000000  1.360000e+02    125.000000   121.000000  124.000000   \n",
       "mean    10.014706  1.249536e+06      0.072000    60.853967    3.316992   \n",
       "std      6.124614  6.474630e+05      0.259528    18.514432    0.479540   \n",
       "min      1.000000  2.689290e+05      0.000000    18.790000    2.514000   \n",
       "25%      4.000000  6.050757e+05      0.000000    45.220000    2.838500   \n",
       "50%     10.000000  1.261424e+06      0.000000    62.250000    3.451000   \n",
       "75%     15.250000  1.806386e+06      0.000000    75.950000    3.724000   \n",
       "max     20.000000  2.771397e+06      1.000000    91.650000    4.193000   \n",
       "\n",
       "              CPI  Unemployment  \n",
       "count  125.000000    122.000000  \n",
       "mean   178.091144      7.665582  \n",
       "std     40.243105      1.619428  \n",
       "min    126.111903      5.143000  \n",
       "25%    131.637000      6.690000  \n",
       "50%    196.919506      7.477000  \n",
       "75%    214.878556      8.150000  \n",
       "max    226.968844     14.313000  "
      ]
     },
     "execution_count": 22,
     "metadata": {},
     "output_type": "execute_result"
    }
   ],
   "source": [
    "w_sales.describe()"
   ]
  },
  {
   "cell_type": "markdown",
   "id": "1566994b-14f2-4182-bceb-6e9326b18821",
   "metadata": {},
   "source": [
    "### Creating usable features from Date"
   ]
  },
  {
   "cell_type": "code",
   "execution_count": 23,
   "id": "371d312d-a6ba-43fe-b9a8-c2c75584bf82",
   "metadata": {
    "tags": []
   },
   "outputs": [
    {
     "data": {
      "text/plain": [
       "28"
      ]
     },
     "execution_count": 23,
     "metadata": {},
     "output_type": "execute_result"
    }
   ],
   "source": [
    "w_sales['Date'][4].day"
   ]
  },
  {
   "cell_type": "code",
   "execution_count": 24,
   "id": "afcdbbd1-40bb-4db0-8809-db41a2ef81fa",
   "metadata": {
    "tags": []
   },
   "outputs": [],
   "source": [
    "#Creating a column with the year\n",
    "w_sales['year'] = w_sales['Date'].apply(lambda x : x.year)"
   ]
  },
  {
   "cell_type": "code",
   "execution_count": 25,
   "id": "a3bb8286-e641-4919-a7b1-867611468e2b",
   "metadata": {
    "tags": []
   },
   "outputs": [],
   "source": [
    "#Creating a column with the month\n",
    "w_sales['month'] = w_sales['Date'].apply(lambda x : x.month)"
   ]
  },
  {
   "cell_type": "code",
   "execution_count": 26,
   "id": "454a7234-16e4-4394-97bd-5c198ccab720",
   "metadata": {
    "tags": []
   },
   "outputs": [],
   "source": [
    "#Creating a column with the day of the month\n",
    "w_sales['day_of_month'] = w_sales['Date'].apply(lambda x : x.day)"
   ]
  },
  {
   "cell_type": "code",
   "execution_count": 27,
   "id": "704fa5c8-958f-47d3-9d5c-7109ef653dc7",
   "metadata": {
    "tags": []
   },
   "outputs": [
    {
     "data": {
      "text/plain": [
       "0      4.0\n",
       "1      4.0\n",
       "3      NaN\n",
       "4      4.0\n",
       "5      4.0\n",
       "      ... \n",
       "145    4.0\n",
       "146    NaN\n",
       "147    4.0\n",
       "148    4.0\n",
       "149    4.0\n",
       "Name: Date, Length: 136, dtype: float64"
      ]
     },
     "execution_count": 27,
     "metadata": {},
     "output_type": "execute_result"
    }
   ],
   "source": [
    "#Looking wich days of the week are represented\n",
    "w_sales['Date'].apply(lambda x : x.day_of_week)"
   ]
  },
  {
   "cell_type": "code",
   "execution_count": 28,
   "id": "69cb9a12-593b-49e3-b1c3-992ee727d49a",
   "metadata": {},
   "outputs": [
    {
     "data": {
      "text/plain": [
       "4.0    118\n",
       "Name: Date, dtype: int64"
      ]
     },
     "execution_count": 28,
     "metadata": {},
     "output_type": "execute_result"
    }
   ],
   "source": [
    "w_sales['Date'].apply(lambda x : x.day_of_week).value_counts()"
   ]
  },
  {
   "cell_type": "markdown",
   "id": "7b41ec0c-1662-4241-bfce-fb2c652a6537",
   "metadata": {
    "tags": []
   },
   "source": [
    "* Here, the day of the week has only one value wich is 4. Since it means that it's alway friday, we won't need to add this column as it does not provide any useful information"
   ]
  },
  {
   "cell_type": "markdown",
   "id": "faecbe39-bff9-4903-ba2b-fc4b9d0baa3b",
   "metadata": {},
   "source": [
    "Now we can drop the date column"
   ]
  },
  {
   "cell_type": "code",
   "execution_count": 29,
   "id": "d26bb165-46f3-430d-8585-414734d10f6e",
   "metadata": {
    "tags": []
   },
   "outputs": [],
   "source": [
    "w_sales = w_sales.drop(['Date'], axis=1)"
   ]
  },
  {
   "cell_type": "code",
   "execution_count": 30,
   "id": "cb60565a-3318-4bfe-9983-5651b80231b0",
   "metadata": {
    "tags": []
   },
   "outputs": [
    {
     "data": {
      "text/html": [
       "<div>\n",
       "<style scoped>\n",
       "    .dataframe tbody tr th:only-of-type {\n",
       "        vertical-align: middle;\n",
       "    }\n",
       "\n",
       "    .dataframe tbody tr th {\n",
       "        vertical-align: top;\n",
       "    }\n",
       "\n",
       "    .dataframe thead th {\n",
       "        text-align: right;\n",
       "    }\n",
       "</style>\n",
       "<table border=\"1\" class=\"dataframe\">\n",
       "  <thead>\n",
       "    <tr style=\"text-align: right;\">\n",
       "      <th></th>\n",
       "      <th>Store</th>\n",
       "      <th>Weekly_Sales</th>\n",
       "      <th>Holiday_Flag</th>\n",
       "      <th>Temperature</th>\n",
       "      <th>Fuel_Price</th>\n",
       "      <th>CPI</th>\n",
       "      <th>Unemployment</th>\n",
       "      <th>year</th>\n",
       "      <th>month</th>\n",
       "      <th>day_of_month</th>\n",
       "    </tr>\n",
       "  </thead>\n",
       "  <tbody>\n",
       "    <tr>\n",
       "      <th>0</th>\n",
       "      <td>6.0</td>\n",
       "      <td>1572117.54</td>\n",
       "      <td>NaN</td>\n",
       "      <td>59.61</td>\n",
       "      <td>3.045</td>\n",
       "      <td>214.777523</td>\n",
       "      <td>6.858</td>\n",
       "      <td>2011.0</td>\n",
       "      <td>2.0</td>\n",
       "      <td>18.0</td>\n",
       "    </tr>\n",
       "    <tr>\n",
       "      <th>1</th>\n",
       "      <td>13.0</td>\n",
       "      <td>1807545.43</td>\n",
       "      <td>0.0</td>\n",
       "      <td>42.38</td>\n",
       "      <td>3.435</td>\n",
       "      <td>128.616064</td>\n",
       "      <td>7.470</td>\n",
       "      <td>2011.0</td>\n",
       "      <td>3.0</td>\n",
       "      <td>25.0</td>\n",
       "    </tr>\n",
       "    <tr>\n",
       "      <th>3</th>\n",
       "      <td>11.0</td>\n",
       "      <td>1244390.03</td>\n",
       "      <td>0.0</td>\n",
       "      <td>84.57</td>\n",
       "      <td>NaN</td>\n",
       "      <td>214.556497</td>\n",
       "      <td>7.346</td>\n",
       "      <td>NaN</td>\n",
       "      <td>NaN</td>\n",
       "      <td>NaN</td>\n",
       "    </tr>\n",
       "    <tr>\n",
       "      <th>4</th>\n",
       "      <td>6.0</td>\n",
       "      <td>1644470.66</td>\n",
       "      <td>0.0</td>\n",
       "      <td>78.89</td>\n",
       "      <td>2.759</td>\n",
       "      <td>212.412888</td>\n",
       "      <td>7.092</td>\n",
       "      <td>2010.0</td>\n",
       "      <td>5.0</td>\n",
       "      <td>28.0</td>\n",
       "    </tr>\n",
       "    <tr>\n",
       "      <th>5</th>\n",
       "      <td>4.0</td>\n",
       "      <td>1857533.70</td>\n",
       "      <td>0.0</td>\n",
       "      <td>NaN</td>\n",
       "      <td>2.756</td>\n",
       "      <td>126.160226</td>\n",
       "      <td>7.896</td>\n",
       "      <td>2010.0</td>\n",
       "      <td>5.0</td>\n",
       "      <td>28.0</td>\n",
       "    </tr>\n",
       "  </tbody>\n",
       "</table>\n",
       "</div>"
      ],
      "text/plain": [
       "   Store  Weekly_Sales  Holiday_Flag  Temperature  Fuel_Price         CPI  \\\n",
       "0    6.0    1572117.54           NaN        59.61       3.045  214.777523   \n",
       "1   13.0    1807545.43           0.0        42.38       3.435  128.616064   \n",
       "3   11.0    1244390.03           0.0        84.57         NaN  214.556497   \n",
       "4    6.0    1644470.66           0.0        78.89       2.759  212.412888   \n",
       "5    4.0    1857533.70           0.0          NaN       2.756  126.160226   \n",
       "\n",
       "   Unemployment    year  month  day_of_month  \n",
       "0         6.858  2011.0    2.0          18.0  \n",
       "1         7.470  2011.0    3.0          25.0  \n",
       "3         7.346     NaN    NaN           NaN  \n",
       "4         7.092  2010.0    5.0          28.0  \n",
       "5         7.896  2010.0    5.0          28.0  "
      ]
     },
     "execution_count": 30,
     "metadata": {},
     "output_type": "execute_result"
    }
   ],
   "source": [
    "w_sales.head()"
   ]
  },
  {
   "cell_type": "markdown",
   "id": "897eda59-fc92-4e73-8902-a7f14e629fc7",
   "metadata": {},
   "source": [
    "### Dropping outliers in Temperature, Fuel_price, CPI and Unemployment"
   ]
  },
  {
   "cell_type": "code",
   "execution_count": 31,
   "id": "320fb55d-c0c7-404b-a958-d77f34504be1",
   "metadata": {
    "tags": []
   },
   "outputs": [],
   "source": [
    "# Setting conditions for Temperatures lines to keep\n",
    "temp_to_keep = (\n",
    "                (w_sales['Temperature'] > (w_sales['Temperature'].mean() - (3*w_sales['Temperature'].std()))) \n",
    "                & \n",
    "                (w_sales['Temperature'] < (w_sales['Temperature'].mean() + (3*w_sales['Temperature'].std())))\n",
    ")\n"
   ]
  },
  {
   "cell_type": "code",
   "execution_count": 32,
   "id": "b05045ab-c6ee-4fa8-bbe5-a021dedf857a",
   "metadata": {
    "tags": []
   },
   "outputs": [],
   "source": [
    "# Setting conditions for Fuel price lines to keep\n",
    "fc_to_keep = (\n",
    "                (w_sales['Fuel_Price'] > (w_sales['Fuel_Price'].mean() - (3*w_sales['Fuel_Price'].std()))) \n",
    "                & \n",
    "                (w_sales['Fuel_Price'] < (w_sales['Fuel_Price'].mean() + (3*w_sales['Fuel_Price'].std())))\n",
    ")"
   ]
  },
  {
   "cell_type": "code",
   "execution_count": 33,
   "id": "c45ec54a-9694-4dc5-990d-d3f5bc91ef58",
   "metadata": {
    "tags": []
   },
   "outputs": [],
   "source": [
    "# Setting conditions for CPI lines to keep\n",
    "cpi_to_keep = (\n",
    "                (w_sales['CPI'] > (w_sales['CPI'].mean() - (3*w_sales['CPI'].std()))) \n",
    "                & \n",
    "                (w_sales['CPI'] < (w_sales['CPI'].mean() + (3*w_sales['CPI'].std())))\n",
    ")"
   ]
  },
  {
   "cell_type": "code",
   "execution_count": 34,
   "id": "b28e5368-a9aa-4cd6-8348-edbccac48ae2",
   "metadata": {
    "tags": []
   },
   "outputs": [],
   "source": [
    "# Setting conditions for Unemployment lines to keep\n",
    "unemp_to_keep = (\n",
    "                (w_sales['Unemployment'] > (w_sales['Unemployment'].mean() - (3*w_sales['Unemployment'].std()))) \n",
    "                & \n",
    "                (w_sales['Unemployment'] < (w_sales['Unemployment'].mean() + (3*w_sales['Unemployment'].std())))\n",
    ")"
   ]
  },
  {
   "cell_type": "code",
   "execution_count": 35,
   "id": "21885f97-8947-4dbf-a392-ff92309790fc",
   "metadata": {
    "tags": []
   },
   "outputs": [
    {
     "data": {
      "text/html": [
       "<div>\n",
       "<style scoped>\n",
       "    .dataframe tbody tr th:only-of-type {\n",
       "        vertical-align: middle;\n",
       "    }\n",
       "\n",
       "    .dataframe tbody tr th {\n",
       "        vertical-align: top;\n",
       "    }\n",
       "\n",
       "    .dataframe thead th {\n",
       "        text-align: right;\n",
       "    }\n",
       "</style>\n",
       "<table border=\"1\" class=\"dataframe\">\n",
       "  <thead>\n",
       "    <tr style=\"text-align: right;\">\n",
       "      <th></th>\n",
       "      <th>Store</th>\n",
       "      <th>Weekly_Sales</th>\n",
       "      <th>Holiday_Flag</th>\n",
       "      <th>Temperature</th>\n",
       "      <th>Fuel_Price</th>\n",
       "      <th>CPI</th>\n",
       "      <th>Unemployment</th>\n",
       "      <th>year</th>\n",
       "      <th>month</th>\n",
       "      <th>day_of_month</th>\n",
       "    </tr>\n",
       "  </thead>\n",
       "  <tbody>\n",
       "    <tr>\n",
       "      <th>0</th>\n",
       "      <td>6.0</td>\n",
       "      <td>1572117.54</td>\n",
       "      <td>NaN</td>\n",
       "      <td>59.61</td>\n",
       "      <td>3.045</td>\n",
       "      <td>214.777523</td>\n",
       "      <td>6.858</td>\n",
       "      <td>2011.0</td>\n",
       "      <td>2.0</td>\n",
       "      <td>18.0</td>\n",
       "    </tr>\n",
       "    <tr>\n",
       "      <th>1</th>\n",
       "      <td>13.0</td>\n",
       "      <td>1807545.43</td>\n",
       "      <td>0.0</td>\n",
       "      <td>42.38</td>\n",
       "      <td>3.435</td>\n",
       "      <td>128.616064</td>\n",
       "      <td>7.470</td>\n",
       "      <td>2011.0</td>\n",
       "      <td>3.0</td>\n",
       "      <td>25.0</td>\n",
       "    </tr>\n",
       "    <tr>\n",
       "      <th>2</th>\n",
       "      <td>6.0</td>\n",
       "      <td>1644470.66</td>\n",
       "      <td>0.0</td>\n",
       "      <td>78.89</td>\n",
       "      <td>2.759</td>\n",
       "      <td>212.412888</td>\n",
       "      <td>7.092</td>\n",
       "      <td>2010.0</td>\n",
       "      <td>5.0</td>\n",
       "      <td>28.0</td>\n",
       "    </tr>\n",
       "    <tr>\n",
       "      <th>3</th>\n",
       "      <td>15.0</td>\n",
       "      <td>695396.19</td>\n",
       "      <td>0.0</td>\n",
       "      <td>69.80</td>\n",
       "      <td>4.069</td>\n",
       "      <td>134.855161</td>\n",
       "      <td>7.658</td>\n",
       "      <td>2011.0</td>\n",
       "      <td>6.0</td>\n",
       "      <td>3.0</td>\n",
       "    </tr>\n",
       "    <tr>\n",
       "      <th>4</th>\n",
       "      <td>20.0</td>\n",
       "      <td>2203523.20</td>\n",
       "      <td>0.0</td>\n",
       "      <td>39.93</td>\n",
       "      <td>3.617</td>\n",
       "      <td>213.023622</td>\n",
       "      <td>6.961</td>\n",
       "      <td>2012.0</td>\n",
       "      <td>2.0</td>\n",
       "      <td>3.0</td>\n",
       "    </tr>\n",
       "    <tr>\n",
       "      <th>...</th>\n",
       "      <td>...</td>\n",
       "      <td>...</td>\n",
       "      <td>...</td>\n",
       "      <td>...</td>\n",
       "      <td>...</td>\n",
       "      <td>...</td>\n",
       "      <td>...</td>\n",
       "      <td>...</td>\n",
       "      <td>...</td>\n",
       "      <td>...</td>\n",
       "    </tr>\n",
       "    <tr>\n",
       "      <th>85</th>\n",
       "      <td>7.0</td>\n",
       "      <td>532739.77</td>\n",
       "      <td>0.0</td>\n",
       "      <td>50.60</td>\n",
       "      <td>3.804</td>\n",
       "      <td>197.588605</td>\n",
       "      <td>8.090</td>\n",
       "      <td>2012.0</td>\n",
       "      <td>5.0</td>\n",
       "      <td>25.0</td>\n",
       "    </tr>\n",
       "    <tr>\n",
       "      <th>86</th>\n",
       "      <td>3.0</td>\n",
       "      <td>396968.80</td>\n",
       "      <td>0.0</td>\n",
       "      <td>78.53</td>\n",
       "      <td>2.705</td>\n",
       "      <td>214.495838</td>\n",
       "      <td>7.343</td>\n",
       "      <td>2010.0</td>\n",
       "      <td>6.0</td>\n",
       "      <td>4.0</td>\n",
       "    </tr>\n",
       "    <tr>\n",
       "      <th>87</th>\n",
       "      <td>3.0</td>\n",
       "      <td>424513.08</td>\n",
       "      <td>0.0</td>\n",
       "      <td>73.44</td>\n",
       "      <td>3.594</td>\n",
       "      <td>226.968844</td>\n",
       "      <td>6.034</td>\n",
       "      <td>2012.0</td>\n",
       "      <td>10.0</td>\n",
       "      <td>19.0</td>\n",
       "    </tr>\n",
       "    <tr>\n",
       "      <th>88</th>\n",
       "      <td>14.0</td>\n",
       "      <td>2248645.59</td>\n",
       "      <td>0.0</td>\n",
       "      <td>72.62</td>\n",
       "      <td>2.780</td>\n",
       "      <td>182.442420</td>\n",
       "      <td>8.899</td>\n",
       "      <td>2010.0</td>\n",
       "      <td>6.0</td>\n",
       "      <td>18.0</td>\n",
       "    </tr>\n",
       "    <tr>\n",
       "      <th>89</th>\n",
       "      <td>19.0</td>\n",
       "      <td>1255087.26</td>\n",
       "      <td>0.0</td>\n",
       "      <td>55.20</td>\n",
       "      <td>4.170</td>\n",
       "      <td>137.923067</td>\n",
       "      <td>8.150</td>\n",
       "      <td>2012.0</td>\n",
       "      <td>4.0</td>\n",
       "      <td>20.0</td>\n",
       "    </tr>\n",
       "  </tbody>\n",
       "</table>\n",
       "<p>90 rows × 10 columns</p>\n",
       "</div>"
      ],
      "text/plain": [
       "    Store  Weekly_Sales  Holiday_Flag  Temperature  Fuel_Price         CPI  \\\n",
       "0     6.0    1572117.54           NaN        59.61       3.045  214.777523   \n",
       "1    13.0    1807545.43           0.0        42.38       3.435  128.616064   \n",
       "2     6.0    1644470.66           0.0        78.89       2.759  212.412888   \n",
       "3    15.0     695396.19           0.0        69.80       4.069  134.855161   \n",
       "4    20.0    2203523.20           0.0        39.93       3.617  213.023622   \n",
       "..    ...           ...           ...          ...         ...         ...   \n",
       "85    7.0     532739.77           0.0        50.60       3.804  197.588605   \n",
       "86    3.0     396968.80           0.0        78.53       2.705  214.495838   \n",
       "87    3.0     424513.08           0.0        73.44       3.594  226.968844   \n",
       "88   14.0    2248645.59           0.0        72.62       2.780  182.442420   \n",
       "89   19.0    1255087.26           0.0        55.20       4.170  137.923067   \n",
       "\n",
       "    Unemployment    year  month  day_of_month  \n",
       "0          6.858  2011.0    2.0          18.0  \n",
       "1          7.470  2011.0    3.0          25.0  \n",
       "2          7.092  2010.0    5.0          28.0  \n",
       "3          7.658  2011.0    6.0           3.0  \n",
       "4          6.961  2012.0    2.0           3.0  \n",
       "..           ...     ...    ...           ...  \n",
       "85         8.090  2012.0    5.0          25.0  \n",
       "86         7.343  2010.0    6.0           4.0  \n",
       "87         6.034  2012.0   10.0          19.0  \n",
       "88         8.899  2010.0    6.0          18.0  \n",
       "89         8.150  2012.0    4.0          20.0  \n",
       "\n",
       "[90 rows x 10 columns]"
      ]
     },
     "execution_count": 35,
     "metadata": {},
     "output_type": "execute_result"
    }
   ],
   "source": [
    "# Dropping the corresponding lines\n",
    "w_sales = w_sales.loc[temp_to_keep,:]\n",
    "w_sales = w_sales.loc[fc_to_keep,:]\n",
    "w_sales = w_sales.loc[cpi_to_keep,:]\n",
    "w_sales = w_sales.loc[unemp_to_keep,:]\n",
    "w_sales.reset_index(drop=True, inplace=True)\n",
    "w_sales"
   ]
  },
  {
   "cell_type": "markdown",
   "id": "56c86a24-1982-400e-96d1-55ba87eaeb69",
   "metadata": {},
   "source": [
    "### Seperate features from target"
   ]
  },
  {
   "cell_type": "markdown",
   "id": "ae333181-bb5b-406c-b6dd-adc16a7ea18e",
   "metadata": {},
   "source": [
    "#### Getting Features and target labels and seperate data"
   ]
  },
  {
   "cell_type": "code",
   "execution_count": 36,
   "id": "1c1194ac-315a-4129-95d5-85991f0a1d81",
   "metadata": {
    "tags": []
   },
   "outputs": [],
   "source": [
    "X_labels = w_sales.columns.tolist()\n",
    "Y_label = X_labels.pop(X_labels.index('Weekly_Sales'))\n",
    "X = w_sales[X_labels]\n",
    "Y = w_sales[Y_label]"
   ]
  },
  {
   "cell_type": "code",
   "execution_count": 37,
   "id": "692ae10e-af22-467c-8316-b2321b4e4bb0",
   "metadata": {
    "tags": []
   },
   "outputs": [
    {
     "data": {
      "text/html": [
       "<div>\n",
       "<style scoped>\n",
       "    .dataframe tbody tr th:only-of-type {\n",
       "        vertical-align: middle;\n",
       "    }\n",
       "\n",
       "    .dataframe tbody tr th {\n",
       "        vertical-align: top;\n",
       "    }\n",
       "\n",
       "    .dataframe thead th {\n",
       "        text-align: right;\n",
       "    }\n",
       "</style>\n",
       "<table border=\"1\" class=\"dataframe\">\n",
       "  <thead>\n",
       "    <tr style=\"text-align: right;\">\n",
       "      <th></th>\n",
       "      <th>Store</th>\n",
       "      <th>Holiday_Flag</th>\n",
       "      <th>Temperature</th>\n",
       "      <th>Fuel_Price</th>\n",
       "      <th>CPI</th>\n",
       "      <th>Unemployment</th>\n",
       "      <th>year</th>\n",
       "      <th>month</th>\n",
       "      <th>day_of_month</th>\n",
       "    </tr>\n",
       "  </thead>\n",
       "  <tbody>\n",
       "    <tr>\n",
       "      <th>0</th>\n",
       "      <td>6.0</td>\n",
       "      <td>NaN</td>\n",
       "      <td>59.61</td>\n",
       "      <td>3.045</td>\n",
       "      <td>214.777523</td>\n",
       "      <td>6.858</td>\n",
       "      <td>2011.0</td>\n",
       "      <td>2.0</td>\n",
       "      <td>18.0</td>\n",
       "    </tr>\n",
       "    <tr>\n",
       "      <th>1</th>\n",
       "      <td>13.0</td>\n",
       "      <td>0.0</td>\n",
       "      <td>42.38</td>\n",
       "      <td>3.435</td>\n",
       "      <td>128.616064</td>\n",
       "      <td>7.470</td>\n",
       "      <td>2011.0</td>\n",
       "      <td>3.0</td>\n",
       "      <td>25.0</td>\n",
       "    </tr>\n",
       "    <tr>\n",
       "      <th>2</th>\n",
       "      <td>6.0</td>\n",
       "      <td>0.0</td>\n",
       "      <td>78.89</td>\n",
       "      <td>2.759</td>\n",
       "      <td>212.412888</td>\n",
       "      <td>7.092</td>\n",
       "      <td>2010.0</td>\n",
       "      <td>5.0</td>\n",
       "      <td>28.0</td>\n",
       "    </tr>\n",
       "    <tr>\n",
       "      <th>3</th>\n",
       "      <td>15.0</td>\n",
       "      <td>0.0</td>\n",
       "      <td>69.80</td>\n",
       "      <td>4.069</td>\n",
       "      <td>134.855161</td>\n",
       "      <td>7.658</td>\n",
       "      <td>2011.0</td>\n",
       "      <td>6.0</td>\n",
       "      <td>3.0</td>\n",
       "    </tr>\n",
       "    <tr>\n",
       "      <th>4</th>\n",
       "      <td>20.0</td>\n",
       "      <td>0.0</td>\n",
       "      <td>39.93</td>\n",
       "      <td>3.617</td>\n",
       "      <td>213.023622</td>\n",
       "      <td>6.961</td>\n",
       "      <td>2012.0</td>\n",
       "      <td>2.0</td>\n",
       "      <td>3.0</td>\n",
       "    </tr>\n",
       "  </tbody>\n",
       "</table>\n",
       "</div>"
      ],
      "text/plain": [
       "   Store  Holiday_Flag  Temperature  Fuel_Price         CPI  Unemployment  \\\n",
       "0    6.0           NaN        59.61       3.045  214.777523         6.858   \n",
       "1   13.0           0.0        42.38       3.435  128.616064         7.470   \n",
       "2    6.0           0.0        78.89       2.759  212.412888         7.092   \n",
       "3   15.0           0.0        69.80       4.069  134.855161         7.658   \n",
       "4   20.0           0.0        39.93       3.617  213.023622         6.961   \n",
       "\n",
       "     year  month  day_of_month  \n",
       "0  2011.0    2.0          18.0  \n",
       "1  2011.0    3.0          25.0  \n",
       "2  2010.0    5.0          28.0  \n",
       "3  2011.0    6.0           3.0  \n",
       "4  2012.0    2.0           3.0  "
      ]
     },
     "execution_count": 37,
     "metadata": {},
     "output_type": "execute_result"
    }
   ],
   "source": [
    "X.head()"
   ]
  },
  {
   "cell_type": "code",
   "execution_count": 38,
   "id": "4b7ff725-7b5d-4a21-9c57-226c3507e4de",
   "metadata": {
    "tags": []
   },
   "outputs": [
    {
     "data": {
      "text/plain": [
       "0    1572117.54\n",
       "1    1807545.43\n",
       "2    1644470.66\n",
       "3     695396.19\n",
       "4    2203523.20\n",
       "Name: Weekly_Sales, dtype: float64"
      ]
     },
     "execution_count": 38,
     "metadata": {},
     "output_type": "execute_result"
    }
   ],
   "source": [
    "Y.head()"
   ]
  },
  {
   "cell_type": "markdown",
   "id": "0065ba3d-9cb6-4c63-a2de-5ac6fb5dee1e",
   "metadata": {},
   "source": [
    "### Identifying categorical and numerical variables in features"
   ]
  },
  {
   "cell_type": "code",
   "execution_count": 39,
   "id": "dbdfb0c4-cc19-46a0-b87e-57f5842e0741",
   "metadata": {
    "tags": []
   },
   "outputs": [],
   "source": [
    "numerical_labels = X_labels\n",
    "categorical_labels = [numerical_labels.pop(numerical_labels.index('Store'))]\n",
    "categorical_labels.append(numerical_labels.pop(numerical_labels.index('Holiday_Flag')))"
   ]
  },
  {
   "cell_type": "code",
   "execution_count": 40,
   "id": "9651acec-5fba-47ac-aeb3-a1a416ae33e3",
   "metadata": {},
   "outputs": [
    {
     "data": {
      "text/plain": [
       "['Temperature',\n",
       " 'Fuel_Price',\n",
       " 'CPI',\n",
       " 'Unemployment',\n",
       " 'year',\n",
       " 'month',\n",
       " 'day_of_month']"
      ]
     },
     "execution_count": 40,
     "metadata": {},
     "output_type": "execute_result"
    }
   ],
   "source": [
    "numerical_labels"
   ]
  },
  {
   "cell_type": "code",
   "execution_count": 41,
   "id": "1cb8eb40-736f-4a94-bb51-62e4e8f4eccc",
   "metadata": {},
   "outputs": [
    {
     "data": {
      "text/plain": [
       "['Store', 'Holiday_Flag']"
      ]
     },
     "execution_count": 41,
     "metadata": {},
     "output_type": "execute_result"
    }
   ],
   "source": [
    "categorical_labels"
   ]
  },
  {
   "cell_type": "markdown",
   "id": "7944d2b8-18a3-4ffc-b28f-a5c8d9b4eb2a",
   "metadata": {},
   "source": [
    "### Splitting training and testing sets"
   ]
  },
  {
   "cell_type": "code",
   "execution_count": 42,
   "id": "aa541e61-26c3-4e41-bb6c-6d36b1a5f823",
   "metadata": {},
   "outputs": [],
   "source": [
    "X_train, X_test, Y_train, Y_test = train_test_split(X,Y, test_size=0.2, random_state=42)"
   ]
  },
  {
   "cell_type": "markdown",
   "id": "3f312201-ac83-4d62-b9f1-624e18fc4cd5",
   "metadata": {},
   "source": [
    "### Pipelines for caterorical and numerical features"
   ]
  },
  {
   "cell_type": "code",
   "execution_count": 43,
   "id": "5a923d82-87f5-40af-959b-be0324f24bbb",
   "metadata": {
    "tags": []
   },
   "outputs": [],
   "source": [
    "num_transformer = Pipeline(steps=[\n",
    "    ('imputer', SimpleImputer(strategy='median')),\n",
    "    ('scaler', StandardScaler())\n",
    "])\n",
    "cat_transformer = Pipeline(steps=[\n",
    "    ('imputer', SimpleImputer(strategy='most_frequent')),\n",
    "    ('encoder', OneHotEncoder(drop='first'))\n",
    "])\n",
    "preprocessor = ColumnTransformer(\n",
    "    transformers=[\n",
    "        ('num', num_transformer, numerical_labels),\n",
    "        ('cat', cat_transformer, categorical_labels)\n",
    "    ])"
   ]
  },
  {
   "cell_type": "code",
   "execution_count": 44,
   "id": "3fe6b019-544f-4655-afe4-d00b83762bfe",
   "metadata": {
    "tags": []
   },
   "outputs": [],
   "source": [
    "X_train = preprocessor.fit_transform(X_train)\n",
    "X_test = preprocessor.transform(X_test)"
   ]
  },
  {
   "cell_type": "code",
   "execution_count": 45,
   "id": "57ad5f64-f5dc-453b-a1ea-50b3a6e3c4b5",
   "metadata": {
    "tags": []
   },
   "outputs": [
    {
     "data": {
      "text/plain": [
       "array([[ 0.70516394, -1.13980519,  0.62142729, ...,  0.        ,\n",
       "         1.        ,  0.        ],\n",
       "       [ 0.91740363, -1.12721323, -1.39889017, ...,  0.        ,\n",
       "         0.        ,  0.        ],\n",
       "       [ 0.71388612, -1.61410219,  0.88703934, ...,  0.        ,\n",
       "         0.        ,  0.        ],\n",
       "       ...,\n",
       "       [-1.38059979,  1.22748251,  0.44510476, ...,  0.        ,\n",
       "         0.        ,  0.        ],\n",
       "       [ 0.83367071,  1.14983212,  0.92969294, ...,  0.        ,\n",
       "         0.        ,  0.        ],\n",
       "       [-0.04610641, -0.09047553,  0.97312818, ...,  0.        ,\n",
       "         0.        ,  0.        ]])"
      ]
     },
     "execution_count": 45,
     "metadata": {},
     "output_type": "execute_result"
    }
   ],
   "source": [
    "X_train"
   ]
  },
  {
   "cell_type": "markdown",
   "id": "170d9675-372c-4e5e-9162-60c0487de2b0",
   "metadata": {
    "toc-hr-collapsed": true
   },
   "source": [
    "## Create and train linear regression model"
   ]
  },
  {
   "cell_type": "code",
   "execution_count": 46,
   "id": "b59e3c4d-3bde-4319-b8cf-34905033633b",
   "metadata": {
    "tags": []
   },
   "outputs": [],
   "source": [
    "# training the model\n",
    "l_reg = LinearRegression()\n",
    "l_reg.fit(X_train, Y_train)\n",
    "Y_train_pred = l_reg.predict(X_train)\n",
    "Y_test_pred = l_reg.predict(X_test)"
   ]
  },
  {
   "cell_type": "markdown",
   "id": "0ad2e83f-08a6-46e4-9284-aea3d4d80ecd",
   "metadata": {},
   "source": [
    "### Score"
   ]
  },
  {
   "cell_type": "code",
   "execution_count": 47,
   "id": "d3b73cc8-62e6-4b28-b5b9-0224a790a87d",
   "metadata": {
    "tags": []
   },
   "outputs": [
    {
     "name": "stdout",
     "output_type": "stream",
     "text": [
      "R2 score on train set :  0.9817442273614119\n",
      "R2 score on test set :  0.9470437168592517\n"
     ]
    }
   ],
   "source": [
    "print('R2 score on train set : ', r2_score(Y_train, Y_train_pred))\n",
    "print('R2 score on test set : ', r2_score(Y_test, Y_test_pred))"
   ]
  },
  {
   "cell_type": "code",
   "execution_count": 48,
   "id": "fed005b7-c226-4bb6-a021-35946207ae39",
   "metadata": {
    "tags": []
   },
   "outputs": [],
   "source": [
    "# Retriving Labels from encoded column into a list\n",
    "one_hot_encoded_labels = preprocessor.transformers_[1][1][1].get_feature_names_out(categorical_labels).tolist()"
   ]
  },
  {
   "cell_type": "code",
   "execution_count": 49,
   "id": "fd1998e2-bb2d-4a94-b988-ba68c4f216d9",
   "metadata": {
    "tags": []
   },
   "outputs": [
    {
     "data": {
      "text/plain": [
       "['Store_2.0',\n",
       " 'Store_3.0',\n",
       " 'Store_4.0',\n",
       " 'Store_5.0',\n",
       " 'Store_6.0',\n",
       " 'Store_7.0',\n",
       " 'Store_8.0',\n",
       " 'Store_9.0',\n",
       " 'Store_10.0',\n",
       " 'Store_11.0',\n",
       " 'Store_13.0',\n",
       " 'Store_14.0',\n",
       " 'Store_15.0',\n",
       " 'Store_16.0',\n",
       " 'Store_17.0',\n",
       " 'Store_18.0',\n",
       " 'Store_19.0',\n",
       " 'Store_20.0',\n",
       " 'Holiday_Flag_1.0',\n",
       " 'Temperature',\n",
       " 'Fuel_Price',\n",
       " 'CPI',\n",
       " 'Unemployment',\n",
       " 'year',\n",
       " 'month',\n",
       " 'day_of_month']"
      ]
     },
     "execution_count": 49,
     "metadata": {},
     "output_type": "execute_result"
    }
   ],
   "source": [
    "feature_labels = one_hot_encoded_labels + numerical_labels\n",
    "feature_labels"
   ]
  },
  {
   "cell_type": "code",
   "execution_count": 50,
   "id": "a997f871-4ce5-4298-aa14-80bbbe246e13",
   "metadata": {},
   "outputs": [
    {
     "data": {
      "text/plain": [
       "{'Store_5.0': 12029.21,\n",
       " 'Store_7.0': 26998.99,\n",
       " 'Store_6.0': 30115.01,\n",
       " 'Store_2.0': 37959.54,\n",
       " 'Store_8.0': 43671.69,\n",
       " 'Store_3.0': 64201.87,\n",
       " 'day_of_month': 82925.35,\n",
       " 'Store_14.0': 108927.46,\n",
       " 'Store_19.0': 167148.62,\n",
       " 'Store_9.0': 340122.53,\n",
       " 'month': 528621.42,\n",
       " 'Store_15.0': 569382.34,\n",
       " 'Fuel_Price': 573469.68,\n",
       " 'Store_16.0': 739224.58,\n",
       " 'Store_4.0': 820605.12,\n",
       " 'Temperature': 847406.93,\n",
       " 'CPI': 952683.05,\n",
       " 'Holiday_Flag_1.0': 1158964.78,\n",
       " 'Store_17.0': 1191552.13,\n",
       " 'Unemployment': 1206137.81,\n",
       " 'Store_10.0': 1279584.69,\n",
       " 'Store_13.0': 1280089.65,\n",
       " 'year': 1560971.82,\n",
       " 'Store_18.0': 2200542.84,\n",
       " 'Store_20.0': 2258469.55,\n",
       " 'Store_11.0': 2513882.75}"
      ]
     },
     "execution_count": 50,
     "metadata": {},
     "output_type": "execute_result"
    }
   ],
   "source": [
    "# Getting the models coefficients in absolute values a dictionary\n",
    "coeff = dict([(f, abs(round(c, 2))) for f,c in zip(feature_labels, l_reg.coef_.tolist())])\n",
    "\n",
    "# Sorting coefficients by values\n",
    "coeff = {k: v for k, v in sorted(coeff.items(), key=lambda item: item[1])}\n",
    "coeff"
   ]
  },
  {
   "cell_type": "markdown",
   "id": "35703e5b-4a15-4c4c-a212-a65f5cd8938e",
   "metadata": {},
   "source": [
    "    * Here, the r2 score on the train set is very close to 1, so we can suspect an overfit\n",
    "    * 3 of the stores have the highest coefficient. Therefore, they are the most important for the predictions on this model"
   ]
  },
  {
   "cell_type": "markdown",
   "id": "4dc0dcf1-e79a-4cd4-93ae-41af12ed968c",
   "metadata": {
    "tags": [],
    "toc-hr-collapsed": true
   },
   "source": [
    "## Regularized Models"
   ]
  },
  {
   "cell_type": "markdown",
   "id": "efe695b2-a420-4739-bb8f-552fa7086f86",
   "metadata": {},
   "source": [
    "### Ridge Model"
   ]
  },
  {
   "cell_type": "code",
   "execution_count": 51,
   "id": "4145797c-d6ca-48c7-8a9d-d999c4deeaac",
   "metadata": {},
   "outputs": [],
   "source": [
    "ridge_m = Ridge()\n",
    "ridge_m.fit(X_train, Y_train)\n",
    "ridge_m_train_pred = ridge_m.predict(X_train)\n",
    "ridge_m_test_pred = ridge_m.predict(X_test)"
   ]
  },
  {
   "cell_type": "code",
   "execution_count": 52,
   "id": "54550224-6f3e-4fe0-bf54-e16fc8b8f060",
   "metadata": {},
   "outputs": [
    {
     "data": {
      "text/plain": [
       "0.9260810166547855"
      ]
     },
     "execution_count": 52,
     "metadata": {},
     "output_type": "execute_result"
    }
   ],
   "source": [
    "#R2 score of the ridge model on train set\n",
    "ridge_m.score(X_train, Y_train)"
   ]
  },
  {
   "cell_type": "code",
   "execution_count": 53,
   "id": "aba9ed3a-4fa1-4e9e-b1d0-3fa6926525de",
   "metadata": {},
   "outputs": [
    {
     "data": {
      "text/plain": [
       "0.8750851164766239"
      ]
     },
     "execution_count": 53,
     "metadata": {},
     "output_type": "execute_result"
    }
   ],
   "source": [
    "#R2 score of the ridge model on test set\n",
    "ridge_m.score(X_test, Y_test)"
   ]
  },
  {
   "cell_type": "markdown",
   "id": "a7e8d430-3aab-4592-9f07-5349741dad0e",
   "metadata": {},
   "source": [
    "    * There is less overfitting"
   ]
  },
  {
   "cell_type": "markdown",
   "id": "12ae2896-9422-4fb0-b009-76264201735b",
   "metadata": {},
   "source": [
    "### Lasso model"
   ]
  },
  {
   "cell_type": "code",
   "execution_count": 54,
   "id": "a2892b12-b53f-4be6-9057-622c6f0ba7fc",
   "metadata": {},
   "outputs": [],
   "source": [
    "lasso_m = Lasso(max_iter=1000000000)\n",
    "lasso_m.fit(X_train, Y_train)\n",
    "lasso_m_train_pred = lasso_m.predict(X_train)\n",
    "lasso_m_test_pred = lasso_m.predict(X_test)"
   ]
  },
  {
   "cell_type": "code",
   "execution_count": 55,
   "id": "72dd7a7b-492e-4f2b-a69a-f9a0c45b82b3",
   "metadata": {},
   "outputs": [
    {
     "data": {
      "text/plain": [
       "0.981743419757902"
      ]
     },
     "execution_count": 55,
     "metadata": {},
     "output_type": "execute_result"
    }
   ],
   "source": [
    "#R2 score of the lasso model on train set\n",
    "lasso_m.score(X_train, Y_train)"
   ]
  },
  {
   "cell_type": "code",
   "execution_count": 56,
   "id": "8e298aa1-0445-46d4-8852-0098ffa1ab91",
   "metadata": {},
   "outputs": [
    {
     "data": {
      "text/plain": [
       "0.9474750340756298"
      ]
     },
     "execution_count": 56,
     "metadata": {},
     "output_type": "execute_result"
    }
   ],
   "source": [
    "#R2 score of the ridge model on test set\n",
    "lasso_m.score(X_test, Y_test)"
   ]
  },
  {
   "cell_type": "markdown",
   "id": "d502dd34-6bb4-4828-971a-6be91ca5d79a",
   "metadata": {},
   "source": [
    "    * We are still overtting "
   ]
  },
  {
   "cell_type": "markdown",
   "id": "12ad600f-a965-465b-8265-8b256f4b24f8",
   "metadata": {},
   "source": [
    "### Grid search"
   ]
  },
  {
   "cell_type": "code",
   "execution_count": 57,
   "id": "48186f0e-09ea-4b55-8f67-7cf4d3144ade",
   "metadata": {},
   "outputs": [
    {
     "name": "stdout",
     "output_type": "stream",
     "text": [
      "Fitting 10 folds for each of 1000 candidates, totalling 10000 fits\n",
      "Optimal value for alpha :  {'alpha': 0}\n"
     ]
    }
   ],
   "source": [
    "# Grid search for alpha with Ridge\n",
    "params_r = {'alpha': np.arange(0,1000,1)} \n",
    "ridge_gs = Ridge()\n",
    "\n",
    "grid_r = GridSearchCV(ridge_gs, params_r, cv = 10, verbose = 1)\n",
    "grid_r_fit = grid_r.fit(X_train, Y_train)\n",
    "print(\"Optimal value for alpha : \", grid_r_fit.best_params_)"
   ]
  },
  {
   "cell_type": "code",
   "execution_count": 58,
   "id": "abf929a3-6792-4863-b9d0-70fc4dc11152",
   "metadata": {},
   "outputs": [
    {
     "name": "stdout",
     "output_type": "stream",
     "text": [
      "The cross-validated R2-score is :  0.8859773752658043\n",
      "The standard deviation is :  0.18806376921680543\n"
     ]
    }
   ],
   "source": [
    "scores_r = cross_val_score(grid_r_fit.best_estimator_, X_train, Y_train, cv = 10)\n",
    "\n",
    "print('The cross-validated R2-score is : ', scores_r.mean())\n",
    "print('The standard deviation is : ', scores_r.std())"
   ]
  },
  {
   "cell_type": "code",
   "execution_count": 59,
   "id": "f4d9a415-bc3c-46c9-925c-00d596b30f49",
   "metadata": {},
   "outputs": [
    {
     "name": "stdout",
     "output_type": "stream",
     "text": [
      "Fitting 10 folds for each of 10 candidates, totalling 100 fits\n",
      "Optimal value for alpha :  {'alpha': 1}\n"
     ]
    }
   ],
   "source": [
    "# Grid search for alpha with Lasso\n",
    "params_l = {'alpha' : [10**(-a) for a in range(10)]}\n",
    "lasso_gs = Lasso(max_iter=1000000000)\n",
    "\n",
    "grid_l = GridSearchCV(lasso_gs, params_l, cv = 10, verbose = 1)\n",
    "grid_l_fit = grid_l.fit(X_train, Y_train)\n",
    "print(\"Optimal value for alpha : \", grid_l_fit.best_params_)"
   ]
  },
  {
   "cell_type": "code",
   "execution_count": 60,
   "id": "e126e87d-ab05-4cf4-920e-cad85b779767",
   "metadata": {},
   "outputs": [
    {
     "name": "stdout",
     "output_type": "stream",
     "text": [
      "The cross-validated R2-score is :  0.8891046481641054\n",
      "The standard deviation is :  0.17853986023433843\n"
     ]
    }
   ],
   "source": [
    "scores_l = cross_val_score(grid_l_fit.best_estimator_, X_train, Y_train, cv = 10)\n",
    "\n",
    "print('The cross-validated R2-score is : ', scores_l.mean())\n",
    "print('The standard deviation is : ', scores_l.std())"
   ]
  },
  {
   "cell_type": "code",
   "execution_count": null,
   "id": "eeacd0ca-4c4f-46ca-af5a-b23e61e66fb5",
   "metadata": {},
   "outputs": [],
   "source": []
  }
 ],
 "metadata": {
  "kernelspec": {
   "display_name": "Python 3.9.12 ('base')",
   "language": "python",
   "name": "python3"
  },
  "language_info": {
   "codemirror_mode": {
    "name": "ipython",
    "version": 3
   },
   "file_extension": ".py",
   "mimetype": "text/x-python",
   "name": "python",
   "nbconvert_exporter": "python",
   "pygments_lexer": "ipython3",
   "version": "3.9.12"
  },
  "vscode": {
   "interpreter": {
    "hash": "02c733b4e4e71d342ff1aec4b9e2017ca239a140aa3ddc86f295671e35fe778a"
   }
  }
 },
 "nbformat": 4,
 "nbformat_minor": 5
}
