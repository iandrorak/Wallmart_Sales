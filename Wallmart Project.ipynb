{
 "cells": [
  {
   "cell_type": "markdown",
   "id": "c5612a6a",
   "metadata": {},
   "source": [
    "# Walmart : predict weekly sales"
   ]
  },
  {
   "cell_type": "markdown",
   "id": "cef825b3",
   "metadata": {},
   "source": [
    "## Imports"
   ]
  },
  {
   "cell_type": "code",
   "execution_count": 1,
   "id": "cf2c0b47",
   "metadata": {
    "tags": []
   },
   "outputs": [],
   "source": [
    "import pandas as pd\n",
    "import numpy as np\n",
    "import matplotlib.pyplot as plt\n",
    "import seaborn as sns\n",
    "\n",
    "from datetime import datetime\n",
    "from sklearn.model_selection import train_test_split, GridSearchCV, cross_val_score\n",
    "from sklearn.feature_selection import f_regression\n",
    "from sklearn.pipeline import Pipeline\n",
    "from sklearn.impute import SimpleImputer\n",
    "from sklearn.preprocessing import  OneHotEncoder, StandardScaler\n",
    "from sklearn.compose import ColumnTransformer\n",
    "from sklearn.linear_model import LinearRegression, Ridge, Lasso\n",
    "from sklearn.metrics import r2_score, accuracy_score\n",
    "from geopy.geocoders import Nominatim\n",
    "\n",
    "import plotly.express as px\n",
    "import plotly.graph_objects as go\n",
    "import plotly.io as pio\n",
    "import plotly.figure_factory as ff"
   ]
  },
  {
   "cell_type": "markdown",
   "id": "2150bf62",
   "metadata": {},
   "source": [
    "## Loading dataset"
   ]
  },
  {
   "cell_type": "code",
   "execution_count": 2,
   "id": "cb71441d",
   "metadata": {
    "tags": []
   },
   "outputs": [],
   "source": [
    "w_sales = pd.read_csv('src/Walmart_Store_sales.csv')"
   ]
  },
  {
   "cell_type": "code",
   "execution_count": 3,
   "id": "d1de995f",
   "metadata": {
    "tags": []
   },
   "outputs": [
    {
     "data": {
      "text/html": [
       "<div>\n",
       "<style scoped>\n",
       "    .dataframe tbody tr th:only-of-type {\n",
       "        vertical-align: middle;\n",
       "    }\n",
       "\n",
       "    .dataframe tbody tr th {\n",
       "        vertical-align: top;\n",
       "    }\n",
       "\n",
       "    .dataframe thead th {\n",
       "        text-align: right;\n",
       "    }\n",
       "</style>\n",
       "<table border=\"1\" class=\"dataframe\">\n",
       "  <thead>\n",
       "    <tr style=\"text-align: right;\">\n",
       "      <th></th>\n",
       "      <th>Store</th>\n",
       "      <th>Date</th>\n",
       "      <th>Weekly_Sales</th>\n",
       "      <th>Holiday_Flag</th>\n",
       "      <th>Temperature</th>\n",
       "      <th>Fuel_Price</th>\n",
       "      <th>CPI</th>\n",
       "      <th>Unemployment</th>\n",
       "    </tr>\n",
       "  </thead>\n",
       "  <tbody>\n",
       "    <tr>\n",
       "      <th>0</th>\n",
       "      <td>6.0</td>\n",
       "      <td>18-02-2011</td>\n",
       "      <td>1572117.54</td>\n",
       "      <td>NaN</td>\n",
       "      <td>59.61</td>\n",
       "      <td>3.045</td>\n",
       "      <td>214.777523</td>\n",
       "      <td>6.858</td>\n",
       "    </tr>\n",
       "    <tr>\n",
       "      <th>1</th>\n",
       "      <td>13.0</td>\n",
       "      <td>25-03-2011</td>\n",
       "      <td>1807545.43</td>\n",
       "      <td>0.0</td>\n",
       "      <td>42.38</td>\n",
       "      <td>3.435</td>\n",
       "      <td>128.616064</td>\n",
       "      <td>7.470</td>\n",
       "    </tr>\n",
       "    <tr>\n",
       "      <th>2</th>\n",
       "      <td>17.0</td>\n",
       "      <td>27-07-2012</td>\n",
       "      <td>NaN</td>\n",
       "      <td>0.0</td>\n",
       "      <td>NaN</td>\n",
       "      <td>NaN</td>\n",
       "      <td>130.719581</td>\n",
       "      <td>5.936</td>\n",
       "    </tr>\n",
       "    <tr>\n",
       "      <th>3</th>\n",
       "      <td>11.0</td>\n",
       "      <td>NaN</td>\n",
       "      <td>1244390.03</td>\n",
       "      <td>0.0</td>\n",
       "      <td>84.57</td>\n",
       "      <td>NaN</td>\n",
       "      <td>214.556497</td>\n",
       "      <td>7.346</td>\n",
       "    </tr>\n",
       "    <tr>\n",
       "      <th>4</th>\n",
       "      <td>6.0</td>\n",
       "      <td>28-05-2010</td>\n",
       "      <td>1644470.66</td>\n",
       "      <td>0.0</td>\n",
       "      <td>78.89</td>\n",
       "      <td>2.759</td>\n",
       "      <td>212.412888</td>\n",
       "      <td>7.092</td>\n",
       "    </tr>\n",
       "  </tbody>\n",
       "</table>\n",
       "</div>"
      ],
      "text/plain": [
       "   Store        Date  Weekly_Sales  Holiday_Flag  Temperature  Fuel_Price  \\\n",
       "0    6.0  18-02-2011    1572117.54           NaN        59.61       3.045   \n",
       "1   13.0  25-03-2011    1807545.43           0.0        42.38       3.435   \n",
       "2   17.0  27-07-2012           NaN           0.0          NaN         NaN   \n",
       "3   11.0         NaN    1244390.03           0.0        84.57         NaN   \n",
       "4    6.0  28-05-2010    1644470.66           0.0        78.89       2.759   \n",
       "\n",
       "          CPI  Unemployment  \n",
       "0  214.777523         6.858  \n",
       "1  128.616064         7.470  \n",
       "2  130.719581         5.936  \n",
       "3  214.556497         7.346  \n",
       "4  212.412888         7.092  "
      ]
     },
     "execution_count": 3,
     "metadata": {},
     "output_type": "execute_result"
    }
   ],
   "source": [
    "w_sales.head()"
   ]
  },
  {
   "cell_type": "markdown",
   "id": "8da9290f-df7b-4a36-9275-250a4c8271a8",
   "metadata": {
    "toc-hr-collapsed": true
   },
   "source": [
    "## Datas Overview"
   ]
  },
  {
   "cell_type": "code",
   "execution_count": 4,
   "id": "8728fb26",
   "metadata": {
    "tags": []
   },
   "outputs": [
    {
     "data": {
      "text/plain": [
       "<bound method DataFrame.info of      Store        Date  Weekly_Sales  Holiday_Flag  Temperature  Fuel_Price  \\\n",
       "0      6.0  18-02-2011    1572117.54           NaN        59.61       3.045   \n",
       "1     13.0  25-03-2011    1807545.43           0.0        42.38       3.435   \n",
       "2     17.0  27-07-2012           NaN           0.0          NaN         NaN   \n",
       "3     11.0         NaN    1244390.03           0.0        84.57         NaN   \n",
       "4      6.0  28-05-2010    1644470.66           0.0        78.89       2.759   \n",
       "..     ...         ...           ...           ...          ...         ...   \n",
       "145   14.0  18-06-2010    2248645.59           0.0        72.62       2.780   \n",
       "146    7.0         NaN     716388.81           NaN        20.74       2.778   \n",
       "147   17.0  11-06-2010     845252.21           0.0        57.14       2.841   \n",
       "148    8.0  12-08-2011     856796.10           0.0        86.05       3.638   \n",
       "149   19.0  20-04-2012    1255087.26           0.0        55.20       4.170   \n",
       "\n",
       "            CPI  Unemployment  \n",
       "0    214.777523         6.858  \n",
       "1    128.616064         7.470  \n",
       "2    130.719581         5.936  \n",
       "3    214.556497         7.346  \n",
       "4    212.412888         7.092  \n",
       "..          ...           ...  \n",
       "145  182.442420         8.899  \n",
       "146         NaN           NaN  \n",
       "147  126.111903           NaN  \n",
       "148  219.007525           NaN  \n",
       "149  137.923067         8.150  \n",
       "\n",
       "[150 rows x 8 columns]>"
      ]
     },
     "execution_count": 4,
     "metadata": {},
     "output_type": "execute_result"
    }
   ],
   "source": [
    "w_sales.info"
   ]
  },
  {
   "cell_type": "markdown",
   "id": "da2b30ee",
   "metadata": {},
   "source": [
    "### Changing Date in Timestamp format"
   ]
  },
  {
   "cell_type": "code",
   "execution_count": 5,
   "id": "5d165f0e",
   "metadata": {
    "tags": []
   },
   "outputs": [
    {
     "data": {
      "text/plain": [
       "str"
      ]
     },
     "execution_count": 5,
     "metadata": {},
     "output_type": "execute_result"
    }
   ],
   "source": [
    "type(w_sales['Date'][0])"
   ]
  },
  {
   "cell_type": "code",
   "execution_count": 6,
   "id": "d670483c",
   "metadata": {
    "tags": []
   },
   "outputs": [],
   "source": [
    "def todatetime(mot):\n",
    "    if type(mot) == str:\n",
    "        return datetime.strptime(mot, '%d-%m-%Y')\n",
    "w_sales['Date'] = w_sales['Date'].apply(todatetime)"
   ]
  },
  {
   "cell_type": "code",
   "execution_count": 7,
   "id": "cefa5f7e",
   "metadata": {
    "tags": []
   },
   "outputs": [
    {
     "data": {
      "text/html": [
       "<div>\n",
       "<style scoped>\n",
       "    .dataframe tbody tr th:only-of-type {\n",
       "        vertical-align: middle;\n",
       "    }\n",
       "\n",
       "    .dataframe tbody tr th {\n",
       "        vertical-align: top;\n",
       "    }\n",
       "\n",
       "    .dataframe thead th {\n",
       "        text-align: right;\n",
       "    }\n",
       "</style>\n",
       "<table border=\"1\" class=\"dataframe\">\n",
       "  <thead>\n",
       "    <tr style=\"text-align: right;\">\n",
       "      <th></th>\n",
       "      <th>Store</th>\n",
       "      <th>Date</th>\n",
       "      <th>Weekly_Sales</th>\n",
       "      <th>Holiday_Flag</th>\n",
       "      <th>Temperature</th>\n",
       "      <th>Fuel_Price</th>\n",
       "      <th>CPI</th>\n",
       "      <th>Unemployment</th>\n",
       "    </tr>\n",
       "  </thead>\n",
       "  <tbody>\n",
       "    <tr>\n",
       "      <th>0</th>\n",
       "      <td>6.0</td>\n",
       "      <td>2011-02-18</td>\n",
       "      <td>1572117.54</td>\n",
       "      <td>NaN</td>\n",
       "      <td>59.61</td>\n",
       "      <td>3.045</td>\n",
       "      <td>214.777523</td>\n",
       "      <td>6.858</td>\n",
       "    </tr>\n",
       "    <tr>\n",
       "      <th>1</th>\n",
       "      <td>13.0</td>\n",
       "      <td>2011-03-25</td>\n",
       "      <td>1807545.43</td>\n",
       "      <td>0.0</td>\n",
       "      <td>42.38</td>\n",
       "      <td>3.435</td>\n",
       "      <td>128.616064</td>\n",
       "      <td>7.470</td>\n",
       "    </tr>\n",
       "    <tr>\n",
       "      <th>2</th>\n",
       "      <td>17.0</td>\n",
       "      <td>2012-07-27</td>\n",
       "      <td>NaN</td>\n",
       "      <td>0.0</td>\n",
       "      <td>NaN</td>\n",
       "      <td>NaN</td>\n",
       "      <td>130.719581</td>\n",
       "      <td>5.936</td>\n",
       "    </tr>\n",
       "    <tr>\n",
       "      <th>3</th>\n",
       "      <td>11.0</td>\n",
       "      <td>NaT</td>\n",
       "      <td>1244390.03</td>\n",
       "      <td>0.0</td>\n",
       "      <td>84.57</td>\n",
       "      <td>NaN</td>\n",
       "      <td>214.556497</td>\n",
       "      <td>7.346</td>\n",
       "    </tr>\n",
       "    <tr>\n",
       "      <th>4</th>\n",
       "      <td>6.0</td>\n",
       "      <td>2010-05-28</td>\n",
       "      <td>1644470.66</td>\n",
       "      <td>0.0</td>\n",
       "      <td>78.89</td>\n",
       "      <td>2.759</td>\n",
       "      <td>212.412888</td>\n",
       "      <td>7.092</td>\n",
       "    </tr>\n",
       "  </tbody>\n",
       "</table>\n",
       "</div>"
      ],
      "text/plain": [
       "   Store       Date  Weekly_Sales  Holiday_Flag  Temperature  Fuel_Price  \\\n",
       "0    6.0 2011-02-18    1572117.54           NaN        59.61       3.045   \n",
       "1   13.0 2011-03-25    1807545.43           0.0        42.38       3.435   \n",
       "2   17.0 2012-07-27           NaN           0.0          NaN         NaN   \n",
       "3   11.0        NaT    1244390.03           0.0        84.57         NaN   \n",
       "4    6.0 2010-05-28    1644470.66           0.0        78.89       2.759   \n",
       "\n",
       "          CPI  Unemployment  \n",
       "0  214.777523         6.858  \n",
       "1  128.616064         7.470  \n",
       "2  130.719581         5.936  \n",
       "3  214.556497         7.346  \n",
       "4  212.412888         7.092  "
      ]
     },
     "execution_count": 7,
     "metadata": {},
     "output_type": "execute_result"
    }
   ],
   "source": [
    "# Dataset overview\n",
    "w_sales.head()"
   ]
  },
  {
   "cell_type": "markdown",
   "id": "eeae70c6",
   "metadata": {},
   "source": [
    "### Overview of features info"
   ]
  },
  {
   "cell_type": "code",
   "execution_count": 8,
   "id": "19ed37ad",
   "metadata": {
    "tags": []
   },
   "outputs": [
    {
     "data": {
      "text/html": [
       "<div>\n",
       "<style scoped>\n",
       "    .dataframe tbody tr th:only-of-type {\n",
       "        vertical-align: middle;\n",
       "    }\n",
       "\n",
       "    .dataframe tbody tr th {\n",
       "        vertical-align: top;\n",
       "    }\n",
       "\n",
       "    .dataframe thead th {\n",
       "        text-align: right;\n",
       "    }\n",
       "</style>\n",
       "<table border=\"1\" class=\"dataframe\">\n",
       "  <thead>\n",
       "    <tr style=\"text-align: right;\">\n",
       "      <th></th>\n",
       "      <th>Store</th>\n",
       "      <th>Date</th>\n",
       "      <th>Weekly_Sales</th>\n",
       "      <th>Holiday_Flag</th>\n",
       "      <th>Temperature</th>\n",
       "      <th>Fuel_Price</th>\n",
       "      <th>CPI</th>\n",
       "      <th>Unemployment</th>\n",
       "    </tr>\n",
       "  </thead>\n",
       "  <tbody>\n",
       "    <tr>\n",
       "      <th>count</th>\n",
       "      <td>150.000000</td>\n",
       "      <td>132</td>\n",
       "      <td>1.360000e+02</td>\n",
       "      <td>138.000000</td>\n",
       "      <td>132.000000</td>\n",
       "      <td>136.000000</td>\n",
       "      <td>138.000000</td>\n",
       "      <td>135.000000</td>\n",
       "    </tr>\n",
       "    <tr>\n",
       "      <th>mean</th>\n",
       "      <td>9.866667</td>\n",
       "      <td>2011-05-07 09:05:27.272727296</td>\n",
       "      <td>1.249536e+06</td>\n",
       "      <td>0.079710</td>\n",
       "      <td>61.398106</td>\n",
       "      <td>3.320853</td>\n",
       "      <td>179.898509</td>\n",
       "      <td>7.598430</td>\n",
       "    </tr>\n",
       "    <tr>\n",
       "      <th>min</th>\n",
       "      <td>1.000000</td>\n",
       "      <td>2010-02-05 00:00:00</td>\n",
       "      <td>2.689290e+05</td>\n",
       "      <td>0.000000</td>\n",
       "      <td>18.790000</td>\n",
       "      <td>2.514000</td>\n",
       "      <td>126.111903</td>\n",
       "      <td>5.143000</td>\n",
       "    </tr>\n",
       "    <tr>\n",
       "      <th>25%</th>\n",
       "      <td>4.000000</td>\n",
       "      <td>2010-08-16 12:00:00</td>\n",
       "      <td>6.050757e+05</td>\n",
       "      <td>0.000000</td>\n",
       "      <td>45.587500</td>\n",
       "      <td>2.852250</td>\n",
       "      <td>131.970831</td>\n",
       "      <td>6.597500</td>\n",
       "    </tr>\n",
       "    <tr>\n",
       "      <th>50%</th>\n",
       "      <td>9.000000</td>\n",
       "      <td>2011-05-09 12:00:00</td>\n",
       "      <td>1.261424e+06</td>\n",
       "      <td>0.000000</td>\n",
       "      <td>62.985000</td>\n",
       "      <td>3.451000</td>\n",
       "      <td>197.908893</td>\n",
       "      <td>7.470000</td>\n",
       "    </tr>\n",
       "    <tr>\n",
       "      <th>75%</th>\n",
       "      <td>15.750000</td>\n",
       "      <td>2012-01-14 18:00:00</td>\n",
       "      <td>1.806386e+06</td>\n",
       "      <td>0.000000</td>\n",
       "      <td>76.345000</td>\n",
       "      <td>3.706250</td>\n",
       "      <td>214.934616</td>\n",
       "      <td>8.150000</td>\n",
       "    </tr>\n",
       "    <tr>\n",
       "      <th>max</th>\n",
       "      <td>20.000000</td>\n",
       "      <td>2012-10-19 00:00:00</td>\n",
       "      <td>2.771397e+06</td>\n",
       "      <td>1.000000</td>\n",
       "      <td>91.650000</td>\n",
       "      <td>4.193000</td>\n",
       "      <td>226.968844</td>\n",
       "      <td>14.313000</td>\n",
       "    </tr>\n",
       "    <tr>\n",
       "      <th>std</th>\n",
       "      <td>6.231191</td>\n",
       "      <td>NaN</td>\n",
       "      <td>6.474630e+05</td>\n",
       "      <td>0.271831</td>\n",
       "      <td>18.378901</td>\n",
       "      <td>0.478149</td>\n",
       "      <td>40.274956</td>\n",
       "      <td>1.577173</td>\n",
       "    </tr>\n",
       "  </tbody>\n",
       "</table>\n",
       "</div>"
      ],
      "text/plain": [
       "            Store                           Date  Weekly_Sales  Holiday_Flag  \\\n",
       "count  150.000000                            132  1.360000e+02    138.000000   \n",
       "mean     9.866667  2011-05-07 09:05:27.272727296  1.249536e+06      0.079710   \n",
       "min      1.000000            2010-02-05 00:00:00  2.689290e+05      0.000000   \n",
       "25%      4.000000            2010-08-16 12:00:00  6.050757e+05      0.000000   \n",
       "50%      9.000000            2011-05-09 12:00:00  1.261424e+06      0.000000   \n",
       "75%     15.750000            2012-01-14 18:00:00  1.806386e+06      0.000000   \n",
       "max     20.000000            2012-10-19 00:00:00  2.771397e+06      1.000000   \n",
       "std      6.231191                            NaN  6.474630e+05      0.271831   \n",
       "\n",
       "       Temperature  Fuel_Price         CPI  Unemployment  \n",
       "count   132.000000  136.000000  138.000000    135.000000  \n",
       "mean     61.398106    3.320853  179.898509      7.598430  \n",
       "min      18.790000    2.514000  126.111903      5.143000  \n",
       "25%      45.587500    2.852250  131.970831      6.597500  \n",
       "50%      62.985000    3.451000  197.908893      7.470000  \n",
       "75%      76.345000    3.706250  214.934616      8.150000  \n",
       "max      91.650000    4.193000  226.968844     14.313000  \n",
       "std      18.378901    0.478149   40.274956      1.577173  "
      ]
     },
     "execution_count": 8,
     "metadata": {},
     "output_type": "execute_result"
    }
   ],
   "source": [
    "#Basic stats on data\n",
    "w_sales.describe(include='all',datetime_is_numeric=True)"
   ]
  },
  {
   "cell_type": "code",
   "execution_count": 9,
   "id": "def6f2a3",
   "metadata": {
    "tags": []
   },
   "outputs": [
    {
     "data": {
      "text/plain": [
       "Store            0\n",
       "Date            18\n",
       "Weekly_Sales    14\n",
       "Holiday_Flag    12\n",
       "Temperature     18\n",
       "Fuel_Price      14\n",
       "CPI             12\n",
       "Unemployment    15\n",
       "dtype: int64"
      ]
     },
     "execution_count": 9,
     "metadata": {},
     "output_type": "execute_result"
    }
   ],
   "source": [
    "w_sales.isnull().sum()"
   ]
  },
  {
   "cell_type": "markdown",
   "id": "12674a0b",
   "metadata": {},
   "source": [
    "### Visualisation of the relations between each feature and the target"
   ]
  },
  {
   "cell_type": "code",
   "execution_count": 10,
   "id": "19684ac5",
   "metadata": {
    "tags": []
   },
   "outputs": [
    {
     "data": {
      "application/vnd.plotly.v1+json": {
       "config": {
        "plotlyServerURL": "https://plot.ly"
       },
       "data": [
        {
         "alignmentgroup": "True",
         "bingroup": "x",
         "histfunc": "sum",
         "hovertemplate": "Store=%{x}<br>sum of Weekly_Sales=%{y}<extra></extra>",
         "legendgroup": "",
         "marker": {
          "color": "#636efa",
          "pattern": {
           "shape": ""
          }
         },
         "name": "",
         "nbinsx": 21,
         "offsetgroup": "",
         "orientation": "v",
         "showlegend": false,
         "type": "histogram",
         "x": [
          6,
          13,
          17,
          11,
          6,
          4,
          15,
          20,
          14,
          3,
          8,
          18,
          7,
          1,
          17,
          6,
          13,
          18,
          2,
          3,
          7,
          5,
          18,
          19,
          19,
          17,
          3,
          16,
          17,
          6,
          12,
          5,
          7,
          14,
          2,
          19,
          3,
          18,
          4,
          5,
          18,
          16,
          1,
          7,
          1,
          2,
          5,
          19,
          1,
          16,
          13,
          2,
          9,
          14,
          10,
          13,
          8,
          4,
          6,
          14,
          14,
          10,
          12,
          5,
          4,
          10,
          18,
          3,
          12,
          20,
          18,
          20,
          13,
          1,
          1,
          20,
          15,
          3,
          1,
          20,
          9,
          5,
          11,
          15,
          8,
          2,
          17,
          3,
          20,
          2,
          9,
          17,
          3,
          12,
          14,
          1,
          8,
          5,
          10,
          13,
          3,
          2,
          18,
          4,
          3,
          19,
          14,
          8,
          18,
          1,
          20,
          19,
          2,
          13,
          11,
          15,
          7,
          19,
          9,
          14,
          8,
          5,
          7,
          1,
          19,
          3,
          8,
          16,
          13,
          18,
          13,
          17,
          4,
          1,
          6,
          12,
          4,
          10,
          6,
          7,
          3,
          5,
          3,
          3,
          3,
          14,
          7,
          17,
          8,
          19
         ],
         "xaxis": "x",
         "y": [
          1572117.54,
          1807545.43,
          null,
          1244390.03,
          1644470.66,
          1857533.7,
          695396.19,
          2203523.2,
          2600519.26,
          418925.47,
          895066.5,
          1029618.1,
          414094.05,
          1677472.78,
          829207.27,
          1498080.16,
          1997397.63,
          1205307.5,
          2432736.52,
          null,
          561145.14,
          290930.01,
          1074079,
          1427023.45,
          1405007.44,
          919878.34,
          367438.62,
          435397.19,
          757738.76,
          1420405.41,
          1021154.48,
          null,
          563460.77,
          2077256.24,
          1853161.99,
          1266564.94,
          365248.94,
          988157.72,
          2008344.92,
          311906.7,
          961186.23,
          526525.16,
          1661767.33,
          629994.47,
          1641957.44,
          1861802.7,
          268929.03,
          1549018.68,
          1624383.75,
          485095.41,
          2035431.39,
          1916812.74,
          509263.28,
          1879451.23,
          1805999.79,
          1847430.96,
          888816.78,
          null,
          1532308.78,
          2020550.99,
          2095599.93,
          1990371.02,
          1295605.35,
          313358.15,
          2771397.17,
          1714309.9,
          1166117.85,
          461622.22,
          955913.68,
          null,
          1588430.71,
          null,
          2461468.35,
          1449142.92,
          1508068.77,
          1973135.87,
          570611.23,
          null,
          1539483.7,
          1789687.65,
          519823.3,
          359206.21,
          1569607.94,
          607475.44,
          null,
          1758050.79,
          986922.62,
          431985.36,
          2045837.55,
          1797732.56,
          485389.15,
          1046782.52,
          384200.69,
          964332.51,
          1953544.76,
          1494251.5,
          860336.16,
          298697.84,
          1768172.31,
          2018314.71,
          364076.85,
          1799520.14,
          1087051.26,
          2302504.86,
          419497.95,
          1366395.96,
          2095591.63,
          994801.4,
          1256282.79,
          null,
          1799737.79,
          1468350.36,
          2124451.54,
          1811606.21,
          1757242.51,
          660838.75,
          457340.06,
          null,
          513073.87,
          1864746.1,
          836707.85,
          275142.17,
          597876.55,
          1466046.67,
          1467473.63,
          398838.97,
          null,
          614253.33,
          1970341.38,
          1048134.24,
          2025582.62,
          855459.96,
          2036231.39,
          null,
          null,
          903119.03,
          2066541.86,
          1831676.03,
          1639358.93,
          532739.77,
          null,
          301827.36,
          403342.4,
          396968.8,
          424513.08,
          2248645.59,
          716388.81,
          845252.21,
          856796.1,
          1255087.26
         ],
         "yaxis": "y"
        }
       ],
       "layout": {
        "barmode": "relative",
        "legend": {
         "tracegroupgap": 0
        },
        "margin": {
         "t": 60
        },
        "template": {
         "data": {
          "bar": [
           {
            "error_x": {
             "color": "#2a3f5f"
            },
            "error_y": {
             "color": "#2a3f5f"
            },
            "marker": {
             "line": {
              "color": "#E5ECF6",
              "width": 0.5
             },
             "pattern": {
              "fillmode": "overlay",
              "size": 10,
              "solidity": 0.2
             }
            },
            "type": "bar"
           }
          ],
          "barpolar": [
           {
            "marker": {
             "line": {
              "color": "#E5ECF6",
              "width": 0.5
             },
             "pattern": {
              "fillmode": "overlay",
              "size": 10,
              "solidity": 0.2
             }
            },
            "type": "barpolar"
           }
          ],
          "carpet": [
           {
            "aaxis": {
             "endlinecolor": "#2a3f5f",
             "gridcolor": "white",
             "linecolor": "white",
             "minorgridcolor": "white",
             "startlinecolor": "#2a3f5f"
            },
            "baxis": {
             "endlinecolor": "#2a3f5f",
             "gridcolor": "white",
             "linecolor": "white",
             "minorgridcolor": "white",
             "startlinecolor": "#2a3f5f"
            },
            "type": "carpet"
           }
          ],
          "choropleth": [
           {
            "colorbar": {
             "outlinewidth": 0,
             "ticks": ""
            },
            "type": "choropleth"
           }
          ],
          "contour": [
           {
            "colorbar": {
             "outlinewidth": 0,
             "ticks": ""
            },
            "colorscale": [
             [
              0,
              "#0d0887"
             ],
             [
              0.1111111111111111,
              "#46039f"
             ],
             [
              0.2222222222222222,
              "#7201a8"
             ],
             [
              0.3333333333333333,
              "#9c179e"
             ],
             [
              0.4444444444444444,
              "#bd3786"
             ],
             [
              0.5555555555555556,
              "#d8576b"
             ],
             [
              0.6666666666666666,
              "#ed7953"
             ],
             [
              0.7777777777777778,
              "#fb9f3a"
             ],
             [
              0.8888888888888888,
              "#fdca26"
             ],
             [
              1,
              "#f0f921"
             ]
            ],
            "type": "contour"
           }
          ],
          "contourcarpet": [
           {
            "colorbar": {
             "outlinewidth": 0,
             "ticks": ""
            },
            "type": "contourcarpet"
           }
          ],
          "heatmap": [
           {
            "colorbar": {
             "outlinewidth": 0,
             "ticks": ""
            },
            "colorscale": [
             [
              0,
              "#0d0887"
             ],
             [
              0.1111111111111111,
              "#46039f"
             ],
             [
              0.2222222222222222,
              "#7201a8"
             ],
             [
              0.3333333333333333,
              "#9c179e"
             ],
             [
              0.4444444444444444,
              "#bd3786"
             ],
             [
              0.5555555555555556,
              "#d8576b"
             ],
             [
              0.6666666666666666,
              "#ed7953"
             ],
             [
              0.7777777777777778,
              "#fb9f3a"
             ],
             [
              0.8888888888888888,
              "#fdca26"
             ],
             [
              1,
              "#f0f921"
             ]
            ],
            "type": "heatmap"
           }
          ],
          "heatmapgl": [
           {
            "colorbar": {
             "outlinewidth": 0,
             "ticks": ""
            },
            "colorscale": [
             [
              0,
              "#0d0887"
             ],
             [
              0.1111111111111111,
              "#46039f"
             ],
             [
              0.2222222222222222,
              "#7201a8"
             ],
             [
              0.3333333333333333,
              "#9c179e"
             ],
             [
              0.4444444444444444,
              "#bd3786"
             ],
             [
              0.5555555555555556,
              "#d8576b"
             ],
             [
              0.6666666666666666,
              "#ed7953"
             ],
             [
              0.7777777777777778,
              "#fb9f3a"
             ],
             [
              0.8888888888888888,
              "#fdca26"
             ],
             [
              1,
              "#f0f921"
             ]
            ],
            "type": "heatmapgl"
           }
          ],
          "histogram": [
           {
            "marker": {
             "pattern": {
              "fillmode": "overlay",
              "size": 10,
              "solidity": 0.2
             }
            },
            "type": "histogram"
           }
          ],
          "histogram2d": [
           {
            "colorbar": {
             "outlinewidth": 0,
             "ticks": ""
            },
            "colorscale": [
             [
              0,
              "#0d0887"
             ],
             [
              0.1111111111111111,
              "#46039f"
             ],
             [
              0.2222222222222222,
              "#7201a8"
             ],
             [
              0.3333333333333333,
              "#9c179e"
             ],
             [
              0.4444444444444444,
              "#bd3786"
             ],
             [
              0.5555555555555556,
              "#d8576b"
             ],
             [
              0.6666666666666666,
              "#ed7953"
             ],
             [
              0.7777777777777778,
              "#fb9f3a"
             ],
             [
              0.8888888888888888,
              "#fdca26"
             ],
             [
              1,
              "#f0f921"
             ]
            ],
            "type": "histogram2d"
           }
          ],
          "histogram2dcontour": [
           {
            "colorbar": {
             "outlinewidth": 0,
             "ticks": ""
            },
            "colorscale": [
             [
              0,
              "#0d0887"
             ],
             [
              0.1111111111111111,
              "#46039f"
             ],
             [
              0.2222222222222222,
              "#7201a8"
             ],
             [
              0.3333333333333333,
              "#9c179e"
             ],
             [
              0.4444444444444444,
              "#bd3786"
             ],
             [
              0.5555555555555556,
              "#d8576b"
             ],
             [
              0.6666666666666666,
              "#ed7953"
             ],
             [
              0.7777777777777778,
              "#fb9f3a"
             ],
             [
              0.8888888888888888,
              "#fdca26"
             ],
             [
              1,
              "#f0f921"
             ]
            ],
            "type": "histogram2dcontour"
           }
          ],
          "mesh3d": [
           {
            "colorbar": {
             "outlinewidth": 0,
             "ticks": ""
            },
            "type": "mesh3d"
           }
          ],
          "parcoords": [
           {
            "line": {
             "colorbar": {
              "outlinewidth": 0,
              "ticks": ""
             }
            },
            "type": "parcoords"
           }
          ],
          "pie": [
           {
            "automargin": true,
            "type": "pie"
           }
          ],
          "scatter": [
           {
            "marker": {
             "colorbar": {
              "outlinewidth": 0,
              "ticks": ""
             }
            },
            "type": "scatter"
           }
          ],
          "scatter3d": [
           {
            "line": {
             "colorbar": {
              "outlinewidth": 0,
              "ticks": ""
             }
            },
            "marker": {
             "colorbar": {
              "outlinewidth": 0,
              "ticks": ""
             }
            },
            "type": "scatter3d"
           }
          ],
          "scattercarpet": [
           {
            "marker": {
             "colorbar": {
              "outlinewidth": 0,
              "ticks": ""
             }
            },
            "type": "scattercarpet"
           }
          ],
          "scattergeo": [
           {
            "marker": {
             "colorbar": {
              "outlinewidth": 0,
              "ticks": ""
             }
            },
            "type": "scattergeo"
           }
          ],
          "scattergl": [
           {
            "marker": {
             "colorbar": {
              "outlinewidth": 0,
              "ticks": ""
             }
            },
            "type": "scattergl"
           }
          ],
          "scattermapbox": [
           {
            "marker": {
             "colorbar": {
              "outlinewidth": 0,
              "ticks": ""
             }
            },
            "type": "scattermapbox"
           }
          ],
          "scatterpolar": [
           {
            "marker": {
             "colorbar": {
              "outlinewidth": 0,
              "ticks": ""
             }
            },
            "type": "scatterpolar"
           }
          ],
          "scatterpolargl": [
           {
            "marker": {
             "colorbar": {
              "outlinewidth": 0,
              "ticks": ""
             }
            },
            "type": "scatterpolargl"
           }
          ],
          "scatterternary": [
           {
            "marker": {
             "colorbar": {
              "outlinewidth": 0,
              "ticks": ""
             }
            },
            "type": "scatterternary"
           }
          ],
          "surface": [
           {
            "colorbar": {
             "outlinewidth": 0,
             "ticks": ""
            },
            "colorscale": [
             [
              0,
              "#0d0887"
             ],
             [
              0.1111111111111111,
              "#46039f"
             ],
             [
              0.2222222222222222,
              "#7201a8"
             ],
             [
              0.3333333333333333,
              "#9c179e"
             ],
             [
              0.4444444444444444,
              "#bd3786"
             ],
             [
              0.5555555555555556,
              "#d8576b"
             ],
             [
              0.6666666666666666,
              "#ed7953"
             ],
             [
              0.7777777777777778,
              "#fb9f3a"
             ],
             [
              0.8888888888888888,
              "#fdca26"
             ],
             [
              1,
              "#f0f921"
             ]
            ],
            "type": "surface"
           }
          ],
          "table": [
           {
            "cells": {
             "fill": {
              "color": "#EBF0F8"
             },
             "line": {
              "color": "white"
             }
            },
            "header": {
             "fill": {
              "color": "#C8D4E3"
             },
             "line": {
              "color": "white"
             }
            },
            "type": "table"
           }
          ]
         },
         "layout": {
          "annotationdefaults": {
           "arrowcolor": "#2a3f5f",
           "arrowhead": 0,
           "arrowwidth": 1
          },
          "autotypenumbers": "strict",
          "coloraxis": {
           "colorbar": {
            "outlinewidth": 0,
            "ticks": ""
           }
          },
          "colorscale": {
           "diverging": [
            [
             0,
             "#8e0152"
            ],
            [
             0.1,
             "#c51b7d"
            ],
            [
             0.2,
             "#de77ae"
            ],
            [
             0.3,
             "#f1b6da"
            ],
            [
             0.4,
             "#fde0ef"
            ],
            [
             0.5,
             "#f7f7f7"
            ],
            [
             0.6,
             "#e6f5d0"
            ],
            [
             0.7,
             "#b8e186"
            ],
            [
             0.8,
             "#7fbc41"
            ],
            [
             0.9,
             "#4d9221"
            ],
            [
             1,
             "#276419"
            ]
           ],
           "sequential": [
            [
             0,
             "#0d0887"
            ],
            [
             0.1111111111111111,
             "#46039f"
            ],
            [
             0.2222222222222222,
             "#7201a8"
            ],
            [
             0.3333333333333333,
             "#9c179e"
            ],
            [
             0.4444444444444444,
             "#bd3786"
            ],
            [
             0.5555555555555556,
             "#d8576b"
            ],
            [
             0.6666666666666666,
             "#ed7953"
            ],
            [
             0.7777777777777778,
             "#fb9f3a"
            ],
            [
             0.8888888888888888,
             "#fdca26"
            ],
            [
             1,
             "#f0f921"
            ]
           ],
           "sequentialminus": [
            [
             0,
             "#0d0887"
            ],
            [
             0.1111111111111111,
             "#46039f"
            ],
            [
             0.2222222222222222,
             "#7201a8"
            ],
            [
             0.3333333333333333,
             "#9c179e"
            ],
            [
             0.4444444444444444,
             "#bd3786"
            ],
            [
             0.5555555555555556,
             "#d8576b"
            ],
            [
             0.6666666666666666,
             "#ed7953"
            ],
            [
             0.7777777777777778,
             "#fb9f3a"
            ],
            [
             0.8888888888888888,
             "#fdca26"
            ],
            [
             1,
             "#f0f921"
            ]
           ]
          },
          "colorway": [
           "#636efa",
           "#EF553B",
           "#00cc96",
           "#ab63fa",
           "#FFA15A",
           "#19d3f3",
           "#FF6692",
           "#B6E880",
           "#FF97FF",
           "#FECB52"
          ],
          "font": {
           "color": "#2a3f5f"
          },
          "geo": {
           "bgcolor": "white",
           "lakecolor": "white",
           "landcolor": "#E5ECF6",
           "showlakes": true,
           "showland": true,
           "subunitcolor": "white"
          },
          "hoverlabel": {
           "align": "left"
          },
          "hovermode": "closest",
          "mapbox": {
           "style": "light"
          },
          "paper_bgcolor": "white",
          "plot_bgcolor": "#E5ECF6",
          "polar": {
           "angularaxis": {
            "gridcolor": "white",
            "linecolor": "white",
            "ticks": ""
           },
           "bgcolor": "#E5ECF6",
           "radialaxis": {
            "gridcolor": "white",
            "linecolor": "white",
            "ticks": ""
           }
          },
          "scene": {
           "xaxis": {
            "backgroundcolor": "#E5ECF6",
            "gridcolor": "white",
            "gridwidth": 2,
            "linecolor": "white",
            "showbackground": true,
            "ticks": "",
            "zerolinecolor": "white"
           },
           "yaxis": {
            "backgroundcolor": "#E5ECF6",
            "gridcolor": "white",
            "gridwidth": 2,
            "linecolor": "white",
            "showbackground": true,
            "ticks": "",
            "zerolinecolor": "white"
           },
           "zaxis": {
            "backgroundcolor": "#E5ECF6",
            "gridcolor": "white",
            "gridwidth": 2,
            "linecolor": "white",
            "showbackground": true,
            "ticks": "",
            "zerolinecolor": "white"
           }
          },
          "shapedefaults": {
           "line": {
            "color": "#2a3f5f"
           }
          },
          "ternary": {
           "aaxis": {
            "gridcolor": "white",
            "linecolor": "white",
            "ticks": ""
           },
           "baxis": {
            "gridcolor": "white",
            "linecolor": "white",
            "ticks": ""
           },
           "bgcolor": "#E5ECF6",
           "caxis": {
            "gridcolor": "white",
            "linecolor": "white",
            "ticks": ""
           }
          },
          "title": {
           "x": 0.05
          },
          "xaxis": {
           "automargin": true,
           "gridcolor": "white",
           "linecolor": "white",
           "ticks": "",
           "title": {
            "standoff": 15
           },
           "zerolinecolor": "white",
           "zerolinewidth": 2
          },
          "yaxis": {
           "automargin": true,
           "gridcolor": "white",
           "linecolor": "white",
           "ticks": "",
           "title": {
            "standoff": 15
           },
           "zerolinecolor": "white",
           "zerolinewidth": 2
          }
         }
        },
        "xaxis": {
         "anchor": "y",
         "domain": [
          0,
          1
         ],
         "title": {
          "text": "Store"
         }
        },
        "yaxis": {
         "anchor": "x",
         "domain": [
          0,
          1
         ],
         "title": {
          "text": "sum of Weekly_Sales"
         }
        }
       }
      }
     },
     "metadata": {},
     "output_type": "display_data"
    }
   ],
   "source": [
    "#Weekly sales over Store ID\n",
    "s_store = px.histogram(w_sales, x='Store', y='Weekly_Sales', nbins=21)\n",
    "s_store.show()"
   ]
  },
  {
   "cell_type": "code",
   "execution_count": 11,
   "id": "224664ea",
   "metadata": {
    "tags": []
   },
   "outputs": [
    {
     "data": {
      "text/plain": [
       "<seaborn.axisgrid.FacetGrid at 0x2a918088790>"
      ]
     },
     "execution_count": 11,
     "metadata": {},
     "output_type": "execute_result"
    },
    {
     "data": {
      "image/png": "[encoded data removed]",
      "text/plain": [
       "<Figure size 360x360 with 1 Axes>"
      ]
     },
     "metadata": {
      "needs_background": "light"
     },
     "output_type": "display_data"
    }
   ],
   "source": [
    "sns.relplot(\n",
    "    data=w_sales, x=\"Store\", y=\"Weekly_Sales\",\n",
    "    kind=\"line\",\n",
    ")"
   ]
  },
  {
   "cell_type": "markdown",
   "id": "58129fba",
   "metadata": {},
   "source": [
    "* Sales can be different depending on wich store we are looking"
   ]
  },
  {
   "cell_type": "code",
   "execution_count": 12,
   "id": "6984670a",
   "metadata": {
    "tags": []
   },
   "outputs": [
    {
     "data": {
      "application/vnd.plotly.v1+json": {
       "config": {
        "plotlyServerURL": "https://plot.ly"
       },
       "data": [
        {
         "alignmentgroup": "True",
         "bingroup": "x",
         "histfunc": "sum",
         "hovertemplate": "Date=%{x}<br>sum of Weekly_Sales=%{y}<extra></extra>",
         "legendgroup": "",
         "marker": {
          "color": "#636efa",
          "pattern": {
           "shape": ""
          }
         },
         "name": "",
         "nbinsx": 50,
         "offsetgroup": "",
         "orientation": "v",
         "showlegend": false,
         "type": "histogram",
         "x": [
          "2011-02-18T00:00:00",
          "2011-03-25T00:00:00",
          "2012-07-27T00:00:00",
          null,
          "2010-05-28T00:00:00",
          "2010-05-28T00:00:00",
          "2011-06-03T00:00:00",
          "2012-02-03T00:00:00",
          "2010-12-10T00:00:00",
          null,
          "2011-08-19T00:00:00",
          "2010-10-15T00:00:00",
          "2011-05-13T00:00:00",
          "2012-03-16T00:00:00",
          "2010-10-01T00:00:00",
          "2010-04-30T00:00:00",
          "2010-08-20T00:00:00",
          null,
          "2011-12-16T00:00:00",
          "2012-05-18T00:00:00",
          "2010-04-02T00:00:00",
          "2011-05-13T00:00:00",
          "2012-10-12T00:00:00",
          "2010-03-26T00:00:00",
          "2012-05-04T00:00:00",
          "2012-10-12T00:00:00",
          "2012-01-13T00:00:00",
          "2011-05-20T00:00:00",
          "2010-04-16T00:00:00",
          "2011-08-26T00:00:00",
          "2011-05-06T00:00:00",
          "2011-12-30T00:00:00",
          "2012-02-10T00:00:00",
          "2012-02-10T00:00:00",
          null,
          "2011-03-25T00:00:00",
          "2011-09-23T00:00:00",
          "2011-04-15T00:00:00",
          "2011-06-24T00:00:00",
          "2011-11-11T00:00:00",
          "2012-04-27T00:00:00",
          "2012-09-14T00:00:00",
          null,
          "2011-08-26T00:00:00",
          "2010-02-12T00:00:00",
          "2012-02-24T00:00:00",
          "2010-07-30T00:00:00",
          "2010-07-02T00:00:00",
          "2011-08-05T00:00:00",
          "2012-03-30T00:00:00",
          "2012-06-01T00:00:00",
          "2010-11-12T00:00:00",
          "2010-06-25T00:00:00",
          "2011-03-25T00:00:00",
          "2012-07-06T00:00:00",
          "2011-09-23T00:00:00",
          "2010-08-27T00:00:00",
          "2011-01-07T00:00:00",
          "2010-07-30T00:00:00",
          "2012-02-17T00:00:00",
          "2011-05-06T00:00:00",
          "2012-03-02T00:00:00",
          "2010-12-17T00:00:00",
          "2012-10-19T00:00:00",
          "2011-12-16T00:00:00",
          null,
          "2010-08-06T00:00:00",
          "2010-02-05T00:00:00",
          "2011-08-12T00:00:00",
          "2010-03-26T00:00:00",
          "2010-12-17T00:00:00",
          "2012-09-07T00:00:00",
          "2010-12-10T00:00:00",
          "2010-08-27T00:00:00",
          "2012-10-19T00:00:00",
          "2010-06-25T00:00:00",
          "2012-03-16T00:00:00",
          "2011-07-29T00:00:00",
          "2011-11-18T00:00:00",
          "2010-09-24T00:00:00",
          "2010-11-19T00:00:00",
          null,
          null,
          null,
          "2010-09-03T00:00:00",
          "2011-01-07T00:00:00",
          null,
          "2012-05-11T00:00:00",
          null,
          null,
          "2010-07-09T00:00:00",
          null,
          null,
          "2011-05-27T00:00:00",
          "2011-07-15T00:00:00",
          "2010-05-14T00:00:00",
          "2010-03-12T00:00:00",
          "2010-04-30T00:00:00",
          "2010-06-25T00:00:00",
          "2010-07-02T00:00:00",
          "2010-06-18T00:00:00",
          "2012-01-06T00:00:00",
          null,
          "2010-12-10T00:00:00",
          "2012-06-22T00:00:00",
          "2010-07-30T00:00:00",
          "2010-02-26T00:00:00",
          "2010-02-12T00:00:00",
          "2010-05-28T00:00:00",
          "2011-12-09T00:00:00",
          "2010-12-31T00:00:00",
          "2012-06-22T00:00:00",
          "2010-02-19T00:00:00",
          "2012-01-20T00:00:00",
          "2010-11-26T00:00:00",
          "2010-02-19T00:00:00",
          "2012-04-20T00:00:00",
          "2012-04-13T00:00:00",
          "2010-06-18T00:00:00",
          "2011-01-07T00:00:00",
          "2010-09-17T00:00:00",
          "2011-07-29T00:00:00",
          "2012-09-07T00:00:00",
          "2011-05-27T00:00:00",
          "2011-06-10T00:00:00",
          "2011-11-18T00:00:00",
          "2011-07-22T00:00:00",
          "2010-07-09T00:00:00",
          "2011-08-12T00:00:00",
          null,
          "2012-03-16T00:00:00",
          "2010-11-12T00:00:00",
          "2011-07-22T00:00:00",
          "2010-09-24T00:00:00",
          "2012-10-19T00:00:00",
          "2010-09-10T00:00:00",
          "2011-07-08T00:00:00",
          null,
          "2011-04-22T00:00:00",
          "2012-05-25T00:00:00",
          "2011-01-07T00:00:00",
          "2010-11-12T00:00:00",
          "2011-10-07T00:00:00",
          "2010-06-04T00:00:00",
          "2012-10-19T00:00:00",
          "2010-06-18T00:00:00",
          null,
          "2010-06-11T00:00:00",
          "2011-08-12T00:00:00",
          "2012-04-20T00:00:00"
         ],
         "xaxis": "x",
         "y": [
          1572117.54,
          1807545.43,
          null,
          1244390.03,
          1644470.66,
          1857533.7,
          695396.19,
          2203523.2,
          2600519.26,
          418925.47,
          895066.5,
          1029618.1,
          414094.05,
          1677472.78,
          829207.27,
          1498080.16,
          1997397.63,
          1205307.5,
          2432736.52,
          null,
          561145.14,
          290930.01,
          1074079,
          1427023.45,
          1405007.44,
          919878.34,
          367438.62,
          435397.19,
          757738.76,
          1420405.41,
          1021154.48,
          null,
          563460.77,
          2077256.24,
          1853161.99,
          1266564.94,
          365248.94,
          988157.72,
          2008344.92,
          311906.7,
          961186.23,
          526525.16,
          1661767.33,
          629994.47,
          1641957.44,
          1861802.7,
          268929.03,
          1549018.68,
          1624383.75,
          485095.41,
          2035431.39,
          1916812.74,
          509263.28,
          1879451.23,
          1805999.79,
          1847430.96,
          888816.78,
          null,
          1532308.78,
          2020550.99,
          2095599.93,
          1990371.02,
          1295605.35,
          313358.15,
          2771397.17,
          1714309.9,
          1166117.85,
          461622.22,
          955913.68,
          null,
          1588430.71,
          null,
          2461468.35,
          1449142.92,
          1508068.77,
          1973135.87,
          570611.23,
          null,
          1539483.7,
          1789687.65,
          519823.3,
          359206.21,
          1569607.94,
          607475.44,
          null,
          1758050.79,
          986922.62,
          431985.36,
          2045837.55,
          1797732.56,
          485389.15,
          1046782.52,
          384200.69,
          964332.51,
          1953544.76,
          1494251.5,
          860336.16,
          298697.84,
          1768172.31,
          2018314.71,
          364076.85,
          1799520.14,
          1087051.26,
          2302504.86,
          419497.95,
          1366395.96,
          2095591.63,
          994801.4,
          1256282.79,
          null,
          1799737.79,
          1468350.36,
          2124451.54,
          1811606.21,
          1757242.51,
          660838.75,
          457340.06,
          null,
          513073.87,
          1864746.1,
          836707.85,
          275142.17,
          597876.55,
          1466046.67,
          1467473.63,
          398838.97,
          null,
          614253.33,
          1970341.38,
          1048134.24,
          2025582.62,
          855459.96,
          2036231.39,
          null,
          null,
          903119.03,
          2066541.86,
          1831676.03,
          1639358.93,
          532739.77,
          null,
          301827.36,
          403342.4,
          396968.8,
          424513.08,
          2248645.59,
          716388.81,
          845252.21,
          856796.1,
          1255087.26
         ],
         "yaxis": "y"
        }
       ],
       "layout": {
        "barmode": "relative",
        "legend": {
         "tracegroupgap": 0
        },
        "margin": {
         "t": 60
        },
        "template": {
         "data": {
          "bar": [
           {
            "error_x": {
             "color": "#2a3f5f"
            },
            "error_y": {
             "color": "#2a3f5f"
            },
            "marker": {
             "line": {
              "color": "#E5ECF6",
              "width": 0.5
             },
             "pattern": {
              "fillmode": "overlay",
              "size": 10,
              "solidity": 0.2
             }
            },
            "type": "bar"
           }
          ],
          "barpolar": [
           {
            "marker": {
             "line": {
              "color": "#E5ECF6",
              "width": 0.5
             },
             "pattern": {
              "fillmode": "overlay",
              "size": 10,
              "solidity": 0.2
             }
            },
            "type": "barpolar"
           }
          ],
          "carpet": [
           {
            "aaxis": {
             "endlinecolor": "#2a3f5f",
             "gridcolor": "white",
             "linecolor": "white",
             "minorgridcolor": "white",
             "startlinecolor": "#2a3f5f"
            },
            "baxis": {
             "endlinecolor": "#2a3f5f",
             "gridcolor": "white",
             "linecolor": "white",
             "minorgridcolor": "white",
             "startlinecolor": "#2a3f5f"
            },
            "type": "carpet"
           }
          ],
          "choropleth": [
           {
            "colorbar": {
             "outlinewidth": 0,
             "ticks": ""
            },
            "type": "choropleth"
           }
          ],
          "contour": [
           {
            "colorbar": {
             "outlinewidth": 0,
             "ticks": ""
            },
            "colorscale": [
             [
              0,
              "#0d0887"
             ],
             [
              0.1111111111111111,
              "#46039f"
             ],
             [
              0.2222222222222222,
              "#7201a8"
             ],
             [
              0.3333333333333333,
              "#9c179e"
             ],
             [
              0.4444444444444444,
              "#bd3786"
             ],
             [
              0.5555555555555556,
              "#d8576b"
             ],
             [
              0.6666666666666666,
              "#ed7953"
             ],
             [
              0.7777777777777778,
              "#fb9f3a"
             ],
             [
              0.8888888888888888,
              "#fdca26"
             ],
             [
              1,
              "#f0f921"
             ]
            ],
            "type": "contour"
           }
          ],
          "contourcarpet": [
           {
            "colorbar": {
             "outlinewidth": 0,
             "ticks": ""
            },
            "type": "contourcarpet"
           }
          ],
          "heatmap": [
           {
            "colorbar": {
             "outlinewidth": 0,
             "ticks": ""
            },
            "colorscale": [
             [
              0,
              "#0d0887"
             ],
             [
              0.1111111111111111,
              "#46039f"
             ],
             [
              0.2222222222222222,
              "#7201a8"
             ],
             [
              0.3333333333333333,
              "#9c179e"
             ],
             [
              0.4444444444444444,
              "#bd3786"
             ],
             [
              0.5555555555555556,
              "#d8576b"
             ],
             [
              0.6666666666666666,
              "#ed7953"
             ],
             [
              0.7777777777777778,
              "#fb9f3a"
             ],
             [
              0.8888888888888888,
              "#fdca26"
             ],
             [
              1,
              "#f0f921"
             ]
            ],
            "type": "heatmap"
           }
          ],
          "heatmapgl": [
           {
            "colorbar": {
             "outlinewidth": 0,
             "ticks": ""
            },
            "colorscale": [
             [
              0,
              "#0d0887"
             ],
             [
              0.1111111111111111,
              "#46039f"
             ],
             [
              0.2222222222222222,
              "#7201a8"
             ],
             [
              0.3333333333333333,
              "#9c179e"
             ],
             [
              0.4444444444444444,
              "#bd3786"
             ],
             [
              0.5555555555555556,
              "#d8576b"
             ],
             [
              0.6666666666666666,
              "#ed7953"
             ],
             [
              0.7777777777777778,
              "#fb9f3a"
             ],
             [
              0.8888888888888888,
              "#fdca26"
             ],
             [
              1,
              "#f0f921"
             ]
            ],
            "type": "heatmapgl"
           }
          ],
          "histogram": [
           {
            "marker": {
             "pattern": {
              "fillmode": "overlay",
              "size": 10,
              "solidity": 0.2
             }
            },
            "type": "histogram"
           }
          ],
          "histogram2d": [
           {
            "colorbar": {
             "outlinewidth": 0,
             "ticks": ""
            },
            "colorscale": [
             [
              0,
              "#0d0887"
             ],
             [
              0.1111111111111111,
              "#46039f"
             ],
             [
              0.2222222222222222,
              "#7201a8"
             ],
             [
              0.3333333333333333,
              "#9c179e"
             ],
             [
              0.4444444444444444,
              "#bd3786"
             ],
             [
              0.5555555555555556,
              "#d8576b"
             ],
             [
              0.6666666666666666,
              "#ed7953"
             ],
             [
              0.7777777777777778,
              "#fb9f3a"
             ],
             [
              0.8888888888888888,
              "#fdca26"
             ],
             [
              1,
              "#f0f921"
             ]
            ],
            "type": "histogram2d"
           }
          ],
          "histogram2dcontour": [
           {
            "colorbar": {
             "outlinewidth": 0,
             "ticks": ""
            },
            "colorscale": [
             [
              0,
              "#0d0887"
             ],
             [
              0.1111111111111111,
              "#46039f"
             ],
             [
              0.2222222222222222,
              "#7201a8"
             ],
             [
              0.3333333333333333,
              "#9c179e"
             ],
             [
              0.4444444444444444,
              "#bd3786"
             ],
             [
              0.5555555555555556,
              "#d8576b"
             ],
             [
              0.6666666666666666,
              "#ed7953"
             ],
             [
              0.7777777777777778,
              "#fb9f3a"
             ],
             [
              0.8888888888888888,
              "#fdca26"
             ],
             [
              1,
              "#f0f921"
             ]
            ],
            "type": "histogram2dcontour"
           }
          ],
          "mesh3d": [
           {
            "colorbar": {
             "outlinewidth": 0,
             "ticks": ""
            },
            "type": "mesh3d"
           }
          ],
          "parcoords": [
           {
            "line": {
             "colorbar": {
              "outlinewidth": 0,
              "ticks": ""
             }
            },
            "type": "parcoords"
           }
          ],
          "pie": [
           {
            "automargin": true,
            "type": "pie"
           }
          ],
          "scatter": [
           {
            "marker": {
             "colorbar": {
              "outlinewidth": 0,
              "ticks": ""
             }
            },
            "type": "scatter"
           }
          ],
          "scatter3d": [
           {
            "line": {
             "colorbar": {
              "outlinewidth": 0,
              "ticks": ""
             }
            },
            "marker": {
             "colorbar": {
              "outlinewidth": 0,
              "ticks": ""
             }
            },
            "type": "scatter3d"
           }
          ],
          "scattercarpet": [
           {
            "marker": {
             "colorbar": {
              "outlinewidth": 0,
              "ticks": ""
             }
            },
            "type": "scattercarpet"
           }
          ],
          "scattergeo": [
           {
            "marker": {
             "colorbar": {
              "outlinewidth": 0,
              "ticks": ""
             }
            },
            "type": "scattergeo"
           }
          ],
          "scattergl": [
           {
            "marker": {
             "colorbar": {
              "outlinewidth": 0,
              "ticks": ""
             }
            },
            "type": "scattergl"
           }
          ],
          "scattermapbox": [
           {
            "marker": {
             "colorbar": {
              "outlinewidth": 0,
              "ticks": ""
             }
            },
            "type": "scattermapbox"
           }
          ],
          "scatterpolar": [
           {
            "marker": {
             "colorbar": {
              "outlinewidth": 0,
              "ticks": ""
             }
            },
            "type": "scatterpolar"
           }
          ],
          "scatterpolargl": [
           {
            "marker": {
             "colorbar": {
              "outlinewidth": 0,
              "ticks": ""
             }
            },
            "type": "scatterpolargl"
           }
          ],
          "scatterternary": [
           {
            "marker": {
             "colorbar": {
              "outlinewidth": 0,
              "ticks": ""
             }
            },
            "type": "scatterternary"
           }
          ],
          "surface": [
           {
            "colorbar": {
             "outlinewidth": 0,
             "ticks": ""
            },
            "colorscale": [
             [
              0,
              "#0d0887"
             ],
             [
              0.1111111111111111,
              "#46039f"
             ],
             [
              0.2222222222222222,
              "#7201a8"
             ],
             [
              0.3333333333333333,
              "#9c179e"
             ],
             [
              0.4444444444444444,
              "#bd3786"
             ],
             [
              0.5555555555555556,
              "#d8576b"
             ],
             [
              0.6666666666666666,
              "#ed7953"
             ],
             [
              0.7777777777777778,
              "#fb9f3a"
             ],
             [
              0.8888888888888888,
              "#fdca26"
             ],
             [
              1,
              "#f0f921"
             ]
            ],
            "type": "surface"
           }
          ],
          "table": [
           {
            "cells": {
             "fill": {
              "color": "#EBF0F8"
             },
             "line": {
              "color": "white"
             }
            },
            "header": {
             "fill": {
              "color": "#C8D4E3"
             },
             "line": {
              "color": "white"
             }
            },
            "type": "table"
           }
          ]
         },
         "layout": {
          "annotationdefaults": {
           "arrowcolor": "#2a3f5f",
           "arrowhead": 0,
           "arrowwidth": 1
          },
          "autotypenumbers": "strict",
          "coloraxis": {
           "colorbar": {
            "outlinewidth": 0,
            "ticks": ""
           }
          },
          "colorscale": {
           "diverging": [
            [
             0,
             "#8e0152"
            ],
            [
             0.1,
             "#c51b7d"
            ],
            [
             0.2,
             "#de77ae"
            ],
            [
             0.3,
             "#f1b6da"
            ],
            [
             0.4,
             "#fde0ef"
            ],
            [
             0.5,
             "#f7f7f7"
            ],
            [
             0.6,
             "#e6f5d0"
            ],
            [
             0.7,
             "#b8e186"
            ],
            [
             0.8,
             "#7fbc41"
            ],
            [
             0.9,
             "#4d9221"
            ],
            [
             1,
             "#276419"
            ]
           ],
           "sequential": [
            [
             0,
             "#0d0887"
            ],
            [
             0.1111111111111111,
             "#46039f"
            ],
            [
             0.2222222222222222,
             "#7201a8"
            ],
            [
             0.3333333333333333,
             "#9c179e"
            ],
            [
             0.4444444444444444,
             "#bd3786"
            ],
            [
             0.5555555555555556,
             "#d8576b"
            ],
            [
             0.6666666666666666,
             "#ed7953"
            ],
            [
             0.7777777777777778,
             "#fb9f3a"
            ],
            [
             0.8888888888888888,
             "#fdca26"
            ],
            [
             1,
             "#f0f921"
            ]
           ],
           "sequentialminus": [
            [
             0,
             "#0d0887"
            ],
            [
             0.1111111111111111,
             "#46039f"
            ],
            [
             0.2222222222222222,
             "#7201a8"
            ],
            [
             0.3333333333333333,
             "#9c179e"
            ],
            [
             0.4444444444444444,
             "#bd3786"
            ],
            [
             0.5555555555555556,
             "#d8576b"
            ],
            [
             0.6666666666666666,
             "#ed7953"
            ],
            [
             0.7777777777777778,
             "#fb9f3a"
            ],
            [
             0.8888888888888888,
             "#fdca26"
            ],
            [
             1,
             "#f0f921"
            ]
           ]
          },
          "colorway": [
           "#636efa",
           "#EF553B",
           "#00cc96",
           "#ab63fa",
           "#FFA15A",
           "#19d3f3",
           "#FF6692",
           "#B6E880",
           "#FF97FF",
           "#FECB52"
          ],
          "font": {
           "color": "#2a3f5f"
          },
          "geo": {
           "bgcolor": "white",
           "lakecolor": "white",
           "landcolor": "#E5ECF6",
           "showlakes": true,
           "showland": true,
           "subunitcolor": "white"
          },
          "hoverlabel": {
           "align": "left"
          },
          "hovermode": "closest",
          "mapbox": {
           "style": "light"
          },
          "paper_bgcolor": "white",
          "plot_bgcolor": "#E5ECF6",
          "polar": {
           "angularaxis": {
            "gridcolor": "white",
            "linecolor": "white",
            "ticks": ""
           },
           "bgcolor": "#E5ECF6",
           "radialaxis": {
            "gridcolor": "white",
            "linecolor": "white",
            "ticks": ""
           }
          },
          "scene": {
           "xaxis": {
            "backgroundcolor": "#E5ECF6",
            "gridcolor": "white",
            "gridwidth": 2,
            "linecolor": "white",
            "showbackground": true,
            "ticks": "",
            "zerolinecolor": "white"
           },
           "yaxis": {
            "backgroundcolor": "#E5ECF6",
            "gridcolor": "white",
            "gridwidth": 2,
            "linecolor": "white",
            "showbackground": true,
            "ticks": "",
            "zerolinecolor": "white"
           },
           "zaxis": {
            "backgroundcolor": "#E5ECF6",
            "gridcolor": "white",
            "gridwidth": 2,
            "linecolor": "white",
            "showbackground": true,
            "ticks": "",
            "zerolinecolor": "white"
           }
          },
          "shapedefaults": {
           "line": {
            "color": "#2a3f5f"
           }
          },
          "ternary": {
           "aaxis": {
            "gridcolor": "white",
            "linecolor": "white",
            "ticks": ""
           },
           "baxis": {
            "gridcolor": "white",
            "linecolor": "white",
            "ticks": ""
           },
           "bgcolor": "#E5ECF6",
           "caxis": {
            "gridcolor": "white",
            "linecolor": "white",
            "ticks": ""
           }
          },
          "title": {
           "x": 0.05
          },
          "xaxis": {
           "automargin": true,
           "gridcolor": "white",
           "linecolor": "white",
           "ticks": "",
           "title": {
            "standoff": 15
           },
           "zerolinecolor": "white",
           "zerolinewidth": 2
          },
          "yaxis": {
           "automargin": true,
           "gridcolor": "white",
           "linecolor": "white",
           "ticks": "",
           "title": {
            "standoff": 15
           },
           "zerolinecolor": "white",
           "zerolinewidth": 2
          }
         }
        },
        "xaxis": {
         "anchor": "y",
         "domain": [
          0,
          1
         ],
         "title": {
          "text": "Date"
         }
        },
        "yaxis": {
         "anchor": "x",
         "domain": [
          0,
          1
         ],
         "title": {
          "text": "sum of Weekly_Sales"
         }
        }
       }
      }
     },
     "metadata": {},
     "output_type": "display_data"
    }
   ],
   "source": [
    "# Weekly sales over Date\n",
    "s_date = px.histogram(w_sales, x='Date', y='Weekly_Sales', nbins=50)\n",
    "s_date.show()"
   ]
  },
  {
   "cell_type": "markdown",
   "id": "d8345c5f",
   "metadata": {},
   "source": [
    "* We can see peaks around January"
   ]
  },
  {
   "cell_type": "code",
   "execution_count": 13,
   "id": "fdbaffd9",
   "metadata": {
    "tags": []
   },
   "outputs": [
    {
     "data": {
      "text/plain": [
       "<seaborn.axisgrid.FacetGrid at 0x2a92323a640>"
      ]
     },
     "execution_count": 13,
     "metadata": {},
     "output_type": "execute_result"
    },
    {
     "data": {
      "image/png": "[encoded data removed]",
      "text/plain": [
       "<Figure size 360x360 with 1 Axes>"
      ]
     },
     "metadata": {
      "needs_background": "light"
     },
     "output_type": "display_data"
    }
   ],
   "source": [
    "sns.relplot(\n",
    "    data=w_sales, x=\"Date\", y=\"Weekly_Sales\",\n",
    "    kind=\"line\",\n",
    ")"
   ]
  },
  {
   "cell_type": "code",
   "execution_count": 14,
   "id": "fea9fe17",
   "metadata": {
    "tags": []
   },
   "outputs": [
    {
     "data": {
      "application/vnd.plotly.v1+json": {
       "config": {
        "plotlyServerURL": "https://plot.ly"
       },
       "data": [
        {
         "alignmentgroup": "True",
         "bingroup": "x",
         "histfunc": "sum",
         "hovertemplate": "Holiday_Flag=%{x}<br>sum of Weekly_Sales=%{y}<extra></extra>",
         "legendgroup": "",
         "marker": {
          "color": "#636efa",
          "pattern": {
           "shape": ""
          }
         },
         "name": "",
         "nbinsx": 2,
         "offsetgroup": "",
         "orientation": "v",
         "showlegend": false,
         "type": "histogram",
         "x": [
          null,
          0,
          0,
          0,
          0,
          0,
          0,
          0,
          0,
          0,
          0,
          0,
          0,
          0,
          0,
          null,
          0,
          0,
          0,
          0,
          0,
          0,
          0,
          0,
          0,
          0,
          0,
          0,
          0,
          0,
          0,
          1,
          1,
          1,
          0,
          0,
          0,
          0,
          0,
          0,
          0,
          0,
          1,
          null,
          1,
          0,
          0,
          0,
          null,
          0,
          0,
          0,
          0,
          null,
          0,
          0,
          0,
          0,
          0,
          0,
          0,
          0,
          0,
          0,
          0,
          null,
          0,
          0,
          0,
          0,
          0,
          1,
          0,
          null,
          0,
          0,
          0,
          0,
          0,
          0,
          0,
          0,
          0,
          0,
          0,
          0,
          0,
          0,
          0,
          0,
          null,
          0,
          0,
          0,
          0,
          0,
          0,
          0,
          0,
          0,
          0,
          0,
          0,
          0,
          0,
          0,
          0,
          1,
          0,
          null,
          1,
          0,
          0,
          0,
          1,
          0,
          0,
          0,
          null,
          0,
          0,
          0,
          1,
          0,
          0,
          0,
          0,
          0,
          0,
          0,
          0,
          0,
          0,
          0,
          0,
          1,
          null,
          0,
          0,
          0,
          0,
          0,
          0,
          0,
          0,
          0,
          null,
          0,
          0,
          0
         ],
         "xaxis": "x",
         "y": [
          1572117.54,
          1807545.43,
          null,
          1244390.03,
          1644470.66,
          1857533.7,
          695396.19,
          2203523.2,
          2600519.26,
          418925.47,
          895066.5,
          1029618.1,
          414094.05,
          1677472.78,
          829207.27,
          1498080.16,
          1997397.63,
          1205307.5,
          2432736.52,
          null,
          561145.14,
          290930.01,
          1074079,
          1427023.45,
          1405007.44,
          919878.34,
          367438.62,
          435397.19,
          757738.76,
          1420405.41,
          1021154.48,
          null,
          563460.77,
          2077256.24,
          1853161.99,
          1266564.94,
          365248.94,
          988157.72,
          2008344.92,
          311906.7,
          961186.23,
          526525.16,
          1661767.33,
          629994.47,
          1641957.44,
          1861802.7,
          268929.03,
          1549018.68,
          1624383.75,
          485095.41,
          2035431.39,
          1916812.74,
          509263.28,
          1879451.23,
          1805999.79,
          1847430.96,
          888816.78,
          null,
          1532308.78,
          2020550.99,
          2095599.93,
          1990371.02,
          1295605.35,
          313358.15,
          2771397.17,
          1714309.9,
          1166117.85,
          461622.22,
          955913.68,
          null,
          1588430.71,
          null,
          2461468.35,
          1449142.92,
          1508068.77,
          1973135.87,
          570611.23,
          null,
          1539483.7,
          1789687.65,
          519823.3,
          359206.21,
          1569607.94,
          607475.44,
          null,
          1758050.79,
          986922.62,
          431985.36,
          2045837.55,
          1797732.56,
          485389.15,
          1046782.52,
          384200.69,
          964332.51,
          1953544.76,
          1494251.5,
          860336.16,
          298697.84,
          1768172.31,
          2018314.71,
          364076.85,
          1799520.14,
          1087051.26,
          2302504.86,
          419497.95,
          1366395.96,
          2095591.63,
          994801.4,
          1256282.79,
          null,
          1799737.79,
          1468350.36,
          2124451.54,
          1811606.21,
          1757242.51,
          660838.75,
          457340.06,
          null,
          513073.87,
          1864746.1,
          836707.85,
          275142.17,
          597876.55,
          1466046.67,
          1467473.63,
          398838.97,
          null,
          614253.33,
          1970341.38,
          1048134.24,
          2025582.62,
          855459.96,
          2036231.39,
          null,
          null,
          903119.03,
          2066541.86,
          1831676.03,
          1639358.93,
          532739.77,
          null,
          301827.36,
          403342.4,
          396968.8,
          424513.08,
          2248645.59,
          716388.81,
          845252.21,
          856796.1,
          1255087.26
         ],
         "yaxis": "y"
        }
       ],
       "layout": {
        "barmode": "relative",
        "legend": {
         "tracegroupgap": 0
        },
        "margin": {
         "t": 60
        },
        "template": {
         "data": {
          "bar": [
           {
            "error_x": {
             "color": "#2a3f5f"
            },
            "error_y": {
             "color": "#2a3f5f"
            },
            "marker": {
             "line": {
              "color": "#E5ECF6",
              "width": 0.5
             },
             "pattern": {
              "fillmode": "overlay",
              "size": 10,
              "solidity": 0.2
             }
            },
            "type": "bar"
           }
          ],
          "barpolar": [
           {
            "marker": {
             "line": {
              "color": "#E5ECF6",
              "width": 0.5
             },
             "pattern": {
              "fillmode": "overlay",
              "size": 10,
              "solidity": 0.2
             }
            },
            "type": "barpolar"
           }
          ],
          "carpet": [
           {
            "aaxis": {
             "endlinecolor": "#2a3f5f",
             "gridcolor": "white",
             "linecolor": "white",
             "minorgridcolor": "white",
             "startlinecolor": "#2a3f5f"
            },
            "baxis": {
             "endlinecolor": "#2a3f5f",
             "gridcolor": "white",
             "linecolor": "white",
             "minorgridcolor": "white",
             "startlinecolor": "#2a3f5f"
            },
            "type": "carpet"
           }
          ],
          "choropleth": [
           {
            "colorbar": {
             "outlinewidth": 0,
             "ticks": ""
            },
            "type": "choropleth"
           }
          ],
          "contour": [
           {
            "colorbar": {
             "outlinewidth": 0,
             "ticks": ""
            },
            "colorscale": [
             [
              0,
              "#0d0887"
             ],
             [
              0.1111111111111111,
              "#46039f"
             ],
             [
              0.2222222222222222,
              "#7201a8"
             ],
             [
              0.3333333333333333,
              "#9c179e"
             ],
             [
              0.4444444444444444,
              "#bd3786"
             ],
             [
              0.5555555555555556,
              "#d8576b"
             ],
             [
              0.6666666666666666,
              "#ed7953"
             ],
             [
              0.7777777777777778,
              "#fb9f3a"
             ],
             [
              0.8888888888888888,
              "#fdca26"
             ],
             [
              1,
              "#f0f921"
             ]
            ],
            "type": "contour"
           }
          ],
          "contourcarpet": [
           {
            "colorbar": {
             "outlinewidth": 0,
             "ticks": ""
            },
            "type": "contourcarpet"
           }
          ],
          "heatmap": [
           {
            "colorbar": {
             "outlinewidth": 0,
             "ticks": ""
            },
            "colorscale": [
             [
              0,
              "#0d0887"
             ],
             [
              0.1111111111111111,
              "#46039f"
             ],
             [
              0.2222222222222222,
              "#7201a8"
             ],
             [
              0.3333333333333333,
              "#9c179e"
             ],
             [
              0.4444444444444444,
              "#bd3786"
             ],
             [
              0.5555555555555556,
              "#d8576b"
             ],
             [
              0.6666666666666666,
              "#ed7953"
             ],
             [
              0.7777777777777778,
              "#fb9f3a"
             ],
             [
              0.8888888888888888,
              "#fdca26"
             ],
             [
              1,
              "#f0f921"
             ]
            ],
            "type": "heatmap"
           }
          ],
          "heatmapgl": [
           {
            "colorbar": {
             "outlinewidth": 0,
             "ticks": ""
            },
            "colorscale": [
             [
              0,
              "#0d0887"
             ],
             [
              0.1111111111111111,
              "#46039f"
             ],
             [
              0.2222222222222222,
              "#7201a8"
             ],
             [
              0.3333333333333333,
              "#9c179e"
             ],
             [
              0.4444444444444444,
              "#bd3786"
             ],
             [
              0.5555555555555556,
              "#d8576b"
             ],
             [
              0.6666666666666666,
              "#ed7953"
             ],
             [
              0.7777777777777778,
              "#fb9f3a"
             ],
             [
              0.8888888888888888,
              "#fdca26"
             ],
             [
              1,
              "#f0f921"
             ]
            ],
            "type": "heatmapgl"
           }
          ],
          "histogram": [
           {
            "marker": {
             "pattern": {
              "fillmode": "overlay",
              "size": 10,
              "solidity": 0.2
             }
            },
            "type": "histogram"
           }
          ],
          "histogram2d": [
           {
            "colorbar": {
             "outlinewidth": 0,
             "ticks": ""
            },
            "colorscale": [
             [
              0,
              "#0d0887"
             ],
             [
              0.1111111111111111,
              "#46039f"
             ],
             [
              0.2222222222222222,
              "#7201a8"
             ],
             [
              0.3333333333333333,
              "#9c179e"
             ],
             [
              0.4444444444444444,
              "#bd3786"
             ],
             [
              0.5555555555555556,
              "#d8576b"
             ],
             [
              0.6666666666666666,
              "#ed7953"
             ],
             [
              0.7777777777777778,
              "#fb9f3a"
             ],
             [
              0.8888888888888888,
              "#fdca26"
             ],
             [
              1,
              "#f0f921"
             ]
            ],
            "type": "histogram2d"
           }
          ],
          "histogram2dcontour": [
           {
            "colorbar": {
             "outlinewidth": 0,
             "ticks": ""
            },
            "colorscale": [
             [
              0,
              "#0d0887"
             ],
             [
              0.1111111111111111,
              "#46039f"
             ],
             [
              0.2222222222222222,
              "#7201a8"
             ],
             [
              0.3333333333333333,
              "#9c179e"
             ],
             [
              0.4444444444444444,
              "#bd3786"
             ],
             [
              0.5555555555555556,
              "#d8576b"
             ],
             [
              0.6666666666666666,
              "#ed7953"
             ],
             [
              0.7777777777777778,
              "#fb9f3a"
             ],
             [
              0.8888888888888888,
              "#fdca26"
             ],
             [
              1,
              "#f0f921"
             ]
            ],
            "type": "histogram2dcontour"
           }
          ],
          "mesh3d": [
           {
            "colorbar": {
             "outlinewidth": 0,
             "ticks": ""
            },
            "type": "mesh3d"
           }
          ],
          "parcoords": [
           {
            "line": {
             "colorbar": {
              "outlinewidth": 0,
              "ticks": ""
             }
            },
            "type": "parcoords"
           }
          ],
          "pie": [
           {
            "automargin": true,
            "type": "pie"
           }
          ],
          "scatter": [
           {
            "marker": {
             "colorbar": {
              "outlinewidth": 0,
              "ticks": ""
             }
            },
            "type": "scatter"
           }
          ],
          "scatter3d": [
           {
            "line": {
             "colorbar": {
              "outlinewidth": 0,
              "ticks": ""
             }
            },
            "marker": {
             "colorbar": {
              "outlinewidth": 0,
              "ticks": ""
             }
            },
            "type": "scatter3d"
           }
          ],
          "scattercarpet": [
           {
            "marker": {
             "colorbar": {
              "outlinewidth": 0,
              "ticks": ""
             }
            },
            "type": "scattercarpet"
           }
          ],
          "scattergeo": [
           {
            "marker": {
             "colorbar": {
              "outlinewidth": 0,
              "ticks": ""
             }
            },
            "type": "scattergeo"
           }
          ],
          "scattergl": [
           {
            "marker": {
             "colorbar": {
              "outlinewidth": 0,
              "ticks": ""
             }
            },
            "type": "scattergl"
           }
          ],
          "scattermapbox": [
           {
            "marker": {
             "colorbar": {
              "outlinewidth": 0,
              "ticks": ""
             }
            },
            "type": "scattermapbox"
           }
          ],
          "scatterpolar": [
           {
            "marker": {
             "colorbar": {
              "outlinewidth": 0,
              "ticks": ""
             }
            },
            "type": "scatterpolar"
           }
          ],
          "scatterpolargl": [
           {
            "marker": {
             "colorbar": {
              "outlinewidth": 0,
              "ticks": ""
             }
            },
            "type": "scatterpolargl"
           }
          ],
          "scatterternary": [
           {
            "marker": {
             "colorbar": {
              "outlinewidth": 0,
              "ticks": ""
             }
            },
            "type": "scatterternary"
           }
          ],
          "surface": [
           {
            "colorbar": {
             "outlinewidth": 0,
             "ticks": ""
            },
            "colorscale": [
             [
              0,
              "#0d0887"
             ],
             [
              0.1111111111111111,
              "#46039f"
             ],
             [
              0.2222222222222222,
              "#7201a8"
             ],
             [
              0.3333333333333333,
              "#9c179e"
             ],
             [
              0.4444444444444444,
              "#bd3786"
             ],
             [
              0.5555555555555556,
              "#d8576b"
             ],
             [
              0.6666666666666666,
              "#ed7953"
             ],
             [
              0.7777777777777778,
              "#fb9f3a"
             ],
             [
              0.8888888888888888,
              "#fdca26"
             ],
             [
              1,
              "#f0f921"
             ]
            ],
            "type": "surface"
           }
          ],
          "table": [
           {
            "cells": {
             "fill": {
              "color": "#EBF0F8"
             },
             "line": {
              "color": "white"
             }
            },
            "header": {
             "fill": {
              "color": "#C8D4E3"
             },
             "line": {
              "color": "white"
             }
            },
            "type": "table"
           }
          ]
         },
         "layout": {
          "annotationdefaults": {
           "arrowcolor": "#2a3f5f",
           "arrowhead": 0,
           "arrowwidth": 1
          },
          "autotypenumbers": "strict",
          "coloraxis": {
           "colorbar": {
            "outlinewidth": 0,
            "ticks": ""
           }
          },
          "colorscale": {
           "diverging": [
            [
             0,
             "#8e0152"
            ],
            [
             0.1,
             "#c51b7d"
            ],
            [
             0.2,
             "#de77ae"
            ],
            [
             0.3,
             "#f1b6da"
            ],
            [
             0.4,
             "#fde0ef"
            ],
            [
             0.5,
             "#f7f7f7"
            ],
            [
             0.6,
             "#e6f5d0"
            ],
            [
             0.7,
             "#b8e186"
            ],
            [
             0.8,
             "#7fbc41"
            ],
            [
             0.9,
             "#4d9221"
            ],
            [
             1,
             "#276419"
            ]
           ],
           "sequential": [
            [
             0,
             "#0d0887"
            ],
            [
             0.1111111111111111,
             "#46039f"
            ],
            [
             0.2222222222222222,
             "#7201a8"
            ],
            [
             0.3333333333333333,
             "#9c179e"
            ],
            [
             0.4444444444444444,
             "#bd3786"
            ],
            [
             0.5555555555555556,
             "#d8576b"
            ],
            [
             0.6666666666666666,
             "#ed7953"
            ],
            [
             0.7777777777777778,
             "#fb9f3a"
            ],
            [
             0.8888888888888888,
             "#fdca26"
            ],
            [
             1,
             "#f0f921"
            ]
           ],
           "sequentialminus": [
            [
             0,
             "#0d0887"
            ],
            [
             0.1111111111111111,
             "#46039f"
            ],
            [
             0.2222222222222222,
             "#7201a8"
            ],
            [
             0.3333333333333333,
             "#9c179e"
            ],
            [
             0.4444444444444444,
             "#bd3786"
            ],
            [
             0.5555555555555556,
             "#d8576b"
            ],
            [
             0.6666666666666666,
             "#ed7953"
            ],
            [
             0.7777777777777778,
             "#fb9f3a"
            ],
            [
             0.8888888888888888,
             "#fdca26"
            ],
            [
             1,
             "#f0f921"
            ]
           ]
          },
          "colorway": [
           "#636efa",
           "#EF553B",
           "#00cc96",
           "#ab63fa",
           "#FFA15A",
           "#19d3f3",
           "#FF6692",
           "#B6E880",
           "#FF97FF",
           "#FECB52"
          ],
          "font": {
           "color": "#2a3f5f"
          },
          "geo": {
           "bgcolor": "white",
           "lakecolor": "white",
           "landcolor": "#E5ECF6",
           "showlakes": true,
           "showland": true,
           "subunitcolor": "white"
          },
          "hoverlabel": {
           "align": "left"
          },
          "hovermode": "closest",
          "mapbox": {
           "style": "light"
          },
          "paper_bgcolor": "white",
          "plot_bgcolor": "#E5ECF6",
          "polar": {
           "angularaxis": {
            "gridcolor": "white",
            "linecolor": "white",
            "ticks": ""
           },
           "bgcolor": "#E5ECF6",
           "radialaxis": {
            "gridcolor": "white",
            "linecolor": "white",
            "ticks": ""
           }
          },
          "scene": {
           "xaxis": {
            "backgroundcolor": "#E5ECF6",
            "gridcolor": "white",
            "gridwidth": 2,
            "linecolor": "white",
            "showbackground": true,
            "ticks": "",
            "zerolinecolor": "white"
           },
           "yaxis": {
            "backgroundcolor": "#E5ECF6",
            "gridcolor": "white",
            "gridwidth": 2,
            "linecolor": "white",
            "showbackground": true,
            "ticks": "",
            "zerolinecolor": "white"
           },
           "zaxis": {
            "backgroundcolor": "#E5ECF6",
            "gridcolor": "white",
            "gridwidth": 2,
            "linecolor": "white",
            "showbackground": true,
            "ticks": "",
            "zerolinecolor": "white"
           }
          },
          "shapedefaults": {
           "line": {
            "color": "#2a3f5f"
           }
          },
          "ternary": {
           "aaxis": {
            "gridcolor": "white",
            "linecolor": "white",
            "ticks": ""
           },
           "baxis": {
            "gridcolor": "white",
            "linecolor": "white",
            "ticks": ""
           },
           "bgcolor": "#E5ECF6",
           "caxis": {
            "gridcolor": "white",
            "linecolor": "white",
            "ticks": ""
           }
          },
          "title": {
           "x": 0.05
          },
          "xaxis": {
           "automargin": true,
           "gridcolor": "white",
           "linecolor": "white",
           "ticks": "",
           "title": {
            "standoff": 15
           },
           "zerolinecolor": "white",
           "zerolinewidth": 2
          },
          "yaxis": {
           "automargin": true,
           "gridcolor": "white",
           "linecolor": "white",
           "ticks": "",
           "title": {
            "standoff": 15
           },
           "zerolinecolor": "white",
           "zerolinewidth": 2
          }
         }
        },
        "xaxis": {
         "anchor": "y",
         "domain": [
          0,
          1
         ],
         "title": {
          "text": "Holiday_Flag"
         }
        },
        "yaxis": {
         "anchor": "x",
         "domain": [
          0,
          1
         ],
         "title": {
          "text": "sum of Weekly_Sales"
         }
        }
       }
      }
     },
     "metadata": {},
     "output_type": "display_data"
    }
   ],
   "source": [
    "#Weekly sales over Holiday Flag\n",
    "s_holy = px.histogram(w_sales, x='Holiday_Flag', y='Weekly_Sales', nbins=2)\n",
    "s_holy.show()"
   ]
  },
  {
   "cell_type": "code",
   "execution_count": 15,
   "id": "be3b4a02",
   "metadata": {
    "tags": []
   },
   "outputs": [
    {
     "data": {
      "application/vnd.plotly.v1+json": {
       "config": {
        "plotlyServerURL": "https://plot.ly"
       },
       "data": [
        {
         "alignmentgroup": "True",
         "bingroup": "x",
         "histfunc": "sum",
         "hovertemplate": "Temperature=%{x}<br>sum of Weekly_Sales=%{y}<extra></extra>",
         "legendgroup": "",
         "marker": {
          "color": "#636efa",
          "pattern": {
           "shape": ""
          }
         },
         "name": "",
         "nbinsx": 37,
         "offsetgroup": "",
         "orientation": "v",
         "showlegend": false,
         "type": "histogram",
         "x": [
          59.61,
          42.38,
          null,
          84.57,
          78.89,
          null,
          69.8,
          39.93,
          30.54,
          60.12,
          82.92,
          52.02,
          36.61,
          64.74,
          60.07,
          68.91,
          76.34,
          21.33,
          50.13,
          72.38,
          38.26,
          77.38,
          50.97,
          39.07,
          50.76,
          44.82,
          51.86,
          43.95,
          45.22,
          null,
          68.4,
          null,
          18.79,
          37,
          87.7,
          33.26,
          80.19,
          null,
          81.85,
          60.71,
          50.43,
          null,
          null,
          57.6,
          38.51,
          54.63,
          82.46,
          66.25,
          91.65,
          48.29,
          61.11,
          59.69,
          85.02,
          41.76,
          86.87,
          63.6,
          74.92,
          null,
          null,
          36.85,
          null,
          57.62,
          52.77,
          69.17,
          36.44,
          43.43,
          73.67,
          45.71,
          91.04,
          50.49,
          27.4,
          76.36,
          36.78,
          85.22,
          67.97,
          75.17,
          47.42,
          88.07,
          62.25,
          69.37,
          49.96,
          null,
          52.77,
          79.97,
          76.14,
          44.69,
          null,
          75.19,
          39.79,
          76.42,
          78.51,
          68.91,
          null,
          null,
          78.47,
          74.78,
          49.76,
          67.53,
          90.32,
          78.82,
          83.52,
          46.75,
          69.75,
          42.4,
          82.7,
          72.83,
          34.89,
          33.34,
          69.12,
          43.93,
          28.85,
          null,
          39.69,
          32.71,
          69.9,
          null,
          39.3,
          44.42,
          82.99,
          34.32,
          75.32,
          89.42,
          57.84,
          null,
          68.26,
          63.91,
          85.46,
          61.79,
          75.95,
          73.25,
          52.5,
          null,
          82.84,
          80.94,
          69.68,
          83.63,
          84.59,
          88.44,
          74.24,
          50.6,
          53.35,
          62.37,
          75.54,
          78.53,
          73.44,
          72.62,
          20.74,
          57.14,
          86.05,
          55.2
         ],
         "xaxis": "x",
         "y": [
          1572117.54,
          1807545.43,
          null,
          1244390.03,
          1644470.66,
          1857533.7,
          695396.19,
          2203523.2,
          2600519.26,
          418925.47,
          895066.5,
          1029618.1,
          414094.05,
          1677472.78,
          829207.27,
          1498080.16,
          1997397.63,
          1205307.5,
          2432736.52,
          null,
          561145.14,
          290930.01,
          1074079,
          1427023.45,
          1405007.44,
          919878.34,
          367438.62,
          435397.19,
          757738.76,
          1420405.41,
          1021154.48,
          null,
          563460.77,
          2077256.24,
          1853161.99,
          1266564.94,
          365248.94,
          988157.72,
          2008344.92,
          311906.7,
          961186.23,
          526525.16,
          1661767.33,
          629994.47,
          1641957.44,
          1861802.7,
          268929.03,
          1549018.68,
          1624383.75,
          485095.41,
          2035431.39,
          1916812.74,
          509263.28,
          1879451.23,
          1805999.79,
          1847430.96,
          888816.78,
          null,
          1532308.78,
          2020550.99,
          2095599.93,
          1990371.02,
          1295605.35,
          313358.15,
          2771397.17,
          1714309.9,
          1166117.85,
          461622.22,
          955913.68,
          null,
          1588430.71,
          null,
          2461468.35,
          1449142.92,
          1508068.77,
          1973135.87,
          570611.23,
          null,
          1539483.7,
          1789687.65,
          519823.3,
          359206.21,
          1569607.94,
          607475.44,
          null,
          1758050.79,
          986922.62,
          431985.36,
          2045837.55,
          1797732.56,
          485389.15,
          1046782.52,
          384200.69,
          964332.51,
          1953544.76,
          1494251.5,
          860336.16,
          298697.84,
          1768172.31,
          2018314.71,
          364076.85,
          1799520.14,
          1087051.26,
          2302504.86,
          419497.95,
          1366395.96,
          2095591.63,
          994801.4,
          1256282.79,
          null,
          1799737.79,
          1468350.36,
          2124451.54,
          1811606.21,
          1757242.51,
          660838.75,
          457340.06,
          null,
          513073.87,
          1864746.1,
          836707.85,
          275142.17,
          597876.55,
          1466046.67,
          1467473.63,
          398838.97,
          null,
          614253.33,
          1970341.38,
          1048134.24,
          2025582.62,
          855459.96,
          2036231.39,
          null,
          null,
          903119.03,
          2066541.86,
          1831676.03,
          1639358.93,
          532739.77,
          null,
          301827.36,
          403342.4,
          396968.8,
          424513.08,
          2248645.59,
          716388.81,
          845252.21,
          856796.1,
          1255087.26
         ],
         "yaxis": "y"
        }
       ],
       "layout": {
        "barmode": "relative",
        "legend": {
         "tracegroupgap": 0
        },
        "margin": {
         "t": 60
        },
        "template": {
         "data": {
          "bar": [
           {
            "error_x": {
             "color": "#2a3f5f"
            },
            "error_y": {
             "color": "#2a3f5f"
            },
            "marker": {
             "line": {
              "color": "#E5ECF6",
              "width": 0.5
             },
             "pattern": {
              "fillmode": "overlay",
              "size": 10,
              "solidity": 0.2
             }
            },
            "type": "bar"
           }
          ],
          "barpolar": [
           {
            "marker": {
             "line": {
              "color": "#E5ECF6",
              "width": 0.5
             },
             "pattern": {
              "fillmode": "overlay",
              "size": 10,
              "solidity": 0.2
             }
            },
            "type": "barpolar"
           }
          ],
          "carpet": [
           {
            "aaxis": {
             "endlinecolor": "#2a3f5f",
             "gridcolor": "white",
             "linecolor": "white",
             "minorgridcolor": "white",
             "startlinecolor": "#2a3f5f"
            },
            "baxis": {
             "endlinecolor": "#2a3f5f",
             "gridcolor": "white",
             "linecolor": "white",
             "minorgridcolor": "white",
             "startlinecolor": "#2a3f5f"
            },
            "type": "carpet"
           }
          ],
          "choropleth": [
           {
            "colorbar": {
             "outlinewidth": 0,
             "ticks": ""
            },
            "type": "choropleth"
           }
          ],
          "contour": [
           {
            "colorbar": {
             "outlinewidth": 0,
             "ticks": ""
            },
            "colorscale": [
             [
              0,
              "#0d0887"
             ],
             [
              0.1111111111111111,
              "#46039f"
             ],
             [
              0.2222222222222222,
              "#7201a8"
             ],
             [
              0.3333333333333333,
              "#9c179e"
             ],
             [
              0.4444444444444444,
              "#bd3786"
             ],
             [
              0.5555555555555556,
              "#d8576b"
             ],
             [
              0.6666666666666666,
              "#ed7953"
             ],
             [
              0.7777777777777778,
              "#fb9f3a"
             ],
             [
              0.8888888888888888,
              "#fdca26"
             ],
             [
              1,
              "#f0f921"
             ]
            ],
            "type": "contour"
           }
          ],
          "contourcarpet": [
           {
            "colorbar": {
             "outlinewidth": 0,
             "ticks": ""
            },
            "type": "contourcarpet"
           }
          ],
          "heatmap": [
           {
            "colorbar": {
             "outlinewidth": 0,
             "ticks": ""
            },
            "colorscale": [
             [
              0,
              "#0d0887"
             ],
             [
              0.1111111111111111,
              "#46039f"
             ],
             [
              0.2222222222222222,
              "#7201a8"
             ],
             [
              0.3333333333333333,
              "#9c179e"
             ],
             [
              0.4444444444444444,
              "#bd3786"
             ],
             [
              0.5555555555555556,
              "#d8576b"
             ],
             [
              0.6666666666666666,
              "#ed7953"
             ],
             [
              0.7777777777777778,
              "#fb9f3a"
             ],
             [
              0.8888888888888888,
              "#fdca26"
             ],
             [
              1,
              "#f0f921"
             ]
            ],
            "type": "heatmap"
           }
          ],
          "heatmapgl": [
           {
            "colorbar": {
             "outlinewidth": 0,
             "ticks": ""
            },
            "colorscale": [
             [
              0,
              "#0d0887"
             ],
             [
              0.1111111111111111,
              "#46039f"
             ],
             [
              0.2222222222222222,
              "#7201a8"
             ],
             [
              0.3333333333333333,
              "#9c179e"
             ],
             [
              0.4444444444444444,
              "#bd3786"
             ],
             [
              0.5555555555555556,
              "#d8576b"
             ],
             [
              0.6666666666666666,
              "#ed7953"
             ],
             [
              0.7777777777777778,
              "#fb9f3a"
             ],
             [
              0.8888888888888888,
              "#fdca26"
             ],
             [
              1,
              "#f0f921"
             ]
            ],
            "type": "heatmapgl"
           }
          ],
          "histogram": [
           {
            "marker": {
             "pattern": {
              "fillmode": "overlay",
              "size": 10,
              "solidity": 0.2
             }
            },
            "type": "histogram"
           }
          ],
          "histogram2d": [
           {
            "colorbar": {
             "outlinewidth": 0,
             "ticks": ""
            },
            "colorscale": [
             [
              0,
              "#0d0887"
             ],
             [
              0.1111111111111111,
              "#46039f"
             ],
             [
              0.2222222222222222,
              "#7201a8"
             ],
             [
              0.3333333333333333,
              "#9c179e"
             ],
             [
              0.4444444444444444,
              "#bd3786"
             ],
             [
              0.5555555555555556,
              "#d8576b"
             ],
             [
              0.6666666666666666,
              "#ed7953"
             ],
             [
              0.7777777777777778,
              "#fb9f3a"
             ],
             [
              0.8888888888888888,
              "#fdca26"
             ],
             [
              1,
              "#f0f921"
             ]
            ],
            "type": "histogram2d"
           }
          ],
          "histogram2dcontour": [
           {
            "colorbar": {
             "outlinewidth": 0,
             "ticks": ""
            },
            "colorscale": [
             [
              0,
              "#0d0887"
             ],
             [
              0.1111111111111111,
              "#46039f"
             ],
             [
              0.2222222222222222,
              "#7201a8"
             ],
             [
              0.3333333333333333,
              "#9c179e"
             ],
             [
              0.4444444444444444,
              "#bd3786"
             ],
             [
              0.5555555555555556,
              "#d8576b"
             ],
             [
              0.6666666666666666,
              "#ed7953"
             ],
             [
              0.7777777777777778,
              "#fb9f3a"
             ],
             [
              0.8888888888888888,
              "#fdca26"
             ],
             [
              1,
              "#f0f921"
             ]
            ],
            "type": "histogram2dcontour"
           }
          ],
          "mesh3d": [
           {
            "colorbar": {
             "outlinewidth": 0,
             "ticks": ""
            },
            "type": "mesh3d"
           }
          ],
          "parcoords": [
           {
            "line": {
             "colorbar": {
              "outlinewidth": 0,
              "ticks": ""
             }
            },
            "type": "parcoords"
           }
          ],
          "pie": [
           {
            "automargin": true,
            "type": "pie"
           }
          ],
          "scatter": [
           {
            "marker": {
             "colorbar": {
              "outlinewidth": 0,
              "ticks": ""
             }
            },
            "type": "scatter"
           }
          ],
          "scatter3d": [
           {
            "line": {
             "colorbar": {
              "outlinewidth": 0,
              "ticks": ""
             }
            },
            "marker": {
             "colorbar": {
              "outlinewidth": 0,
              "ticks": ""
             }
            },
            "type": "scatter3d"
           }
          ],
          "scattercarpet": [
           {
            "marker": {
             "colorbar": {
              "outlinewidth": 0,
              "ticks": ""
             }
            },
            "type": "scattercarpet"
           }
          ],
          "scattergeo": [
           {
            "marker": {
             "colorbar": {
              "outlinewidth": 0,
              "ticks": ""
             }
            },
            "type": "scattergeo"
           }
          ],
          "scattergl": [
           {
            "marker": {
             "colorbar": {
              "outlinewidth": 0,
              "ticks": ""
             }
            },
            "type": "scattergl"
           }
          ],
          "scattermapbox": [
           {
            "marker": {
             "colorbar": {
              "outlinewidth": 0,
              "ticks": ""
             }
            },
            "type": "scattermapbox"
           }
          ],
          "scatterpolar": [
           {
            "marker": {
             "colorbar": {
              "outlinewidth": 0,
              "ticks": ""
             }
            },
            "type": "scatterpolar"
           }
          ],
          "scatterpolargl": [
           {
            "marker": {
             "colorbar": {
              "outlinewidth": 0,
              "ticks": ""
             }
            },
            "type": "scatterpolargl"
           }
          ],
          "scatterternary": [
           {
            "marker": {
             "colorbar": {
              "outlinewidth": 0,
              "ticks": ""
             }
            },
            "type": "scatterternary"
           }
          ],
          "surface": [
           {
            "colorbar": {
             "outlinewidth": 0,
             "ticks": ""
            },
            "colorscale": [
             [
              0,
              "#0d0887"
             ],
             [
              0.1111111111111111,
              "#46039f"
             ],
             [
              0.2222222222222222,
              "#7201a8"
             ],
             [
              0.3333333333333333,
              "#9c179e"
             ],
             [
              0.4444444444444444,
              "#bd3786"
             ],
             [
              0.5555555555555556,
              "#d8576b"
             ],
             [
              0.6666666666666666,
              "#ed7953"
             ],
             [
              0.7777777777777778,
              "#fb9f3a"
             ],
             [
              0.8888888888888888,
              "#fdca26"
             ],
             [
              1,
              "#f0f921"
             ]
            ],
            "type": "surface"
           }
          ],
          "table": [
           {
            "cells": {
             "fill": {
              "color": "#EBF0F8"
             },
             "line": {
              "color": "white"
             }
            },
            "header": {
             "fill": {
              "color": "#C8D4E3"
             },
             "line": {
              "color": "white"
             }
            },
            "type": "table"
           }
          ]
         },
         "layout": {
          "annotationdefaults": {
           "arrowcolor": "#2a3f5f",
           "arrowhead": 0,
           "arrowwidth": 1
          },
          "autotypenumbers": "strict",
          "coloraxis": {
           "colorbar": {
            "outlinewidth": 0,
            "ticks": ""
           }
          },
          "colorscale": {
           "diverging": [
            [
             0,
             "#8e0152"
            ],
            [
             0.1,
             "#c51b7d"
            ],
            [
             0.2,
             "#de77ae"
            ],
            [
             0.3,
             "#f1b6da"
            ],
            [
             0.4,
             "#fde0ef"
            ],
            [
             0.5,
             "#f7f7f7"
            ],
            [
             0.6,
             "#e6f5d0"
            ],
            [
             0.7,
             "#b8e186"
            ],
            [
             0.8,
             "#7fbc41"
            ],
            [
             0.9,
             "#4d9221"
            ],
            [
             1,
             "#276419"
            ]
           ],
           "sequential": [
            [
             0,
             "#0d0887"
            ],
            [
             0.1111111111111111,
             "#46039f"
            ],
            [
             0.2222222222222222,
             "#7201a8"
            ],
            [
             0.3333333333333333,
             "#9c179e"
            ],
            [
             0.4444444444444444,
             "#bd3786"
            ],
            [
             0.5555555555555556,
             "#d8576b"
            ],
            [
             0.6666666666666666,
             "#ed7953"
            ],
            [
             0.7777777777777778,
             "#fb9f3a"
            ],
            [
             0.8888888888888888,
             "#fdca26"
            ],
            [
             1,
             "#f0f921"
            ]
           ],
           "sequentialminus": [
            [
             0,
             "#0d0887"
            ],
            [
             0.1111111111111111,
             "#46039f"
            ],
            [
             0.2222222222222222,
             "#7201a8"
            ],
            [
             0.3333333333333333,
             "#9c179e"
            ],
            [
             0.4444444444444444,
             "#bd3786"
            ],
            [
             0.5555555555555556,
             "#d8576b"
            ],
            [
             0.6666666666666666,
             "#ed7953"
            ],
            [
             0.7777777777777778,
             "#fb9f3a"
            ],
            [
             0.8888888888888888,
             "#fdca26"
            ],
            [
             1,
             "#f0f921"
            ]
           ]
          },
          "colorway": [
           "#636efa",
           "#EF553B",
           "#00cc96",
           "#ab63fa",
           "#FFA15A",
           "#19d3f3",
           "#FF6692",
           "#B6E880",
           "#FF97FF",
           "#FECB52"
          ],
          "font": {
           "color": "#2a3f5f"
          },
          "geo": {
           "bgcolor": "white",
           "lakecolor": "white",
           "landcolor": "#E5ECF6",
           "showlakes": true,
           "showland": true,
           "subunitcolor": "white"
          },
          "hoverlabel": {
           "align": "left"
          },
          "hovermode": "closest",
          "mapbox": {
           "style": "light"
          },
          "paper_bgcolor": "white",
          "plot_bgcolor": "#E5ECF6",
          "polar": {
           "angularaxis": {
            "gridcolor": "white",
            "linecolor": "white",
            "ticks": ""
           },
           "bgcolor": "#E5ECF6",
           "radialaxis": {
            "gridcolor": "white",
            "linecolor": "white",
            "ticks": ""
           }
          },
          "scene": {
           "xaxis": {
            "backgroundcolor": "#E5ECF6",
            "gridcolor": "white",
            "gridwidth": 2,
            "linecolor": "white",
            "showbackground": true,
            "ticks": "",
            "zerolinecolor": "white"
           },
           "yaxis": {
            "backgroundcolor": "#E5ECF6",
            "gridcolor": "white",
            "gridwidth": 2,
            "linecolor": "white",
            "showbackground": true,
            "ticks": "",
            "zerolinecolor": "white"
           },
           "zaxis": {
            "backgroundcolor": "#E5ECF6",
            "gridcolor": "white",
            "gridwidth": 2,
            "linecolor": "white",
            "showbackground": true,
            "ticks": "",
            "zerolinecolor": "white"
           }
          },
          "shapedefaults": {
           "line": {
            "color": "#2a3f5f"
           }
          },
          "ternary": {
           "aaxis": {
            "gridcolor": "white",
            "linecolor": "white",
            "ticks": ""
           },
           "baxis": {
            "gridcolor": "white",
            "linecolor": "white",
            "ticks": ""
           },
           "bgcolor": "#E5ECF6",
           "caxis": {
            "gridcolor": "white",
            "linecolor": "white",
            "ticks": ""
           }
          },
          "title": {
           "x": 0.05
          },
          "xaxis": {
           "automargin": true,
           "gridcolor": "white",
           "linecolor": "white",
           "ticks": "",
           "title": {
            "standoff": 15
           },
           "zerolinecolor": "white",
           "zerolinewidth": 2
          },
          "yaxis": {
           "automargin": true,
           "gridcolor": "white",
           "linecolor": "white",
           "ticks": "",
           "title": {
            "standoff": 15
           },
           "zerolinecolor": "white",
           "zerolinewidth": 2
          }
         }
        },
        "xaxis": {
         "anchor": "y",
         "domain": [
          0,
          1
         ],
         "title": {
          "text": "Temperature"
         }
        },
        "yaxis": {
         "anchor": "x",
         "domain": [
          0,
          1
         ],
         "title": {
          "text": "sum of Weekly_Sales"
         }
        }
       }
      }
     },
     "metadata": {},
     "output_type": "display_data"
    }
   ],
   "source": [
    "#Weekly sales over Temperature\n",
    "s_temp = px.histogram(w_sales, x='Temperature', y='Weekly_Sales', nbins=37)\n",
    "s_temp.show()"
   ]
  },
  {
   "cell_type": "code",
   "execution_count": 16,
   "id": "635d39dd",
   "metadata": {
    "tags": []
   },
   "outputs": [
    {
     "data": {
      "text/plain": [
       "<seaborn.axisgrid.FacetGrid at 0x2a923286190>"
      ]
     },
     "execution_count": 16,
     "metadata": {},
     "output_type": "execute_result"
    },
    {
     "data": {
      "image/png": "[encoded data removed]",
      "text/plain": [
       "<Figure size 360x360 with 1 Axes>"
      ]
     },
     "metadata": {
      "needs_background": "light"
     },
     "output_type": "display_data"
    }
   ],
   "source": [
    "sns.relplot(\n",
    "    data=w_sales, x=\"Temperature\", y=\"Weekly_Sales\",\n",
    "    kind=\"line\",\n",
    ")"
   ]
  },
  {
   "cell_type": "code",
   "execution_count": 17,
   "id": "f8523007",
   "metadata": {
    "tags": []
   },
   "outputs": [
    {
     "data": {
      "application/vnd.plotly.v1+json": {
       "config": {
        "plotlyServerURL": "https://plot.ly"
       },
       "data": [
        {
         "alignmentgroup": "True",
         "bingroup": "x",
         "histfunc": "sum",
         "hovertemplate": "Fuel_Price=%{x}<br>sum of Weekly_Sales=%{y}<extra></extra>",
         "legendgroup": "",
         "marker": {
          "color": "#636efa",
          "pattern": {
           "shape": ""
          }
         },
         "name": "",
         "offsetgroup": "",
         "orientation": "v",
         "showlegend": false,
         "type": "histogram",
         "x": [
          3.045,
          3.435,
          null,
          null,
          2.759,
          2.756,
          4.069,
          3.617,
          3.109,
          3.555,
          3.554,
          2.878,
          3.767,
          3.734,
          2.853,
          2.78,
          2.85,
          2.7880000000000003,
          null,
          3.63,
          2.725,
          3.899,
          4.029,
          2.963,
          4.124,
          3.797,
          3.261,
          3.828,
          2.915,
          3.523,
          4.1930000000000005,
          3.129,
          3.103,
          null,
          3.48,
          3.789,
          3.467,
          3.823,
          3.57,
          3.297,
          4.023,
          3.659,
          3.73,
          3.485,
          2.548,
          3.555,
          2.64,
          2.958,
          3.684,
          3.75,
          3.788,
          2.728,
          2.653,
          3.625,
          3.666,
          3.648,
          2.619,
          2.98,
          2.64,
          3.695,
          4.046,
          3.882,
          3.236,
          3.594,
          3.149,
          3.287,
          2.792,
          2.572,
          3.701,
          2.854,
          3.139,
          3.911,
          2.817,
          2.619,
          3.594,
          2.8080000000000003,
          4.021,
          3.682,
          3.3080000000000003,
          null,
          2.7710000000000004,
          3.63,
          3.51,
          3.972,
          2.577,
          2.9760000000000004,
          3.793,
          3.688,
          3.739,
          3.786,
          2.642,
          3.63,
          2.667,
          4.087,
          3.76,
          2.854,
          null,
          null,
          null,
          2.814,
          2.637,
          null,
          3.815,
          2.86,
          3.346,
          2.932,
          null,
          2.548,
          2.906,
          3.158,
          3.179,
          3.722,
          2.514,
          null,
          2.735,
          2.909,
          3.936,
          4.187,
          2.637,
          3.193,
          2.582,
          3.682,
          3.596,
          3.786,
          null,
          3.3080000000000003,
          3.651,
          2.7110000000000003,
          3.606,
          3.84,
          3.529,
          2.8310000000000004,
          3.627,
          null,
          3.594,
          3.044,
          3.469,
          3.112,
          3.807,
          3.804,
          2.9760000000000004,
          null,
          3.285,
          2.705,
          3.594,
          2.78,
          2.778,
          2.841,
          3.638,
          4.17
         ],
         "xaxis": "x",
         "y": [
          1572117.54,
          1807545.43,
          null,
          1244390.03,
          1644470.66,
          1857533.7,
          695396.19,
          2203523.2,
          2600519.26,
          418925.47,
          895066.5,
          1029618.1,
          414094.05,
          1677472.78,
          829207.27,
          1498080.16,
          1997397.63,
          1205307.5,
          2432736.52,
          null,
          561145.14,
          290930.01,
          1074079,
          1427023.45,
          1405007.44,
          919878.34,
          367438.62,
          435397.19,
          757738.76,
          1420405.41,
          1021154.48,
          null,
          563460.77,
          2077256.24,
          1853161.99,
          1266564.94,
          365248.94,
          988157.72,
          2008344.92,
          311906.7,
          961186.23,
          526525.16,
          1661767.33,
          629994.47,
          1641957.44,
          1861802.7,
          268929.03,
          1549018.68,
          1624383.75,
          485095.41,
          2035431.39,
          1916812.74,
          509263.28,
          1879451.23,
          1805999.79,
          1847430.96,
          888816.78,
          null,
          1532308.78,
          2020550.99,
          2095599.93,
          1990371.02,
          1295605.35,
          313358.15,
          2771397.17,
          1714309.9,
          1166117.85,
          461622.22,
          955913.68,
          null,
          1588430.71,
          null,
          2461468.35,
          1449142.92,
          1508068.77,
          1973135.87,
          570611.23,
          null,
          1539483.7,
          1789687.65,
          519823.3,
          359206.21,
          1569607.94,
          607475.44,
          null,
          1758050.79,
          986922.62,
          431985.36,
          2045837.55,
          1797732.56,
          485389.15,
          1046782.52,
          384200.69,
          964332.51,
          1953544.76,
          1494251.5,
          860336.16,
          298697.84,
          1768172.31,
          2018314.71,
          364076.85,
          1799520.14,
          1087051.26,
          2302504.86,
          419497.95,
          1366395.96,
          2095591.63,
          994801.4,
          1256282.79,
          null,
          1799737.79,
          1468350.36,
          2124451.54,
          1811606.21,
          1757242.51,
          660838.75,
          457340.06,
          null,
          513073.87,
          1864746.1,
          836707.85,
          275142.17,
          597876.55,
          1466046.67,
          1467473.63,
          398838.97,
          null,
          614253.33,
          1970341.38,
          1048134.24,
          2025582.62,
          855459.96,
          2036231.39,
          null,
          null,
          903119.03,
          2066541.86,
          1831676.03,
          1639358.93,
          532739.77,
          null,
          301827.36,
          403342.4,
          396968.8,
          424513.08,
          2248645.59,
          716388.81,
          845252.21,
          856796.1,
          1255087.26
         ],
         "yaxis": "y"
        }
       ],
       "layout": {
        "barmode": "relative",
        "legend": {
         "tracegroupgap": 0
        },
        "margin": {
         "t": 60
        },
        "template": {
         "data": {
          "bar": [
           {
            "error_x": {
             "color": "#2a3f5f"
            },
            "error_y": {
             "color": "#2a3f5f"
            },
            "marker": {
             "line": {
              "color": "#E5ECF6",
              "width": 0.5
             },
             "pattern": {
              "fillmode": "overlay",
              "size": 10,
              "solidity": 0.2
             }
            },
            "type": "bar"
           }
          ],
          "barpolar": [
           {
            "marker": {
             "line": {
              "color": "#E5ECF6",
              "width": 0.5
             },
             "pattern": {
              "fillmode": "overlay",
              "size": 10,
              "solidity": 0.2
             }
            },
            "type": "barpolar"
           }
          ],
          "carpet": [
           {
            "aaxis": {
             "endlinecolor": "#2a3f5f",
             "gridcolor": "white",
             "linecolor": "white",
             "minorgridcolor": "white",
             "startlinecolor": "#2a3f5f"
            },
            "baxis": {
             "endlinecolor": "#2a3f5f",
             "gridcolor": "white",
             "linecolor": "white",
             "minorgridcolor": "white",
             "startlinecolor": "#2a3f5f"
            },
            "type": "carpet"
           }
          ],
          "choropleth": [
           {
            "colorbar": {
             "outlinewidth": 0,
             "ticks": ""
            },
            "type": "choropleth"
           }
          ],
          "contour": [
           {
            "colorbar": {
             "outlinewidth": 0,
             "ticks": ""
            },
            "colorscale": [
             [
              0,
              "#0d0887"
             ],
             [
              0.1111111111111111,
              "#46039f"
             ],
             [
              0.2222222222222222,
              "#7201a8"
             ],
             [
              0.3333333333333333,
              "#9c179e"
             ],
             [
              0.4444444444444444,
              "#bd3786"
             ],
             [
              0.5555555555555556,
              "#d8576b"
             ],
             [
              0.6666666666666666,
              "#ed7953"
             ],
             [
              0.7777777777777778,
              "#fb9f3a"
             ],
             [
              0.8888888888888888,
              "#fdca26"
             ],
             [
              1,
              "#f0f921"
             ]
            ],
            "type": "contour"
           }
          ],
          "contourcarpet": [
           {
            "colorbar": {
             "outlinewidth": 0,
             "ticks": ""
            },
            "type": "contourcarpet"
           }
          ],
          "heatmap": [
           {
            "colorbar": {
             "outlinewidth": 0,
             "ticks": ""
            },
            "colorscale": [
             [
              0,
              "#0d0887"
             ],
             [
              0.1111111111111111,
              "#46039f"
             ],
             [
              0.2222222222222222,
              "#7201a8"
             ],
             [
              0.3333333333333333,
              "#9c179e"
             ],
             [
              0.4444444444444444,
              "#bd3786"
             ],
             [
              0.5555555555555556,
              "#d8576b"
             ],
             [
              0.6666666666666666,
              "#ed7953"
             ],
             [
              0.7777777777777778,
              "#fb9f3a"
             ],
             [
              0.8888888888888888,
              "#fdca26"
             ],
             [
              1,
              "#f0f921"
             ]
            ],
            "type": "heatmap"
           }
          ],
          "heatmapgl": [
           {
            "colorbar": {
             "outlinewidth": 0,
             "ticks": ""
            },
            "colorscale": [
             [
              0,
              "#0d0887"
             ],
             [
              0.1111111111111111,
              "#46039f"
             ],
             [
              0.2222222222222222,
              "#7201a8"
             ],
             [
              0.3333333333333333,
              "#9c179e"
             ],
             [
              0.4444444444444444,
              "#bd3786"
             ],
             [
              0.5555555555555556,
              "#d8576b"
             ],
             [
              0.6666666666666666,
              "#ed7953"
             ],
             [
              0.7777777777777778,
              "#fb9f3a"
             ],
             [
              0.8888888888888888,
              "#fdca26"
             ],
             [
              1,
              "#f0f921"
             ]
            ],
            "type": "heatmapgl"
           }
          ],
          "histogram": [
           {
            "marker": {
             "pattern": {
              "fillmode": "overlay",
              "size": 10,
              "solidity": 0.2
             }
            },
            "type": "histogram"
           }
          ],
          "histogram2d": [
           {
            "colorbar": {
             "outlinewidth": 0,
             "ticks": ""
            },
            "colorscale": [
             [
              0,
              "#0d0887"
             ],
             [
              0.1111111111111111,
              "#46039f"
             ],
             [
              0.2222222222222222,
              "#7201a8"
             ],
             [
              0.3333333333333333,
              "#9c179e"
             ],
             [
              0.4444444444444444,
              "#bd3786"
             ],
             [
              0.5555555555555556,
              "#d8576b"
             ],
             [
              0.6666666666666666,
              "#ed7953"
             ],
             [
              0.7777777777777778,
              "#fb9f3a"
             ],
             [
              0.8888888888888888,
              "#fdca26"
             ],
             [
              1,
              "#f0f921"
             ]
            ],
            "type": "histogram2d"
           }
          ],
          "histogram2dcontour": [
           {
            "colorbar": {
             "outlinewidth": 0,
             "ticks": ""
            },
            "colorscale": [
             [
              0,
              "#0d0887"
             ],
             [
              0.1111111111111111,
              "#46039f"
             ],
             [
              0.2222222222222222,
              "#7201a8"
             ],
             [
              0.3333333333333333,
              "#9c179e"
             ],
             [
              0.4444444444444444,
              "#bd3786"
             ],
             [
              0.5555555555555556,
              "#d8576b"
             ],
             [
              0.6666666666666666,
              "#ed7953"
             ],
             [
              0.7777777777777778,
              "#fb9f3a"
             ],
             [
              0.8888888888888888,
              "#fdca26"
             ],
             [
              1,
              "#f0f921"
             ]
            ],
            "type": "histogram2dcontour"
           }
          ],
          "mesh3d": [
           {
            "colorbar": {
             "outlinewidth": 0,
             "ticks": ""
            },
            "type": "mesh3d"
           }
          ],
          "parcoords": [
           {
            "line": {
             "colorbar": {
              "outlinewidth": 0,
              "ticks": ""
             }
            },
            "type": "parcoords"
           }
          ],
          "pie": [
           {
            "automargin": true,
            "type": "pie"
           }
          ],
          "scatter": [
           {
            "marker": {
             "colorbar": {
              "outlinewidth": 0,
              "ticks": ""
             }
            },
            "type": "scatter"
           }
          ],
          "scatter3d": [
           {
            "line": {
             "colorbar": {
              "outlinewidth": 0,
              "ticks": ""
             }
            },
            "marker": {
             "colorbar": {
              "outlinewidth": 0,
              "ticks": ""
             }
            },
            "type": "scatter3d"
           }
          ],
          "scattercarpet": [
           {
            "marker": {
             "colorbar": {
              "outlinewidth": 0,
              "ticks": ""
             }
            },
            "type": "scattercarpet"
           }
          ],
          "scattergeo": [
           {
            "marker": {
             "colorbar": {
              "outlinewidth": 0,
              "ticks": ""
             }
            },
            "type": "scattergeo"
           }
          ],
          "scattergl": [
           {
            "marker": {
             "colorbar": {
              "outlinewidth": 0,
              "ticks": ""
             }
            },
            "type": "scattergl"
           }
          ],
          "scattermapbox": [
           {
            "marker": {
             "colorbar": {
              "outlinewidth": 0,
              "ticks": ""
             }
            },
            "type": "scattermapbox"
           }
          ],
          "scatterpolar": [
           {
            "marker": {
             "colorbar": {
              "outlinewidth": 0,
              "ticks": ""
             }
            },
            "type": "scatterpolar"
           }
          ],
          "scatterpolargl": [
           {
            "marker": {
             "colorbar": {
              "outlinewidth": 0,
              "ticks": ""
             }
            },
            "type": "scatterpolargl"
           }
          ],
          "scatterternary": [
           {
            "marker": {
             "colorbar": {
              "outlinewidth": 0,
              "ticks": ""
             }
            },
            "type": "scatterternary"
           }
          ],
          "surface": [
           {
            "colorbar": {
             "outlinewidth": 0,
             "ticks": ""
            },
            "colorscale": [
             [
              0,
              "#0d0887"
             ],
             [
              0.1111111111111111,
              "#46039f"
             ],
             [
              0.2222222222222222,
              "#7201a8"
             ],
             [
              0.3333333333333333,
              "#9c179e"
             ],
             [
              0.4444444444444444,
              "#bd3786"
             ],
             [
              0.5555555555555556,
              "#d8576b"
             ],
             [
              0.6666666666666666,
              "#ed7953"
             ],
             [
              0.7777777777777778,
              "#fb9f3a"
             ],
             [
              0.8888888888888888,
              "#fdca26"
             ],
             [
              1,
              "#f0f921"
             ]
            ],
            "type": "surface"
           }
          ],
          "table": [
           {
            "cells": {
             "fill": {
              "color": "#EBF0F8"
             },
             "line": {
              "color": "white"
             }
            },
            "header": {
             "fill": {
              "color": "#C8D4E3"
             },
             "line": {
              "color": "white"
             }
            },
            "type": "table"
           }
          ]
         },
         "layout": {
          "annotationdefaults": {
           "arrowcolor": "#2a3f5f",
           "arrowhead": 0,
           "arrowwidth": 1
          },
          "autotypenumbers": "strict",
          "coloraxis": {
           "colorbar": {
            "outlinewidth": 0,
            "ticks": ""
           }
          },
          "colorscale": {
           "diverging": [
            [
             0,
             "#8e0152"
            ],
            [
             0.1,
             "#c51b7d"
            ],
            [
             0.2,
             "#de77ae"
            ],
            [
             0.3,
             "#f1b6da"
            ],
            [
             0.4,
             "#fde0ef"
            ],
            [
             0.5,
             "#f7f7f7"
            ],
            [
             0.6,
             "#e6f5d0"
            ],
            [
             0.7,
             "#b8e186"
            ],
            [
             0.8,
             "#7fbc41"
            ],
            [
             0.9,
             "#4d9221"
            ],
            [
             1,
             "#276419"
            ]
           ],
           "sequential": [
            [
             0,
             "#0d0887"
            ],
            [
             0.1111111111111111,
             "#46039f"
            ],
            [
             0.2222222222222222,
             "#7201a8"
            ],
            [
             0.3333333333333333,
             "#9c179e"
            ],
            [
             0.4444444444444444,
             "#bd3786"
            ],
            [
             0.5555555555555556,
             "#d8576b"
            ],
            [
             0.6666666666666666,
             "#ed7953"
            ],
            [
             0.7777777777777778,
             "#fb9f3a"
            ],
            [
             0.8888888888888888,
             "#fdca26"
            ],
            [
             1,
             "#f0f921"
            ]
           ],
           "sequentialminus": [
            [
             0,
             "#0d0887"
            ],
            [
             0.1111111111111111,
             "#46039f"
            ],
            [
             0.2222222222222222,
             "#7201a8"
            ],
            [
             0.3333333333333333,
             "#9c179e"
            ],
            [
             0.4444444444444444,
             "#bd3786"
            ],
            [
             0.5555555555555556,
             "#d8576b"
            ],
            [
             0.6666666666666666,
             "#ed7953"
            ],
            [
             0.7777777777777778,
             "#fb9f3a"
            ],
            [
             0.8888888888888888,
             "#fdca26"
            ],
            [
             1,
             "#f0f921"
            ]
           ]
          },
          "colorway": [
           "#636efa",
           "#EF553B",
           "#00cc96",
           "#ab63fa",
           "#FFA15A",
           "#19d3f3",
           "#FF6692",
           "#B6E880",
           "#FF97FF",
           "#FECB52"
          ],
          "font": {
           "color": "#2a3f5f"
          },
          "geo": {
           "bgcolor": "white",
           "lakecolor": "white",
           "landcolor": "#E5ECF6",
           "showlakes": true,
           "showland": true,
           "subunitcolor": "white"
          },
          "hoverlabel": {
           "align": "left"
          },
          "hovermode": "closest",
          "mapbox": {
           "style": "light"
          },
          "paper_bgcolor": "white",
          "plot_bgcolor": "#E5ECF6",
          "polar": {
           "angularaxis": {
            "gridcolor": "white",
            "linecolor": "white",
            "ticks": ""
           },
           "bgcolor": "#E5ECF6",
           "radialaxis": {
            "gridcolor": "white",
            "linecolor": "white",
            "ticks": ""
           }
          },
          "scene": {
           "xaxis": {
            "backgroundcolor": "#E5ECF6",
            "gridcolor": "white",
            "gridwidth": 2,
            "linecolor": "white",
            "showbackground": true,
            "ticks": "",
            "zerolinecolor": "white"
           },
           "yaxis": {
            "backgroundcolor": "#E5ECF6",
            "gridcolor": "white",
            "gridwidth": 2,
            "linecolor": "white",
            "showbackground": true,
            "ticks": "",
            "zerolinecolor": "white"
           },
           "zaxis": {
            "backgroundcolor": "#E5ECF6",
            "gridcolor": "white",
            "gridwidth": 2,
            "linecolor": "white",
            "showbackground": true,
            "ticks": "",
            "zerolinecolor": "white"
           }
          },
          "shapedefaults": {
           "line": {
            "color": "#2a3f5f"
           }
          },
          "ternary": {
           "aaxis": {
            "gridcolor": "white",
            "linecolor": "white",
            "ticks": ""
           },
           "baxis": {
            "gridcolor": "white",
            "linecolor": "white",
            "ticks": ""
           },
           "bgcolor": "#E5ECF6",
           "caxis": {
            "gridcolor": "white",
            "linecolor": "white",
            "ticks": ""
           }
          },
          "title": {
           "x": 0.05
          },
          "xaxis": {
           "automargin": true,
           "gridcolor": "white",
           "linecolor": "white",
           "ticks": "",
           "title": {
            "standoff": 15
           },
           "zerolinecolor": "white",
           "zerolinewidth": 2
          },
          "yaxis": {
           "automargin": true,
           "gridcolor": "white",
           "linecolor": "white",
           "ticks": "",
           "title": {
            "standoff": 15
           },
           "zerolinecolor": "white",
           "zerolinewidth": 2
          }
         }
        },
        "xaxis": {
         "anchor": "y",
         "domain": [
          0,
          1
         ],
         "title": {
          "text": "Fuel_Price"
         }
        },
        "yaxis": {
         "anchor": "x",
         "domain": [
          0,
          1
         ],
         "title": {
          "text": "sum of Weekly_Sales"
         }
        }
       }
      }
     },
     "metadata": {},
     "output_type": "display_data"
    }
   ],
   "source": [
    "#Weekly sales over Fuel price\n",
    "s_fuel = px.histogram(w_sales, x='Fuel_Price', y='Weekly_Sales')\n",
    "s_fuel.show()"
   ]
  },
  {
   "cell_type": "code",
   "execution_count": 18,
   "id": "be8049df",
   "metadata": {
    "tags": []
   },
   "outputs": [
    {
     "data": {
      "text/plain": [
       "<seaborn.axisgrid.FacetGrid at 0x2a923322790>"
      ]
     },
     "execution_count": 18,
     "metadata": {},
     "output_type": "execute_result"
    },
    {
     "data": {
      "image/png": "[encoded data removed]",
      "text/plain": [
       "<Figure size 360x360 with 1 Axes>"
      ]
     },
     "metadata": {
      "needs_background": "light"
     },
     "output_type": "display_data"
    }
   ],
   "source": [
    "sns.relplot(\n",
    "    data=w_sales, x=\"Fuel_Price\", y=\"Weekly_Sales\",\n",
    "    kind=\"line\",\n",
    ")"
   ]
  },
  {
   "cell_type": "code",
   "execution_count": 19,
   "id": "3edd5bd5",
   "metadata": {
    "tags": []
   },
   "outputs": [
    {
     "data": {
      "text/plain": [
       "array([[ 1.  ,  0.12, -0.03, -0.26,  0.18, -0.59,  0.22],\n",
       "       [ 0.12,  1.  ,  0.04, -0.17, -0.02, -0.29,  0.06],\n",
       "       [-0.03,  0.04,  1.  , -0.19, -0.12,  0.17,  0.1 ],\n",
       "       [-0.26, -0.17, -0.19,  1.  ,  0.05,  0.14, -0.03],\n",
       "       [ 0.18, -0.02, -0.12,  0.05,  1.  , -0.16,  0.09],\n",
       "       [-0.59, -0.29,  0.17,  0.14, -0.16,  1.  , -0.35],\n",
       "       [ 0.22,  0.06,  0.1 , -0.03,  0.09, -0.35,  1.  ]])"
      ]
     },
     "execution_count": 19,
     "metadata": {},
     "output_type": "execute_result"
    }
   ],
   "source": [
    "w_sales.corr().values.round(2)"
   ]
  },
  {
   "cell_type": "code",
   "execution_count": 20,
   "id": "53a3c511",
   "metadata": {
    "tags": []
   },
   "outputs": [
    {
     "data": {
      "application/vnd.plotly.v1+json": {
       "config": {
        "plotlyServerURL": "https://plot.ly"
       },
       "data": [
        {
         "colorscale": [
          [
           0,
           "#0d0887"
          ],
          [
           0.1111111111111111,
           "#46039f"
          ],
          [
           0.2222222222222222,
           "#7201a8"
          ],
          [
           0.3333333333333333,
           "#9c179e"
          ],
          [
           0.4444444444444444,
           "#bd3786"
          ],
          [
           0.5555555555555556,
           "#d8576b"
          ],
          [
           0.6666666666666666,
           "#ed7953"
          ],
          [
           0.7777777777777778,
           "#fb9f3a"
          ],
          [
           0.8888888888888888,
           "#fdca26"
          ],
          [
           1,
           "#f0f921"
          ]
         ],
         "reversescale": false,
         "showscale": false,
         "type": "heatmap",
         "x": [
          "Store",
          "Weekly_Sales",
          "Holiday_Flag",
          "Temperature",
          "Fuel_Price",
          "CPI",
          "Unemployment"
         ],
         "y": [
          "Store",
          "Weekly_Sales",
          "Holiday_Flag",
          "Temperature",
          "Fuel_Price",
          "CPI",
          "Unemployment"
         ],
         "z": [
          [
           1,
           0.12,
           -0.03,
           -0.26,
           0.18,
           -0.59,
           0.22
          ],
          [
           0.12,
           1,
           0.04,
           -0.17,
           -0.02,
           -0.29,
           0.06
          ],
          [
           -0.03,
           0.04,
           1,
           -0.19,
           -0.12,
           0.17,
           0.1
          ],
          [
           -0.26,
           -0.17,
           -0.19,
           1,
           0.05,
           0.14,
           -0.03
          ],
          [
           0.18,
           -0.02,
           -0.12,
           0.05,
           1,
           -0.16,
           0.09
          ],
          [
           -0.59,
           -0.29,
           0.17,
           0.14,
           -0.16,
           1,
           -0.35
          ],
          [
           0.22,
           0.06,
           0.1,
           -0.03,
           0.09,
           -0.35,
           1
          ]
         ]
        }
       ],
       "layout": {
        "annotations": [
         {
          "font": {
           "color": "#000000"
          },
          "showarrow": false,
          "text": "1.0",
          "x": "Store",
          "xref": "x",
          "y": "Store",
          "yref": "y"
         },
         {
          "font": {
           "color": "#FFFFFF"
          },
          "showarrow": false,
          "text": "0.12",
          "x": "Weekly_Sales",
          "xref": "x",
          "y": "Store",
          "yref": "y"
         },
         {
          "font": {
           "color": "#FFFFFF"
          },
          "showarrow": false,
          "text": "-0.03",
          "x": "Holiday_Flag",
          "xref": "x",
          "y": "Store",
          "yref": "y"
         },
         {
          "font": {
           "color": "#FFFFFF"
          },
          "showarrow": false,
          "text": "-0.26",
          "x": "Temperature",
          "xref": "x",
          "y": "Store",
          "yref": "y"
         },
         {
          "font": {
           "color": "#FFFFFF"
          },
          "showarrow": false,
          "text": "0.18",
          "x": "Fuel_Price",
          "xref": "x",
          "y": "Store",
          "yref": "y"
         },
         {
          "font": {
           "color": "#FFFFFF"
          },
          "showarrow": false,
          "text": "-0.59",
          "x": "CPI",
          "xref": "x",
          "y": "Store",
          "yref": "y"
         },
         {
          "font": {
           "color": "#000000"
          },
          "showarrow": false,
          "text": "0.22",
          "x": "Unemployment",
          "xref": "x",
          "y": "Store",
          "yref": "y"
         },
         {
          "font": {
           "color": "#FFFFFF"
          },
          "showarrow": false,
          "text": "0.12",
          "x": "Store",
          "xref": "x",
          "y": "Weekly_Sales",
          "yref": "y"
         },
         {
          "font": {
           "color": "#000000"
          },
          "showarrow": false,
          "text": "1.0",
          "x": "Weekly_Sales",
          "xref": "x",
          "y": "Weekly_Sales",
          "yref": "y"
         },
         {
          "font": {
           "color": "#FFFFFF"
          },
          "showarrow": false,
          "text": "0.04",
          "x": "Holiday_Flag",
          "xref": "x",
          "y": "Weekly_Sales",
          "yref": "y"
         },
         {
          "font": {
           "color": "#FFFFFF"
          },
          "showarrow": false,
          "text": "-0.17",
          "x": "Temperature",
          "xref": "x",
          "y": "Weekly_Sales",
          "yref": "y"
         },
         {
          "font": {
           "color": "#FFFFFF"
          },
          "showarrow": false,
          "text": "-0.02",
          "x": "Fuel_Price",
          "xref": "x",
          "y": "Weekly_Sales",
          "yref": "y"
         },
         {
          "font": {
           "color": "#FFFFFF"
          },
          "showarrow": false,
          "text": "-0.29",
          "x": "CPI",
          "xref": "x",
          "y": "Weekly_Sales",
          "yref": "y"
         },
         {
          "font": {
           "color": "#FFFFFF"
          },
          "showarrow": false,
          "text": "0.06",
          "x": "Unemployment",
          "xref": "x",
          "y": "Weekly_Sales",
          "yref": "y"
         },
         {
          "font": {
           "color": "#FFFFFF"
          },
          "showarrow": false,
          "text": "-0.03",
          "x": "Store",
          "xref": "x",
          "y": "Holiday_Flag",
          "yref": "y"
         },
         {
          "font": {
           "color": "#FFFFFF"
          },
          "showarrow": false,
          "text": "0.04",
          "x": "Weekly_Sales",
          "xref": "x",
          "y": "Holiday_Flag",
          "yref": "y"
         },
         {
          "font": {
           "color": "#000000"
          },
          "showarrow": false,
          "text": "1.0",
          "x": "Holiday_Flag",
          "xref": "x",
          "y": "Holiday_Flag",
          "yref": "y"
         },
         {
          "font": {
           "color": "#FFFFFF"
          },
          "showarrow": false,
          "text": "-0.19",
          "x": "Temperature",
          "xref": "x",
          "y": "Holiday_Flag",
          "yref": "y"
         },
         {
          "font": {
           "color": "#FFFFFF"
          },
          "showarrow": false,
          "text": "-0.12",
          "x": "Fuel_Price",
          "xref": "x",
          "y": "Holiday_Flag",
          "yref": "y"
         },
         {
          "font": {
           "color": "#FFFFFF"
          },
          "showarrow": false,
          "text": "0.17",
          "x": "CPI",
          "xref": "x",
          "y": "Holiday_Flag",
          "yref": "y"
         },
         {
          "font": {
           "color": "#FFFFFF"
          },
          "showarrow": false,
          "text": "0.1",
          "x": "Unemployment",
          "xref": "x",
          "y": "Holiday_Flag",
          "yref": "y"
         },
         {
          "font": {
           "color": "#FFFFFF"
          },
          "showarrow": false,
          "text": "-0.26",
          "x": "Store",
          "xref": "x",
          "y": "Temperature",
          "yref": "y"
         },
         {
          "font": {
           "color": "#FFFFFF"
          },
          "showarrow": false,
          "text": "-0.17",
          "x": "Weekly_Sales",
          "xref": "x",
          "y": "Temperature",
          "yref": "y"
         },
         {
          "font": {
           "color": "#FFFFFF"
          },
          "showarrow": false,
          "text": "-0.19",
          "x": "Holiday_Flag",
          "xref": "x",
          "y": "Temperature",
          "yref": "y"
         },
         {
          "font": {
           "color": "#000000"
          },
          "showarrow": false,
          "text": "1.0",
          "x": "Temperature",
          "xref": "x",
          "y": "Temperature",
          "yref": "y"
         },
         {
          "font": {
           "color": "#FFFFFF"
          },
          "showarrow": false,
          "text": "0.05",
          "x": "Fuel_Price",
          "xref": "x",
          "y": "Temperature",
          "yref": "y"
         },
         {
          "font": {
           "color": "#FFFFFF"
          },
          "showarrow": false,
          "text": "0.14",
          "x": "CPI",
          "xref": "x",
          "y": "Temperature",
          "yref": "y"
         },
         {
          "font": {
           "color": "#FFFFFF"
          },
          "showarrow": false,
          "text": "-0.03",
          "x": "Unemployment",
          "xref": "x",
          "y": "Temperature",
          "yref": "y"
         },
         {
          "font": {
           "color": "#FFFFFF"
          },
          "showarrow": false,
          "text": "0.18",
          "x": "Store",
          "xref": "x",
          "y": "Fuel_Price",
          "yref": "y"
         },
         {
          "font": {
           "color": "#FFFFFF"
          },
          "showarrow": false,
          "text": "-0.02",
          "x": "Weekly_Sales",
          "xref": "x",
          "y": "Fuel_Price",
          "yref": "y"
         },
         {
          "font": {
           "color": "#FFFFFF"
          },
          "showarrow": false,
          "text": "-0.12",
          "x": "Holiday_Flag",
          "xref": "x",
          "y": "Fuel_Price",
          "yref": "y"
         },
         {
          "font": {
           "color": "#FFFFFF"
          },
          "showarrow": false,
          "text": "0.05",
          "x": "Temperature",
          "xref": "x",
          "y": "Fuel_Price",
          "yref": "y"
         },
         {
          "font": {
           "color": "#000000"
          },
          "showarrow": false,
          "text": "1.0",
          "x": "Fuel_Price",
          "xref": "x",
          "y": "Fuel_Price",
          "yref": "y"
         },
         {
          "font": {
           "color": "#FFFFFF"
          },
          "showarrow": false,
          "text": "-0.16",
          "x": "CPI",
          "xref": "x",
          "y": "Fuel_Price",
          "yref": "y"
         },
         {
          "font": {
           "color": "#FFFFFF"
          },
          "showarrow": false,
          "text": "0.09",
          "x": "Unemployment",
          "xref": "x",
          "y": "Fuel_Price",
          "yref": "y"
         },
         {
          "font": {
           "color": "#FFFFFF"
          },
          "showarrow": false,
          "text": "-0.59",
          "x": "Store",
          "xref": "x",
          "y": "CPI",
          "yref": "y"
         },
         {
          "font": {
           "color": "#FFFFFF"
          },
          "showarrow": false,
          "text": "-0.29",
          "x": "Weekly_Sales",
          "xref": "x",
          "y": "CPI",
          "yref": "y"
         },
         {
          "font": {
           "color": "#FFFFFF"
          },
          "showarrow": false,
          "text": "0.17",
          "x": "Holiday_Flag",
          "xref": "x",
          "y": "CPI",
          "yref": "y"
         },
         {
          "font": {
           "color": "#FFFFFF"
          },
          "showarrow": false,
          "text": "0.14",
          "x": "Temperature",
          "xref": "x",
          "y": "CPI",
          "yref": "y"
         },
         {
          "font": {
           "color": "#FFFFFF"
          },
          "showarrow": false,
          "text": "-0.16",
          "x": "Fuel_Price",
          "xref": "x",
          "y": "CPI",
          "yref": "y"
         },
         {
          "font": {
           "color": "#000000"
          },
          "showarrow": false,
          "text": "1.0",
          "x": "CPI",
          "xref": "x",
          "y": "CPI",
          "yref": "y"
         },
         {
          "font": {
           "color": "#FFFFFF"
          },
          "showarrow": false,
          "text": "-0.35",
          "x": "Unemployment",
          "xref": "x",
          "y": "CPI",
          "yref": "y"
         },
         {
          "font": {
           "color": "#000000"
          },
          "showarrow": false,
          "text": "0.22",
          "x": "Store",
          "xref": "x",
          "y": "Unemployment",
          "yref": "y"
         },
         {
          "font": {
           "color": "#FFFFFF"
          },
          "showarrow": false,
          "text": "0.06",
          "x": "Weekly_Sales",
          "xref": "x",
          "y": "Unemployment",
          "yref": "y"
         },
         {
          "font": {
           "color": "#FFFFFF"
          },
          "showarrow": false,
          "text": "0.1",
          "x": "Holiday_Flag",
          "xref": "x",
          "y": "Unemployment",
          "yref": "y"
         },
         {
          "font": {
           "color": "#FFFFFF"
          },
          "showarrow": false,
          "text": "-0.03",
          "x": "Temperature",
          "xref": "x",
          "y": "Unemployment",
          "yref": "y"
         },
         {
          "font": {
           "color": "#FFFFFF"
          },
          "showarrow": false,
          "text": "0.09",
          "x": "Fuel_Price",
          "xref": "x",
          "y": "Unemployment",
          "yref": "y"
         },
         {
          "font": {
           "color": "#FFFFFF"
          },
          "showarrow": false,
          "text": "-0.35",
          "x": "CPI",
          "xref": "x",
          "y": "Unemployment",
          "yref": "y"
         },
         {
          "font": {
           "color": "#000000"
          },
          "showarrow": false,
          "text": "1.0",
          "x": "Unemployment",
          "xref": "x",
          "y": "Unemployment",
          "yref": "y"
         }
        ],
        "template": {
         "data": {
          "bar": [
           {
            "error_x": {
             "color": "#2a3f5f"
            },
            "error_y": {
             "color": "#2a3f5f"
            },
            "marker": {
             "line": {
              "color": "#E5ECF6",
              "width": 0.5
             },
             "pattern": {
              "fillmode": "overlay",
              "size": 10,
              "solidity": 0.2
             }
            },
            "type": "bar"
           }
          ],
          "barpolar": [
           {
            "marker": {
             "line": {
              "color": "#E5ECF6",
              "width": 0.5
             },
             "pattern": {
              "fillmode": "overlay",
              "size": 10,
              "solidity": 0.2
             }
            },
            "type": "barpolar"
           }
          ],
          "carpet": [
           {
            "aaxis": {
             "endlinecolor": "#2a3f5f",
             "gridcolor": "white",
             "linecolor": "white",
             "minorgridcolor": "white",
             "startlinecolor": "#2a3f5f"
            },
            "baxis": {
             "endlinecolor": "#2a3f5f",
             "gridcolor": "white",
             "linecolor": "white",
             "minorgridcolor": "white",
             "startlinecolor": "#2a3f5f"
            },
            "type": "carpet"
           }
          ],
          "choropleth": [
           {
            "colorbar": {
             "outlinewidth": 0,
             "ticks": ""
            },
            "type": "choropleth"
           }
          ],
          "contour": [
           {
            "colorbar": {
             "outlinewidth": 0,
             "ticks": ""
            },
            "colorscale": [
             [
              0,
              "#0d0887"
             ],
             [
              0.1111111111111111,
              "#46039f"
             ],
             [
              0.2222222222222222,
              "#7201a8"
             ],
             [
              0.3333333333333333,
              "#9c179e"
             ],
             [
              0.4444444444444444,
              "#bd3786"
             ],
             [
              0.5555555555555556,
              "#d8576b"
             ],
             [
              0.6666666666666666,
              "#ed7953"
             ],
             [
              0.7777777777777778,
              "#fb9f3a"
             ],
             [
              0.8888888888888888,
              "#fdca26"
             ],
             [
              1,
              "#f0f921"
             ]
            ],
            "type": "contour"
           }
          ],
          "contourcarpet": [
           {
            "colorbar": {
             "outlinewidth": 0,
             "ticks": ""
            },
            "type": "contourcarpet"
           }
          ],
          "heatmap": [
           {
            "colorbar": {
             "outlinewidth": 0,
             "ticks": ""
            },
            "colorscale": [
             [
              0,
              "#0d0887"
             ],
             [
              0.1111111111111111,
              "#46039f"
             ],
             [
              0.2222222222222222,
              "#7201a8"
             ],
             [
              0.3333333333333333,
              "#9c179e"
             ],
             [
              0.4444444444444444,
              "#bd3786"
             ],
             [
              0.5555555555555556,
              "#d8576b"
             ],
             [
              0.6666666666666666,
              "#ed7953"
             ],
             [
              0.7777777777777778,
              "#fb9f3a"
             ],
             [
              0.8888888888888888,
              "#fdca26"
             ],
             [
              1,
              "#f0f921"
             ]
            ],
            "type": "heatmap"
           }
          ],
          "heatmapgl": [
           {
            "colorbar": {
             "outlinewidth": 0,
             "ticks": ""
            },
            "colorscale": [
             [
              0,
              "#0d0887"
             ],
             [
              0.1111111111111111,
              "#46039f"
             ],
             [
              0.2222222222222222,
              "#7201a8"
             ],
             [
              0.3333333333333333,
              "#9c179e"
             ],
             [
              0.4444444444444444,
              "#bd3786"
             ],
             [
              0.5555555555555556,
              "#d8576b"
             ],
             [
              0.6666666666666666,
              "#ed7953"
             ],
             [
              0.7777777777777778,
              "#fb9f3a"
             ],
             [
              0.8888888888888888,
              "#fdca26"
             ],
             [
              1,
              "#f0f921"
             ]
            ],
            "type": "heatmapgl"
           }
          ],
          "histogram": [
           {
            "marker": {
             "pattern": {
              "fillmode": "overlay",
              "size": 10,
              "solidity": 0.2
             }
            },
            "type": "histogram"
           }
          ],
          "histogram2d": [
           {
            "colorbar": {
             "outlinewidth": 0,
             "ticks": ""
            },
            "colorscale": [
             [
              0,
              "#0d0887"
             ],
             [
              0.1111111111111111,
              "#46039f"
             ],
             [
              0.2222222222222222,
              "#7201a8"
             ],
             [
              0.3333333333333333,
              "#9c179e"
             ],
             [
              0.4444444444444444,
              "#bd3786"
             ],
             [
              0.5555555555555556,
              "#d8576b"
             ],
             [
              0.6666666666666666,
              "#ed7953"
             ],
             [
              0.7777777777777778,
              "#fb9f3a"
             ],
             [
              0.8888888888888888,
              "#fdca26"
             ],
             [
              1,
              "#f0f921"
             ]
            ],
            "type": "histogram2d"
           }
          ],
          "histogram2dcontour": [
           {
            "colorbar": {
             "outlinewidth": 0,
             "ticks": ""
            },
            "colorscale": [
             [
              0,
              "#0d0887"
             ],
             [
              0.1111111111111111,
              "#46039f"
             ],
             [
              0.2222222222222222,
              "#7201a8"
             ],
             [
              0.3333333333333333,
              "#9c179e"
             ],
             [
              0.4444444444444444,
              "#bd3786"
             ],
             [
              0.5555555555555556,
              "#d8576b"
             ],
             [
              0.6666666666666666,
              "#ed7953"
             ],
             [
              0.7777777777777778,
              "#fb9f3a"
             ],
             [
              0.8888888888888888,
              "#fdca26"
             ],
             [
              1,
              "#f0f921"
             ]
            ],
            "type": "histogram2dcontour"
           }
          ],
          "mesh3d": [
           {
            "colorbar": {
             "outlinewidth": 0,
             "ticks": ""
            },
            "type": "mesh3d"
           }
          ],
          "parcoords": [
           {
            "line": {
             "colorbar": {
              "outlinewidth": 0,
              "ticks": ""
             }
            },
            "type": "parcoords"
           }
          ],
          "pie": [
           {
            "automargin": true,
            "type": "pie"
           }
          ],
          "scatter": [
           {
            "marker": {
             "colorbar": {
              "outlinewidth": 0,
              "ticks": ""
             }
            },
            "type": "scatter"
           }
          ],
          "scatter3d": [
           {
            "line": {
             "colorbar": {
              "outlinewidth": 0,
              "ticks": ""
             }
            },
            "marker": {
             "colorbar": {
              "outlinewidth": 0,
              "ticks": ""
             }
            },
            "type": "scatter3d"
           }
          ],
          "scattercarpet": [
           {
            "marker": {
             "colorbar": {
              "outlinewidth": 0,
              "ticks": ""
             }
            },
            "type": "scattercarpet"
           }
          ],
          "scattergeo": [
           {
            "marker": {
             "colorbar": {
              "outlinewidth": 0,
              "ticks": ""
             }
            },
            "type": "scattergeo"
           }
          ],
          "scattergl": [
           {
            "marker": {
             "colorbar": {
              "outlinewidth": 0,
              "ticks": ""
             }
            },
            "type": "scattergl"
           }
          ],
          "scattermapbox": [
           {
            "marker": {
             "colorbar": {
              "outlinewidth": 0,
              "ticks": ""
             }
            },
            "type": "scattermapbox"
           }
          ],
          "scatterpolar": [
           {
            "marker": {
             "colorbar": {
              "outlinewidth": 0,
              "ticks": ""
             }
            },
            "type": "scatterpolar"
           }
          ],
          "scatterpolargl": [
           {
            "marker": {
             "colorbar": {
              "outlinewidth": 0,
              "ticks": ""
             }
            },
            "type": "scatterpolargl"
           }
          ],
          "scatterternary": [
           {
            "marker": {
             "colorbar": {
              "outlinewidth": 0,
              "ticks": ""
             }
            },
            "type": "scatterternary"
           }
          ],
          "surface": [
           {
            "colorbar": {
             "outlinewidth": 0,
             "ticks": ""
            },
            "colorscale": [
             [
              0,
              "#0d0887"
             ],
             [
              0.1111111111111111,
              "#46039f"
             ],
             [
              0.2222222222222222,
              "#7201a8"
             ],
             [
              0.3333333333333333,
              "#9c179e"
             ],
             [
              0.4444444444444444,
              "#bd3786"
             ],
             [
              0.5555555555555556,
              "#d8576b"
             ],
             [
              0.6666666666666666,
              "#ed7953"
             ],
             [
              0.7777777777777778,
              "#fb9f3a"
             ],
             [
              0.8888888888888888,
              "#fdca26"
             ],
             [
              1,
              "#f0f921"
             ]
            ],
            "type": "surface"
           }
          ],
          "table": [
           {
            "cells": {
             "fill": {
              "color": "#EBF0F8"
             },
             "line": {
              "color": "white"
             }
            },
            "header": {
             "fill": {
              "color": "#C8D4E3"
             },
             "line": {
              "color": "white"
             }
            },
            "type": "table"
           }
          ]
         },
         "layout": {
          "annotationdefaults": {
           "arrowcolor": "#2a3f5f",
           "arrowhead": 0,
           "arrowwidth": 1
          },
          "autotypenumbers": "strict",
          "coloraxis": {
           "colorbar": {
            "outlinewidth": 0,
            "ticks": ""
           }
          },
          "colorscale": {
           "diverging": [
            [
             0,
             "#8e0152"
            ],
            [
             0.1,
             "#c51b7d"
            ],
            [
             0.2,
             "#de77ae"
            ],
            [
             0.3,
             "#f1b6da"
            ],
            [
             0.4,
             "#fde0ef"
            ],
            [
             0.5,
             "#f7f7f7"
            ],
            [
             0.6,
             "#e6f5d0"
            ],
            [
             0.7,
             "#b8e186"
            ],
            [
             0.8,
             "#7fbc41"
            ],
            [
             0.9,
             "#4d9221"
            ],
            [
             1,
             "#276419"
            ]
           ],
           "sequential": [
            [
             0,
             "#0d0887"
            ],
            [
             0.1111111111111111,
             "#46039f"
            ],
            [
             0.2222222222222222,
             "#7201a8"
            ],
            [
             0.3333333333333333,
             "#9c179e"
            ],
            [
             0.4444444444444444,
             "#bd3786"
            ],
            [
             0.5555555555555556,
             "#d8576b"
            ],
            [
             0.6666666666666666,
             "#ed7953"
            ],
            [
             0.7777777777777778,
             "#fb9f3a"
            ],
            [
             0.8888888888888888,
             "#fdca26"
            ],
            [
             1,
             "#f0f921"
            ]
           ],
           "sequentialminus": [
            [
             0,
             "#0d0887"
            ],
            [
             0.1111111111111111,
             "#46039f"
            ],
            [
             0.2222222222222222,
             "#7201a8"
            ],
            [
             0.3333333333333333,
             "#9c179e"
            ],
            [
             0.4444444444444444,
             "#bd3786"
            ],
            [
             0.5555555555555556,
             "#d8576b"
            ],
            [
             0.6666666666666666,
             "#ed7953"
            ],
            [
             0.7777777777777778,
             "#fb9f3a"
            ],
            [
             0.8888888888888888,
             "#fdca26"
            ],
            [
             1,
             "#f0f921"
            ]
           ]
          },
          "colorway": [
           "#636efa",
           "#EF553B",
           "#00cc96",
           "#ab63fa",
           "#FFA15A",
           "#19d3f3",
           "#FF6692",
           "#B6E880",
           "#FF97FF",
           "#FECB52"
          ],
          "font": {
           "color": "#2a3f5f"
          },
          "geo": {
           "bgcolor": "white",
           "lakecolor": "white",
           "landcolor": "#E5ECF6",
           "showlakes": true,
           "showland": true,
           "subunitcolor": "white"
          },
          "hoverlabel": {
           "align": "left"
          },
          "hovermode": "closest",
          "mapbox": {
           "style": "light"
          },
          "paper_bgcolor": "white",
          "plot_bgcolor": "#E5ECF6",
          "polar": {
           "angularaxis": {
            "gridcolor": "white",
            "linecolor": "white",
            "ticks": ""
           },
           "bgcolor": "#E5ECF6",
           "radialaxis": {
            "gridcolor": "white",
            "linecolor": "white",
            "ticks": ""
           }
          },
          "scene": {
           "xaxis": {
            "backgroundcolor": "#E5ECF6",
            "gridcolor": "white",
            "gridwidth": 2,
            "linecolor": "white",
            "showbackground": true,
            "ticks": "",
            "zerolinecolor": "white"
           },
           "yaxis": {
            "backgroundcolor": "#E5ECF6",
            "gridcolor": "white",
            "gridwidth": 2,
            "linecolor": "white",
            "showbackground": true,
            "ticks": "",
            "zerolinecolor": "white"
           },
           "zaxis": {
            "backgroundcolor": "#E5ECF6",
            "gridcolor": "white",
            "gridwidth": 2,
            "linecolor": "white",
            "showbackground": true,
            "ticks": "",
            "zerolinecolor": "white"
           }
          },
          "shapedefaults": {
           "line": {
            "color": "#2a3f5f"
           }
          },
          "ternary": {
           "aaxis": {
            "gridcolor": "white",
            "linecolor": "white",
            "ticks": ""
           },
           "baxis": {
            "gridcolor": "white",
            "linecolor": "white",
            "ticks": ""
           },
           "bgcolor": "#E5ECF6",
           "caxis": {
            "gridcolor": "white",
            "linecolor": "white",
            "ticks": ""
           }
          },
          "title": {
           "x": 0.05
          },
          "xaxis": {
           "automargin": true,
           "gridcolor": "white",
           "linecolor": "white",
           "ticks": "",
           "title": {
            "standoff": 15
           },
           "zerolinecolor": "white",
           "zerolinewidth": 2
          },
          "yaxis": {
           "automargin": true,
           "gridcolor": "white",
           "linecolor": "white",
           "ticks": "",
           "title": {
            "standoff": 15
           },
           "zerolinecolor": "white",
           "zerolinewidth": 2
          }
         }
        },
        "xaxis": {
         "dtick": 1,
         "gridcolor": "rgb(0, 0, 0)",
         "side": "top",
         "ticks": ""
        },
        "yaxis": {
         "dtick": 1,
         "ticks": "",
         "ticksuffix": "  "
        }
       }
      }
     },
     "metadata": {},
     "output_type": "display_data"
    }
   ],
   "source": [
    "#Matrix of correlations between the columns\n",
    "fig = ff.create_annotated_heatmap(w_sales.corr().values.round(2),\n",
    "                                  x = w_sales.corr().columns.values.tolist(),\n",
    "                                  y = w_sales.corr().index.values.tolist())\n",
    "\n",
    "\n",
    "fig.show()"
   ]
  },
  {
   "cell_type": "markdown",
   "id": "2402e457",
   "metadata": {},
   "source": [
    "* CPI is most correlated feature with weekly sales\n",
    "* It's a negative correlation so they evolve in opposite direction"
   ]
  },
  {
   "cell_type": "markdown",
   "id": "a1ef5199-fe79-497d-a8e7-716d07bba945",
   "metadata": {
    "tags": [],
    "toc-hr-collapsed": true
   },
   "source": [
    "## Preprocessing"
   ]
  },
  {
   "cell_type": "markdown",
   "id": "21ee7c61-31b3-4e1d-9f8d-b025a790385d",
   "metadata": {},
   "source": [
    "### Dropping lines with missing target values"
   ]
  },
  {
   "cell_type": "markdown",
   "id": "11f3f48d-b941-434e-8fdf-c2fb45f6e43f",
   "metadata": {},
   "source": [
    "* Here, there are no obviuous column to drop so we will focus on dropping useless lines"
   ]
  },
  {
   "cell_type": "code",
   "execution_count": 21,
   "id": "81de23f6-f00f-4553-94ab-485318448037",
   "metadata": {
    "tags": []
   },
   "outputs": [
    {
     "data": {
      "text/plain": [
       "Store            0\n",
       "Date            18\n",
       "Weekly_Sales     0\n",
       "Holiday_Flag    11\n",
       "Temperature     15\n",
       "Fuel_Price      12\n",
       "CPI             11\n",
       "Unemployment    14\n",
       "dtype: int64"
      ]
     },
     "execution_count": 21,
     "metadata": {},
     "output_type": "execute_result"
    }
   ],
   "source": [
    "to_keep = ~(w_sales['Weekly_Sales'].isna())\n",
    "w_sales = w_sales.loc[to_keep,:]\n",
    "w_sales.isnull().sum()"
   ]
  },
  {
   "cell_type": "code",
   "execution_count": 22,
   "id": "2b65e916-f679-4664-ab4a-c43312d2be82",
   "metadata": {
    "tags": []
   },
   "outputs": [
    {
     "data": {
      "text/html": [
       "<div>\n",
       "<style scoped>\n",
       "    .dataframe tbody tr th:only-of-type {\n",
       "        vertical-align: middle;\n",
       "    }\n",
       "\n",
       "    .dataframe tbody tr th {\n",
       "        vertical-align: top;\n",
       "    }\n",
       "\n",
       "    .dataframe thead th {\n",
       "        text-align: right;\n",
       "    }\n",
       "</style>\n",
       "<table border=\"1\" class=\"dataframe\">\n",
       "  <thead>\n",
       "    <tr style=\"text-align: right;\">\n",
       "      <th></th>\n",
       "      <th>Store</th>\n",
       "      <th>Weekly_Sales</th>\n",
       "      <th>Holiday_Flag</th>\n",
       "      <th>Temperature</th>\n",
       "      <th>Fuel_Price</th>\n",
       "      <th>CPI</th>\n",
       "      <th>Unemployment</th>\n",
       "    </tr>\n",
       "  </thead>\n",
       "  <tbody>\n",
       "    <tr>\n",
       "      <th>count</th>\n",
       "      <td>136.000000</td>\n",
       "      <td>1.360000e+02</td>\n",
       "      <td>125.000000</td>\n",
       "      <td>121.000000</td>\n",
       "      <td>124.000000</td>\n",
       "      <td>125.000000</td>\n",
       "      <td>122.000000</td>\n",
       "    </tr>\n",
       "    <tr>\n",
       "      <th>mean</th>\n",
       "      <td>10.014706</td>\n",
       "      <td>1.249536e+06</td>\n",
       "      <td>0.072000</td>\n",
       "      <td>60.853967</td>\n",
       "      <td>3.316992</td>\n",
       "      <td>178.091144</td>\n",
       "      <td>7.665582</td>\n",
       "    </tr>\n",
       "    <tr>\n",
       "      <th>std</th>\n",
       "      <td>6.124614</td>\n",
       "      <td>6.474630e+05</td>\n",
       "      <td>0.259528</td>\n",
       "      <td>18.514432</td>\n",
       "      <td>0.479540</td>\n",
       "      <td>40.243105</td>\n",
       "      <td>1.619428</td>\n",
       "    </tr>\n",
       "    <tr>\n",
       "      <th>min</th>\n",
       "      <td>1.000000</td>\n",
       "      <td>2.689290e+05</td>\n",
       "      <td>0.000000</td>\n",
       "      <td>18.790000</td>\n",
       "      <td>2.514000</td>\n",
       "      <td>126.111903</td>\n",
       "      <td>5.143000</td>\n",
       "    </tr>\n",
       "    <tr>\n",
       "      <th>25%</th>\n",
       "      <td>4.000000</td>\n",
       "      <td>6.050757e+05</td>\n",
       "      <td>0.000000</td>\n",
       "      <td>45.220000</td>\n",
       "      <td>2.838500</td>\n",
       "      <td>131.637000</td>\n",
       "      <td>6.690000</td>\n",
       "    </tr>\n",
       "    <tr>\n",
       "      <th>50%</th>\n",
       "      <td>10.000000</td>\n",
       "      <td>1.261424e+06</td>\n",
       "      <td>0.000000</td>\n",
       "      <td>62.250000</td>\n",
       "      <td>3.451000</td>\n",
       "      <td>196.919506</td>\n",
       "      <td>7.477000</td>\n",
       "    </tr>\n",
       "    <tr>\n",
       "      <th>75%</th>\n",
       "      <td>15.250000</td>\n",
       "      <td>1.806386e+06</td>\n",
       "      <td>0.000000</td>\n",
       "      <td>75.950000</td>\n",
       "      <td>3.724000</td>\n",
       "      <td>214.878556</td>\n",
       "      <td>8.150000</td>\n",
       "    </tr>\n",
       "    <tr>\n",
       "      <th>max</th>\n",
       "      <td>20.000000</td>\n",
       "      <td>2.771397e+06</td>\n",
       "      <td>1.000000</td>\n",
       "      <td>91.650000</td>\n",
       "      <td>4.193000</td>\n",
       "      <td>226.968844</td>\n",
       "      <td>14.313000</td>\n",
       "    </tr>\n",
       "  </tbody>\n",
       "</table>\n",
       "</div>"
      ],
      "text/plain": [
       "            Store  Weekly_Sales  Holiday_Flag  Temperature  Fuel_Price  \\\n",
       "count  136.000000  1.360000e+02    125.000000   121.000000  124.000000   \n",
       "mean    10.014706  1.249536e+06      0.072000    60.853967    3.316992   \n",
       "std      6.124614  6.474630e+05      0.259528    18.514432    0.479540   \n",
       "min      1.000000  2.689290e+05      0.000000    18.790000    2.514000   \n",
       "25%      4.000000  6.050757e+05      0.000000    45.220000    2.838500   \n",
       "50%     10.000000  1.261424e+06      0.000000    62.250000    3.451000   \n",
       "75%     15.250000  1.806386e+06      0.000000    75.950000    3.724000   \n",
       "max     20.000000  2.771397e+06      1.000000    91.650000    4.193000   \n",
       "\n",
       "              CPI  Unemployment  \n",
       "count  125.000000    122.000000  \n",
       "mean   178.091144      7.665582  \n",
       "std     40.243105      1.619428  \n",
       "min    126.111903      5.143000  \n",
       "25%    131.637000      6.690000  \n",
       "50%    196.919506      7.477000  \n",
       "75%    214.878556      8.150000  \n",
       "max    226.968844     14.313000  "
      ]
     },
     "execution_count": 22,
     "metadata": {},
     "output_type": "execute_result"
    }
   ],
   "source": [
    "w_sales.describe()"
   ]
  },
  {
   "cell_type": "markdown",
   "id": "1566994b-14f2-4182-bceb-6e9326b18821",
   "metadata": {},
   "source": [
    "### Creating usable features from Date"
   ]
  },
  {
   "cell_type": "code",
   "execution_count": 23,
   "id": "371d312d-a6ba-43fe-b9a8-c2c75584bf82",
   "metadata": {
    "tags": []
   },
   "outputs": [
    {
     "data": {
      "text/plain": [
       "28"
      ]
     },
     "execution_count": 23,
     "metadata": {},
     "output_type": "execute_result"
    }
   ],
   "source": [
    "w_sales['Date'][4].day"
   ]
  },
  {
   "cell_type": "code",
   "execution_count": 24,
   "id": "afcdbbd1-40bb-4db0-8809-db41a2ef81fa",
   "metadata": {
    "tags": []
   },
   "outputs": [],
   "source": [
    "#Creating a column with the year\n",
    "w_sales['year'] = w_sales['Date'].apply(lambda x : x.year)"
   ]
  },
  {
   "cell_type": "code",
   "execution_count": 25,
   "id": "a3bb8286-e641-4919-a7b1-867611468e2b",
   "metadata": {
    "tags": []
   },
   "outputs": [],
   "source": [
    "#Creating a column with the month\n",
    "w_sales['month'] = w_sales['Date'].apply(lambda x : x.month)"
   ]
  },
  {
   "cell_type": "code",
   "execution_count": 26,
   "id": "454a7234-16e4-4394-97bd-5c198ccab720",
   "metadata": {
    "tags": []
   },
   "outputs": [],
   "source": [
    "#Creating a column with the day of the month\n",
    "w_sales['day_of_month'] = w_sales['Date'].apply(lambda x : x.day)"
   ]
  },
  {
   "cell_type": "code",
   "execution_count": 27,
   "id": "704fa5c8-958f-47d3-9d5c-7109ef653dc7",
   "metadata": {
    "tags": []
   },
   "outputs": [
    {
     "data": {
      "text/plain": [
       "0      4.0\n",
       "1      4.0\n",
       "3      NaN\n",
       "4      4.0\n",
       "5      4.0\n",
       "      ... \n",
       "145    4.0\n",
       "146    NaN\n",
       "147    4.0\n",
       "148    4.0\n",
       "149    4.0\n",
       "Name: Date, Length: 136, dtype: float64"
      ]
     },
     "execution_count": 27,
     "metadata": {},
     "output_type": "execute_result"
    }
   ],
   "source": [
    "#Looking wich days of the week are represented\n",
    "w_sales['Date'].apply(lambda x : x.day_of_week)"
   ]
  },
  {
   "cell_type": "code",
   "execution_count": 28,
   "id": "69cb9a12-593b-49e3-b1c3-992ee727d49a",
   "metadata": {},
   "outputs": [
    {
     "data": {
      "text/plain": [
       "4.0    118\n",
       "Name: Date, dtype: int64"
      ]
     },
     "execution_count": 28,
     "metadata": {},
     "output_type": "execute_result"
    }
   ],
   "source": [
    "w_sales['Date'].apply(lambda x : x.day_of_week).value_counts()"
   ]
  },
  {
   "cell_type": "markdown",
   "id": "7b41ec0c-1662-4241-bfce-fb2c652a6537",
   "metadata": {
    "tags": []
   },
   "source": [
    "* Here, the day of the week has only one value wich is 4. Since it means that it's alway friday, we won't need to add this column as it does not provide any useful information"
   ]
  },
  {
   "cell_type": "markdown",
   "id": "faecbe39-bff9-4903-ba2b-fc4b9d0baa3b",
   "metadata": {},
   "source": [
    "Now we can drop the date column"
   ]
  },
  {
   "cell_type": "code",
   "execution_count": 29,
   "id": "d26bb165-46f3-430d-8585-414734d10f6e",
   "metadata": {
    "tags": []
   },
   "outputs": [],
   "source": [
    "w_sales = w_sales.drop(['Date'], axis=1)"
   ]
  },
  {
   "cell_type": "code",
   "execution_count": 30,
   "id": "cb60565a-3318-4bfe-9983-5651b80231b0",
   "metadata": {
    "tags": []
   },
   "outputs": [
    {
     "data": {
      "text/html": [
       "<div>\n",
       "<style scoped>\n",
       "    .dataframe tbody tr th:only-of-type {\n",
       "        vertical-align: middle;\n",
       "    }\n",
       "\n",
       "    .dataframe tbody tr th {\n",
       "        vertical-align: top;\n",
       "    }\n",
       "\n",
       "    .dataframe thead th {\n",
       "        text-align: right;\n",
       "    }\n",
       "</style>\n",
       "<table border=\"1\" class=\"dataframe\">\n",
       "  <thead>\n",
       "    <tr style=\"text-align: right;\">\n",
       "      <th></th>\n",
       "      <th>Store</th>\n",
       "      <th>Weekly_Sales</th>\n",
       "      <th>Holiday_Flag</th>\n",
       "      <th>Temperature</th>\n",
       "      <th>Fuel_Price</th>\n",
       "      <th>CPI</th>\n",
       "      <th>Unemployment</th>\n",
       "      <th>year</th>\n",
       "      <th>month</th>\n",
       "      <th>day_of_month</th>\n",
       "    </tr>\n",
       "  </thead>\n",
       "  <tbody>\n",
       "    <tr>\n",
       "      <th>0</th>\n",
       "      <td>6.0</td>\n",
       "      <td>1572117.54</td>\n",
       "      <td>NaN</td>\n",
       "      <td>59.61</td>\n",
       "      <td>3.045</td>\n",
       "      <td>214.777523</td>\n",
       "      <td>6.858</td>\n",
       "      <td>2011.0</td>\n",
       "      <td>2.0</td>\n",
       "      <td>18.0</td>\n",
       "    </tr>\n",
       "    <tr>\n",
       "      <th>1</th>\n",
       "      <td>13.0</td>\n",
       "      <td>1807545.43</td>\n",
       "      <td>0.0</td>\n",
       "      <td>42.38</td>\n",
       "      <td>3.435</td>\n",
       "      <td>128.616064</td>\n",
       "      <td>7.470</td>\n",
       "      <td>2011.0</td>\n",
       "      <td>3.0</td>\n",
       "      <td>25.0</td>\n",
       "    </tr>\n",
       "    <tr>\n",
       "      <th>3</th>\n",
       "      <td>11.0</td>\n",
       "      <td>1244390.03</td>\n",
       "      <td>0.0</td>\n",
       "      <td>84.57</td>\n",
       "      <td>NaN</td>\n",
       "      <td>214.556497</td>\n",
       "      <td>7.346</td>\n",
       "      <td>NaN</td>\n",
       "      <td>NaN</td>\n",
       "      <td>NaN</td>\n",
       "    </tr>\n",
       "    <tr>\n",
       "      <th>4</th>\n",
       "      <td>6.0</td>\n",
       "      <td>1644470.66</td>\n",
       "      <td>0.0</td>\n",
       "      <td>78.89</td>\n",
       "      <td>2.759</td>\n",
       "      <td>212.412888</td>\n",
       "      <td>7.092</td>\n",
       "      <td>2010.0</td>\n",
       "      <td>5.0</td>\n",
       "      <td>28.0</td>\n",
       "    </tr>\n",
       "    <tr>\n",
       "      <th>5</th>\n",
       "      <td>4.0</td>\n",
       "      <td>1857533.70</td>\n",
       "      <td>0.0</td>\n",
       "      <td>NaN</td>\n",
       "      <td>2.756</td>\n",
       "      <td>126.160226</td>\n",
       "      <td>7.896</td>\n",
       "      <td>2010.0</td>\n",
       "      <td>5.0</td>\n",
       "      <td>28.0</td>\n",
       "    </tr>\n",
       "  </tbody>\n",
       "</table>\n",
       "</div>"
      ],
      "text/plain": [
       "   Store  Weekly_Sales  Holiday_Flag  Temperature  Fuel_Price         CPI  \\\n",
       "0    6.0    1572117.54           NaN        59.61       3.045  214.777523   \n",
       "1   13.0    1807545.43           0.0        42.38       3.435  128.616064   \n",
       "3   11.0    1244390.03           0.0        84.57         NaN  214.556497   \n",
       "4    6.0    1644470.66           0.0        78.89       2.759  212.412888   \n",
       "5    4.0    1857533.70           0.0          NaN       2.756  126.160226   \n",
       "\n",
       "   Unemployment    year  month  day_of_month  \n",
       "0         6.858  2011.0    2.0          18.0  \n",
       "1         7.470  2011.0    3.0          25.0  \n",
       "3         7.346     NaN    NaN           NaN  \n",
       "4         7.092  2010.0    5.0          28.0  \n",
       "5         7.896  2010.0    5.0          28.0  "
      ]
     },
     "execution_count": 30,
     "metadata": {},
     "output_type": "execute_result"
    }
   ],
   "source": [
    "w_sales.head()"
   ]
  },
  {
   "cell_type": "markdown",
   "id": "897eda59-fc92-4e73-8902-a7f14e629fc7",
   "metadata": {},
   "source": [
    "### Dropping outliers in Temperature, Fuel_price, CPI and Unemployment"
   ]
  },
  {
   "cell_type": "code",
   "execution_count": 31,
   "id": "320fb55d-c0c7-404b-a958-d77f34504be1",
   "metadata": {
    "tags": []
   },
   "outputs": [],
   "source": [
    "# Setting conditions for Temperatures lines to keep\n",
    "temp_to_keep = (\n",
    "                (w_sales['Temperature'] > (w_sales['Temperature'].mean() - (3*w_sales['Temperature'].std()))) \n",
    "                & \n",
    "                (w_sales['Temperature'] < (w_sales['Temperature'].mean() + (3*w_sales['Temperature'].std())))\n",
    ")\n"
   ]
  },
  {
   "cell_type": "code",
   "execution_count": 32,
   "id": "b05045ab-c6ee-4fa8-bbe5-a021dedf857a",
   "metadata": {
    "tags": []
   },
   "outputs": [],
   "source": [
    "# Setting conditions for Fuel price lines to keep\n",
    "fc_to_keep = (\n",
    "                (w_sales['Fuel_Price'] > (w_sales['Fuel_Price'].mean() - (3*w_sales['Fuel_Price'].std()))) \n",
    "                & \n",
    "                (w_sales['Fuel_Price'] < (w_sales['Fuel_Price'].mean() + (3*w_sales['Fuel_Price'].std())))\n",
    ")"
   ]
  },
  {
   "cell_type": "code",
   "execution_count": 33,
   "id": "c45ec54a-9694-4dc5-990d-d3f5bc91ef58",
   "metadata": {
    "tags": []
   },
   "outputs": [],
   "source": [
    "# Setting conditions for CPI lines to keep\n",
    "cpi_to_keep = (\n",
    "                (w_sales['CPI'] > (w_sales['CPI'].mean() - (3*w_sales['CPI'].std()))) \n",
    "                & \n",
    "                (w_sales['CPI'] < (w_sales['CPI'].mean() + (3*w_sales['CPI'].std())))\n",
    ")"
   ]
  },
  {
   "cell_type": "code",
   "execution_count": 34,
   "id": "b28e5368-a9aa-4cd6-8348-edbccac48ae2",
   "metadata": {
    "tags": []
   },
   "outputs": [],
   "source": [
    "# Setting conditions for Unemployment lines to keep\n",
    "unemp_to_keep = (\n",
    "                (w_sales['Unemployment'] > (w_sales['Unemployment'].mean() - (3*w_sales['Unemployment'].std()))) \n",
    "                & \n",
    "                (w_sales['Unemployment'] < (w_sales['Unemployment'].mean() + (3*w_sales['Unemployment'].std())))\n",
    ")"
   ]
  },
  {
   "cell_type": "code",
   "execution_count": 35,
   "id": "21885f97-8947-4dbf-a392-ff92309790fc",
   "metadata": {
    "tags": []
   },
   "outputs": [
    {
     "data": {
      "text/html": [
       "<div>\n",
       "<style scoped>\n",
       "    .dataframe tbody tr th:only-of-type {\n",
       "        vertical-align: middle;\n",
       "    }\n",
       "\n",
       "    .dataframe tbody tr th {\n",
       "        vertical-align: top;\n",
       "    }\n",
       "\n",
       "    .dataframe thead th {\n",
       "        text-align: right;\n",
       "    }\n",
       "</style>\n",
       "<table border=\"1\" class=\"dataframe\">\n",
       "  <thead>\n",
       "    <tr style=\"text-align: right;\">\n",
       "      <th></th>\n",
       "      <th>Store</th>\n",
       "      <th>Weekly_Sales</th>\n",
       "      <th>Holiday_Flag</th>\n",
       "      <th>Temperature</th>\n",
       "      <th>Fuel_Price</th>\n",
       "      <th>CPI</th>\n",
       "      <th>Unemployment</th>\n",
       "      <th>year</th>\n",
       "      <th>month</th>\n",
       "      <th>day_of_month</th>\n",
       "    </tr>\n",
       "  </thead>\n",
       "  <tbody>\n",
       "    <tr>\n",
       "      <th>0</th>\n",
       "      <td>6.0</td>\n",
       "      <td>1572117.54</td>\n",
       "      <td>NaN</td>\n",
       "      <td>59.61</td>\n",
       "      <td>3.045</td>\n",
       "      <td>214.777523</td>\n",
       "      <td>6.858</td>\n",
       "      <td>2011.0</td>\n",
       "      <td>2.0</td>\n",
       "      <td>18.0</td>\n",
       "    </tr>\n",
       "    <tr>\n",
       "      <th>1</th>\n",
       "      <td>13.0</td>\n",
       "      <td>1807545.43</td>\n",
       "      <td>0.0</td>\n",
       "      <td>42.38</td>\n",
       "      <td>3.435</td>\n",
       "      <td>128.616064</td>\n",
       "      <td>7.470</td>\n",
       "      <td>2011.0</td>\n",
       "      <td>3.0</td>\n",
       "      <td>25.0</td>\n",
       "    </tr>\n",
       "    <tr>\n",
       "      <th>2</th>\n",
       "      <td>6.0</td>\n",
       "      <td>1644470.66</td>\n",
       "      <td>0.0</td>\n",
       "      <td>78.89</td>\n",
       "      <td>2.759</td>\n",
       "      <td>212.412888</td>\n",
       "      <td>7.092</td>\n",
       "      <td>2010.0</td>\n",
       "      <td>5.0</td>\n",
       "      <td>28.0</td>\n",
       "    </tr>\n",
       "    <tr>\n",
       "      <th>3</th>\n",
       "      <td>15.0</td>\n",
       "      <td>695396.19</td>\n",
       "      <td>0.0</td>\n",
       "      <td>69.80</td>\n",
       "      <td>4.069</td>\n",
       "      <td>134.855161</td>\n",
       "      <td>7.658</td>\n",
       "      <td>2011.0</td>\n",
       "      <td>6.0</td>\n",
       "      <td>3.0</td>\n",
       "    </tr>\n",
       "    <tr>\n",
       "      <th>4</th>\n",
       "      <td>20.0</td>\n",
       "      <td>2203523.20</td>\n",
       "      <td>0.0</td>\n",
       "      <td>39.93</td>\n",
       "      <td>3.617</td>\n",
       "      <td>213.023622</td>\n",
       "      <td>6.961</td>\n",
       "      <td>2012.0</td>\n",
       "      <td>2.0</td>\n",
       "      <td>3.0</td>\n",
       "    </tr>\n",
       "    <tr>\n",
       "      <th>...</th>\n",
       "      <td>...</td>\n",
       "      <td>...</td>\n",
       "      <td>...</td>\n",
       "      <td>...</td>\n",
       "      <td>...</td>\n",
       "      <td>...</td>\n",
       "      <td>...</td>\n",
       "      <td>...</td>\n",
       "      <td>...</td>\n",
       "      <td>...</td>\n",
       "    </tr>\n",
       "    <tr>\n",
       "      <th>85</th>\n",
       "      <td>7.0</td>\n",
       "      <td>532739.77</td>\n",
       "      <td>0.0</td>\n",
       "      <td>50.60</td>\n",
       "      <td>3.804</td>\n",
       "      <td>197.588605</td>\n",
       "      <td>8.090</td>\n",
       "      <td>2012.0</td>\n",
       "      <td>5.0</td>\n",
       "      <td>25.0</td>\n",
       "    </tr>\n",
       "    <tr>\n",
       "      <th>86</th>\n",
       "      <td>3.0</td>\n",
       "      <td>396968.80</td>\n",
       "      <td>0.0</td>\n",
       "      <td>78.53</td>\n",
       "      <td>2.705</td>\n",
       "      <td>214.495838</td>\n",
       "      <td>7.343</td>\n",
       "      <td>2010.0</td>\n",
       "      <td>6.0</td>\n",
       "      <td>4.0</td>\n",
       "    </tr>\n",
       "    <tr>\n",
       "      <th>87</th>\n",
       "      <td>3.0</td>\n",
       "      <td>424513.08</td>\n",
       "      <td>0.0</td>\n",
       "      <td>73.44</td>\n",
       "      <td>3.594</td>\n",
       "      <td>226.968844</td>\n",
       "      <td>6.034</td>\n",
       "      <td>2012.0</td>\n",
       "      <td>10.0</td>\n",
       "      <td>19.0</td>\n",
       "    </tr>\n",
       "    <tr>\n",
       "      <th>88</th>\n",
       "      <td>14.0</td>\n",
       "      <td>2248645.59</td>\n",
       "      <td>0.0</td>\n",
       "      <td>72.62</td>\n",
       "      <td>2.780</td>\n",
       "      <td>182.442420</td>\n",
       "      <td>8.899</td>\n",
       "      <td>2010.0</td>\n",
       "      <td>6.0</td>\n",
       "      <td>18.0</td>\n",
       "    </tr>\n",
       "    <tr>\n",
       "      <th>89</th>\n",
       "      <td>19.0</td>\n",
       "      <td>1255087.26</td>\n",
       "      <td>0.0</td>\n",
       "      <td>55.20</td>\n",
       "      <td>4.170</td>\n",
       "      <td>137.923067</td>\n",
       "      <td>8.150</td>\n",
       "      <td>2012.0</td>\n",
       "      <td>4.0</td>\n",
       "      <td>20.0</td>\n",
       "    </tr>\n",
       "  </tbody>\n",
       "</table>\n",
       "<p>90 rows × 10 columns</p>\n",
       "</div>"
      ],
      "text/plain": [
       "    Store  Weekly_Sales  Holiday_Flag  Temperature  Fuel_Price         CPI  \\\n",
       "0     6.0    1572117.54           NaN        59.61       3.045  214.777523   \n",
       "1    13.0    1807545.43           0.0        42.38       3.435  128.616064   \n",
       "2     6.0    1644470.66           0.0        78.89       2.759  212.412888   \n",
       "3    15.0     695396.19           0.0        69.80       4.069  134.855161   \n",
       "4    20.0    2203523.20           0.0        39.93       3.617  213.023622   \n",
       "..    ...           ...           ...          ...         ...         ...   \n",
       "85    7.0     532739.77           0.0        50.60       3.804  197.588605   \n",
       "86    3.0     396968.80           0.0        78.53       2.705  214.495838   \n",
       "87    3.0     424513.08           0.0        73.44       3.594  226.968844   \n",
       "88   14.0    2248645.59           0.0        72.62       2.780  182.442420   \n",
       "89   19.0    1255087.26           0.0        55.20       4.170  137.923067   \n",
       "\n",
       "    Unemployment    year  month  day_of_month  \n",
       "0          6.858  2011.0    2.0          18.0  \n",
       "1          7.470  2011.0    3.0          25.0  \n",
       "2          7.092  2010.0    5.0          28.0  \n",
       "3          7.658  2011.0    6.0           3.0  \n",
       "4          6.961  2012.0    2.0           3.0  \n",
       "..           ...     ...    ...           ...  \n",
       "85         8.090  2012.0    5.0          25.0  \n",
       "86         7.343  2010.0    6.0           4.0  \n",
       "87         6.034  2012.0   10.0          19.0  \n",
       "88         8.899  2010.0    6.0          18.0  \n",
       "89         8.150  2012.0    4.0          20.0  \n",
       "\n",
       "[90 rows x 10 columns]"
      ]
     },
     "execution_count": 35,
     "metadata": {},
     "output_type": "execute_result"
    }
   ],
   "source": [
    "# Dropping the corresponding lines\n",
    "w_sales = w_sales.loc[temp_to_keep,:]\n",
    "w_sales = w_sales.loc[fc_to_keep,:]\n",
    "w_sales = w_sales.loc[cpi_to_keep,:]\n",
    "w_sales = w_sales.loc[unemp_to_keep,:]\n",
    "w_sales.reset_index(drop=True, inplace=True)\n",
    "w_sales"
   ]
  },
  {
   "cell_type": "markdown",
   "id": "56c86a24-1982-400e-96d1-55ba87eaeb69",
   "metadata": {},
   "source": [
    "### Seperate features from target"
   ]
  },
  {
   "cell_type": "markdown",
   "id": "ae333181-bb5b-406c-b6dd-adc16a7ea18e",
   "metadata": {},
   "source": [
    "#### Getting Features and target labels and seperate data"
   ]
  },
  {
   "cell_type": "code",
   "execution_count": 36,
   "id": "1c1194ac-315a-4129-95d5-85991f0a1d81",
   "metadata": {
    "tags": []
   },
   "outputs": [],
   "source": [
    "X_labels = w_sales.columns.tolist()\n",
    "Y_label = X_labels.pop(X_labels.index('Weekly_Sales'))\n",
    "X = w_sales[X_labels]\n",
    "Y = w_sales[Y_label]"
   ]
  },
  {
   "cell_type": "code",
   "execution_count": 37,
   "id": "692ae10e-af22-467c-8316-b2321b4e4bb0",
   "metadata": {
    "tags": []
   },
   "outputs": [
    {
     "data": {
      "text/html": [
       "<div>\n",
       "<style scoped>\n",
       "    .dataframe tbody tr th:only-of-type {\n",
       "        vertical-align: middle;\n",
       "    }\n",
       "\n",
       "    .dataframe tbody tr th {\n",
       "        vertical-align: top;\n",
       "    }\n",
       "\n",
       "    .dataframe thead th {\n",
       "        text-align: right;\n",
       "    }\n",
       "</style>\n",
       "<table border=\"1\" class=\"dataframe\">\n",
       "  <thead>\n",
       "    <tr style=\"text-align: right;\">\n",
       "      <th></th>\n",
       "      <th>Store</th>\n",
       "      <th>Holiday_Flag</th>\n",
       "      <th>Temperature</th>\n",
       "      <th>Fuel_Price</th>\n",
       "      <th>CPI</th>\n",
       "      <th>Unemployment</th>\n",
       "      <th>year</th>\n",
       "      <th>month</th>\n",
       "      <th>day_of_month</th>\n",
       "    </tr>\n",
       "  </thead>\n",
       "  <tbody>\n",
       "    <tr>\n",
       "      <th>0</th>\n",
       "      <td>6.0</td>\n",
       "      <td>NaN</td>\n",
       "      <td>59.61</td>\n",
       "      <td>3.045</td>\n",
       "      <td>214.777523</td>\n",
       "      <td>6.858</td>\n",
       "      <td>2011.0</td>\n",
       "      <td>2.0</td>\n",
       "      <td>18.0</td>\n",
       "    </tr>\n",
       "    <tr>\n",
       "      <th>1</th>\n",
       "      <td>13.0</td>\n",
       "      <td>0.0</td>\n",
       "      <td>42.38</td>\n",
       "      <td>3.435</td>\n",
       "      <td>128.616064</td>\n",
       "      <td>7.470</td>\n",
       "      <td>2011.0</td>\n",
       "      <td>3.0</td>\n",
       "      <td>25.0</td>\n",
       "    </tr>\n",
       "    <tr>\n",
       "      <th>2</th>\n",
       "      <td>6.0</td>\n",
       "      <td>0.0</td>\n",
       "      <td>78.89</td>\n",
       "      <td>2.759</td>\n",
       "      <td>212.412888</td>\n",
       "      <td>7.092</td>\n",
       "      <td>2010.0</td>\n",
       "      <td>5.0</td>\n",
       "      <td>28.0</td>\n",
       "    </tr>\n",
       "    <tr>\n",
       "      <th>3</th>\n",
       "      <td>15.0</td>\n",
       "      <td>0.0</td>\n",
       "      <td>69.80</td>\n",
       "      <td>4.069</td>\n",
       "      <td>134.855161</td>\n",
       "      <td>7.658</td>\n",
       "      <td>2011.0</td>\n",
       "      <td>6.0</td>\n",
       "      <td>3.0</td>\n",
       "    </tr>\n",
       "    <tr>\n",
       "      <th>4</th>\n",
       "      <td>20.0</td>\n",
       "      <td>0.0</td>\n",
       "      <td>39.93</td>\n",
       "      <td>3.617</td>\n",
       "      <td>213.023622</td>\n",
       "      <td>6.961</td>\n",
       "      <td>2012.0</td>\n",
       "      <td>2.0</td>\n",
       "      <td>3.0</td>\n",
       "    </tr>\n",
       "  </tbody>\n",
       "</table>\n",
       "</div>"
      ],
      "text/plain": [
       "   Store  Holiday_Flag  Temperature  Fuel_Price         CPI  Unemployment  \\\n",
       "0    6.0           NaN        59.61       3.045  214.777523         6.858   \n",
       "1   13.0           0.0        42.38       3.435  128.616064         7.470   \n",
       "2    6.0           0.0        78.89       2.759  212.412888         7.092   \n",
       "3   15.0           0.0        69.80       4.069  134.855161         7.658   \n",
       "4   20.0           0.0        39.93       3.617  213.023622         6.961   \n",
       "\n",
       "     year  month  day_of_month  \n",
       "0  2011.0    2.0          18.0  \n",
       "1  2011.0    3.0          25.0  \n",
       "2  2010.0    5.0          28.0  \n",
       "3  2011.0    6.0           3.0  \n",
       "4  2012.0    2.0           3.0  "
      ]
     },
     "execution_count": 37,
     "metadata": {},
     "output_type": "execute_result"
    }
   ],
   "source": [
    "X.head()"
   ]
  },
  {
   "cell_type": "code",
   "execution_count": 38,
   "id": "4b7ff725-7b5d-4a21-9c57-226c3507e4de",
   "metadata": {
    "tags": []
   },
   "outputs": [
    {
     "data": {
      "text/plain": [
       "0    1572117.54\n",
       "1    1807545.43\n",
       "2    1644470.66\n",
       "3     695396.19\n",
       "4    2203523.20\n",
       "Name: Weekly_Sales, dtype: float64"
      ]
     },
     "execution_count": 38,
     "metadata": {},
     "output_type": "execute_result"
    }
   ],
   "source": [
    "Y.head()"
   ]
  },
  {
   "cell_type": "markdown",
   "id": "0065ba3d-9cb6-4c63-a2de-5ac6fb5dee1e",
   "metadata": {},
   "source": [
    "### Identifying categorical and numerical variables in features"
   ]
  },
  {
   "cell_type": "code",
   "execution_count": 39,
   "id": "dbdfb0c4-cc19-46a0-b87e-57f5842e0741",
   "metadata": {
    "tags": []
   },
   "outputs": [],
   "source": [
    "numerical_labels = X_labels\n",
    "categorical_labels = [numerical_labels.pop(numerical_labels.index('Store'))]\n",
    "categorical_labels.append(numerical_labels.pop(numerical_labels.index('Holiday_Flag')))"
   ]
  },
  {
   "cell_type": "code",
   "execution_count": 40,
   "id": "9651acec-5fba-47ac-aeb3-a1a416ae33e3",
   "metadata": {},
   "outputs": [
    {
     "data": {
      "text/plain": [
       "['Temperature',\n",
       " 'Fuel_Price',\n",
       " 'CPI',\n",
       " 'Unemployment',\n",
       " 'year',\n",
       " 'month',\n",
       " 'day_of_month']"
      ]
     },
     "execution_count": 40,
     "metadata": {},
     "output_type": "execute_result"
    }
   ],
   "source": [
    "numerical_labels"
   ]
  },
  {
   "cell_type": "code",
   "execution_count": 41,
   "id": "1cb8eb40-736f-4a94-bb51-62e4e8f4eccc",
   "metadata": {},
   "outputs": [
    {
     "data": {
      "text/plain": [
       "['Store', 'Holiday_Flag']"
      ]
     },
     "execution_count": 41,
     "metadata": {},
     "output_type": "execute_result"
    }
   ],
   "source": [
    "categorical_labels"
   ]
  },
  {
   "cell_type": "markdown",
   "id": "7944d2b8-18a3-4ffc-b28f-a5c8d9b4eb2a",
   "metadata": {},
   "source": [
    "### Splitting training and testing sets"
   ]
  },
  {
   "cell_type": "code",
   "execution_count": 42,
   "id": "aa541e61-26c3-4e41-bb6c-6d36b1a5f823",
   "metadata": {},
   "outputs": [],
   "source": [
    "X_train, X_test, Y_train, Y_test = train_test_split(X,Y, test_size=0.2, random_state=42)"
   ]
  },
  {
   "cell_type": "markdown",
   "id": "3f312201-ac83-4d62-b9f1-624e18fc4cd5",
   "metadata": {},
   "source": [
    "### Pipelines for caterorical and numerical features"
   ]
  },
  {
   "cell_type": "code",
   "execution_count": 43,
   "id": "5a923d82-87f5-40af-959b-be0324f24bbb",
   "metadata": {
    "tags": []
   },
   "outputs": [],
   "source": [
    "num_transformer = Pipeline(steps=[\n",
    "    ('imputer', SimpleImputer(strategy='median')),\n",
    "    ('scaler', StandardScaler())\n",
    "])\n",
    "cat_transformer = Pipeline(steps=[\n",
    "    ('imputer', SimpleImputer(strategy='most_frequent')),\n",
    "    ('encoder', OneHotEncoder(drop='first'))\n",
    "])\n",
    "preprocessor = ColumnTransformer(\n",
    "    transformers=[\n",
    "        ('num', num_transformer, numerical_labels),\n",
    "        ('cat', cat_transformer, categorical_labels)\n",
    "    ])"
   ]
  },
  {
   "cell_type": "code",
   "execution_count": 44,
   "id": "3fe6b019-544f-4655-afe4-d00b83762bfe",
   "metadata": {
    "tags": []
   },
   "outputs": [],
   "source": [
    "X_train = preprocessor.fit_transform(X_train)\n",
    "X_test = preprocessor.transform(X_test)"
   ]
  },
  {
   "cell_type": "code",
   "execution_count": 45,
   "id": "57ad5f64-f5dc-453b-a1ea-50b3a6e3c4b5",
   "metadata": {
    "tags": []
   },
   "outputs": [
    {
     "data": {
      "text/plain": [
       "array([[ 0.70516394, -1.13980519,  0.62142729, ...,  0.        ,\n",
       "         1.        ,  0.        ],\n",
       "       [ 0.91740363, -1.12721323, -1.39889017, ...,  0.        ,\n",
       "         0.        ,  0.        ],\n",
       "       [ 0.71388612, -1.61410219,  0.88703934, ...,  0.        ,\n",
       "         0.        ,  0.        ],\n",
       "       ...,\n",
       "       [-1.38059979,  1.22748251,  0.44510476, ...,  0.        ,\n",
       "         0.        ,  0.        ],\n",
       "       [ 0.83367071,  1.14983212,  0.92969294, ...,  0.        ,\n",
       "         0.        ,  0.        ],\n",
       "       [-0.04610641, -0.09047553,  0.97312818, ...,  0.        ,\n",
       "         0.        ,  0.        ]])"
      ]
     },
     "execution_count": 45,
     "metadata": {},
     "output_type": "execute_result"
    }
   ],
   "source": [
    "X_train"
   ]
  },
  {
   "cell_type": "markdown",
   "id": "170d9675-372c-4e5e-9162-60c0487de2b0",
   "metadata": {
    "toc-hr-collapsed": true
   },
   "source": [
    "## Create and train linear regression model"
   ]
  },
  {
   "cell_type": "code",
   "execution_count": 46,
   "id": "b59e3c4d-3bde-4319-b8cf-34905033633b",
   "metadata": {
    "tags": []
   },
   "outputs": [],
   "source": [
    "# training the model\n",
    "l_reg = LinearRegression()\n",
    "l_reg.fit(X_train, Y_train)\n",
    "Y_train_pred = l_reg.predict(X_train)\n",
    "Y_test_pred = l_reg.predict(X_test)"
   ]
  },
  {
   "cell_type": "markdown",
   "id": "0ad2e83f-08a6-46e4-9284-aea3d4d80ecd",
   "metadata": {},
   "source": [
    "### Score"
   ]
  },
  {
   "cell_type": "code",
   "execution_count": 47,
   "id": "d3b73cc8-62e6-4b28-b5b9-0224a790a87d",
   "metadata": {
    "tags": []
   },
   "outputs": [
    {
     "name": "stdout",
     "output_type": "stream",
     "text": [
      "R2 score on train set :  0.9817442273614119\n",
      "R2 score on test set :  0.9470437168592517\n"
     ]
    }
   ],
   "source": [
    "print('R2 score on train set : ', r2_score(Y_train, Y_train_pred))\n",
    "print('R2 score on test set : ', r2_score(Y_test, Y_test_pred))"
   ]
  },
  {
   "cell_type": "code",
   "execution_count": 48,
   "id": "fed005b7-c226-4bb6-a021-35946207ae39",
   "metadata": {
    "tags": []
   },
   "outputs": [],
   "source": [
    "# Retriving Labels from encoded column into a list\n",
    "one_hot_encoded_labels = preprocessor.transformers_[1][1][1].get_feature_names_out(categorical_labels).tolist()"
   ]
  },
  {
   "cell_type": "code",
   "execution_count": 49,
   "id": "fd1998e2-bb2d-4a94-b988-ba68c4f216d9",
   "metadata": {
    "tags": []
   },
   "outputs": [
    {
     "data": {
      "text/plain": [
       "['Store_2.0',\n",
       " 'Store_3.0',\n",
       " 'Store_4.0',\n",
       " 'Store_5.0',\n",
       " 'Store_6.0',\n",
       " 'Store_7.0',\n",
       " 'Store_8.0',\n",
       " 'Store_9.0',\n",
       " 'Store_10.0',\n",
       " 'Store_11.0',\n",
       " 'Store_13.0',\n",
       " 'Store_14.0',\n",
       " 'Store_15.0',\n",
       " 'Store_16.0',\n",
       " 'Store_17.0',\n",
       " 'Store_18.0',\n",
       " 'Store_19.0',\n",
       " 'Store_20.0',\n",
       " 'Holiday_Flag_1.0',\n",
       " 'Temperature',\n",
       " 'Fuel_Price',\n",
       " 'CPI',\n",
       " 'Unemployment',\n",
       " 'year',\n",
       " 'month',\n",
       " 'day_of_month']"
      ]
     },
     "execution_count": 49,
     "metadata": {},
     "output_type": "execute_result"
    }
   ],
   "source": [
    "feature_labels = one_hot_encoded_labels + numerical_labels\n",
    "feature_labels"
   ]
  },
  {
   "cell_type": "code",
   "execution_count": 50,
   "id": "a997f871-4ce5-4298-aa14-80bbbe246e13",
   "metadata": {},
   "outputs": [
    {
     "data": {
      "text/plain": [
       "{'Store_5.0': 12029.21,\n",
       " 'Store_7.0': 26998.99,\n",
       " 'Store_6.0': 30115.01,\n",
       " 'Store_2.0': 37959.54,\n",
       " 'Store_8.0': 43671.69,\n",
       " 'Store_3.0': 64201.87,\n",
       " 'day_of_month': 82925.35,\n",
       " 'Store_14.0': 108927.46,\n",
       " 'Store_19.0': 167148.62,\n",
       " 'Store_9.0': 340122.53,\n",
       " 'month': 528621.42,\n",
       " 'Store_15.0': 569382.34,\n",
       " 'Fuel_Price': 573469.68,\n",
       " 'Store_16.0': 739224.58,\n",
       " 'Store_4.0': 820605.12,\n",
       " 'Temperature': 847406.93,\n",
       " 'CPI': 952683.05,\n",
       " 'Holiday_Flag_1.0': 1158964.78,\n",
       " 'Store_17.0': 1191552.13,\n",
       " 'Unemployment': 1206137.81,\n",
       " 'Store_10.0': 1279584.69,\n",
       " 'Store_13.0': 1280089.65,\n",
       " 'year': 1560971.82,\n",
       " 'Store_18.0': 2200542.84,\n",
       " 'Store_20.0': 2258469.55,\n",
       " 'Store_11.0': 2513882.75}"
      ]
     },
     "execution_count": 50,
     "metadata": {},
     "output_type": "execute_result"
    }
   ],
   "source": [
    "# Getting the models coefficients in absolute values a dictionary\n",
    "coeff = dict([(f, abs(round(c, 2))) for f,c in zip(feature_labels, l_reg.coef_.tolist())])\n",
    "\n",
    "# Sorting coefficients by values\n",
    "coeff = {k: v for k, v in sorted(coeff.items(), key=lambda item: item[1])}\n",
    "coeff"
   ]
  },
  {
   "cell_type": "markdown",
   "id": "35703e5b-4a15-4c4c-a212-a65f5cd8938e",
   "metadata": {},
   "source": [
    "    * Here, the r2 score on the train set is very close to 1, so we can suspect an overfit\n",
    "    * 3 of the stores have the highest coefficient. Therefore, they are the most important for the predictions on this model"
   ]
  },
  {
   "cell_type": "markdown",
   "id": "4dc0dcf1-e79a-4cd4-93ae-41af12ed968c",
   "metadata": {
    "tags": [],
    "toc-hr-collapsed": true
   },
   "source": [
    "## Regularized Models"
   ]
  },
  {
   "cell_type": "markdown",
   "id": "efe695b2-a420-4739-bb8f-552fa7086f86",
   "metadata": {},
   "source": [
    "### Ridge Model"
   ]
  },
  {
   "cell_type": "code",
   "execution_count": 51,
   "id": "4145797c-d6ca-48c7-8a9d-d999c4deeaac",
   "metadata": {},
   "outputs": [],
   "source": [
    "ridge_m = Ridge()\n",
    "ridge_m.fit(X_train, Y_train)\n",
    "ridge_m_train_pred = ridge_m.predict(X_train)\n",
    "ridge_m_test_pred = ridge_m.predict(X_test)"
   ]
  },
  {
   "cell_type": "code",
   "execution_count": 52,
   "id": "54550224-6f3e-4fe0-bf54-e16fc8b8f060",
   "metadata": {},
   "outputs": [
    {
     "data": {
      "text/plain": [
       "0.9260810166547855"
      ]
     },
     "execution_count": 52,
     "metadata": {},
     "output_type": "execute_result"
    }
   ],
   "source": [
    "#R2 score of the ridge model on train set\n",
    "ridge_m.score(X_train, Y_train)"
   ]
  },
  {
   "cell_type": "code",
   "execution_count": 53,
   "id": "aba9ed3a-4fa1-4e9e-b1d0-3fa6926525de",
   "metadata": {},
   "outputs": [
    {
     "data": {
      "text/plain": [
       "0.8750851164766239"
      ]
     },
     "execution_count": 53,
     "metadata": {},
     "output_type": "execute_result"
    }
   ],
   "source": [
    "#R2 score of the ridge model on test set\n",
    "ridge_m.score(X_test, Y_test)"
   ]
  },
  {
   "cell_type": "markdown",
   "id": "a7e8d430-3aab-4592-9f07-5349741dad0e",
   "metadata": {},
   "source": [
    "    * There is less overfitting"
   ]
  },
  {
   "cell_type": "markdown",
   "id": "12ae2896-9422-4fb0-b009-76264201735b",
   "metadata": {},
   "source": [
    "### Lasso model"
   ]
  },
  {
   "cell_type": "code",
   "execution_count": 54,
   "id": "a2892b12-b53f-4be6-9057-622c6f0ba7fc",
   "metadata": {},
   "outputs": [],
   "source": [
    "lasso_m = Lasso(max_iter=1000000000)\n",
    "lasso_m.fit(X_train, Y_train)\n",
    "lasso_m_train_pred = lasso_m.predict(X_train)\n",
    "lasso_m_test_pred = lasso_m.predict(X_test)"
   ]
  },
  {
   "cell_type": "code",
   "execution_count": 55,
   "id": "72dd7a7b-492e-4f2b-a69a-f9a0c45b82b3",
   "metadata": {},
   "outputs": [
    {
     "data": {
      "text/plain": [
       "0.981743419757902"
      ]
     },
     "execution_count": 55,
     "metadata": {},
     "output_type": "execute_result"
    }
   ],
   "source": [
    "#R2 score of the lasso model on train set\n",
    "lasso_m.score(X_train, Y_train)"
   ]
  },
  {
   "cell_type": "code",
   "execution_count": 56,
   "id": "8e298aa1-0445-46d4-8852-0098ffa1ab91",
   "metadata": {},
   "outputs": [
    {
     "data": {
      "text/plain": [
       "0.9474750340756298"
      ]
     },
     "execution_count": 56,
     "metadata": {},
     "output_type": "execute_result"
    }
   ],
   "source": [
    "#R2 score of the ridge model on test set\n",
    "lasso_m.score(X_test, Y_test)"
   ]
  },
  {
   "cell_type": "markdown",
   "id": "d502dd34-6bb4-4828-971a-6be91ca5d79a",
   "metadata": {},
   "source": [
    "    * We are still overtting "
   ]
  },
  {
   "cell_type": "markdown",
   "id": "12ad600f-a965-465b-8265-8b256f4b24f8",
   "metadata": {},
   "source": [
    "### Grid search"
   ]
  },
  {
   "cell_type": "code",
   "execution_count": 57,
   "id": "48186f0e-09ea-4b55-8f67-7cf4d3144ade",
   "metadata": {},
   "outputs": [
    {
     "name": "stdout",
     "output_type": "stream",
     "text": [
      "Fitting 10 folds for each of 1000 candidates, totalling 10000 fits\n",
      "Optimal value for alpha :  {'alpha': 0}\n"
     ]
    }
   ],
   "source": [
    "# Grid search for alpha with Ridge\n",
    "params_r = {'alpha': np.arange(0,1000,1)} \n",
    "ridge_gs = Ridge()\n",
    "\n",
    "grid_r = GridSearchCV(ridge_gs, params_r, cv = 10, verbose = 1)\n",
    "grid_r_fit = grid_r.fit(X_train, Y_train)\n",
    "print(\"Optimal value for alpha : \", grid_r_fit.best_params_)"
   ]
  },
  {
   "cell_type": "code",
   "execution_count": 58,
   "id": "abf929a3-6792-4863-b9d0-70fc4dc11152",
   "metadata": {},
   "outputs": [
    {
     "name": "stdout",
     "output_type": "stream",
     "text": [
      "The cross-validated R2-score is :  0.8859773752658043\n",
      "The standard deviation is :  0.18806376921680543\n"
     ]
    }
   ],
   "source": [
    "scores_r = cross_val_score(grid_r_fit.best_estimator_, X_train, Y_train, cv = 10)\n",
    "\n",
    "print('The cross-validated R2-score is : ', scores_r.mean())\n",
    "print('The standard deviation is : ', scores_r.std())"
   ]
  },
  {
   "cell_type": "code",
   "execution_count": 59,
   "id": "f4d9a415-bc3c-46c9-925c-00d596b30f49",
   "metadata": {},
   "outputs": [
    {
     "name": "stdout",
     "output_type": "stream",
     "text": [
      "Fitting 10 folds for each of 10 candidates, totalling 100 fits\n",
      "Optimal value for alpha :  {'alpha': 1}\n"
     ]
    }
   ],
   "source": [
    "# Grid search for alpha with Lasso\n",
    "params_l = {'alpha' : [10**(-a) for a in range(10)]}\n",
    "lasso_gs = Lasso(max_iter=1000000000)\n",
    "\n",
    "grid_l = GridSearchCV(lasso_gs, params_l, cv = 10, verbose = 1)\n",
    "grid_l_fit = grid_l.fit(X_train, Y_train)\n",
    "print(\"Optimal value for alpha : \", grid_l_fit.best_params_)"
   ]
  },
  {
   "cell_type": "code",
   "execution_count": 60,
   "id": "e126e87d-ab05-4cf4-920e-cad85b779767",
   "metadata": {},
   "outputs": [
    {
     "name": "stdout",
     "output_type": "stream",
     "text": [
      "The cross-validated R2-score is :  0.8891046481641054\n",
      "The standard deviation is :  0.17853986023433843\n"
     ]
    }
   ],
   "source": [
    "scores_l = cross_val_score(grid_l_fit.best_estimator_, X_train, Y_train, cv = 10)\n",
    "\n",
    "print('The cross-validated R2-score is : ', scores_l.mean())\n",
    "print('The standard deviation is : ', scores_l.std())"
   ]
  }
 ],
 "metadata": {
  "kernelspec": {
   "display_name": "Python 3.9.12 ('base')",
   "language": "python",
   "name": "python3"
  },
  "language_info": {
   "codemirror_mode": {
    "name": "ipython",
    "version": 3
   },
   "file_extension": ".py",
   "mimetype": "text/x-python",
   "name": "python",
   "nbconvert_exporter": "python",
   "pygments_lexer": "ipython3",
   "version": "3.9.12"
  },
  "vscode": {
   "interpreter": {
    "hash": "02c733b4e4e71d342ff1aec4b9e2017ca239a140aa3ddc86f295671e35fe778a"
   }
  }
 },
 "nbformat": 4,
 "nbformat_minor": 5
}
